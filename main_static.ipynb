{
 "cells": [
  {
   "cell_type": "code",
   "execution_count": 1,
   "id": "700b2496",
   "metadata": {},
   "outputs": [
    {
     "name": "stderr",
     "output_type": "stream",
     "text": [
      "C:\\Users\\xie029\\AppData\\Local\\Programs\\Python\\Python310\\lib\\site-packages\\tqdm\\auto.py:22: TqdmWarning: IProgress not found. Please update jupyter and ipywidgets. See https://ipywidgets.readthedocs.io/en/stable/user_install.html\n",
      "  from .autonotebook import tqdm as notebook_tqdm\n"
     ]
    }
   ],
   "source": [
    "from os.path import join as pjoin\n",
    "from GUIData import GUIData\n",
    "from Automator import Automator"
   ]
  },
  {
   "cell_type": "code",
   "execution_count": 2,
   "id": "b9858b25",
   "metadata": {},
   "outputs": [],
   "source": [
    "testcase_no = 1\n",
    "gui_no = 0\n",
    "app = 'BBCNews'\n",
    "data_dir = 'C:\\\\Mulong\\\\Data\\\\ui automation\\\\datacollect\\\\' + app + '\\\\testcase' + str(testcase_no)"
   ]
  },
  {
   "cell_type": "code",
   "execution_count": 3,
   "id": "1c1faa42",
   "metadata": {},
   "outputs": [
    {
     "name": "stdout",
     "output_type": "stream",
     "text": [
      "Load elements from data/BBCNews/testcase1\\guidata\\0_elements.json\n",
      "Load element tree from data/BBCNews/testcase1\\guidata\\0_tree.json\n"
     ]
    }
   ],
   "source": [
    "gui = GUIData(gui_img_file=pjoin(data_dir, str(gui_no) + '.png'),\n",
    "              gui_json_file=pjoin(data_dir, str(gui_no) + '.json'),\n",
    "              output_file_root='data/' + app + '/testcase' + str(testcase_no))\n",
    "\n",
    "load = True\n",
    "# load previous result\n",
    "if load:\n",
    "    gui.load_elements()\n",
    "# process from scratch\n",
    "else:\n",
    "    gui.ui_info_extraction()\n",
    "    gui.ui_analysis_elements_description()\n",
    "    gui.ui_element_block_tree()\n",
    "gui.show_all_elements(only_leaves=False)\n",
    "# gui.show_each_element(only_leaves=False)"
   ]
  },
  {
   "cell_type": "code",
   "execution_count": 4,
   "id": "3a1c4b86",
   "metadata": {},
   "outputs": [
    {
     "data": {
      "text/plain": [
       "{'class': 'root',\n",
       " 'clickable': False,\n",
       " 'scrollable': False,\n",
       " 'id': 0,\n",
       " 'children': [{'class': '.view.ViewGroup',\n",
       "   'clickable': False,\n",
       "   'scrollable': False,\n",
       "   'id': 1,\n",
       "   'children': [{'resource-id': 'bbc.mobile.news.ww:id/toolbar',\n",
       "     'class': '.view.ViewGroup',\n",
       "     'clickable': False,\n",
       "     'scrollable': False,\n",
       "     'id': 2,\n",
       "     'children': [{'class': '.widget.ImageButton',\n",
       "       'clickable': True,\n",
       "       'id': 3,\n",
       "       'description': 'menu'},\n",
       "      {'resource-id': 'bbc.mobile.news.ww:id/logo',\n",
       "       'class': '.widget.ImageView',\n",
       "       'clickable': False,\n",
       "       'id': 4,\n",
       "       'description': 'BBC NEWS'},\n",
       "      {'resource-id': 'bbc.mobile.news.ww:id/action_search',\n",
       "       'class': '.widget.TextView',\n",
       "       'clickable': True,\n",
       "       'id': 5,\n",
       "       'description': 'Search'},\n",
       "      {'class': '.widget.ImageView',\n",
       "       'clickable': True,\n",
       "       'id': 6,\n",
       "       'description': 'More options'}]},\n",
       "    {'resource-id': 'bbc.mobile.news.ww:id/tab_layout',\n",
       "     'class': '.widget.HorizontalScrollView',\n",
       "     'clickable': False,\n",
       "     'scrollable': True,\n",
       "     'id': 7,\n",
       "     'children': [{'class': '.widget.TextView',\n",
       "       'clickable': False,\n",
       "       'id': 8,\n",
       "       'description': 'Top Stories'},\n",
       "      {'class': '.widget.TextView',\n",
       "       'clickable': True,\n",
       "       'id': 9,\n",
       "       'description': 'Video'},\n",
       "      {'class': '.widget.TextView',\n",
       "       'clickable': True,\n",
       "       'id': 10,\n",
       "       'description': 'My News'},\n",
       "      {'class': '.widget.TextView',\n",
       "       'clickable': True,\n",
       "       'id': 11,\n",
       "       'description': 'Popular'},\n",
       "      {'class': '.widget.LinearLayout',\n",
       "       'clickable': True,\n",
       "       'id': 12,\n",
       "       'description': 'LIVE'}]},\n",
       "    {'resource-id': 'bbc.mobile.news.ww:id/contentRecyclerView',\n",
       "     'class': 'x.recyclerview.widget.RecyclerView',\n",
       "     'clickable': False,\n",
       "     'scrollable': True,\n",
       "     'id': 13,\n",
       "     'children': [{'class': '.view.ViewGroup',\n",
       "       'clickable': True,\n",
       "       'scrollable': False,\n",
       "       'id': 14,\n",
       "       'children': [{'resource-id': 'bbc.mobile.news.ww:id/content_card_image',\n",
       "         'class': '.widget.ImageView',\n",
       "         'clickable': True,\n",
       "         'id': 15,\n",
       "         'description': 'close navigation drawer'},\n",
       "        {'resource-id': 'bbc.mobile.news.ww:id/content_card_title',\n",
       "         'class': '.widget.TextView',\n",
       "         'clickable': True,\n",
       "         'id': 16,\n",
       "         'description': 'Video shows moment Russian jet hits US drone'},\n",
       "        {'resource-id': 'bbc.mobile.news.ww:id/content_card_info',\n",
       "         'class': '.widget.TextView',\n",
       "         'clickable': True,\n",
       "         'id': 17,\n",
       "         'description': '2 hours ago'},\n",
       "        {'resource-id': 'bbc.mobile.news.ww:id/content_card_info_divider',\n",
       "         'class': '.widget.ImageView',\n",
       "         'clickable': True,\n",
       "         'id': 18,\n",
       "         'description': 'settings'},\n",
       "        {'resource-id': 'bbc.mobile.news.ww:id/content_card_link',\n",
       "         'class': '.widget.TextView',\n",
       "         'clickable': True,\n",
       "         'id': 19,\n",
       "         'description': 'Europe'}]},\n",
       "      {'resource-id': 'bbc.mobile.news.ww:id/layout_root',\n",
       "       'class': '.view.ViewGroup',\n",
       "       'clickable': False,\n",
       "       'scrollable': False,\n",
       "       'id': 20,\n",
       "       'children': [{'resource-id': 'bbc.mobile.news.ww:id/text_label',\n",
       "         'class': '.widget.TextView',\n",
       "         'clickable': False,\n",
       "         'id': 21,\n",
       "         'description': 'ADVERTISEMENT'},\n",
       "        {'class': '.webkit.WebView',\n",
       "         'clickable': False,\n",
       "         'scrollable': False,\n",
       "         'id': 22,\n",
       "         'children': [{'class': '.widget.TextView',\n",
       "           'clickable': False,\n",
       "           'id': 23,\n",
       "           'description': 'ANAARSLIVE ITELECTRICLEXUS LC HYBRIDFIND OUT MORELEXUS'},\n",
       "          {'resource-id': 'canvas',\n",
       "           'class': '.widget.Image',\n",
       "           'clickable': True,\n",
       "           'id': 24,\n",
       "           'description': 'ANAARSLIVE ITELECTRICLEXUS LC HYBRIDFIND OUT MORELEXUS'},\n",
       "          {'class': '.widget.TextView',\n",
       "           'clickable': False,\n",
       "           'id': 25,\n",
       "           'description': 'ANAARSLIVE ITELECTRICLEXUS LC HYBRIDFIND OUT MORELEXUS'},\n",
       "          {'class': '.view.View',\n",
       "           'clickable': False,\n",
       "           'children': [],\n",
       "           'id': 26,\n",
       "           'description': 'ANAARSLIVE ITELECTRICLEXUS LC HYBRIDFIND OUT MORELEXUS'}]}]},\n",
       "      {'class': '.view.ViewGroup',\n",
       "       'clickable': True,\n",
       "       'scrollable': False,\n",
       "       'id': 27,\n",
       "       'children': [{'resource-id': 'bbc.mobile.news.ww:id/content_card_image',\n",
       "         'class': '.widget.ImageView',\n",
       "         'clickable': True,\n",
       "         'id': 28,\n",
       "         'description': 'image click to expand'},\n",
       "        {'resource-id': 'bbc.mobile.news.ww:id/content_card_title',\n",
       "         'class': '.widget.TextView',\n",
       "         'clickable': True,\n",
       "         'id': 29,\n",
       "         'description': 'Macron to force pension reform without vote'}]}]}]},\n",
       "  {'resource-id': ':id/statusBarBackground',\n",
       "   'class': '.view.View',\n",
       "   'clickable': False,\n",
       "   'id': 30,\n",
       "   'description': '2:37'}]}"
      ]
     },
     "execution_count": 4,
     "metadata": {},
     "output_type": "execute_result"
    }
   ],
   "source": [
    "gui.element_tree"
   ]
  },
  {
   "cell_type": "code",
   "execution_count": 8,
   "id": "ee335c16",
   "metadata": {},
   "outputs": [
    {
     "name": "stdout",
     "output_type": "stream",
     "text": [
      "22\n",
      "android.widget.ImageButton\n",
      "{'NAF': True, 'text': '', 'resource-id': '', 'class': 'android.widget.ImageButton', 'package': 'bbc.mobile.news.ww', 'content-desc': '', 'checkable': False, 'checked': False, 'clickable': True, 'enabled': True, 'focusable': True, 'focused': False, 'scrollable': False, 'long-clickable': False, 'password': False, 'selected': False, 'bounds': [0, 66, 154, 220], 'id': 3, 'layer': 3, 'leaf-id': 0, 'ocr': '', 'caption': 'open navigation drawer', 'icon-cls': 'menu', 'description': 'menu'} \n",
      "\n"
     ]
    }
   ],
   "source": [
    "gui.show_each_element(only_leaves=True)"
   ]
  },
  {
   "cell_type": "code",
   "execution_count": null,
   "id": "14c71bed",
   "metadata": {},
   "outputs": [],
   "source": []
  },
  {
   "cell_type": "code",
   "execution_count": 5,
   "id": "b99923fa",
   "metadata": {},
   "outputs": [],
   "source": [
    "aut = Automator(gui)"
   ]
  },
  {
   "cell_type": "code",
   "execution_count": 5,
   "id": "828ccd79",
   "metadata": {},
   "outputs": [
    {
     "name": "stdout",
     "output_type": "stream",
     "text": [
      "------ Generate Block Descriptions ------\n",
      "{'vh': [{'resource-id': ':id/statusBarBackground', 'class': '.view.View', 'clickable': False, 'id': 42, 'layer': 1, 'description': '2:15'}], 'desc': [\"[Not Scrollable] This UI contains a main layout with several features, including a scrollable RecyclerView with user stories and feed items. Users can interact with elements such as viewing and adding stories, accessing profiles, performing actions on posts (like, comment, share, save), and interacting with captions and comments. Additionally, the ActionBar contains navigation options for Instagram Home Feed, favorites, messages, approval, search and explore, accessing the camera, viewing reels, and navigating to the user's profile.\"]}\n"
     ]
    }
   ],
   "source": [
    "aut.generate_descriptions_for_blocks()"
   ]
  },
  {
   "cell_type": "code",
   "execution_count": 6,
   "id": "0550fcd3",
   "metadata": {},
   "outputs": [
    {
     "data": {
      "text/plain": [
       "[\"[Not Scrollable] This UI contains a main layout with several features, including a scrollable RecyclerView with user stories and feed items. Users can interact with elements such as viewing and adding stories, accessing profiles, performing actions on posts (like, comment, share, save), and interacting with captions and comments. Additionally, the ActionBar contains navigation options for Instagram Home Feed, favorites, messages, approval, search and explore, accessing the camera, viewing reels, and navigating to the user's profile.\"]"
      ]
     },
     "execution_count": 6,
     "metadata": {},
     "output_type": "execute_result"
    }
   ],
   "source": [
    "aut.block_descriptions['desc']"
   ]
  },
  {
   "cell_type": "code",
   "execution_count": 13,
   "id": "9cb363ed",
   "metadata": {},
   "outputs": [],
   "source": [
    "leaves, blocks = aut.partition_element_to_leaves_and_blocks(aut.gui.element_tree)"
   ]
  },
  {
   "cell_type": "code",
   "execution_count": null,
   "id": "2b546d22",
   "metadata": {},
   "outputs": [],
   "source": []
  },
  {
   "cell_type": "code",
   "execution_count": 31,
   "id": "ff3c3490",
   "metadata": {},
   "outputs": [
    {
     "name": "stdout",
     "output_type": "stream",
     "text": [
      "Load block description from data/twitter/testcase1\\automator\\0_block_desc.json\n",
      "{'vh': [{'resource-id': ':id/statusBarBackground', 'class': '.view.View', 'clickable': False, 'id': 30, 'layer': 1, 'description': '2:40'}], 'desc': ['[Not Scrollable] This code describes a UI that includes the BBC News logo, a search option and a menu. The menu includes options such as Top Stories, Video, My News, Popular and LIVE. There is also a content view which displays recent news stories with their title, category, time stamp and a link to view the story. The content view is scrollable and provides an option to expand the content by clicking on the image. Additionally, there are ads displayed in between news stories. Overall, this UI provides a user-friendly interface to browse through recent news content on the BBC News app.']}\n",
      "\n",
      "------ Element Task Completion Check ------\n",
      "No, I cannot complete the task with this UI block. The element in the UI block does not pertain to any tech news content.\n",
      "\n",
      "------ Intermediate Element Check ------\n",
      "No, as there is no element in the UI block that appears to be related to checking tech news, I cannot complete the task with this UI block.\n",
      "\n",
      "*** No related elements ***\n",
      "\n",
      "------ Target Block Identification ------\n",
      "[Yes], the most related block to the task \"Check Tech News\" would be the menu option \"My News\" in Block 0.\n",
      "\n",
      "------ Element Task Completion Check ------\n",
      "No, there is no leaf element without children in this UI block.\n",
      "\n",
      "------ Intermediate Element Check ------\n",
      "Yes, the element related to the task is \"action_search\".\n"
     ]
    },
    {
     "ename": "IndexError",
     "evalue": "list index out of range",
     "output_type": "error",
     "traceback": [
      "\u001B[1;31m---------------------------------------------------------------------------\u001B[0m",
      "\u001B[1;31mIndexError\u001B[0m                                Traceback (most recent call last)",
      "Cell \u001B[1;32mIn[31], line 1\u001B[0m\n\u001B[1;32m----> 1\u001B[0m \u001B[43maut\u001B[49m\u001B[38;5;241;43m.\u001B[39;49m\u001B[43mai_chain\u001B[49m\u001B[43m(\u001B[49m\u001B[43mtask\u001B[49m\u001B[38;5;241;43m=\u001B[39;49m\u001B[38;5;124;43m'\u001B[39;49m\u001B[38;5;124;43mCheck Tech News\u001B[39;49m\u001B[38;5;124;43m'\u001B[39;49m\u001B[43m,\u001B[49m\u001B[43m \u001B[49m\u001B[43mload_block_desc\u001B[49m\u001B[38;5;241;43m=\u001B[39;49m\u001B[38;5;28;43;01mTrue\u001B[39;49;00m\u001B[43m)\u001B[49m\n",
      "File \u001B[1;32mC:\\Mulong\\Code\\UI-Automation\\Automator.py:58\u001B[0m, in \u001B[0;36mAutomator.ai_chain\u001B[1;34m(self, task, load_block_desc)\u001B[0m\n\u001B[0;32m     55\u001B[0m \u001B[38;5;28;01mif\u001B[39;00m \u001B[38;5;124m'\u001B[39m\u001B[38;5;124mYes\u001B[39m\u001B[38;5;124m'\u001B[39m \u001B[38;5;129;01min\u001B[39;00m \u001B[38;5;28mself\u001B[39m\u001B[38;5;241m.\u001B[39mblock_identification:\n\u001B[0;32m     56\u001B[0m     \u001B[38;5;66;03m# *** 1.1 Identify target element in related block\u001B[39;00m\n\u001B[0;32m     57\u001B[0m     block_id \u001B[38;5;241m=\u001B[39m \u001B[38;5;28mself\u001B[39m\u001B[38;5;241m.\u001B[39mextract_block_id_from_sentence(\u001B[38;5;28mself\u001B[39m\u001B[38;5;241m.\u001B[39mblock_identification)\n\u001B[1;32m---> 58\u001B[0m     ele_id \u001B[38;5;241m=\u001B[39m \u001B[38;5;28;43mself\u001B[39;49m\u001B[38;5;241;43m.\u001B[39;49m\u001B[43mtarget_element_identification_by_vh\u001B[49m\u001B[43m(\u001B[49m\u001B[43mtarget_block\u001B[49m\u001B[38;5;241;43m=\u001B[39;49m\u001B[38;5;28;43mself\u001B[39;49m\u001B[38;5;241;43m.\u001B[39;49m\u001B[43mgui\u001B[49m\u001B[38;5;241;43m.\u001B[39;49m\u001B[43mblocks\u001B[49m\u001B[43m[\u001B[49m\u001B[43mblock_id\u001B[49m\u001B[43m]\u001B[49m\u001B[43m,\u001B[49m\u001B[43m \u001B[49m\u001B[43mtask\u001B[49m\u001B[38;5;241;43m=\u001B[39;49m\u001B[43mtask\u001B[49m\u001B[43m)\u001B[49m\n\u001B[0;32m     59\u001B[0m     \u001B[38;5;28;01mif\u001B[39;00m ele_id:\n\u001B[0;32m     60\u001B[0m         \u001B[38;5;28;01mreturn\u001B[39;00m \u001B[38;5;124m'\u001B[39m\u001B[38;5;124mclick\u001B[39m\u001B[38;5;124m'\u001B[39m, ele_id\n",
      "File \u001B[1;32mC:\\Mulong\\Code\\UI-Automation\\Automator.py:213\u001B[0m, in \u001B[0;36mAutomator.target_element_identification_by_vh\u001B[1;34m(self, target_block, task)\u001B[0m\n\u001B[0;32m    211\u001B[0m \u001B[38;5;28mself\u001B[39m\u001B[38;5;241m.\u001B[39mintermediate_element_check()\n\u001B[0;32m    212\u001B[0m \u001B[38;5;28;01mif\u001B[39;00m \u001B[38;5;124m'\u001B[39m\u001B[38;5;124mYes\u001B[39m\u001B[38;5;124m'\u001B[39m \u001B[38;5;129;01min\u001B[39;00m \u001B[38;5;28mself\u001B[39m\u001B[38;5;241m.\u001B[39melement_intermediate:\n\u001B[1;32m--> 213\u001B[0m     element_id \u001B[38;5;241m=\u001B[39m \u001B[38;5;28;43mself\u001B[39;49m\u001B[38;5;241;43m.\u001B[39;49m\u001B[43mextract_element_id_from_sentence\u001B[49m\u001B[43m(\u001B[49m\u001B[38;5;28;43mself\u001B[39;49m\u001B[38;5;241;43m.\u001B[39;49m\u001B[43melement_intermediate\u001B[49m\u001B[43m)\u001B[49m\n\u001B[0;32m    214\u001B[0m     \u001B[38;5;28mprint\u001B[39m(\u001B[38;5;124m'\u001B[39m\u001B[38;5;130;01m\\n\u001B[39;00m\u001B[38;5;124m*** [Element \u001B[39m\u001B[38;5;132;01m%d\u001B[39;00m\u001B[38;5;124m] is the intermediate element to complete the task ***\u001B[39m\u001B[38;5;124m'\u001B[39m \u001B[38;5;241m%\u001B[39m element_id)\n\u001B[0;32m    215\u001B[0m     \u001B[38;5;28;01mreturn\u001B[39;00m element_id\n",
      "File \u001B[1;32mC:\\Mulong\\Code\\UI-Automation\\Automator.py:252\u001B[0m, in \u001B[0;36mAutomator.extract_element_id_from_sentence\u001B[1;34m(self, sentence)\u001B[0m\n\u001B[0;32m    251\u001B[0m \u001B[38;5;28;01mdef\u001B[39;00m \u001B[38;5;21mextract_element_id_from_sentence\u001B[39m(\u001B[38;5;28mself\u001B[39m, sentence):\n\u001B[1;32m--> 252\u001B[0m     e \u001B[38;5;241m=\u001B[39m \u001B[43mre\u001B[49m\u001B[38;5;241;43m.\u001B[39;49m\u001B[43mfindall\u001B[49m\u001B[43m(\u001B[49m\u001B[38;5;124;43m'\u001B[39;49m\u001B[38;5;124;43m[Ee]lement\u001B[39;49m\u001B[38;5;124;43m\\\u001B[39;49m\u001B[38;5;124;43ms*\u001B[39;49m\u001B[38;5;124;43m\\\u001B[39;49m\u001B[38;5;124;43md+\u001B[39;49m\u001B[38;5;124;43m'\u001B[39;49m\u001B[43m,\u001B[49m\u001B[43m \u001B[49m\u001B[43msentence\u001B[49m\u001B[43m)\u001B[49m\u001B[43m[\u001B[49m\u001B[38;5;241;43m0\u001B[39;49m\u001B[43m]\u001B[49m\n\u001B[0;32m    253\u001B[0m     \u001B[38;5;28;01mreturn\u001B[39;00m \u001B[38;5;28mint\u001B[39m(re\u001B[38;5;241m.\u001B[39mfindall(\u001B[38;5;124m'\u001B[39m\u001B[38;5;124m\\\u001B[39m\u001B[38;5;124md+\u001B[39m\u001B[38;5;124m'\u001B[39m, e)[\u001B[38;5;241m0\u001B[39m])\n",
      "\u001B[1;31mIndexError\u001B[0m: list index out of range"
     ]
    }
   ],
   "source": [
    "aut.ai_chain(task='Check Tech News', load_block_desc=True)"
   ]
  },
  {
   "cell_type": "code",
   "execution_count": null,
   "id": "51c4a80e",
   "metadata": {},
   "outputs": [],
   "source": []
  },
  {
   "cell_type": "code",
   "execution_count": 4,
   "id": "260cab48",
   "metadata": {},
   "outputs": [],
   "source": [
    "from UIAuto import UIAuto"
   ]
  },
  {
   "cell_type": "code",
   "execution_count": 5,
   "id": "1bc1931b",
   "metadata": {},
   "outputs": [],
   "source": [
    "uiauto = UIAuto(gui)"
   ]
  },
  {
   "cell_type": "code",
   "execution_count": 6,
   "id": "e36af971",
   "metadata": {},
   "outputs": [
    {
     "name": "stdout",
     "output_type": "stream",
     "text": [
      "------ Summarize GUI Blocks ------\n",
      "*** Asking ***\n",
      " [{'role': 'system', 'content': 'You are a mobile virtual assistant that understands and interacts with the user interface to complete given task.'}, {'role': 'user', 'content': 'This is a view hierarchy of a UI, can you segment it into functional blocks? Do not detail the elements within it, just summarize its elements and functionalities.'}, {'role': 'user', 'content': \"{'class': 'root', 'clickable': False, 'scrollable': False, 'id': 0, 'children': [{'class': '.view.ViewGroup', 'clickable': False, 'scrollable': False, 'id': 1, 'children': [{'resource-id': 'bbc.mobile.news.ww:id/toolbar', 'class': '.view.ViewGroup', 'clickable': False, 'scrollable': False, 'id': 2, 'children': [{'class': '.widget.ImageButton', 'clickable': True, 'id': 3, 'description': 'menu'}, {'resource-id': 'bbc.mobile.news.ww:id/logo', 'class': '.widget.ImageView', 'clickable': False, 'id': 4, 'description': 'BBC NEWS'}, {'resource-id': 'bbc.mobile.news.ww:id/action_search', 'class': '.widget.TextView', 'clickable': True, 'id': 5, 'description': 'Search'}, {'class': '.widget.ImageView', 'clickable': True, 'id': 6, 'description': 'More options'}]}, {'resource-id': 'bbc.mobile.news.ww:id/tab_layout', 'class': '.widget.HorizontalScrollView', 'clickable': False, 'scrollable': True, 'id': 7, 'children': [{'class': '.widget.TextView', 'clickable': False, 'id': 8, 'description': 'Top Stories'}, {'class': '.widget.TextView', 'clickable': True, 'id': 9, 'description': 'Video'}, {'class': '.widget.TextView', 'clickable': True, 'id': 10, 'description': 'My News'}, {'class': '.widget.TextView', 'clickable': True, 'id': 11, 'description': 'Popular'}, {'class': '.widget.LinearLayout', 'clickable': True, 'id': 12, 'description': 'LIVE'}]}, {'resource-id': 'bbc.mobile.news.ww:id/contentRecyclerView', 'class': 'x.recyclerview.widget.RecyclerView', 'clickable': False, 'scrollable': True, 'id': 13, 'children': [{'class': '.view.ViewGroup', 'clickable': True, 'scrollable': False, 'id': 14, 'children': [{'resource-id': 'bbc.mobile.news.ww:id/content_card_image', 'class': '.widget.ImageView', 'clickable': True, 'id': 15, 'description': 'close navigation drawer'}, {'resource-id': 'bbc.mobile.news.ww:id/content_card_title', 'class': '.widget.TextView', 'clickable': True, 'id': 16, 'description': 'Video shows moment Russian jet hits US drone'}, {'resource-id': 'bbc.mobile.news.ww:id/content_card_info', 'class': '.widget.TextView', 'clickable': True, 'id': 17, 'description': '2 hours ago'}, {'resource-id': 'bbc.mobile.news.ww:id/content_card_info_divider', 'class': '.widget.ImageView', 'clickable': True, 'id': 18, 'description': 'settings'}, {'resource-id': 'bbc.mobile.news.ww:id/content_card_link', 'class': '.widget.TextView', 'clickable': True, 'id': 19, 'description': 'Europe'}]}, {'resource-id': 'bbc.mobile.news.ww:id/layout_root', 'class': '.view.ViewGroup', 'clickable': False, 'scrollable': False, 'id': 20, 'children': [{'resource-id': 'bbc.mobile.news.ww:id/text_label', 'class': '.widget.TextView', 'clickable': False, 'id': 21, 'description': 'ADVERTISEMENT'}, {'class': '.webkit.WebView', 'clickable': False, 'scrollable': False, 'id': 22, 'children': [{'class': '.widget.TextView', 'clickable': False, 'id': 23, 'description': 'ANAARSLIVE ITELECTRICLEXUS LC HYBRIDFIND OUT MORELEXUS'}, {'resource-id': 'canvas', 'class': '.widget.Image', 'clickable': True, 'id': 24, 'description': 'ANAARSLIVE ITELECTRICLEXUS LC HYBRIDFIND OUT MORELEXUS'}, {'class': '.widget.TextView', 'clickable': False, 'id': 25, 'description': 'ANAARSLIVE ITELECTRICLEXUS LC HYBRIDFIND OUT MORELEXUS'}, {'class': '.view.View', 'clickable': False, 'children': [], 'id': 26, 'description': 'ANAARSLIVE ITELECTRICLEXUS LC HYBRIDFIND OUT MORELEXUS'}]}]}, {'class': '.view.ViewGroup', 'clickable': True, 'scrollable': False, 'id': 27, 'children': [{'resource-id': 'bbc.mobile.news.ww:id/content_card_image', 'class': '.widget.ImageView', 'clickable': True, 'id': 28, 'description': 'image click to expand'}, {'resource-id': 'bbc.mobile.news.ww:id/content_card_title', 'class': '.widget.TextView', 'clickable': True, 'id': 29, 'description': 'Macron to force pension reform without vote'}]}]}]}, {'resource-id': ':id/statusBarBackground', 'class': '.view.View', 'clickable': False, 'id': 30, 'description': '2:37'}]}\"}]\n",
      "\n",
      "*** Answer ***\n",
      " {\n",
      "  \"content\": \"This UI can be segmented into the following functional blocks:\\n\\n1. Top Bar: This area contains the app logo, a search button, and a menu button. It also has \\\"More options\\\" that can be clicked for additional actions.\\n \\n2. Tab Layout: This is a horizontal scrollable tab view containing various categories such as Top Stories, Video, My News, Popular, and Live.\\n\\n3. Content RecyclerView: This section provides a scrollable view containing news content cards, including images, headlines, and time. It is interactive and responds to clicks.\\n\\n4. Advertisement: This area within the Content RecyclerView displays an advertisement with text and image. It also has a label identifying it as an advertisement.\\n\\n5. Status Bar: This block contains a non-interactive status bar background with the time displayed.\",\n",
      "  \"role\": \"assistant\"\n",
      "} \n",
      "\n"
     ]
    }
   ],
   "source": [
    "uiauto.block_summarization(True)"
   ]
  },
  {
   "cell_type": "code",
   "execution_count": 7,
   "id": "d712f1b8",
   "metadata": {},
   "outputs": [
    {
     "data": {
      "text/plain": [
       "[{'role': 'system',\n",
       "  'content': 'You are a mobile virtual assistant that understands and interacts with the user interface to complete given task.'},\n",
       " {'role': 'user',\n",
       "  'content': 'This is a view hierarchy of a UI, can you segment it into functional blocks? Do not detail the elements within it, just summarize its elements and functionalities.'},\n",
       " {'role': 'user',\n",
       "  'content': \"{'class': 'root', 'clickable': False, 'scrollable': False, 'id': 0, 'children': [{'class': '.view.ViewGroup', 'clickable': False, 'scrollable': False, 'id': 1, 'children': [{'resource-id': 'bbc.mobile.news.ww:id/toolbar', 'class': '.view.ViewGroup', 'clickable': False, 'scrollable': False, 'id': 2, 'children': [{'class': '.widget.ImageButton', 'clickable': True, 'id': 3, 'description': 'menu'}, {'resource-id': 'bbc.mobile.news.ww:id/logo', 'class': '.widget.ImageView', 'clickable': False, 'id': 4, 'description': 'BBC NEWS'}, {'resource-id': 'bbc.mobile.news.ww:id/action_search', 'class': '.widget.TextView', 'clickable': True, 'id': 5, 'description': 'Search'}, {'class': '.widget.ImageView', 'clickable': True, 'id': 6, 'description': 'More options'}]}, {'resource-id': 'bbc.mobile.news.ww:id/tab_layout', 'class': '.widget.HorizontalScrollView', 'clickable': False, 'scrollable': True, 'id': 7, 'children': [{'class': '.widget.TextView', 'clickable': False, 'id': 8, 'description': 'Top Stories'}, {'class': '.widget.TextView', 'clickable': True, 'id': 9, 'description': 'Video'}, {'class': '.widget.TextView', 'clickable': True, 'id': 10, 'description': 'My News'}, {'class': '.widget.TextView', 'clickable': True, 'id': 11, 'description': 'Popular'}, {'class': '.widget.LinearLayout', 'clickable': True, 'id': 12, 'description': 'LIVE'}]}, {'resource-id': 'bbc.mobile.news.ww:id/contentRecyclerView', 'class': 'x.recyclerview.widget.RecyclerView', 'clickable': False, 'scrollable': True, 'id': 13, 'children': [{'class': '.view.ViewGroup', 'clickable': True, 'scrollable': False, 'id': 14, 'children': [{'resource-id': 'bbc.mobile.news.ww:id/content_card_image', 'class': '.widget.ImageView', 'clickable': True, 'id': 15, 'description': 'close navigation drawer'}, {'resource-id': 'bbc.mobile.news.ww:id/content_card_title', 'class': '.widget.TextView', 'clickable': True, 'id': 16, 'description': 'Video shows moment Russian jet hits US drone'}, {'resource-id': 'bbc.mobile.news.ww:id/content_card_info', 'class': '.widget.TextView', 'clickable': True, 'id': 17, 'description': '2 hours ago'}, {'resource-id': 'bbc.mobile.news.ww:id/content_card_info_divider', 'class': '.widget.ImageView', 'clickable': True, 'id': 18, 'description': 'settings'}, {'resource-id': 'bbc.mobile.news.ww:id/content_card_link', 'class': '.widget.TextView', 'clickable': True, 'id': 19, 'description': 'Europe'}]}, {'resource-id': 'bbc.mobile.news.ww:id/layout_root', 'class': '.view.ViewGroup', 'clickable': False, 'scrollable': False, 'id': 20, 'children': [{'resource-id': 'bbc.mobile.news.ww:id/text_label', 'class': '.widget.TextView', 'clickable': False, 'id': 21, 'description': 'ADVERTISEMENT'}, {'class': '.webkit.WebView', 'clickable': False, 'scrollable': False, 'id': 22, 'children': [{'class': '.widget.TextView', 'clickable': False, 'id': 23, 'description': 'ANAARSLIVE ITELECTRICLEXUS LC HYBRIDFIND OUT MORELEXUS'}, {'resource-id': 'canvas', 'class': '.widget.Image', 'clickable': True, 'id': 24, 'description': 'ANAARSLIVE ITELECTRICLEXUS LC HYBRIDFIND OUT MORELEXUS'}, {'class': '.widget.TextView', 'clickable': False, 'id': 25, 'description': 'ANAARSLIVE ITELECTRICLEXUS LC HYBRIDFIND OUT MORELEXUS'}, {'class': '.view.View', 'clickable': False, 'children': [], 'id': 26, 'description': 'ANAARSLIVE ITELECTRICLEXUS LC HYBRIDFIND OUT MORELEXUS'}]}]}, {'class': '.view.ViewGroup', 'clickable': True, 'scrollable': False, 'id': 27, 'children': [{'resource-id': 'bbc.mobile.news.ww:id/content_card_image', 'class': '.widget.ImageView', 'clickable': True, 'id': 28, 'description': 'image click to expand'}, {'resource-id': 'bbc.mobile.news.ww:id/content_card_title', 'class': '.widget.TextView', 'clickable': True, 'id': 29, 'description': 'Macron to force pension reform without vote'}]}]}]}, {'resource-id': ':id/statusBarBackground', 'class': '.view.View', 'clickable': False, 'id': 30, 'description': '2:37'}]}\"},\n",
       " {'role': 'assistant',\n",
       "  'content': 'This UI can be segmented into the following functional blocks:\\n\\n1. Top Bar: This area contains the app logo, a search button, and a menu button. It also has \"More options\" that can be clicked for additional actions.\\n \\n2. Tab Layout: This is a horizontal scrollable tab view containing various categories such as Top Stories, Video, My News, Popular, and Live.\\n\\n3. Content RecyclerView: This section provides a scrollable view containing news content cards, including images, headlines, and time. It is interactive and responds to clicks.\\n\\n4. Advertisement: This area within the Content RecyclerView displays an advertisement with text and image. It also has a label identifying it as an advertisement.\\n\\n5. Status Bar: This block contains a non-interactive status bar background with the time displayed.'}]"
      ]
     },
     "execution_count": 7,
     "metadata": {},
     "output_type": "execute_result"
    }
   ],
   "source": [
    "uiauto.chain_block"
   ]
  },
  {
   "cell_type": "code",
   "execution_count": 8,
   "id": "f0500b08",
   "metadata": {},
   "outputs": [
    {
     "name": "stdout",
     "output_type": "stream",
     "text": [
      "*** Asking ***\n",
      " [{'role': 'system', 'content': 'You are a mobile virtual assistant that understands and interacts with the user interface to complete given task.'}, {'role': 'assistant', 'content': 'This UI can be segmented into the following functional blocks:\\n\\n1. Top Bar: This area contains the app logo, a search button, and a menu button. It also has \"More options\" that can be clicked for additional actions.\\n \\n2. Tab Layout: This is a horizontal scrollable tab view containing various categories such as Top Stories, Video, My News, Popular, and Live.\\n\\n3. Content RecyclerView: This section provides a scrollable view containing news content cards, including images, headlines, and time. It is interactive and responds to clicks.\\n\\n4. Advertisement: This area within the Content RecyclerView displays an advertisement with text and image. It also has a label identifying it as an advertisement.\\n\\n5. Status Bar: This block contains a non-interactive status bar background with the time displayed.'}, {'role': 'user', 'content': 'To complete the task \"Change the display language\", which block is the most related one to interact with?'}]\n",
      "\n",
      "*** Answer ***\n",
      " {\n",
      "  \"content\": \"To complete the task \\\"Change the display language,\\\" the most related block to interact with would be the \\\"Top Bar.\\\" This area contains a menu button, and clicking it will likely reveal additional settings, including the option to change the display language.\",\n",
      "  \"role\": \"assistant\"\n",
      "} \n",
      "\n"
     ]
    }
   ],
   "source": [
    "uiauto.task_target_block_identification(task='Change the display language', printlog=True)"
   ]
  },
  {
   "cell_type": "code",
   "execution_count": null,
   "id": "b7dc6844",
   "metadata": {},
   "outputs": [],
   "source": []
  },
  {
   "cell_type": "code",
   "execution_count": null,
   "id": "ac9d47cc",
   "metadata": {},
   "outputs": [],
   "source": []
  },
  {
   "cell_type": "code",
   "execution_count": null,
   "id": "7e755e52",
   "metadata": {},
   "outputs": [],
   "source": []
  },
  {
   "cell_type": "code",
   "execution_count": null,
   "id": "02ebf70c",
   "metadata": {},
   "outputs": [],
   "source": []
  }
 ],
 "metadata": {
  "kernelspec": {
   "display_name": "Python 3 (ipykernel)",
   "language": "python",
   "name": "python3"
  },
  "language_info": {
   "codemirror_mode": {
    "name": "ipython",
    "version": 3
   },
   "file_extension": ".py",
   "mimetype": "text/x-python",
   "name": "python",
   "nbconvert_exporter": "python",
   "pygments_lexer": "ipython3",
   "version": "3.10.10"
  }
 },
 "nbformat": 4,
 "nbformat_minor": 5
}
