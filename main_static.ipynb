{
 "cells": [
  {
   "cell_type": "code",
   "execution_count": 1,
   "id": "6121ff39",
   "metadata": {},
   "outputs": [
    {
     "name": "stderr",
     "output_type": "stream",
     "text": [
      "C:\\Users\\xie029\\AppData\\Local\\Programs\\Python\\Python310\\lib\\site-packages\\tqdm\\auto.py:22: TqdmWarning: IProgress not found. Please update jupyter and ipywidgets. See https://ipywidgets.readthedocs.io/en/stable/user_install.html\n",
      "  from .autonotebook import tqdm as notebook_tqdm\n"
     ]
    }
   ],
   "source": [
    "from os.path import join as pjoin\n",
    "from GUIData import GUIData\n",
    "from Automator import Automator"
   ]
  },
  {
   "cell_type": "code",
   "execution_count": 5,
   "id": "0aa6e038",
   "metadata": {},
   "outputs": [],
   "source": [
    "data_dir = 'C:\\\\Mulong\\\\Data\\\\ui automation\\\\datacollect\\\\BBCNews\\\\testcase2'\n",
    "gui_no = 1"
   ]
  },
  {
   "cell_type": "code",
   "execution_count": 6,
   "id": "d1bd04d0",
   "metadata": {},
   "outputs": [
    {
     "name": "stdout",
     "output_type": "stream",
     "text": [
      "Save elements to data/bbc/testcase1\\guidata\\1_elements.json\n",
      "Save elements to data/bbc/testcase1\\guidata\\1_elements.json\n",
      "Save element tree to data/bbc/testcase1\\guidata\\1_tree.json\n"
     ]
    }
   ],
   "source": [
    "gui = GUIData(gui_img_file=pjoin(data_dir, str(gui_no) + '.png'),\n",
    "              gui_json_file=pjoin(data_dir, str(gui_no) + '.json'),\n",
    "              output_file_root='data/bbc/testcase1')\n",
    "\n",
    "load = False\n",
    "# load previous result\n",
    "if load:\n",
    "    gui.load_elements()\n",
    "# process from scratch\n",
    "else:\n",
    "    gui.ui_info_extraction()\n",
    "    gui.ui_analysis_elements_description()\n",
    "    gui.ui_element_block_tree()\n",
    "gui.show_all_elements(only_leaves=False)\n",
    "# gui.show_each_element(only_leaves=False)"
   ]
  },
  {
   "cell_type": "code",
   "execution_count": 9,
   "id": "521578b8",
   "metadata": {},
   "outputs": [
    {
     "name": "stdout",
     "output_type": "stream",
     "text": [
      "22\n",
      "android.widget.ImageButton\n",
      "{'NAF': True, 'text': '', 'resource-id': '', 'class': 'android.widget.ImageButton', 'package': 'bbc.mobile.news.ww', 'content-desc': '', 'checkable': False, 'checked': False, 'clickable': True, 'enabled': True, 'focusable': True, 'focused': False, 'scrollable': False, 'long-clickable': False, 'password': False, 'selected': False, 'bounds': [0, 66, 154, 220], 'id': 3, 'layer': 3, 'leaf-id': 0, 'ocr': '', 'caption': 'open navigation drawer', 'icon-cls': 'menu', 'description': 'menu'} \n",
      "\n",
      "android.widget.ImageView\n",
      "{'text': 'BBC NEWS', 'resource-id': 'bbc.mobile.news.ww:id/logo', 'class': 'android.widget.ImageView', 'package': 'bbc.mobile.news.ww', 'content-desc': '', 'checkable': False, 'checked': False, 'clickable': False, 'enabled': True, 'focusable': False, 'focused': False, 'scrollable': False, 'long-clickable': False, 'password': False, 'selected': False, 'bounds': [333, 99, 746, 187], 'id': 4, 'layer': 3, 'leaf-id': 1, 'ocr': 'BBC NEWS', 'caption': '<unk>', 'icon-cls': 'date_range', 'description': 'BBC NEWS'} \n",
      "\n",
      "android.widget.TextView\n",
      "{'text': '', 'resource-id': 'bbc.mobile.news.ww:id/action_search', 'class': 'android.widget.TextView', 'package': 'bbc.mobile.news.ww', 'content-desc': 'Search', 'checkable': False, 'checked': False, 'clickable': True, 'enabled': True, 'focusable': True, 'focused': False, 'scrollable': False, 'long-clickable': False, 'password': False, 'selected': False, 'bounds': [815, 77, 947, 209], 'id': 5, 'layer': 3, 'leaf-id': 2, 'ocr': '', 'caption': 'search', 'icon-cls': 'search', 'description': 'Search'} \n",
      "\n"
     ]
    }
   ],
   "source": [
    "gui.show_each_element(only_leaves=True)"
   ]
  },
  {
   "cell_type": "code",
   "execution_count": null,
   "id": "f6077d0b",
   "metadata": {},
   "outputs": [],
   "source": []
  },
  {
   "cell_type": "code",
   "execution_count": 7,
   "id": "0363e6d9",
   "metadata": {},
   "outputs": [],
   "source": [
    "aut = Automator(gui)"
   ]
  },
  {
   "cell_type": "code",
   "execution_count": 8,
   "id": "c7e70db7",
   "metadata": {},
   "outputs": [
    {
     "name": "stdout",
     "output_type": "stream",
     "text": [
      "------ Generate Block Descriptions ------\n",
      "{'vh': [{'resource-id': ':id/statusBarBackground', 'class': '.view.View', 'clickable': False, 'id': 48, 'layer': 1, 'description': '2:41'}], 'desc': ['[Scrollable] This UI element is a RecyclerView that contains buttons for different topics such as World, Africa, Business, and Entertainment, among others. The buttons are clickable and allow the user to navigate to news articles related to the selected topic. The RecyclerView element is scrollable, meaning the user can swipe up and down to view additional topics. Additionally, there is a \"More Topics\" button that expands the list of topics and a collapse button to compress the list if needed. Overall, this UI element serves as a navigation tool to browse news articles by topic.', '[Not Scrollable] This code describes a UI view that includes a toolbar with icons for more topics, search, and additional options. There is also a tab layout with options for top stories, video, my news, popular, and live. The main content of the view includes multiple news cards, each with an image, title, information about the article, and a link to the associated topic. There is also an advertisement and an image related to US and Canada news. Finally, there is an entertainment news card with an image and title. Users can interact with the UI to select news cards, search for articles, or navigate to different tabs.']}\n",
      "\n",
      "------ Element Task Completion Check ------\n",
      "No, this UI block does not contain any clickable element related to the task 'Check Technology News', as the only element present is the status bar which is not clickable.\n",
      "\n",
      "------ Intermediate Element Check ------\n",
      "No, this UI block does not seem to contain any elements related to the task 'Check Technology News'. The status bar only contains information about the time and does not provide any pathway to the task.\n",
      "\n",
      "*** No related elements ***\n",
      "Yes, Block 1 is the most related block as it describes a UI view that displays multiple news cards with titles and information about articles. Users can interact with the UI to select news cards, including technology news.\n",
      "\n",
      "------ Element Task Completion Check ------\n",
      "Yes, Element 1.\n",
      "\n",
      "*** [Element 1] can complete the task ***\n"
     ]
    },
    {
     "data": {
      "text/plain": [
       "('click', 1)"
      ]
     },
     "execution_count": 8,
     "metadata": {},
     "output_type": "execute_result"
    }
   ],
   "source": [
    "aut.ai_chain(task='Check Technology News')"
   ]
  },
  {
   "cell_type": "code",
   "execution_count": 9,
   "id": "832428df",
   "metadata": {},
   "outputs": [
    {
     "name": "stdout",
     "output_type": "stream",
     "text": [
      "{'text': '', 'resource-id': 'bbc.mobile.news.ww:id/recyclerview', 'class': 'androidx.recyclerview.widget.RecyclerView', 'package': 'bbc.mobile.news.ww', 'content-desc': '', 'checkable': False, 'checked': False, 'clickable': False, 'enabled': True, 'focusable': True, 'focused': False, 'scrollable': True, 'long-clickable': False, 'password': False, 'selected': False, 'bounds': [0, 0, 825, 2148], 'id': 1, 'layer': 1, 'children-id': [2, 3, 4, 5, 6, 7, 8, 9, 10, 11, 12, 13, 14, 15, 16, 17, 18], 'children-depth': 2}\n"
     ]
    }
   ],
   "source": [
    "aut.show_target_element(1)"
   ]
  },
  {
   "cell_type": "code",
   "execution_count": null,
   "id": "66495d29",
   "metadata": {},
   "outputs": [],
   "source": []
  }
 ],
 "metadata": {
  "kernelspec": {
   "display_name": "Python 3 (ipykernel)",
   "language": "python",
   "name": "python3"
  },
  "language_info": {
   "codemirror_mode": {
    "name": "ipython",
    "version": 3
   },
   "file_extension": ".py",
   "mimetype": "text/x-python",
   "name": "python",
   "nbconvert_exporter": "python",
   "pygments_lexer": "ipython3",
   "version": "3.10.10"
  }
 },
 "nbformat": 4,
 "nbformat_minor": 5
}
