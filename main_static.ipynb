{
 "cells": [
  {
   "cell_type": "code",
   "execution_count": 1,
   "id": "700b2496",
   "metadata": {},
   "outputs": [
    {
     "name": "stderr",
     "output_type": "stream",
     "text": [
      "C:\\Users\\xie029\\AppData\\Local\\Programs\\Python\\Python310\\lib\\site-packages\\tqdm\\auto.py:22: TqdmWarning: IProgress not found. Please update jupyter and ipywidgets. See https://ipywidgets.readthedocs.io/en/stable/user_install.html\n",
      "  from .autonotebook import tqdm as notebook_tqdm\n"
     ]
    }
   ],
   "source": [
    "from os.path import join as pjoin\n",
    "from GUIData import GUIData\n",
    "from Automator import Automator"
   ]
  },
  {
   "cell_type": "code",
   "execution_count": 2,
   "id": "b9858b25",
   "metadata": {},
   "outputs": [],
   "source": [
    "testcase_no = 1\n",
    "gui_no = 0\n",
    "app = 'twitter'\n",
    "data_dir = 'C:\\\\Mulong\\\\Data\\\\ui automation\\\\datacollect\\\\' + app + '\\\\testcase' + str(testcase_no)"
   ]
  },
  {
   "cell_type": "code",
   "execution_count": 3,
   "id": "1c1faa42",
   "metadata": {},
   "outputs": [
    {
     "name": "stdout",
     "output_type": "stream",
     "text": [
      "Load elements from data/twitter/testcase1\\guidata\\0_elements.json\n",
      "Load element tree from data/twitter/testcase1\\guidata\\0_tree.json\n"
     ]
    }
   ],
   "source": [
    "gui = GUIData(gui_img_file=pjoin(data_dir, str(gui_no) + '.png'),\n",
    "              gui_json_file=pjoin(data_dir, str(gui_no) + '.json'),\n",
    "              output_file_root='data/' + app + '/testcase' + str(testcase_no))\n",
    "\n",
    "load = True\n",
    "# load previous result\n",
    "if load:\n",
    "    gui.load_elements()\n",
    "# process from scratch\n",
    "else:\n",
    "    gui.ui_info_extraction()\n",
    "    gui.ui_analysis_elements_description()\n",
    "    gui.ui_element_block_tree()\n",
    "# gui.show_all_elements(only_leaves=False)\n",
    "# gui.show_each_element(only_leaves=False)"
   ]
  },
  {
   "cell_type": "code",
   "execution_count": 4,
   "id": "3a1c4b86",
   "metadata": {},
   "outputs": [
    {
     "data": {
      "text/plain": [
       "{'class': 'root',\n",
       " 'clickable': False,\n",
       " 'scrollable': False,\n",
       " 'id': 0,\n",
       " 'children': [{'class': '.view.ViewGroup',\n",
       "   'clickable': False,\n",
       "   'scrollable': False,\n",
       "   'id': 1,\n",
       "   'children': [{'resource-id': 'bbc.mobile.news.ww:id/toolbar',\n",
       "     'class': '.view.ViewGroup',\n",
       "     'clickable': False,\n",
       "     'scrollable': False,\n",
       "     'id': 2,\n",
       "     'children': [{'class': '.widget.ImageButton',\n",
       "       'clickable': True,\n",
       "       'id': 3,\n",
       "       'description': 'menu'},\n",
       "      {'resource-id': 'bbc.mobile.news.ww:id/logo',\n",
       "       'class': '.widget.ImageView',\n",
       "       'clickable': False,\n",
       "       'id': 4,\n",
       "       'description': 'BBC NEWS'},\n",
       "      {'resource-id': 'bbc.mobile.news.ww:id/action_search',\n",
       "       'class': '.widget.TextView',\n",
       "       'clickable': True,\n",
       "       'id': 5,\n",
       "       'description': 'Search'},\n",
       "      {'class': '.widget.ImageView',\n",
       "       'clickable': True,\n",
       "       'id': 6,\n",
       "       'description': 'More options'}]},\n",
       "    {'resource-id': 'bbc.mobile.news.ww:id/tab_layout',\n",
       "     'class': '.widget.HorizontalScrollView',\n",
       "     'clickable': False,\n",
       "     'scrollable': True,\n",
       "     'id': 7,\n",
       "     'children': [{'class': '.widget.TextView',\n",
       "       'clickable': False,\n",
       "       'id': 8,\n",
       "       'description': 'Top Stories'},\n",
       "      {'class': '.widget.TextView',\n",
       "       'clickable': True,\n",
       "       'id': 9,\n",
       "       'description': 'Video'},\n",
       "      {'class': '.widget.TextView',\n",
       "       'clickable': True,\n",
       "       'id': 10,\n",
       "       'description': 'My News'},\n",
       "      {'class': '.widget.TextView',\n",
       "       'clickable': True,\n",
       "       'id': 11,\n",
       "       'description': 'Popular'},\n",
       "      {'class': '.widget.LinearLayout',\n",
       "       'clickable': True,\n",
       "       'id': 12,\n",
       "       'description': 'LIVE'}]},\n",
       "    {'resource-id': 'bbc.mobile.news.ww:id/contentRecyclerView',\n",
       "     'class': 'x.recyclerview.widget.RecyclerView',\n",
       "     'clickable': False,\n",
       "     'scrollable': True,\n",
       "     'id': 13,\n",
       "     'children': [{'class': '.view.ViewGroup',\n",
       "       'clickable': True,\n",
       "       'scrollable': False,\n",
       "       'id': 14,\n",
       "       'children': [{'resource-id': 'bbc.mobile.news.ww:id/content_card_image',\n",
       "         'class': '.widget.ImageView',\n",
       "         'clickable': True,\n",
       "         'id': 15,\n",
       "         'description': 'close navigation drawer'},\n",
       "        {'resource-id': 'bbc.mobile.news.ww:id/content_card_title',\n",
       "         'class': '.widget.TextView',\n",
       "         'clickable': True,\n",
       "         'id': 16,\n",
       "         'description': 'Video shows moment Russian jet hits US drone'},\n",
       "        {'resource-id': 'bbc.mobile.news.ww:id/content_card_info',\n",
       "         'class': '.widget.TextView',\n",
       "         'clickable': True,\n",
       "         'id': 17,\n",
       "         'description': '2 hours ago'},\n",
       "        {'resource-id': 'bbc.mobile.news.ww:id/content_card_info_divider',\n",
       "         'class': '.widget.ImageView',\n",
       "         'clickable': True,\n",
       "         'id': 18,\n",
       "         'description': 'settings'},\n",
       "        {'resource-id': 'bbc.mobile.news.ww:id/content_card_link',\n",
       "         'class': '.widget.TextView',\n",
       "         'clickable': True,\n",
       "         'id': 19,\n",
       "         'description': 'Europe'}]},\n",
       "      {'resource-id': 'bbc.mobile.news.ww:id/layout_root',\n",
       "       'class': '.view.ViewGroup',\n",
       "       'clickable': False,\n",
       "       'scrollable': False,\n",
       "       'id': 20,\n",
       "       'children': [{'resource-id': 'bbc.mobile.news.ww:id/text_label',\n",
       "         'class': '.widget.TextView',\n",
       "         'clickable': False,\n",
       "         'id': 21,\n",
       "         'description': 'ADVERTISEMENT'},\n",
       "        {'class': '.webkit.WebView',\n",
       "         'clickable': False,\n",
       "         'scrollable': False,\n",
       "         'id': 22,\n",
       "         'children': [{'class': '.widget.TextView',\n",
       "           'clickable': False,\n",
       "           'id': 23,\n",
       "           'description': 'ANAARSLIVE ITELECTRICLEXUS LC HYBRIDFIND OUT MORELEXUS'},\n",
       "          {'resource-id': 'canvas',\n",
       "           'class': '.widget.Image',\n",
       "           'clickable': True,\n",
       "           'id': 24,\n",
       "           'description': 'ANAARSLIVE ITELECTRICLEXUS LC HYBRIDFIND OUT MORELEXUS'},\n",
       "          {'class': '.widget.TextView',\n",
       "           'clickable': False,\n",
       "           'id': 25,\n",
       "           'description': 'ANAARSLIVE ITELECTRICLEXUS LC HYBRIDFIND OUT MORELEXUS'},\n",
       "          {'class': '.view.View',\n",
       "           'clickable': False,\n",
       "           'children': [],\n",
       "           'id': 26,\n",
       "           'description': 'ANAARSLIVE ITELECTRICLEXUS LC HYBRIDFIND OUT MORELEXUS'}]}]},\n",
       "      {'class': '.view.ViewGroup',\n",
       "       'clickable': True,\n",
       "       'scrollable': False,\n",
       "       'id': 27,\n",
       "       'children': [{'resource-id': 'bbc.mobile.news.ww:id/content_card_image',\n",
       "         'class': '.widget.ImageView',\n",
       "         'clickable': True,\n",
       "         'id': 28,\n",
       "         'description': 'image click to expand'},\n",
       "        {'resource-id': 'bbc.mobile.news.ww:id/content_card_title',\n",
       "         'class': '.widget.TextView',\n",
       "         'clickable': True,\n",
       "         'id': 29,\n",
       "         'description': 'Macron to force pension reform without vote'}]}]}]},\n",
       "  {'resource-id': ':id/statusBarBackground',\n",
       "   'class': '.view.View',\n",
       "   'clickable': False,\n",
       "   'id': 30,\n",
       "   'description': '2:37'}]}"
      ]
     },
     "execution_count": 4,
     "metadata": {},
     "output_type": "execute_result"
    }
   ],
   "source": [
    "gui.element_tree"
   ]
  },
  {
   "cell_type": "code",
   "execution_count": 8,
   "id": "ee335c16",
   "metadata": {},
   "outputs": [
    {
     "name": "stdout",
     "output_type": "stream",
     "text": [
      "22\n",
      "android.widget.ImageButton\n",
      "{'NAF': True, 'text': '', 'resource-id': '', 'class': 'android.widget.ImageButton', 'package': 'bbc.mobile.news.ww', 'content-desc': '', 'checkable': False, 'checked': False, 'clickable': True, 'enabled': True, 'focusable': True, 'focused': False, 'scrollable': False, 'long-clickable': False, 'password': False, 'selected': False, 'bounds': [0, 66, 154, 220], 'id': 3, 'layer': 3, 'leaf-id': 0, 'ocr': '', 'caption': 'open navigation drawer', 'icon-cls': 'menu', 'description': 'menu'} \n",
      "\n"
     ]
    }
   ],
   "source": [
    "gui.show_each_element(only_leaves=True)"
   ]
  },
  {
   "cell_type": "code",
   "execution_count": null,
   "id": "14c71bed",
   "metadata": {},
   "outputs": [],
   "source": []
  },
  {
   "cell_type": "code",
   "execution_count": 6,
   "id": "260cab48",
   "metadata": {},
   "outputs": [],
   "source": [
    "from AIChain import AIChain\n",
    "aichain = AIChain(gui, 'gpt-3.5-turbo')"
   ]
  },
  {
   "cell_type": "code",
   "execution_count": 7,
   "id": "9b37d31c",
   "metadata": {},
   "outputs": [
    {
     "name": "stdout",
     "output_type": "stream",
     "text": [
      "--- Check if the UI completes the task ---\n",
      "--- Check if the UI directly related ---\n",
      "--- Check if the UI indirectly related ---\n",
      "--- Get the related element ---\n"
     ]
    },
    {
     "data": {
      "text/plain": [
       "(2,\n",
       " {'class': '.widget.ImageButton',\n",
       "  'clickable': True,\n",
       "  'id': 3,\n",
       "  'description': 'Show navigation drawer'})"
      ]
     },
     "execution_count": 7,
     "metadata": {},
     "output_type": "execute_result"
    }
   ],
   "source": [
    "aichain.ai_chain_automate_check_elements('change the display language')"
   ]
  },
  {
   "cell_type": "code",
   "execution_count": 8,
   "id": "5dd90127",
   "metadata": {},
   "outputs": [
    {
     "data": {
      "text/plain": [
       "[{'role': 'system',\n",
       "  'content': 'You are a mobile virtual assistant that understands and interacts with the user interface to complete given task.'},\n",
       " {'role': 'user',\n",
       "  'content': 'This is a view hierarchy of a UI containing various UI blocks and elements.'},\n",
       " {'role': 'user',\n",
       "  'content': '{\\'class\\': \\'root\\', \\'clickable\\': False, \\'scrollable\\': False, \\'id\\': 0, \\'children\\': [{\\'resource-id\\': \\'.twitter:id/root_coordinator_layout\\', \\'class\\': \\'.widget.ScrollView\\', \\'clickable\\': False, \\'scrollable\\': True, \\'id\\': 1, \\'children\\': [{\\'resource-id\\': \\'.twitter:id/toolbar\\', \\'class\\': \\'.view.ViewGroup\\', \\'clickable\\': True, \\'scrollable\\': False, \\'id\\': 2, \\'children\\': [{\\'class\\': \\'.widget.ImageButton\\', \\'clickable\\': True, \\'id\\': 3, \\'description\\': \\'Show navigation drawer\\'}, {\\'resource-id\\': \\'.twitter:id/logo\\', \\'class\\': \\'.widget.ImageView\\', \\'clickable\\': True, \\'id\\': 4, \\'description\\': \\'twitter\\'}]}, {\\'resource-id\\': \\'.twitter:id/view_pager\\', \\'class\\': \\'x.viewpager.widget.ViewPager\\', \\'clickable\\': False, \\'scrollable\\': True, \\'id\\': 5, \\'children\\': [{\\'resource-id\\': \\'.twitter:id/tab_layout\\', \\'class\\': \\'.widget.HorizontalScrollView\\', \\'clickable\\': False, \\'scrollable\\': False, \\'id\\': 6, \\'children\\': [{\\'class\\': \\'.widget.TextView\\', \\'clickable\\': False, \\'id\\': 7, \\'description\\': \\'For you\\'}, {\\'class\\': \\'.widget.TextView\\', \\'clickable\\': True, \\'id\\': 8, \\'description\\': \\'Following\\'}]}, {\\'resource-id\\': \\'.twitter:id/nested_coordinator_layout\\', \\'class\\': \\'.widget.ScrollView\\', \\'clickable\\': False, \\'scrollable\\': True, \\'id\\': 9, \\'children\\': [{\\'resource-id\\': \\':id/list\\', \\'class\\': \\'x.recyclerview.widget.RecyclerView\\', \\'clickable\\': False, \\'scrollable\\': True, \\'id\\': 10, \\'children\\': [{\\'class\\': \\'.view.ViewGroup\\', \\'clickable\\': False, \\'scrollable\\': False, \\'id\\': 11, \\'children\\': [{\\'resource-id\\': \\'.twitter:id/header\\', \\'class\\': \\'.widget.TextView\\', \\'clickable\\': False, \\'id\\': 12, \\'description\\': \\'Want to see who you know on Twitter?\\'}, {\\'resource-id\\': \\'.twitter:id/body\\', \\'class\\': \\'.widget.TextView\\', \\'clickable\\': False, \\'id\\': 13, \\'description\\': \\'Take a peek at your contacts.\\'}, {\\'class\\': \\'.view.View\\', \\'clickable\\': True, \\'scrollable\\': False, \\'id\\': 14, \\'children\\': [{\\'class\\': \\'.view.View\\', \\'clickable\\': True, \\'id\\': 15, \\'description\\': \\'Get started\\'}, {\\'class\\': \\'.widget.TextView\\', \\'clickable\\': True, \\'id\\': 16, \\'description\\': \\'Get started\\'}, {\\'class\\': \\'.widget.Button\\', \\'clickable\\': True, \\'id\\': 17, \\'description\\': \\'Get started\\'}]}, {\\'resource-id\\': \\'.twitter:id/caret\\', \\'class\\': \\'.widget.ImageView\\', \\'clickable\\': True, \\'id\\': 18, \\'description\\': \\'Want to see who you know / Dismiss\\'}]}, {\\'class\\': \\'.view.ViewGroup\\', \\'clickable\\': True, \\'scrollable\\': False, \\'id\\': 19, \\'children\\': [{\\'resource-id\\': \\'.twitter:id/row\\', \\'class\\': \\'.view.ViewGroup\\', \\'clickable\\': True, \\'scrollable\\': False, \\'id\\': 20, \\'children\\': [{\\'class\\': \\'.widget.ImageView\\', \\'clickable\\': True, \\'id\\': 21, \\'description\\': \\'avatar\\'}, {\\'resource-id\\': \\'.twitter:id/tweet_header\\', \\'class\\': \\'.view.ViewGroup\\', \\'clickable\\': True, \\'id\\': 22, \\'description\\': \\'Jeremy Judkins@jeremy .... 07 May 23\\'}, {\\'resource-id\\': \\'.twitter:id/tweet_curation_action\\', \\'class\\': \\'.widget.ImageView\\', \\'clickable\\': True, \\'id\\': 23, \\'description\\': \":was told Teslas don\\'t\"}, {\\'class\\': \\'.view.View\\', \\'clickable\\': True, \\'id\\': 24, \\'description\\': \\'I’m EXTREMELY upset. I was told Teslas don’t require maintenance 😡😡😡\\\\n\\\\nWhy is mine leaking oil everywhere?!\\'}, {\\'class\\': \\'.view.ViewGroup\\', \\'clickable\\': True, \\'scrollable\\': False, \\'id\\': 25, \\'children\\': [{\\'class\\': \\'.widget.ImageView\\', \\'clickable\\': True, \\'id\\': 26, \\'description\\': \\'keepsake photo\\'}, {\\'class\\': \\'.widget.ImageView\\', \\'clickable\\': True, \\'id\\': 27, \\'description\\': \\'ad image\\'}]}, {\\'class\\': \\'.view.ViewGroup\\', \\'clickable\\': True, \\'scrollable\\': False, \\'id\\': 28, \\'children\\': [{\\'resource-id\\': \\'.twitter:id/inline_reply\\', \\'class\\': \\'.view.ViewGroup\\', \\'clickable\\': True, \\'scrollable\\': False, \\'id\\': 29, \\'children\\': [{\\'resource-id\\': \\'.twitter:id/inline_action_item_icon\\', \\'class\\': \\'.widget.ImageView\\', \\'clickable\\': True, \\'id\\': 30, \\'description\\': \\'chat\\'}, {\\'class\\': \\'.widget.TextView\\', \\'clickable\\': True, \\'id\\': 31, \\'description\\': \\'469\\'}]}, {\\'resource-id\\': \\'.twitter:id/inline_retweet\\', \\'class\\': \\'.view.ViewGroup\\', \\'clickable\\': True, \\'scrollable\\': False, \\'id\\': 32, \\'children\\': [{\\'resource-id\\': \\'.twitter:id/inline_action_item_icon\\', \\'class\\': \\'.widget.ImageView\\', \\'clickable\\': True, \\'id\\': 33, \\'description\\': \\'1790\\'}, {\\'class\\': \\'.widget.TextView\\', \\'clickable\\': True, \\'id\\': 34, \\'description\\': \\'90\\'}]}, {\\'resource-id\\': \\'.twitter:id/inline_like\\', \\'class\\': \\'.view.ViewGroup\\', \\'clickable\\': True, \\'scrollable\\': False, \\'id\\': 35, \\'children\\': [{\\'resource-id\\': \\'.twitter:id/inline_action_item_icon\\', \\'class\\': \\'.widget.ImageView\\', \\'clickable\\': True, \\'id\\': 36, \\'description\\': \\'favorite\\'}, {\\'class\\': \\'.widget.TextView\\', \\'clickable\\': True, \\'id\\': 37, \\'description\\': \\'1,997\\'}]}, {\\'resource-id\\': \\'.twitter:id/inline_view_count\\', \\'class\\': \\'.view.ViewGroup\\', \\'clickable\\': True, \\'scrollable\\': False, \\'id\\': 38, \\'children\\': [{\\'resource-id\\': \\'.twitter:id/inline_action_item_icon\\', \\'class\\': \\'.widget.ImageView\\', \\'clickable\\': True, \\'id\\': 39, \\'description\\': \\'il₁434K\\'}, {\\'class\\': \\'.widget.TextView\\', \\'clickable\\': True, \\'id\\': 40, \\'description\\': \\'434K\\'}]}, {\\'resource-id\\': \\'.twitter:id/inline_action_item_icon\\', \\'class\\': \\'.widget.ImageView\\', \\'clickable\\': True, \\'id\\': 41, \\'description\\': \\'share\\'}]}]}]}, {\\'resource-id\\': \\'.twitter:id/row\\', \\'class\\': \\'.view.ViewGroup\\', \\'clickable\\': True, \\'scrollable\\': False, \\'id\\': 42, \\'children\\': [{\\'class\\': \\'.widget.ImageView\\', \\'clickable\\': True, \\'id\\': 43}, {\\'resource-id\\': \\'.twitter:id/tweet_header\\', \\'class\\': \\'.view.ViewGroup\\', \\'clickable\\': True, \\'id\\': 44, \\'description\\': \\'Bezenpy@thebezenpy+\\'}, {\\'resource-id\\': \\'.twitter:id/tweet_curation_action\\', \\'class\\': \\'.widget.ImageView\\', \\'clickable\\': True, \\'id\\': 45, \\'description\\': \\'+\\'}, {\\'resource-id\\': \\'.twitter:id/tweet_connector_bottom\\', \\'class\\': \\'.view.View\\', \\'clickable\\': True, \\'id\\': 46, \\'description\\': \\'navigate up\\'}, {\\'class\\': \\'.view.View\\', \\'clickable\\': True, \\'id\\': 47, \\'description\\': \\'Your friends and family will be shocked when they see the Illusion Carpet on your floor!\\\\n👉 bezenpy.com/carpet\\'}, {\\'class\\': \\'ddw\\', \\'clickable\\': True, \\'id\\': 48, \\'description\\': \\'toggle speaker\\'}, {\\'class\\': \\'.view.View\\', \\'clickable\\': True, \\'id\\': 49, \\'description\\': \\'toggle speaker\\'}]}]}]}]}, {\\'resource-id\\': \\'.twitter:id/poser_write\\', \\'class\\': \\'.widget.ImageButton\\', \\'clickable\\': True, \\'id\\': 50, \\'description\\': \\'+Your friends and family will be shockethey see the Illusion Carpet on your floor !\\'}, {\\'resource-id\\': \\'.twitter:id/tabs\\', \\'class\\': \\'.widget.HorizontalScrollView\\', \\'clickable\\': False, \\'scrollable\\': False, \\'id\\': 51, \\'children\\': [{\\'resource-id\\': \\'.twitter:id/channels\\', \\'class\\': \\'.view.View\\', \\'clickable\\': False, \\'id\\': 52}, {\\'class\\': \\'.view.View\\', \\'clickable\\': True, \\'id\\': 53, \\'description\\': \\'Search and Explore\\'}, {\\'resource-id\\': \\'.twitter:id/spaces\\', \\'class\\': \\'.view.View\\', \\'clickable\\': True, \\'id\\': 54, \\'description\\': \\'Spaces\\'}, {\\'resource-id\\': \\'.twitter:id/notifications\\', \\'class\\': \\'.view.View\\', \\'clickable\\': True, \\'id\\': 55, \\'description\\': \\'Notifications\\'}, {\\'resource-id\\': \\'.twitter:id/dms\\', \\'class\\': \\'.view.View\\', \\'clickable\\': True, \\'id\\': 56, \\'description\\': \\'Messages\\'}]}]}, {\\'resource-id\\': \\':id/statusBarBackground\\', \\'class\\': \\'.view.View\\', \\'clickable\\': False, \\'id\\': 57, \\'description\\': \\'12:32\\'}]}'},\n",
       " {'role': 'user',\n",
       "  'content': 'I will ask you questions and tasks based on this'},\n",
       " {'role': 'user',\n",
       "  'content': 'Is this UI directly related to the task \"change the display language\"?'},\n",
       " {'role': 'user',\n",
       "  'content': 'If yes, answer \"Yes\" and the related Element id, for example, \"Yes, Element id: 2\". Otherwise, answer \"No\"'},\n",
       " {'role': 'assistant', 'content': 'No'},\n",
       " {'role': 'user',\n",
       "  'content': 'The task \"change the display language\" may take multiple steps to complete. Is there any UI elements that can direct to the related UI to complete the task?'},\n",
       " {'role': 'user',\n",
       "  'content': 'If yes, answer \"Yes\" and the related Element id, for example, \"Yes, Element id: 2\". Otherwise, answer \"No\"'},\n",
       " {'role': 'assistant', 'content': 'Yes, Element id: 3'}]"
      ]
     },
     "execution_count": 8,
     "metadata": {},
     "output_type": "execute_result"
    }
   ],
   "source": [
    "aichain.conversation "
   ]
  },
  {
   "cell_type": "code",
   "execution_count": null,
   "id": "d558451a",
   "metadata": {},
   "outputs": [],
   "source": []
  },
  {
   "cell_type": "code",
   "execution_count": null,
   "id": "06320c72",
   "metadata": {},
   "outputs": [],
   "source": []
  }
 ],
 "metadata": {
  "kernelspec": {
   "display_name": "Python 3 (ipykernel)",
   "language": "python",
   "name": "python3"
  },
  "language_info": {
   "codemirror_mode": {
    "name": "ipython",
    "version": 3
   },
   "file_extension": ".py",
   "mimetype": "text/x-python",
   "name": "python",
   "nbconvert_exporter": "python",
   "pygments_lexer": "ipython3",
   "version": "3.10.10"
  }
 },
 "nbformat": 4,
 "nbformat_minor": 5
}
