{
 "cells": [
  {
   "cell_type": "code",
   "execution_count": 1,
   "id": "700b2496",
   "metadata": {},
   "outputs": [
    {
     "name": "stderr",
     "output_type": "stream",
     "text": [
      "C:\\Users\\xie029\\AppData\\Local\\Programs\\Python\\Python310\\lib\\site-packages\\tqdm\\auto.py:22: TqdmWarning: IProgress not found. Please update jupyter and ipywidgets. See https://ipywidgets.readthedocs.io/en/stable/user_install.html\n",
      "  from .autonotebook import tqdm as notebook_tqdm\n"
     ]
    }
   ],
   "source": [
    "from os.path import join as pjoin\n",
    "from GUIData import GUIData\n",
    "from Automator import Automator"
   ]
  },
  {
   "cell_type": "code",
   "execution_count": 2,
   "id": "b9858b25",
   "metadata": {},
   "outputs": [],
   "source": [
    "testcase_no = 1\n",
    "gui_no = 0\n",
    "app = 'BBCNews'\n",
    "data_dir = 'C:\\\\Mulong\\\\Data\\\\ui automation\\\\datacollect\\\\' + app + '\\\\testcase' + str(testcase_no)"
   ]
  },
  {
   "cell_type": "code",
   "execution_count": 3,
   "id": "1c1faa42",
   "metadata": {},
   "outputs": [
    {
     "name": "stdout",
     "output_type": "stream",
     "text": [
      "Load elements from data/BBCNews/testcase1\\guidata\\0_elements.json\n",
      "Load element tree from data/BBCNews/testcase1\\guidata\\0_tree.json\n"
     ]
    }
   ],
   "source": [
    "gui = GUIData(gui_img_file=pjoin(data_dir, str(gui_no) + '.png'),\n",
    "              gui_json_file=pjoin(data_dir, str(gui_no) + '.json'),\n",
    "              output_file_root='data/' + app + '/testcase' + str(testcase_no))\n",
    "\n",
    "load = True\n",
    "# load previous result\n",
    "if load:\n",
    "    gui.load_elements()\n",
    "# process from scratch\n",
    "else:\n",
    "    gui.ui_info_extraction()\n",
    "    gui.ui_analysis_elements_description()\n",
    "    gui.ui_element_block_tree()\n",
    "# gui.show_all_elements(only_leaves=False)\n",
    "# gui.show_each_element(only_leaves=False)"
   ]
  },
  {
   "cell_type": "code",
   "execution_count": 4,
   "id": "3a1c4b86",
   "metadata": {},
   "outputs": [
    {
     "data": {
      "text/plain": [
       "{'class': 'root',\n",
       " 'clickable': False,\n",
       " 'scrollable': False,\n",
       " 'id': 0,\n",
       " 'children': [{'class': '.view.ViewGroup',\n",
       "   'clickable': False,\n",
       "   'scrollable': False,\n",
       "   'id': 1,\n",
       "   'children': [{'resource-id': 'bbc.mobile.news.ww:id/toolbar',\n",
       "     'class': '.view.ViewGroup',\n",
       "     'clickable': False,\n",
       "     'scrollable': False,\n",
       "     'id': 2,\n",
       "     'children': [{'class': '.widget.ImageButton',\n",
       "       'clickable': True,\n",
       "       'id': 3,\n",
       "       'description': 'menu'},\n",
       "      {'resource-id': 'bbc.mobile.news.ww:id/logo',\n",
       "       'class': '.widget.ImageView',\n",
       "       'clickable': False,\n",
       "       'id': 4,\n",
       "       'description': 'BBC NEWS'},\n",
       "      {'resource-id': 'bbc.mobile.news.ww:id/action_search',\n",
       "       'class': '.widget.TextView',\n",
       "       'clickable': True,\n",
       "       'id': 5,\n",
       "       'description': 'Search'},\n",
       "      {'class': '.widget.ImageView',\n",
       "       'clickable': True,\n",
       "       'id': 6,\n",
       "       'description': 'More options'}]},\n",
       "    {'resource-id': 'bbc.mobile.news.ww:id/tab_layout',\n",
       "     'class': '.widget.HorizontalScrollView',\n",
       "     'clickable': False,\n",
       "     'scrollable': True,\n",
       "     'id': 7,\n",
       "     'children': [{'class': '.widget.TextView',\n",
       "       'clickable': False,\n",
       "       'id': 8,\n",
       "       'description': 'Top Stories'},\n",
       "      {'class': '.widget.TextView',\n",
       "       'clickable': True,\n",
       "       'id': 9,\n",
       "       'description': 'Video'},\n",
       "      {'class': '.widget.TextView',\n",
       "       'clickable': True,\n",
       "       'id': 10,\n",
       "       'description': 'My News'},\n",
       "      {'class': '.widget.TextView',\n",
       "       'clickable': True,\n",
       "       'id': 11,\n",
       "       'description': 'Popular'},\n",
       "      {'class': '.widget.LinearLayout',\n",
       "       'clickable': True,\n",
       "       'id': 12,\n",
       "       'description': 'LIVE'}]},\n",
       "    {'resource-id': 'bbc.mobile.news.ww:id/contentRecyclerView',\n",
       "     'class': 'x.recyclerview.widget.RecyclerView',\n",
       "     'clickable': False,\n",
       "     'scrollable': True,\n",
       "     'id': 13,\n",
       "     'children': [{'class': '.view.ViewGroup',\n",
       "       'clickable': True,\n",
       "       'scrollable': False,\n",
       "       'id': 14,\n",
       "       'children': [{'resource-id': 'bbc.mobile.news.ww:id/content_card_image',\n",
       "         'class': '.widget.ImageView',\n",
       "         'clickable': True,\n",
       "         'id': 15,\n",
       "         'description': 'close navigation drawer'},\n",
       "        {'resource-id': 'bbc.mobile.news.ww:id/content_card_title',\n",
       "         'class': '.widget.TextView',\n",
       "         'clickable': True,\n",
       "         'id': 16,\n",
       "         'description': 'Video shows moment Russian jet hits US drone'},\n",
       "        {'resource-id': 'bbc.mobile.news.ww:id/content_card_info',\n",
       "         'class': '.widget.TextView',\n",
       "         'clickable': True,\n",
       "         'id': 17,\n",
       "         'description': '2 hours ago'},\n",
       "        {'resource-id': 'bbc.mobile.news.ww:id/content_card_info_divider',\n",
       "         'class': '.widget.ImageView',\n",
       "         'clickable': True,\n",
       "         'id': 18,\n",
       "         'description': 'settings'},\n",
       "        {'resource-id': 'bbc.mobile.news.ww:id/content_card_link',\n",
       "         'class': '.widget.TextView',\n",
       "         'clickable': True,\n",
       "         'id': 19,\n",
       "         'description': 'Europe'}]},\n",
       "      {'resource-id': 'bbc.mobile.news.ww:id/layout_root',\n",
       "       'class': '.view.ViewGroup',\n",
       "       'clickable': False,\n",
       "       'scrollable': False,\n",
       "       'id': 20,\n",
       "       'children': [{'resource-id': 'bbc.mobile.news.ww:id/text_label',\n",
       "         'class': '.widget.TextView',\n",
       "         'clickable': False,\n",
       "         'id': 21,\n",
       "         'description': 'ADVERTISEMENT'},\n",
       "        {'class': '.webkit.WebView',\n",
       "         'clickable': False,\n",
       "         'scrollable': False,\n",
       "         'id': 22,\n",
       "         'children': [{'class': '.widget.TextView',\n",
       "           'clickable': False,\n",
       "           'id': 23,\n",
       "           'description': 'ANAARSLIVE ITELECTRICLEXUS LC HYBRIDFIND OUT MORELEXUS'},\n",
       "          {'resource-id': 'canvas',\n",
       "           'class': '.widget.Image',\n",
       "           'clickable': True,\n",
       "           'id': 24,\n",
       "           'description': 'ANAARSLIVE ITELECTRICLEXUS LC HYBRIDFIND OUT MORELEXUS'},\n",
       "          {'class': '.widget.TextView',\n",
       "           'clickable': False,\n",
       "           'id': 25,\n",
       "           'description': 'ANAARSLIVE ITELECTRICLEXUS LC HYBRIDFIND OUT MORELEXUS'},\n",
       "          {'class': '.view.View',\n",
       "           'clickable': False,\n",
       "           'children': [],\n",
       "           'id': 26,\n",
       "           'description': 'ANAARSLIVE ITELECTRICLEXUS LC HYBRIDFIND OUT MORELEXUS'}]}]},\n",
       "      {'class': '.view.ViewGroup',\n",
       "       'clickable': True,\n",
       "       'scrollable': False,\n",
       "       'id': 27,\n",
       "       'children': [{'resource-id': 'bbc.mobile.news.ww:id/content_card_image',\n",
       "         'class': '.widget.ImageView',\n",
       "         'clickable': True,\n",
       "         'id': 28,\n",
       "         'description': 'image click to expand'},\n",
       "        {'resource-id': 'bbc.mobile.news.ww:id/content_card_title',\n",
       "         'class': '.widget.TextView',\n",
       "         'clickable': True,\n",
       "         'id': 29,\n",
       "         'description': 'Macron to force pension reform without vote'}]}]}]},\n",
       "  {'resource-id': ':id/statusBarBackground',\n",
       "   'class': '.view.View',\n",
       "   'clickable': False,\n",
       "   'id': 30,\n",
       "   'description': '2:37'}]}"
      ]
     },
     "execution_count": 4,
     "metadata": {},
     "output_type": "execute_result"
    }
   ],
   "source": [
    "gui.element_tree"
   ]
  },
  {
   "cell_type": "code",
   "execution_count": 8,
   "id": "ee335c16",
   "metadata": {},
   "outputs": [
    {
     "name": "stdout",
     "output_type": "stream",
     "text": [
      "22\n",
      "android.widget.ImageButton\n",
      "{'NAF': True, 'text': '', 'resource-id': '', 'class': 'android.widget.ImageButton', 'package': 'bbc.mobile.news.ww', 'content-desc': '', 'checkable': False, 'checked': False, 'clickable': True, 'enabled': True, 'focusable': True, 'focused': False, 'scrollable': False, 'long-clickable': False, 'password': False, 'selected': False, 'bounds': [0, 66, 154, 220], 'id': 3, 'layer': 3, 'leaf-id': 0, 'ocr': '', 'caption': 'open navigation drawer', 'icon-cls': 'menu', 'description': 'menu'} \n",
      "\n"
     ]
    }
   ],
   "source": [
    "gui.show_each_element(only_leaves=True)"
   ]
  },
  {
   "cell_type": "code",
   "execution_count": null,
   "id": "14c71bed",
   "metadata": {},
   "outputs": [],
   "source": []
  },
  {
   "cell_type": "code",
   "execution_count": 4,
   "id": "260cab48",
   "metadata": {},
   "outputs": [],
   "source": [
    "from UIAuto import UIAuto\n",
    "uiauto = UIAuto(gui, 'gpt-3.5-turbo')"
   ]
  },
  {
   "cell_type": "code",
   "execution_count": 5,
   "id": "b7dc6844",
   "metadata": {},
   "outputs": [],
   "source": [
    "# uiauto.ai_chain_block('change display language', True)"
   ]
  },
  {
   "cell_type": "code",
   "execution_count": 6,
   "id": "9b37d31c",
   "metadata": {},
   "outputs": [
    {
     "name": "stdout",
     "output_type": "stream",
     "text": [
      "*** Asking ***\n",
      " [{'role': 'system', 'content': 'You are a mobile virtual assistant that understands and interacts with the user interface to complete given task.'}, {'role': 'user', 'content': 'This is a view hierarchy of a UI containing various UI blocks and elements.'}, {'role': 'user', 'content': \"{'class': 'root', 'clickable': False, 'scrollable': False, 'id': 0, 'children': [{'class': '.view.ViewGroup', 'clickable': False, 'scrollable': False, 'id': 1, 'children': [{'resource-id': 'bbc.mobile.news.ww:id/toolbar', 'class': '.view.ViewGroup', 'clickable': False, 'scrollable': False, 'id': 2, 'children': [{'class': '.widget.ImageButton', 'clickable': True, 'id': 3, 'description': 'menu'}, {'resource-id': 'bbc.mobile.news.ww:id/logo', 'class': '.widget.ImageView', 'clickable': False, 'id': 4, 'description': 'BBC NEWS'}, {'resource-id': 'bbc.mobile.news.ww:id/action_search', 'class': '.widget.TextView', 'clickable': True, 'id': 5, 'description': 'Search'}, {'class': '.widget.ImageView', 'clickable': True, 'id': 6, 'description': 'More options'}]}, {'resource-id': 'bbc.mobile.news.ww:id/tab_layout', 'class': '.widget.HorizontalScrollView', 'clickable': False, 'scrollable': True, 'id': 7, 'children': [{'class': '.widget.TextView', 'clickable': False, 'id': 8, 'description': 'Top Stories'}, {'class': '.widget.TextView', 'clickable': True, 'id': 9, 'description': 'Video'}, {'class': '.widget.TextView', 'clickable': True, 'id': 10, 'description': 'My News'}, {'class': '.widget.TextView', 'clickable': True, 'id': 11, 'description': 'Popular'}, {'class': '.widget.LinearLayout', 'clickable': True, 'id': 12, 'description': 'LIVE'}]}, {'resource-id': 'bbc.mobile.news.ww:id/contentRecyclerView', 'class': 'x.recyclerview.widget.RecyclerView', 'clickable': False, 'scrollable': True, 'id': 13, 'children': [{'class': '.view.ViewGroup', 'clickable': True, 'scrollable': False, 'id': 14, 'children': [{'resource-id': 'bbc.mobile.news.ww:id/content_card_image', 'class': '.widget.ImageView', 'clickable': True, 'id': 15, 'description': 'close navigation drawer'}, {'resource-id': 'bbc.mobile.news.ww:id/content_card_title', 'class': '.widget.TextView', 'clickable': True, 'id': 16, 'description': 'Video shows moment Russian jet hits US drone'}, {'resource-id': 'bbc.mobile.news.ww:id/content_card_info', 'class': '.widget.TextView', 'clickable': True, 'id': 17, 'description': '2 hours ago'}, {'resource-id': 'bbc.mobile.news.ww:id/content_card_info_divider', 'class': '.widget.ImageView', 'clickable': True, 'id': 18, 'description': 'settings'}, {'resource-id': 'bbc.mobile.news.ww:id/content_card_link', 'class': '.widget.TextView', 'clickable': True, 'id': 19, 'description': 'Europe'}]}, {'resource-id': 'bbc.mobile.news.ww:id/layout_root', 'class': '.view.ViewGroup', 'clickable': False, 'scrollable': False, 'id': 20, 'children': [{'resource-id': 'bbc.mobile.news.ww:id/text_label', 'class': '.widget.TextView', 'clickable': False, 'id': 21, 'description': 'ADVERTISEMENT'}, {'class': '.webkit.WebView', 'clickable': False, 'scrollable': False, 'id': 22, 'children': [{'class': '.widget.TextView', 'clickable': False, 'id': 23, 'description': 'ANAARSLIVE ITELECTRICLEXUS LC HYBRIDFIND OUT MORELEXUS'}, {'resource-id': 'canvas', 'class': '.widget.Image', 'clickable': True, 'id': 24, 'description': 'ANAARSLIVE ITELECTRICLEXUS LC HYBRIDFIND OUT MORELEXUS'}, {'class': '.widget.TextView', 'clickable': False, 'id': 25, 'description': 'ANAARSLIVE ITELECTRICLEXUS LC HYBRIDFIND OUT MORELEXUS'}, {'class': '.view.View', 'clickable': False, 'children': [], 'id': 26, 'description': 'ANAARSLIVE ITELECTRICLEXUS LC HYBRIDFIND OUT MORELEXUS'}]}]}, {'class': '.view.ViewGroup', 'clickable': True, 'scrollable': False, 'id': 27, 'children': [{'resource-id': 'bbc.mobile.news.ww:id/content_card_image', 'class': '.widget.ImageView', 'clickable': True, 'id': 28, 'description': 'image click to expand'}, {'resource-id': 'bbc.mobile.news.ww:id/content_card_title', 'class': '.widget.TextView', 'clickable': True, 'id': 29, 'description': 'Macron to force pension reform without vote'}]}]}]}, {'resource-id': ':id/statusBarBackground', 'class': '.view.View', 'clickable': False, 'id': 30, 'description': '2:37'}]}\"}, {'role': 'user', 'content': 'I will ask you questions and tasks based on this'}, {'role': 'user', 'content': 'Is this UI directly related to the task \"change the display language\"?'}, {'role': 'user', 'content': 'If yes, answer \"Yes\" and the related Element id, for example, \"Yes, Element id: 2\". Otherwise, answer \"No\"'}]\n",
      "\n",
      "*** Answer ***\n",
      " {\n",
      "  \"content\": \"No\",\n",
      "  \"role\": \"assistant\"\n",
      "} \n",
      "\n"
     ]
    }
   ],
   "source": [
    "uiauto.check_direct_ui_relevance('change the display language', True)"
   ]
  },
  {
   "cell_type": "code",
   "execution_count": 7,
   "id": "bdbb4b8d",
   "metadata": {},
   "outputs": [
    {
     "name": "stdout",
     "output_type": "stream",
     "text": [
      "*** Asking ***\n",
      " [{'role': 'system', 'content': 'You are a mobile virtual assistant that understands and interacts with the user interface to complete given task.'}, {'role': 'user', 'content': 'This is a view hierarchy of a UI containing various UI blocks and elements.'}, {'role': 'user', 'content': \"{'class': 'root', 'clickable': False, 'scrollable': False, 'id': 0, 'children': [{'class': '.view.ViewGroup', 'clickable': False, 'scrollable': False, 'id': 1, 'children': [{'resource-id': 'bbc.mobile.news.ww:id/toolbar', 'class': '.view.ViewGroup', 'clickable': False, 'scrollable': False, 'id': 2, 'children': [{'class': '.widget.ImageButton', 'clickable': True, 'id': 3, 'description': 'menu'}, {'resource-id': 'bbc.mobile.news.ww:id/logo', 'class': '.widget.ImageView', 'clickable': False, 'id': 4, 'description': 'BBC NEWS'}, {'resource-id': 'bbc.mobile.news.ww:id/action_search', 'class': '.widget.TextView', 'clickable': True, 'id': 5, 'description': 'Search'}, {'class': '.widget.ImageView', 'clickable': True, 'id': 6, 'description': 'More options'}]}, {'resource-id': 'bbc.mobile.news.ww:id/tab_layout', 'class': '.widget.HorizontalScrollView', 'clickable': False, 'scrollable': True, 'id': 7, 'children': [{'class': '.widget.TextView', 'clickable': False, 'id': 8, 'description': 'Top Stories'}, {'class': '.widget.TextView', 'clickable': True, 'id': 9, 'description': 'Video'}, {'class': '.widget.TextView', 'clickable': True, 'id': 10, 'description': 'My News'}, {'class': '.widget.TextView', 'clickable': True, 'id': 11, 'description': 'Popular'}, {'class': '.widget.LinearLayout', 'clickable': True, 'id': 12, 'description': 'LIVE'}]}, {'resource-id': 'bbc.mobile.news.ww:id/contentRecyclerView', 'class': 'x.recyclerview.widget.RecyclerView', 'clickable': False, 'scrollable': True, 'id': 13, 'children': [{'class': '.view.ViewGroup', 'clickable': True, 'scrollable': False, 'id': 14, 'children': [{'resource-id': 'bbc.mobile.news.ww:id/content_card_image', 'class': '.widget.ImageView', 'clickable': True, 'id': 15, 'description': 'close navigation drawer'}, {'resource-id': 'bbc.mobile.news.ww:id/content_card_title', 'class': '.widget.TextView', 'clickable': True, 'id': 16, 'description': 'Video shows moment Russian jet hits US drone'}, {'resource-id': 'bbc.mobile.news.ww:id/content_card_info', 'class': '.widget.TextView', 'clickable': True, 'id': 17, 'description': '2 hours ago'}, {'resource-id': 'bbc.mobile.news.ww:id/content_card_info_divider', 'class': '.widget.ImageView', 'clickable': True, 'id': 18, 'description': 'settings'}, {'resource-id': 'bbc.mobile.news.ww:id/content_card_link', 'class': '.widget.TextView', 'clickable': True, 'id': 19, 'description': 'Europe'}]}, {'resource-id': 'bbc.mobile.news.ww:id/layout_root', 'class': '.view.ViewGroup', 'clickable': False, 'scrollable': False, 'id': 20, 'children': [{'resource-id': 'bbc.mobile.news.ww:id/text_label', 'class': '.widget.TextView', 'clickable': False, 'id': 21, 'description': 'ADVERTISEMENT'}, {'class': '.webkit.WebView', 'clickable': False, 'scrollable': False, 'id': 22, 'children': [{'class': '.widget.TextView', 'clickable': False, 'id': 23, 'description': 'ANAARSLIVE ITELECTRICLEXUS LC HYBRIDFIND OUT MORELEXUS'}, {'resource-id': 'canvas', 'class': '.widget.Image', 'clickable': True, 'id': 24, 'description': 'ANAARSLIVE ITELECTRICLEXUS LC HYBRIDFIND OUT MORELEXUS'}, {'class': '.widget.TextView', 'clickable': False, 'id': 25, 'description': 'ANAARSLIVE ITELECTRICLEXUS LC HYBRIDFIND OUT MORELEXUS'}, {'class': '.view.View', 'clickable': False, 'children': [], 'id': 26, 'description': 'ANAARSLIVE ITELECTRICLEXUS LC HYBRIDFIND OUT MORELEXUS'}]}]}, {'class': '.view.ViewGroup', 'clickable': True, 'scrollable': False, 'id': 27, 'children': [{'resource-id': 'bbc.mobile.news.ww:id/content_card_image', 'class': '.widget.ImageView', 'clickable': True, 'id': 28, 'description': 'image click to expand'}, {'resource-id': 'bbc.mobile.news.ww:id/content_card_title', 'class': '.widget.TextView', 'clickable': True, 'id': 29, 'description': 'Macron to force pension reform without vote'}]}]}]}, {'resource-id': ':id/statusBarBackground', 'class': '.view.View', 'clickable': False, 'id': 30, 'description': '2:37'}]}\"}, {'role': 'user', 'content': 'I will ask you questions and tasks based on this'}, {'role': 'user', 'content': 'Is this UI directly related to the task \"change the display language\"?'}, {'role': 'user', 'content': 'If yes, answer \"Yes\" and the related Element id, for example, \"Yes, Element id: 2\". Otherwise, answer \"No\"'}, {'role': 'assistant', 'content': 'No'}, {'role': 'user', 'content': 'The task \"change the display language\" may take multiple steps to complete. Is there any UI elements that can direct to the related UI to complete the task?'}, {'role': 'user', 'content': 'If yes, answer \"Yes\" and the related Element id, for example, \"Yes, Element id: 2\". Otherwise, answer \"No\"'}]\n",
      "\n",
      "*** Answer ***\n",
      " {\n",
      "  \"content\": \"Yes, Element id: 3\",\n",
      "  \"role\": \"assistant\"\n",
      "} \n",
      "\n"
     ]
    }
   ],
   "source": [
    "uiauto.check_indirect_ui_relevance('change the display language', True)"
   ]
  },
  {
   "cell_type": "code",
   "execution_count": 9,
   "id": "080634ab",
   "metadata": {},
   "outputs": [
    {
     "name": "stdout",
     "output_type": "stream",
     "text": [
      "*** Asking ***\n",
      " [{'role': 'system', 'content': 'You are a mobile virtual assistant that understands and interacts with the user interface to complete given task.'}, {'role': 'user', 'content': 'This is a view hierarchy of a UI containing various UI blocks and elements.'}, {'role': 'user', 'content': \"{'class': 'root', 'clickable': False, 'scrollable': False, 'id': 0, 'children': [{'class': '.view.ViewGroup', 'clickable': False, 'scrollable': False, 'id': 1, 'children': [{'resource-id': 'bbc.mobile.news.ww:id/toolbar', 'class': '.view.ViewGroup', 'clickable': False, 'scrollable': False, 'id': 2, 'children': [{'class': '.widget.ImageButton', 'clickable': True, 'id': 3, 'description': 'menu'}, {'resource-id': 'bbc.mobile.news.ww:id/logo', 'class': '.widget.ImageView', 'clickable': False, 'id': 4, 'description': 'BBC NEWS'}, {'resource-id': 'bbc.mobile.news.ww:id/action_search', 'class': '.widget.TextView', 'clickable': True, 'id': 5, 'description': 'Search'}, {'class': '.widget.ImageView', 'clickable': True, 'id': 6, 'description': 'More options'}]}, {'resource-id': 'bbc.mobile.news.ww:id/tab_layout', 'class': '.widget.HorizontalScrollView', 'clickable': False, 'scrollable': True, 'id': 7, 'children': [{'class': '.widget.TextView', 'clickable': False, 'id': 8, 'description': 'Top Stories'}, {'class': '.widget.TextView', 'clickable': True, 'id': 9, 'description': 'Video'}, {'class': '.widget.TextView', 'clickable': True, 'id': 10, 'description': 'My News'}, {'class': '.widget.TextView', 'clickable': True, 'id': 11, 'description': 'Popular'}, {'class': '.widget.LinearLayout', 'clickable': True, 'id': 12, 'description': 'LIVE'}]}, {'resource-id': 'bbc.mobile.news.ww:id/contentRecyclerView', 'class': 'x.recyclerview.widget.RecyclerView', 'clickable': False, 'scrollable': True, 'id': 13, 'children': [{'class': '.view.ViewGroup', 'clickable': True, 'scrollable': False, 'id': 14, 'children': [{'resource-id': 'bbc.mobile.news.ww:id/content_card_image', 'class': '.widget.ImageView', 'clickable': True, 'id': 15, 'description': 'close navigation drawer'}, {'resource-id': 'bbc.mobile.news.ww:id/content_card_title', 'class': '.widget.TextView', 'clickable': True, 'id': 16, 'description': 'Video shows moment Russian jet hits US drone'}, {'resource-id': 'bbc.mobile.news.ww:id/content_card_info', 'class': '.widget.TextView', 'clickable': True, 'id': 17, 'description': '2 hours ago'}, {'resource-id': 'bbc.mobile.news.ww:id/content_card_info_divider', 'class': '.widget.ImageView', 'clickable': True, 'id': 18, 'description': 'settings'}, {'resource-id': 'bbc.mobile.news.ww:id/content_card_link', 'class': '.widget.TextView', 'clickable': True, 'id': 19, 'description': 'Europe'}]}, {'resource-id': 'bbc.mobile.news.ww:id/layout_root', 'class': '.view.ViewGroup', 'clickable': False, 'scrollable': False, 'id': 20, 'children': [{'resource-id': 'bbc.mobile.news.ww:id/text_label', 'class': '.widget.TextView', 'clickable': False, 'id': 21, 'description': 'ADVERTISEMENT'}, {'class': '.webkit.WebView', 'clickable': False, 'scrollable': False, 'id': 22, 'children': [{'class': '.widget.TextView', 'clickable': False, 'id': 23, 'description': 'ANAARSLIVE ITELECTRICLEXUS LC HYBRIDFIND OUT MORELEXUS'}, {'resource-id': 'canvas', 'class': '.widget.Image', 'clickable': True, 'id': 24, 'description': 'ANAARSLIVE ITELECTRICLEXUS LC HYBRIDFIND OUT MORELEXUS'}, {'class': '.widget.TextView', 'clickable': False, 'id': 25, 'description': 'ANAARSLIVE ITELECTRICLEXUS LC HYBRIDFIND OUT MORELEXUS'}, {'class': '.view.View', 'clickable': False, 'children': [], 'id': 26, 'description': 'ANAARSLIVE ITELECTRICLEXUS LC HYBRIDFIND OUT MORELEXUS'}]}]}, {'class': '.view.ViewGroup', 'clickable': True, 'scrollable': False, 'id': 27, 'children': [{'resource-id': 'bbc.mobile.news.ww:id/content_card_image', 'class': '.widget.ImageView', 'clickable': True, 'id': 28, 'description': 'image click to expand'}, {'resource-id': 'bbc.mobile.news.ww:id/content_card_title', 'class': '.widget.TextView', 'clickable': True, 'id': 29, 'description': 'Macron to force pension reform without vote'}]}]}]}, {'resource-id': ':id/statusBarBackground', 'class': '.view.View', 'clickable': False, 'id': 30, 'description': '2:37'}]}\"}, {'role': 'user', 'content': 'I will ask you questions and tasks based on this'}, {'role': 'user', 'content': 'Is this UI directly related to the task \"change the display language\"?'}, {'role': 'user', 'content': 'If yes, answer \"Yes\" and the related Element id, for example, \"Yes, Element id: 2\". Otherwise, answer \"No\"'}, {'role': 'assistant', 'content': 'No'}, {'role': 'user', 'content': 'The task \"change the display language\" may take multiple steps to complete. Is there any UI elements that can direct to the related UI to complete the task?'}, {'role': 'user', 'content': 'If yes, answer \"Yes\" and the related Element id, for example, \"Yes, Element id: 2\". Otherwise, answer \"No\"'}, {'role': 'assistant', 'content': 'Yes, Element id: 3'}, {'role': 'user', 'content': 'Element 3can not direct to the related UI. Answer the last question again.'}, {'role': 'assistant', 'content': 'No'}, {'role': 'user', 'content': 'Element 3can not direct to the related UI. Answer the last question again.'}]\n",
      "\n",
      "*** Answer ***\n",
      " {\n",
      "  \"content\": \"Apologies for the incorrect response. Upon further review:\\n\\nNo\",\n",
      "  \"role\": \"assistant\"\n",
      "} \n",
      "\n"
     ]
    }
   ],
   "source": [
    "uiauto.incorrect_element(3, True)"
   ]
  },
  {
   "cell_type": "code",
   "execution_count": 10,
   "id": "47aea355",
   "metadata": {},
   "outputs": [],
   "source": [
    "import json"
   ]
  },
  {
   "cell_type": "code",
   "execution_count": 12,
   "id": "5a80ed83",
   "metadata": {},
   "outputs": [
    {
     "name": "stdout",
     "output_type": "stream",
     "text": [
      "[\n",
      "  {\n",
      "    \"role\": \"system\",\n",
      "    \"content\": \"You are a mobile virtual assistant that understands and interacts with the user interface to complete given task.\"\n",
      "  },\n",
      "  {\n",
      "    \"role\": \"user\",\n",
      "    \"content\": \"This is a view hierarchy of a UI containing various UI blocks and elements.\"\n",
      "  },\n",
      "  {\n",
      "    \"role\": \"user\",\n",
      "    \"content\": \"{'class': 'root', 'clickable': False, 'scrollable': False, 'id': 0, 'children': [{'class': '.view.ViewGroup', 'clickable': False, 'scrollable': False, 'id': 1, 'children': [{'resource-id': 'bbc.mobile.news.ww:id/toolbar', 'class': '.view.ViewGroup', 'clickable': False, 'scrollable': False, 'id': 2, 'children': [{'class': '.widget.ImageButton', 'clickable': True, 'id': 3, 'description': 'menu'}, {'resource-id': 'bbc.mobile.news.ww:id/logo', 'class': '.widget.ImageView', 'clickable': False, 'id': 4, 'description': 'BBC NEWS'}, {'resource-id': 'bbc.mobile.news.ww:id/action_search', 'class': '.widget.TextView', 'clickable': True, 'id': 5, 'description': 'Search'}, {'class': '.widget.ImageView', 'clickable': True, 'id': 6, 'description': 'More options'}]}, {'resource-id': 'bbc.mobile.news.ww:id/tab_layout', 'class': '.widget.HorizontalScrollView', 'clickable': False, 'scrollable': True, 'id': 7, 'children': [{'class': '.widget.TextView', 'clickable': False, 'id': 8, 'description': 'Top Stories'}, {'class': '.widget.TextView', 'clickable': True, 'id': 9, 'description': 'Video'}, {'class': '.widget.TextView', 'clickable': True, 'id': 10, 'description': 'My News'}, {'class': '.widget.TextView', 'clickable': True, 'id': 11, 'description': 'Popular'}, {'class': '.widget.LinearLayout', 'clickable': True, 'id': 12, 'description': 'LIVE'}]}, {'resource-id': 'bbc.mobile.news.ww:id/contentRecyclerView', 'class': 'x.recyclerview.widget.RecyclerView', 'clickable': False, 'scrollable': True, 'id': 13, 'children': [{'class': '.view.ViewGroup', 'clickable': True, 'scrollable': False, 'id': 14, 'children': [{'resource-id': 'bbc.mobile.news.ww:id/content_card_image', 'class': '.widget.ImageView', 'clickable': True, 'id': 15, 'description': 'close navigation drawer'}, {'resource-id': 'bbc.mobile.news.ww:id/content_card_title', 'class': '.widget.TextView', 'clickable': True, 'id': 16, 'description': 'Video shows moment Russian jet hits US drone'}, {'resource-id': 'bbc.mobile.news.ww:id/content_card_info', 'class': '.widget.TextView', 'clickable': True, 'id': 17, 'description': '2 hours ago'}, {'resource-id': 'bbc.mobile.news.ww:id/content_card_info_divider', 'class': '.widget.ImageView', 'clickable': True, 'id': 18, 'description': 'settings'}, {'resource-id': 'bbc.mobile.news.ww:id/content_card_link', 'class': '.widget.TextView', 'clickable': True, 'id': 19, 'description': 'Europe'}]}, {'resource-id': 'bbc.mobile.news.ww:id/layout_root', 'class': '.view.ViewGroup', 'clickable': False, 'scrollable': False, 'id': 20, 'children': [{'resource-id': 'bbc.mobile.news.ww:id/text_label', 'class': '.widget.TextView', 'clickable': False, 'id': 21, 'description': 'ADVERTISEMENT'}, {'class': '.webkit.WebView', 'clickable': False, 'scrollable': False, 'id': 22, 'children': [{'class': '.widget.TextView', 'clickable': False, 'id': 23, 'description': 'ANAARSLIVE ITELECTRICLEXUS LC HYBRIDFIND OUT MORELEXUS'}, {'resource-id': 'canvas', 'class': '.widget.Image', 'clickable': True, 'id': 24, 'description': 'ANAARSLIVE ITELECTRICLEXUS LC HYBRIDFIND OUT MORELEXUS'}, {'class': '.widget.TextView', 'clickable': False, 'id': 25, 'description': 'ANAARSLIVE ITELECTRICLEXUS LC HYBRIDFIND OUT MORELEXUS'}, {'class': '.view.View', 'clickable': False, 'children': [], 'id': 26, 'description': 'ANAARSLIVE ITELECTRICLEXUS LC HYBRIDFIND OUT MORELEXUS'}]}]}, {'class': '.view.ViewGroup', 'clickable': True, 'scrollable': False, 'id': 27, 'children': [{'resource-id': 'bbc.mobile.news.ww:id/content_card_image', 'class': '.widget.ImageView', 'clickable': True, 'id': 28, 'description': 'image click to expand'}, {'resource-id': 'bbc.mobile.news.ww:id/content_card_title', 'class': '.widget.TextView', 'clickable': True, 'id': 29, 'description': 'Macron to force pension reform without vote'}]}]}]}, {'resource-id': ':id/statusBarBackground', 'class': '.view.View', 'clickable': False, 'id': 30, 'description': '2:37'}]}\"\n",
      "  },\n",
      "  {\n",
      "    \"role\": \"user\",\n",
      "    \"content\": \"I will ask you questions and tasks based on this\"\n",
      "  },\n",
      "  {\n",
      "    \"role\": \"user\",\n",
      "    \"content\": \"Is this UI directly related to the task \\\"change the display language\\\"?\"\n",
      "  },\n",
      "  {\n",
      "    \"role\": \"user\",\n",
      "    \"content\": \"If yes, answer \\\"Yes\\\" and the related Element id, for example, \\\"Yes, Element id: 2\\\". Otherwise, answer \\\"No\\\"\"\n",
      "  },\n",
      "  {\n",
      "    \"role\": \"assistant\",\n",
      "    \"content\": \"No\"\n",
      "  },\n",
      "  {\n",
      "    \"role\": \"user\",\n",
      "    \"content\": \"The task \\\"change the display language\\\" may take multiple steps to complete. Is there any UI elements that can direct to the related UI to complete the task?\"\n",
      "  },\n",
      "  {\n",
      "    \"role\": \"user\",\n",
      "    \"content\": \"If yes, answer \\\"Yes\\\" and the related Element id, for example, \\\"Yes, Element id: 2\\\". Otherwise, answer \\\"No\\\"\"\n",
      "  },\n",
      "  {\n",
      "    \"role\": \"assistant\",\n",
      "    \"content\": \"Yes, Element id: 3\"\n",
      "  },\n",
      "  {\n",
      "    \"role\": \"user\",\n",
      "    \"content\": \"Element 3can not direct to the related UI. Answer the last question again.\"\n",
      "  },\n",
      "  {\n",
      "    \"role\": \"assistant\",\n",
      "    \"content\": \"No\"\n",
      "  },\n",
      "  {\n",
      "    \"role\": \"user\",\n",
      "    \"content\": \"Element 3can not direct to the related UI. Answer the last question again.\"\n",
      "  },\n",
      "  {\n",
      "    \"role\": \"assistant\",\n",
      "    \"content\": \"Apologies for the incorrect response. Upon further review:\\n\\nNo\"\n",
      "  }\n",
      "]\n"
     ]
    }
   ],
   "source": [
    "print(json.dumps(uiauto.conversation, indent=2))"
   ]
  },
  {
   "cell_type": "code",
   "execution_count": null,
   "id": "1b6ccfc5",
   "metadata": {},
   "outputs": [],
   "source": []
  }
 ],
 "metadata": {
  "kernelspec": {
   "display_name": "Python 3 (ipykernel)",
   "language": "python",
   "name": "python3"
  },
  "language_info": {
   "codemirror_mode": {
    "name": "ipython",
    "version": 3
   },
   "file_extension": ".py",
   "mimetype": "text/x-python",
   "name": "python",
   "nbconvert_exporter": "python",
   "pygments_lexer": "ipython3",
   "version": "3.10.10"
  }
 },
 "nbformat": 4,
 "nbformat_minor": 5
}
