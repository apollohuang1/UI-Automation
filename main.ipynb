{
 "cells": [
  {
   "cell_type": "code",
   "execution_count": 1,
   "id": "b782918f",
   "metadata": {},
   "outputs": [
    {
     "name": "stderr",
     "output_type": "stream",
     "text": [
      "C:\\Users\\xie029\\AppData\\Local\\Programs\\Python\\Python310\\lib\\site-packages\\tqdm\\auto.py:22: TqdmWarning: IProgress not found. Please update jupyter and ipywidgets. See https://ipywidgets.readthedocs.io/en/stable/user_install.html\n",
      "  from .autonotebook import tqdm as notebook_tqdm\n"
     ]
    }
   ],
   "source": [
    "from Automator import Automator"
   ]
  },
  {
   "cell_type": "code",
   "execution_count": 2,
   "id": "6d5812d9",
   "metadata": {},
   "outputs": [
    {
     "name": "stdout",
     "output_type": "stream",
     "text": [
      "=== Device Loaded ===\n"
     ]
    }
   ],
   "source": [
    "auto = Automator('twitter', 1)"
   ]
  },
  {
   "cell_type": "code",
   "execution_count": 9,
   "id": "39afc0a6",
   "metadata": {},
   "outputs": [
    {
     "name": "stdout",
     "output_type": "stream",
     "text": [
      "\n",
      "=== Load and analyzed UI info ===\n"
     ]
    },
    {
     "ename": "error",
     "evalue": "OpenCV(4.6.0) D:\\a\\opencv-python\\opencv-python\\opencv\\modules\\imgproc\\src\\resize.cpp:4052: error: (-215:Assertion failed) !ssize.empty() in function 'cv::resize'\n",
     "output_type": "error",
     "traceback": [
      "\u001b[1;31m---------------------------------------------------------------------------\u001b[0m",
      "\u001b[1;31merror\u001b[0m                                     Traceback (most recent call last)",
      "Cell \u001b[1;32mIn[9], line 1\u001b[0m\n\u001b[1;32m----> 1\u001b[0m \u001b[43mauto\u001b[49m\u001b[38;5;241;43m.\u001b[39;49m\u001b[43mauto_task_on_gui\u001b[49m\u001b[43m(\u001b[49m\u001b[38;5;124;43m'\u001b[39;49m\u001b[38;5;124;43mChange the display language\u001b[39;49m\u001b[38;5;124;43m'\u001b[39;49m\u001b[43m,\u001b[49m\u001b[43m \u001b[49m\u001b[43mshow_action\u001b[49m\u001b[38;5;241;43m=\u001b[39;49m\u001b[38;5;28;43;01mTrue\u001b[39;49;00m\u001b[43m,\u001b[49m\u001b[43m \u001b[49m\u001b[43mai_chain_model\u001b[49m\u001b[38;5;241;43m=\u001b[39;49m\u001b[38;5;124;43m'\u001b[39;49m\u001b[38;5;124;43mgpt-4\u001b[39;49m\u001b[38;5;124;43m'\u001b[39;49m\u001b[43m,\u001b[49m\u001b[43m \u001b[49m\u001b[43mload_gui_data\u001b[49m\u001b[38;5;241;43m=\u001b[39;49m\u001b[38;5;28;43;01mTrue\u001b[39;49;00m\u001b[43m,\u001b[49m\u001b[43m \u001b[49m\u001b[43mgui_no\u001b[49m\u001b[38;5;241;43m=\u001b[39;49m\u001b[38;5;241;43m1\u001b[39;49m\u001b[43m)\u001b[49m\n",
      "File \u001b[1;32mC:\\Mulong\\Code\\UI-Automation\\Automator.py:50\u001b[0m, in \u001b[0;36mauto_task_on_gui\u001b[1;34m(self, task, load_gui_data, gui_no, show_gui_ele, ai_chain_model, printlog, show_action)\u001b[0m\n\u001b[0;32m     46\u001b[0m \u001b[38;5;28mprint\u001b[39m(\u001b[38;5;124m'\u001b[39m\u001b[38;5;130;01m\\n\u001b[39;00m\u001b[38;5;124m=== Load and analyzed UI info ===\u001b[39m\u001b[38;5;124m'\u001b[39m)\n\u001b[0;32m     47\u001b[0m \u001b[38;5;28mself\u001b[39m\u001b[38;5;241m.\u001b[39mdevice\u001b[38;5;241m.\u001b[39minit_file_path_by_gui_no(gui_no)\n\u001b[0;32m     48\u001b[0m gui \u001b[38;5;241m=\u001b[39m GUIData(gui_img_file\u001b[38;5;241m=\u001b[39m\u001b[38;5;28mself\u001b[39m\u001b[38;5;241m.\u001b[39mdevice\u001b[38;5;241m.\u001b[39moutput_file_path_screenshot,\n\u001b[0;32m     49\u001b[0m               gui_json_file\u001b[38;5;241m=\u001b[39m\u001b[38;5;28mself\u001b[39m\u001b[38;5;241m.\u001b[39mdevice\u001b[38;5;241m.\u001b[39moutput_file_path_json,\n\u001b[1;32m---> 50\u001b[0m               output_file_root\u001b[38;5;241m=\u001b[39m\u001b[38;5;28mself\u001b[39m\u001b[38;5;241m.\u001b[39mdevice\u001b[38;5;241m.\u001b[39mtestcase_save_dir)\n\u001b[0;32m     51\u001b[0m gui\u001b[38;5;241m.\u001b[39mload_elements()\n\u001b[0;32m     52\u001b[0m \u001b[38;5;28;01mif\u001b[39;00m show:\n",
      "File \u001b[1;32mC:\\Mulong\\Code\\UI-Automation\\Automator.py:31\u001b[0m, in \u001b[0;36mload_gui_data\u001b[1;34m(self, gui_no, show)\u001b[0m\n\u001b[0;32m     25\u001b[0m     \u001b[38;5;28mself\u001b[39m\u001b[38;5;241m.\u001b[39mdevice \u001b[38;5;241m=\u001b[39m Device(client\u001b[38;5;241m.\u001b[39mdevices()[\u001b[38;5;241m0\u001b[39m], app_name\u001b[38;5;241m=\u001b[39m\u001b[38;5;28mself\u001b[39m\u001b[38;5;241m.\u001b[39mapp_name, test_case_no\u001b[38;5;241m=\u001b[39m\u001b[38;5;28mself\u001b[39m\u001b[38;5;241m.\u001b[39mtest_case_no)\n\u001b[0;32m     26\u001b[0m     \u001b[38;5;28mprint\u001b[39m(\u001b[38;5;124m'\u001b[39m\u001b[38;5;124m=== Device Loaded ===\u001b[39m\u001b[38;5;124m'\u001b[39m)\n\u001b[0;32m     28\u001b[0m \u001b[38;5;250m\u001b[39m\u001b[38;5;124;03m'''\u001b[39;00m\n\u001b[0;32m     29\u001b[0m \u001b[38;5;124;03m******************************\u001b[39;00m\n\u001b[0;32m     30\u001b[0m \u001b[38;5;124;03m*** Auto the Task on a GUI ***\u001b[39;00m\n\u001b[1;32m---> 31\u001b[0m \u001b[38;5;124;03m******************************\u001b[39;00m\n\u001b[0;32m     32\u001b[0m \u001b[38;5;124;03m'''\u001b[39;00m\n\u001b[0;32m     33\u001b[0m \u001b[38;5;28;01mdef\u001b[39;00m \u001b[38;5;21mauto_task_on_gui\u001b[39m(\u001b[38;5;28mself\u001b[39m, task, load_gui_data\u001b[38;5;241m=\u001b[39m\u001b[38;5;28;01mFalse\u001b[39;00m, gui_no\u001b[38;5;241m=\u001b[39m\u001b[38;5;241m0\u001b[39m,\n\u001b[0;32m     34\u001b[0m                      show_gui_ele\u001b[38;5;241m=\u001b[39m\u001b[38;5;28;01mFalse\u001b[39;00m, ai_chain_model\u001b[38;5;241m=\u001b[39m\u001b[38;5;124m'\u001b[39m\u001b[38;5;124mgpt-3.5-turbo\u001b[39m\u001b[38;5;124m'\u001b[39m, printlog\u001b[38;5;241m=\u001b[39m\u001b[38;5;28;01mFalse\u001b[39;00m, show_action\u001b[38;5;241m=\u001b[39m\u001b[38;5;28;01mFalse\u001b[39;00m):\n\u001b[0;32m     35\u001b[0m     \u001b[38;5;28;01mif\u001b[39;00m \u001b[38;5;129;01mnot\u001b[39;00m load_gui_data:\n",
      "File \u001b[1;32mC:\\Mulong\\Code\\UI-Automation\\GUIData.py:23\u001b[0m, in \u001b[0;36mGUIData.__init__\u001b[1;34m(self, gui_img_file, gui_json_file, output_file_root)\u001b[0m\n\u001b[0;32m     20\u001b[0m \u001b[38;5;28mself\u001b[39m\u001b[38;5;241m.\u001b[39mjson_file \u001b[38;5;241m=\u001b[39m gui_json_file\n\u001b[0;32m     21\u001b[0m \u001b[38;5;28mself\u001b[39m\u001b[38;5;241m.\u001b[39mgui_no \u001b[38;5;241m=\u001b[39m gui_img_file\u001b[38;5;241m.\u001b[39mreplace(\u001b[38;5;124m'\u001b[39m\u001b[38;5;124m/\u001b[39m\u001b[38;5;124m'\u001b[39m, \u001b[38;5;124m'\u001b[39m\u001b[38;5;130;01m\\\\\u001b[39;00m\u001b[38;5;124m'\u001b[39m)\u001b[38;5;241m.\u001b[39msplit(\u001b[38;5;124m'\u001b[39m\u001b[38;5;130;01m\\\\\u001b[39;00m\u001b[38;5;124m'\u001b[39m)[\u001b[38;5;241m-\u001b[39m\u001b[38;5;241m1\u001b[39m]\u001b[38;5;241m.\u001b[39msplit(\u001b[38;5;124m'\u001b[39m\u001b[38;5;124m.\u001b[39m\u001b[38;5;124m'\u001b[39m)[\u001b[38;5;241m0\u001b[39m]\n\u001b[1;32m---> 23\u001b[0m \u001b[38;5;28mself\u001b[39m\u001b[38;5;241m.\u001b[39mimg \u001b[38;5;241m=\u001b[39m \u001b[43mcv2\u001b[49m\u001b[38;5;241;43m.\u001b[39;49m\u001b[43mresize\u001b[49m\u001b[43m(\u001b[49m\u001b[43mcv2\u001b[49m\u001b[38;5;241;43m.\u001b[39;49m\u001b[43mimread\u001b[49m\u001b[43m(\u001b[49m\u001b[43mgui_img_file\u001b[49m\u001b[43m)\u001b[49m\u001b[43m,\u001b[49m\u001b[43m \u001b[49m\u001b[43m(\u001b[49m\u001b[38;5;241;43m1080\u001b[39;49m\u001b[43m,\u001b[49m\u001b[43m \u001b[49m\u001b[38;5;241;43m2280\u001b[39;49m\u001b[43m)\u001b[49m\u001b[43m)\u001b[49m      \u001b[38;5;66;03m# resize the image to be consistent with the vh\u001b[39;00m\n\u001b[0;32m     24\u001b[0m \u001b[38;5;28mself\u001b[39m\u001b[38;5;241m.\u001b[39mjson \u001b[38;5;241m=\u001b[39m json\u001b[38;5;241m.\u001b[39mload(\u001b[38;5;28mopen\u001b[39m(gui_json_file, \u001b[38;5;124m'\u001b[39m\u001b[38;5;124mr\u001b[39m\u001b[38;5;124m'\u001b[39m, encoding\u001b[38;5;241m=\u001b[39m\u001b[38;5;124m'\u001b[39m\u001b[38;5;124mutf-8\u001b[39m\u001b[38;5;124m'\u001b[39m))  \u001b[38;5;66;03m# json data, the view hierarchy of the GUI\u001b[39;00m\n\u001b[0;32m     26\u001b[0m \u001b[38;5;28mself\u001b[39m\u001b[38;5;241m.\u001b[39melement_id \u001b[38;5;241m=\u001b[39m \u001b[38;5;241m0\u001b[39m\n",
      "\u001b[1;31merror\u001b[0m: OpenCV(4.6.0) D:\\a\\opencv-python\\opencv-python\\opencv\\modules\\imgproc\\src\\resize.cpp:4052: error: (-215:Assertion failed) !ssize.empty() in function 'cv::resize'\n"
     ]
    }
   ],
   "source": [
    "auto.auto_task_on_gui('Change the display language', show_action=True, ai_chain_model='gpt-4', load_gui_data=True, gui_no=1)"
   ]
  },
  {
   "cell_type": "code",
   "execution_count": 7,
   "id": "de0ca044",
   "metadata": {},
   "outputs": [
    {
     "data": {
      "text/plain": [
       "[{'role': 'system',\n",
       "  'content': 'You are a mobile virtual assistant that understands and interacts with the user interface to complete given task.'},\n",
       " {'role': 'user',\n",
       "  'content': 'This is a view hierarchy of a UI containing various UI blocks and elements.'},\n",
       " {'role': 'user',\n",
       "  'content': '{\\'class\\': \\'root\\', \\'clickable\\': False, \\'scrollable\\': False, \\'id\\': 0, \\'children\\': [{\\'resource-id\\': \\'.twitter:id/root_coordinator_layout\\', \\'class\\': \\'.widget.ScrollView\\', \\'clickable\\': False, \\'scrollable\\': True, \\'id\\': 1, \\'children\\': [{\\'resource-id\\': \\'.twitter:id/toolbar\\', \\'class\\': \\'.view.ViewGroup\\', \\'clickable\\': True, \\'scrollable\\': False, \\'id\\': 2, \\'children\\': [{\\'class\\': \\'.widget.ImageButton\\', \\'clickable\\': True, \\'id\\': 3, \\'description\\': \\'Show navigation drawer\\'}, {\\'resource-id\\': \\'.twitter:id/logo\\', \\'class\\': \\'.widget.ImageView\\', \\'clickable\\': True, \\'id\\': 4, \\'description\\': \\'twitter\\'}]}, {\\'resource-id\\': \\'.twitter:id/view_pager\\', \\'class\\': \\'x.viewpager.widget.ViewPager\\', \\'clickable\\': False, \\'scrollable\\': True, \\'id\\': 5, \\'children\\': [{\\'resource-id\\': \\'.twitter:id/tab_layout\\', \\'class\\': \\'.widget.HorizontalScrollView\\', \\'clickable\\': False, \\'scrollable\\': False, \\'id\\': 6, \\'children\\': [{\\'class\\': \\'.widget.TextView\\', \\'clickable\\': False, \\'id\\': 7, \\'description\\': \\'For you\\'}, {\\'class\\': \\'.widget.TextView\\', \\'clickable\\': True, \\'id\\': 8, \\'description\\': \\'Following\\'}]}, {\\'resource-id\\': \\'.twitter:id/nested_coordinator_layout\\', \\'class\\': \\'.widget.ScrollView\\', \\'clickable\\': False, \\'scrollable\\': True, \\'id\\': 9, \\'children\\': [{\\'resource-id\\': \\':id/list\\', \\'class\\': \\'x.recyclerview.widget.RecyclerView\\', \\'clickable\\': False, \\'scrollable\\': True, \\'id\\': 10, \\'children\\': [{\\'class\\': \\'.view.ViewGroup\\', \\'clickable\\': False, \\'scrollable\\': False, \\'id\\': 11, \\'children\\': [{\\'resource-id\\': \\'.twitter:id/header\\', \\'class\\': \\'.widget.TextView\\', \\'clickable\\': False, \\'id\\': 12, \\'description\\': \\'Want to see who you know on Twitter?\\'}, {\\'resource-id\\': \\'.twitter:id/body\\', \\'class\\': \\'.widget.TextView\\', \\'clickable\\': False, \\'id\\': 13, \\'description\\': \\'Take a peek at your contacts.\\'}, {\\'class\\': \\'.view.View\\', \\'clickable\\': True, \\'scrollable\\': False, \\'id\\': 14, \\'children\\': [{\\'class\\': \\'.view.View\\', \\'clickable\\': True, \\'id\\': 15, \\'description\\': \\'Get started\\'}, {\\'class\\': \\'.widget.TextView\\', \\'clickable\\': True, \\'id\\': 16, \\'description\\': \\'Get started\\'}, {\\'class\\': \\'.widget.Button\\', \\'clickable\\': True, \\'id\\': 17, \\'description\\': \\'Get started\\'}]}, {\\'resource-id\\': \\'.twitter:id/caret\\', \\'class\\': \\'.widget.ImageView\\', \\'clickable\\': True, \\'id\\': 18, \\'description\\': \\'Want to see who you know / Dismiss\\'}]}, {\\'class\\': \\'.view.ViewGroup\\', \\'clickable\\': True, \\'scrollable\\': False, \\'id\\': 19, \\'children\\': [{\\'resource-id\\': \\'.twitter:id/row\\', \\'class\\': \\'.view.ViewGroup\\', \\'clickable\\': True, \\'scrollable\\': False, \\'id\\': 20, \\'children\\': [{\\'class\\': \\'.widget.ImageView\\', \\'clickable\\': True, \\'id\\': 21, \\'description\\': \\'avatar\\'}, {\\'resource-id\\': \\'.twitter:id/tweet_header\\', \\'class\\': \\'.view.ViewGroup\\', \\'clickable\\': True, \\'id\\': 22, \\'description\\': \\'Jeremy Judkins@jeremyjudkins18h.\\'}, {\\'resource-id\\': \\'.twitter:id/tweet_curation_action\\', \\'class\\': \\'.widget.ImageView\\', \\'clickable\\': True, \\'id\\': 23, \\'description\\': \":was told Teslas don\\'t\"}, {\\'class\\': \\'.view.View\\', \\'clickable\\': True, \\'id\\': 24, \\'description\\': \\'I’m EXTREMELY upset. I was told Teslas don’t require maintenance 😡😡😡\\\\n\\\\nWhy is mine leaking oil everywhere?!\\'}, {\\'class\\': \\'.view.ViewGroup\\', \\'clickable\\': True, \\'scrollable\\': False, \\'id\\': 25, \\'children\\': [{\\'class\\': \\'.widget.ImageView\\', \\'clickable\\': True, \\'id\\': 26, \\'description\\': \\'keepsake photo\\'}, {\\'class\\': \\'.widget.ImageView\\', \\'clickable\\': True, \\'id\\': 27, \\'description\\': \\'ad image\\'}]}, {\\'class\\': \\'.view.ViewGroup\\', \\'clickable\\': True, \\'scrollable\\': False, \\'id\\': 28, \\'children\\': [{\\'resource-id\\': \\'.twitter:id/inline_reply\\', \\'class\\': \\'.view.ViewGroup\\', \\'clickable\\': True, \\'scrollable\\': False, \\'id\\': 29, \\'children\\': [{\\'resource-id\\': \\'.twitter:id/inline_action_item_icon\\', \\'class\\': \\'.widget.ImageView\\', \\'clickable\\': True, \\'id\\': 30, \\'description\\': \\'chat\\'}, {\\'class\\': \\'.widget.TextView\\', \\'clickable\\': True, \\'id\\': 31, \\'description\\': \\'469\\'}]}, {\\'resource-id\\': \\'.twitter:id/inline_retweet\\', \\'class\\': \\'.view.ViewGroup\\', \\'clickable\\': True, \\'scrollable\\': False, \\'id\\': 32, \\'children\\': [{\\'resource-id\\': \\'.twitter:id/inline_action_item_icon\\', \\'class\\': \\'.widget.ImageView\\', \\'clickable\\': True, \\'id\\': 33, \\'description\\': \\'1790\\'}, {\\'class\\': \\'.widget.TextView\\', \\'clickable\\': True, \\'id\\': 34, \\'description\\': \\'90\\'}]}, {\\'resource-id\\': \\'.twitter:id/inline_like\\', \\'class\\': \\'.view.ViewGroup\\', \\'clickable\\': True, \\'scrollable\\': False, \\'id\\': 35, \\'children\\': [{\\'resource-id\\': \\'.twitter:id/inline_action_item_icon\\', \\'class\\': \\'.widget.ImageView\\', \\'clickable\\': True, \\'id\\': 36, \\'description\\': \\'favorite\\'}, {\\'class\\': \\'.widget.TextView\\', \\'clickable\\': True, \\'id\\': 37, \\'description\\': \\'1,997\\'}]}, {\\'resource-id\\': \\'.twitter:id/inline_view_count\\', \\'class\\': \\'.view.ViewGroup\\', \\'clickable\\': True, \\'scrollable\\': False, \\'id\\': 38, \\'children\\': [{\\'resource-id\\': \\'.twitter:id/inline_action_item_icon\\', \\'class\\': \\'.widget.ImageView\\', \\'clickable\\': True, \\'id\\': 39, \\'description\\': \\'il₁434K\\'}, {\\'class\\': \\'.widget.TextView\\', \\'clickable\\': True, \\'id\\': 40, \\'description\\': \\'434K\\'}]}, {\\'resource-id\\': \\'.twitter:id/inline_action_item_icon\\', \\'class\\': \\'.widget.ImageView\\', \\'clickable\\': True, \\'id\\': 41, \\'description\\': \\'share\\'}]}]}]}, {\\'resource-id\\': \\'.twitter:id/row\\', \\'class\\': \\'.view.ViewGroup\\', \\'clickable\\': True, \\'scrollable\\': False, \\'id\\': 42, \\'children\\': [{\\'class\\': \\'.widget.ImageView\\', \\'clickable\\': True, \\'id\\': 43}, {\\'resource-id\\': \\'.twitter:id/tweet_header\\', \\'class\\': \\'.view.ViewGroup\\', \\'clickable\\': True, \\'id\\': 44, \\'description\\': \\'Bezenpy@thebezenpy+\\'}, {\\'resource-id\\': \\'.twitter:id/tweet_curation_action\\', \\'class\\': \\'.widget.ImageView\\', \\'clickable\\': True, \\'id\\': 45, \\'description\\': \\'+\\'}, {\\'resource-id\\': \\'.twitter:id/tweet_connector_bottom\\', \\'class\\': \\'.view.View\\', \\'clickable\\': True, \\'id\\': 46, \\'description\\': \\'navigate up\\'}, {\\'class\\': \\'.view.View\\', \\'clickable\\': True, \\'id\\': 47, \\'description\\': \\'Your friends and family will be shocked when they see the Illusion Carpet on your floor!\\\\n👉 bezenpy.com/carpet\\'}, {\\'class\\': \\'ddw\\', \\'clickable\\': True, \\'id\\': 48, \\'description\\': \\'toggle speaker\\'}, {\\'class\\': \\'.view.View\\', \\'clickable\\': True, \\'id\\': 49, \\'description\\': \\'toggle speaker\\'}]}]}]}]}, {\\'resource-id\\': \\'.twitter:id/poser_write\\', \\'class\\': \\'.widget.ImageButton\\', \\'clickable\\': True, \\'id\\': 50, \\'description\\': \\'+Your friends and family will be shockethey see the Illusion Carpet on your floor !\\'}, {\\'resource-id\\': \\'.twitter:id/tabs\\', \\'class\\': \\'.widget.HorizontalScrollView\\', \\'clickable\\': False, \\'scrollable\\': False, \\'id\\': 51, \\'children\\': [{\\'resource-id\\': \\'.twitter:id/channels\\', \\'class\\': \\'.view.View\\', \\'clickable\\': False, \\'id\\': 52}, {\\'class\\': \\'.view.View\\', \\'clickable\\': True, \\'id\\': 53, \\'description\\': \\'Search and Explore\\'}, {\\'resource-id\\': \\'.twitter:id/spaces\\', \\'class\\': \\'.view.View\\', \\'clickable\\': True, \\'id\\': 54, \\'description\\': \\'Spaces\\'}, {\\'resource-id\\': \\'.twitter:id/notifications\\', \\'class\\': \\'.view.View\\', \\'clickable\\': True, \\'id\\': 55, \\'description\\': \\'Notifications\\'}, {\\'resource-id\\': \\'.twitter:id/dms\\', \\'class\\': \\'.view.View\\', \\'clickable\\': True, \\'id\\': 56, \\'description\\': \\'Messages\\'}]}]}, {\\'resource-id\\': \\':id/statusBarBackground\\', \\'class\\': \\'.view.View\\', \\'clickable\\': False, \\'id\\': 57, \\'description\\': \\'7:36\\'}]}'},\n",
       " {'role': 'user',\n",
       "  'content': 'I will ask you questions and tasks based on this'},\n",
       " {'role': 'user',\n",
       "  'content': 'Is this UI directly related to the task \"Change the display language\"?'},\n",
       " {'role': 'user',\n",
       "  'content': 'If yes, answer \"Yes\" and the related Element id, for example, \"Yes, Element id: 2\". Otherwise, answer \"No\"'},\n",
       " {'role': 'assistant', 'content': 'No'},\n",
       " {'role': 'user',\n",
       "  'content': 'The task \"Change the display language\" may take multiple steps to complete. Is there any UI elements that can direct to the related UI to complete the task?'},\n",
       " {'role': 'user',\n",
       "  'content': 'If yes, answer \"Yes\" and the related Element id, for example, \"Yes, Element id: 2\". Otherwise, answer \"No\"'},\n",
       " {'role': 'assistant', 'content': 'No'}]"
      ]
     },
     "execution_count": 7,
     "metadata": {},
     "output_type": "execute_result"
    }
   ],
   "source": [
    "auto.ai_chain.conversation"
   ]
  },
  {
   "cell_type": "code",
   "execution_count": null,
   "id": "969fbf7c",
   "metadata": {},
   "outputs": [],
   "source": []
  },
  {
   "cell_type": "code",
   "execution_count": null,
   "id": "d1cd8eb0",
   "metadata": {},
   "outputs": [],
   "source": []
  },
  {
   "cell_type": "markdown",
   "id": "3d0d246c",
   "metadata": {},
   "source": [
    "## [Option 2] (For testing) Directly load GUI from image and json"
   ]
  },
  {
   "cell_type": "markdown",
   "id": "4309f1bd",
   "metadata": {},
   "source": [
    "### 1. Load GUI"
   ]
  },
  {
   "cell_type": "code",
   "execution_count": 1,
   "id": "5a112b5e",
   "metadata": {},
   "outputs": [],
   "source": [
    "load = True"
   ]
  },
  {
   "cell_type": "code",
   "execution_count": 2,
   "id": "85553631",
   "metadata": {
    "scrolled": false
   },
   "outputs": [
    {
     "name": "stderr",
     "output_type": "stream",
     "text": [
      "C:\\Users\\xie029\\AppData\\Local\\Programs\\Python\\Python310\\lib\\site-packages\\tqdm\\auto.py:22: TqdmWarning: IProgress not found. Please update jupyter and ipywidgets. See https://ipywidgets.readthedocs.io/en/stable/user_install.html\n",
      "  from .autonotebook import tqdm as notebook_tqdm\n"
     ]
    },
    {
     "name": "stdout",
     "output_type": "stream",
     "text": [
      "Load elements from data/twitter/testcase1\\guidata\\0_elements.json\n",
      "Load element tree from data/twitter/testcase1\\guidata\\0_tree.json\n"
     ]
    }
   ],
   "source": [
    "from GUIData import GUIData\n",
    "gui = GUIData(gui_img_file='data/twitter/testcase1/device/0.png',\n",
    "              gui_json_file='data/twitter/testcase1/device/0.json',\n",
    "              output_file_root='data/twitter/testcase1')\n",
    "# load previous result\n",
    "if load:\n",
    "    gui.load_elements()\n",
    "# process from scratch\n",
    "else:\n",
    "    gui.ui_info_extraction()\n",
    "    gui.ui_analysis_elements_description()\n",
    "    gui.ui_element_block_tree()\n",
    "gui.show_all_elements(only_leaves=False)\n",
    "# gui.show_each_element(only_leaves=False)"
   ]
  },
  {
   "cell_type": "code",
   "execution_count": 3,
   "id": "8d440545",
   "metadata": {},
   "outputs": [
    {
     "name": "stdout",
     "output_type": "stream",
     "text": [
      "61\n",
      "android.widget.ImageButton\n",
      "{'text': '', 'resource-id': '', 'class': 'android.widget.ImageButton', 'package': 'com.twitter.android', 'content-desc': 'Show navigation drawer', 'checkable': False, 'checked': False, 'clickable': True, 'enabled': True, 'focusable': True, 'focused': False, 'scrollable': False, 'long-clickable': False, 'password': False, 'selected': False, 'bounds': [0, 66, 150, 220], 'id': 3, 'layer': 3, 'leaf-id': 0, 'ocr': '', 'caption': 'thumbnail', 'icon-cls': 'avatar', 'description': 'Show navigation drawer'} \n",
      "\n",
      "android.widget.ImageView\n",
      "{'text': '', 'resource-id': 'com.twitter.android:id/logo', 'class': 'android.widget.ImageView', 'package': 'com.twitter.android', 'content-desc': '', 'checkable': False, 'checked': False, 'clickable': True, 'enabled': True, 'focusable': False, 'focused': False, 'scrollable': False, 'long-clickable': False, 'password': False, 'selected': False, 'bounds': [507, 110, 573, 176], 'id': 4, 'layer': 3, 'leaf-id': 1, 'ocr': '', 'caption': 'twitter', 'icon-cls': 'twitter', 'description': 'twitter'} \n",
      "\n",
      "android.widget.TextView\n",
      "{'text': 'For you', 'resource-id': '', 'class': 'android.widget.TextView', 'package': 'com.twitter.android', 'content-desc': '', 'checkable': False, 'checked': False, 'clickable': False, 'enabled': True, 'focusable': False, 'focused': False, 'scrollable': False, 'long-clickable': False, 'password': False, 'selected': True, 'bounds': [187, 261, 341, 311], 'id': 7, 'layer': 4, 'leaf-id': 2, 'caption': 'close', 'icon-cls': None, 'description': 'For you'} \n",
      "\n",
      "android.widget.TextView\n",
      "{'text': 'Following', 'resource-id': '', 'class': 'android.widget.TextView', 'package': 'com.twitter.android', 'content-desc': 'Following', 'checkable': False, 'checked': False, 'clickable': True, 'enabled': True, 'focusable': True, 'focused': False, 'scrollable': False, 'long-clickable': False, 'password': False, 'selected': False, 'bounds': [528, 220, 1080, 352], 'id': 8, 'layer': 4, 'leaf-id': 3, 'ocr': 'Following', 'caption': 'loading', 'icon-cls': None, 'description': 'Following'} \n",
      "\n",
      "ddw\n",
      "{'text': '0:59 a woman whoworks atCSIDO', 'resource-id': '', 'class': 'ddw', 'package': 'com.twitter.android', 'content-desc': '', 'checkable': False, 'checked': False, 'clickable': True, 'enabled': True, 'focusable': False, 'focused': False, 'scrollable': False, 'long-clickable': False, 'password': False, 'selected': False, 'bounds': [210, 353, 1047, 512], 'id': 13, 'layer': 7, 'leaf-id': 4, 'ocr': '0:59 a woman whoworks atCSIDO', 'caption': 'primary photo', 'icon-cls': None, 'description': '0:59 a woman whoworks atCSIDO'} \n",
      "\n",
      "android.widget.ImageView\n",
      "{'text': '0:59 a woman whoworks atCSIDO', 'resource-id': '', 'class': 'android.widget.ImageView', 'package': 'com.twitter.android', 'content-desc': '', 'checkable': False, 'checked': False, 'clickable': True, 'enabled': True, 'focusable': False, 'focused': False, 'scrollable': False, 'long-clickable': False, 'password': False, 'selected': False, 'bounds': [210, 353, 1047, 512], 'id': 14, 'layer': 7, 'leaf-id': 5, 'ocr': '0:59 a woman whoworks atCSIDO', 'caption': 'primary photo', 'icon-cls': None, 'description': '0:59 a woman whoworks atCSIDO'} \n",
      "\n",
      "android.view.View\n",
      "{'text': '0:59 a woman whoworks at', 'resource-id': '', 'class': 'android.view.View', 'package': 'com.twitter.android', 'content-desc': '', 'checkable': False, 'checked': False, 'clickable': True, 'enabled': True, 'focusable': False, 'focused': False, 'scrollable': False, 'long-clickable': False, 'password': False, 'selected': False, 'bounds': [254, 353, 1003, 468], 'id': 16, 'layer': 8, 'leaf-id': 6, 'ocr': '0:59 a woman whoworks at', 'caption': 'primary photo', 'icon-cls': None, 'description': '0:59 a woman whoworks at'} \n",
      "\n",
      "android.widget.TextView\n",
      "{'text': '0:59', 'resource-id': 'com.twitter.android:id/av_badge_duration_text', 'class': 'android.widget.TextView', 'package': 'com.twitter.android', 'content-desc': '', 'checkable': False, 'checked': False, 'clickable': True, 'enabled': True, 'focusable': False, 'focused': False, 'scrollable': False, 'long-clickable': False, 'password': False, 'selected': False, 'bounds': [232, 440, 322, 490], 'id': 17, 'layer': 8, 'leaf-id': 7, 'caption': 'search', 'icon-cls': None, 'description': '0:59'} \n",
      "\n",
      "android.widget.TextView\n",
      "{'text': '1,633 views', 'resource-id': 'com.twitter.android:id/view_counts', 'class': 'android.widget.TextView', 'package': 'com.twitter.android', 'content-desc': '', 'checkable': False, 'checked': False, 'clickable': True, 'enabled': True, 'focusable': False, 'focused': False, 'scrollable': False, 'long-clickable': False, 'password': False, 'selected': False, 'bounds': [210, 534, 397, 578], 'id': 18, 'layer': 7, 'leaf-id': 8, 'caption': '<unk>', 'icon-cls': None, 'description': '1,633 views'} \n",
      "\n",
      "android.widget.ImageView\n",
      "{'text': 'Q2', 'resource-id': 'com.twitter.android:id/inline_action_item_icon', 'class': 'android.widget.ImageView', 'package': 'com.twitter.android', 'content-desc': '', 'checkable': False, 'checked': False, 'clickable': True, 'enabled': True, 'focusable': False, 'focused': False, 'scrollable': False, 'long-clickable': False, 'password': False, 'selected': False, 'bounds': [212, 608, 262, 658], 'id': 21, 'layer': 9, 'leaf-id': 9, 'ocr': 'Q2', 'caption': '<unk>', 'icon-cls': 'chat', 'description': 'Q2'} \n",
      "\n",
      "android.widget.TextView\n",
      "{'text': '2', 'resource-id': '', 'class': 'android.widget.TextView', 'package': 'com.twitter.android', 'content-desc': '', 'checkable': False, 'checked': False, 'clickable': True, 'enabled': True, 'focusable': False, 'focused': False, 'scrollable': False, 'long-clickable': False, 'password': False, 'selected': False, 'bounds': [268, 611, 288, 654], 'id': 22, 'layer': 9, 'leaf-id': 10, 'caption': 'go to the selected page', 'icon-cls': None, 'description': '2'} \n",
      "\n",
      "android.widget.ImageView\n",
      "{'text': '', 'resource-id': 'com.twitter.android:id/inline_action_item_icon', 'class': 'android.widget.ImageView', 'package': 'com.twitter.android', 'content-desc': '', 'checkable': False, 'checked': False, 'clickable': True, 'enabled': True, 'focusable': False, 'focused': False, 'scrollable': False, 'long-clickable': False, 'password': False, 'selected': False, 'bounds': [400, 608, 450, 658], 'id': 24, 'layer': 9, 'leaf-id': 11, 'ocr': '', 'caption': 'switch direction', 'icon-cls': None, 'description': 'switch direction'} \n",
      "\n",
      "android.widget.TextView\n",
      "{'text': '11', 'resource-id': '', 'class': 'android.widget.TextView', 'package': 'com.twitter.android', 'content-desc': '', 'checkable': False, 'checked': False, 'clickable': True, 'enabled': True, 'focusable': False, 'focused': False, 'scrollable': False, 'long-clickable': False, 'password': False, 'selected': False, 'bounds': [456, 611, 486, 654], 'id': 25, 'layer': 9, 'leaf-id': 12, 'caption': 'switch direction', 'icon-cls': None, 'description': '11'} \n",
      "\n",
      "android.widget.ImageView\n",
      "{'text': '', 'resource-id': 'com.twitter.android:id/inline_action_item_icon', 'class': 'android.widget.ImageView', 'package': 'com.twitter.android', 'content-desc': '', 'checkable': False, 'checked': False, 'clickable': True, 'enabled': True, 'focusable': False, 'focused': False, 'scrollable': False, 'long-clickable': False, 'password': False, 'selected': False, 'bounds': [588, 608, 638, 658], 'id': 27, 'layer': 9, 'leaf-id': 13, 'ocr': '', 'caption': 'add to favorites', 'icon-cls': 'favorite', 'description': 'favorite'} \n",
      "\n",
      "android.widget.TextView\n",
      "{'text': '54', 'resource-id': '', 'class': 'android.widget.TextView', 'package': 'com.twitter.android', 'content-desc': '', 'checkable': False, 'checked': False, 'clickable': True, 'enabled': True, 'focusable': False, 'focused': False, 'scrollable': False, 'long-clickable': False, 'password': False, 'selected': False, 'bounds': [644, 611, 686, 654], 'id': 28, 'layer': 9, 'leaf-id': 14, 'caption': '<unk>', 'icon-cls': None, 'description': '54'} \n",
      "\n",
      "android.widget.ImageView\n",
      "{'text': '₁4,829', 'resource-id': 'com.twitter.android:id/inline_action_item_icon', 'class': 'android.widget.ImageView', 'package': 'com.twitter.android', 'content-desc': '', 'checkable': False, 'checked': False, 'clickable': True, 'enabled': True, 'focusable': False, 'focused': False, 'scrollable': False, 'long-clickable': False, 'password': False, 'selected': False, 'bounds': [776, 608, 826, 658], 'id': 30, 'layer': 9, 'leaf-id': 15, 'ocr': '₁4,829', 'caption': 'settings', 'icon-cls': None, 'description': '₁4,829'} \n",
      "\n"
     ]
    },
    {
     "name": "stdout",
     "output_type": "stream",
     "text": [
      "android.widget.TextView\n",
      "{'text': '4,829', 'resource-id': '', 'class': 'android.widget.TextView', 'package': 'com.twitter.android', 'content-desc': '', 'checkable': False, 'checked': False, 'clickable': True, 'enabled': True, 'focusable': False, 'focused': False, 'scrollable': False, 'long-clickable': False, 'password': False, 'selected': False, 'bounds': [832, 611, 924, 654], 'id': 31, 'layer': 9, 'leaf-id': 16, 'caption': 'choose stream', 'icon-cls': 'group', 'description': '4,829'} \n",
      "\n",
      "android.widget.ImageView\n",
      "{'NAF': True, 'text': '', 'resource-id': 'com.twitter.android:id/inline_action_item_icon', 'class': 'android.widget.ImageView', 'package': 'com.twitter.android', 'content-desc': '', 'checkable': False, 'checked': False, 'clickable': True, 'enabled': True, 'focusable': True, 'focused': False, 'scrollable': False, 'long-clickable': False, 'password': False, 'selected': False, 'bounds': [934, 578, 1047, 688], 'id': 32, 'layer': 8, 'leaf-id': 17, 'ocr': '', 'caption': '<unk>', 'icon-cls': 'share', 'description': 'share'} \n",
      "\n",
      "android.widget.ImageView\n",
      "{'text': '', 'resource-id': 'com.twitter.android:id/social_context_badge', 'class': 'android.widget.ImageView', 'package': 'com.twitter.android', 'content-desc': '', 'checkable': False, 'checked': False, 'clickable': True, 'enabled': True, 'focusable': False, 'focused': False, 'scrollable': False, 'long-clickable': False, 'password': False, 'selected': False, 'bounds': [138, 717, 182, 761], 'id': 34, 'layer': 6, 'leaf-id': 18, 'ocr': '', 'caption': 'paint', 'icon-cls': 'chat', 'description': 'chat'} \n",
      "\n",
      "android.widget.TextView\n",
      "{'text': 'Elon Musk replied', 'resource-id': 'com.twitter.android:id/social_context_text', 'class': 'android.widget.TextView', 'package': 'com.twitter.android', 'content-desc': '', 'checkable': False, 'checked': False, 'clickable': True, 'enabled': True, 'focusable': False, 'focused': False, 'scrollable': False, 'long-clickable': False, 'password': False, 'selected': False, 'bounds': [210, 689, 1080, 766], 'id': 35, 'layer': 6, 'leaf-id': 19, 'ocr': 'Elon Musk replied', 'caption': '<unk> <unk> <unk> <unk> <unk> <unk> <unk> <unk> <unk> <unk> <unk> <unk> <unk> <unk>', 'icon-cls': None, 'description': 'Elon Musk replied'} \n",
      "\n",
      "android.widget.ImageView\n",
      "{'text': '', 'resource-id': '', 'class': 'android.widget.ImageView', 'package': 'com.twitter.android', 'content-desc': '', 'checkable': False, 'checked': False, 'clickable': True, 'enabled': True, 'focusable': False, 'focused': False, 'scrollable': False, 'long-clickable': False, 'password': False, 'selected': False, 'bounds': [33, 788, 182, 937], 'id': 36, 'layer': 6, 'leaf-id': 20, 'ocr': '', 'caption': 'profile photo', 'icon-cls': 'avatar', 'description': 'avatar'} \n",
      "\n",
      "android.view.ViewGroup\n",
      "{'text': 'Eva Vlaardingerbroek@Eva ...3d .', 'resource-id': 'com.twitter.android:id/tweet_header', 'class': 'android.view.ViewGroup', 'package': 'com.twitter.android', 'content-desc': '', 'checkable': False, 'checked': False, 'clickable': True, 'enabled': True, 'focusable': False, 'focused': False, 'scrollable': False, 'long-clickable': False, 'password': False, 'selected': False, 'bounds': [210, 788, 981, 829], 'id': 37, 'layer': 6, 'leaf-id': 21, 'ocr': 'Eva Vlaardingerbroek@Eva ...3d .', 'caption': '<unk>', 'icon-cls': None, 'description': 'Eva Vlaardingerbroek@Eva ...3d .'} \n",
      "\n",
      "android.widget.ImageView\n",
      "{'NAF': True, 'text': 'The Dutch government is ramping up the', 'resource-id': 'com.twitter.android:id/tweet_curation_action', 'class': 'android.widget.ImageView', 'package': 'com.twitter.android', 'content-desc': '', 'checkable': False, 'checked': False, 'clickable': True, 'enabled': True, 'focusable': True, 'focused': False, 'scrollable': False, 'long-clickable': False, 'password': False, 'selected': False, 'bounds': [981, 759, 1069, 847], 'id': 38, 'layer': 6, 'leaf-id': 22, 'ocr': 'The Dutch government is ramping up the', 'caption': 'more options', 'icon-cls': 'more', 'description': 'The Dutch government is ramping up the'} \n",
      "\n",
      "android.view.View\n",
      "{'text': '🇳🇱 The Dutch government is ramping up the intimidation & obstruction tactics in light of the upcoming farmers protest in The Hague this Saturday: the mayor has said army trucks may be deployed and has ordered the farmers to not take tractors to the protest.', 'resource-id': '', 'class': 'android.view.View', 'package': 'com.twitter.android', 'content-desc': '', 'checkable': False, 'checked': False, 'clickable': True, 'enabled': True, 'focusable': True, 'focused': False, 'scrollable': False, 'long-clickable': False, 'password': False, 'selected': False, 'bounds': [210, 835, 1047, 1159], 'id': 39, 'layer': 6, 'leaf-id': 23, 'caption': '<unk> image', 'icon-cls': None, 'description': '🇳🇱 The Dutch government is ramping up the intimidation & obstruction tactics in light of the upcoming farmers protest in The Hague this Saturday: the mayor has said army trucks may be deployed and has ordered the farmers to not take tractors to the protest.'} \n",
      "\n",
      "android.view.View\n",
      "{'text': '', 'resource-id': 'com.twitter.android:id/tweet_connector_bottom', 'class': 'android.view.View', 'package': 'com.twitter.android', 'content-desc': '', 'checkable': False, 'checked': False, 'clickable': True, 'enabled': True, 'focusable': False, 'focused': False, 'scrollable': False, 'long-clickable': False, 'password': False, 'selected': False, 'bounds': [105, 943, 111, 1269], 'id': 40, 'layer': 6, 'leaf-id': 24, 'ocr': '', 'caption': 'loading', 'icon-cls': None, 'description': 'loading'} \n",
      "\n",
      "android.widget.ImageView\n",
      "{'text': '', 'resource-id': 'com.twitter.android:id/inline_action_item_icon', 'class': 'android.widget.ImageView', 'package': 'com.twitter.android', 'content-desc': '', 'checkable': False, 'checked': False, 'clickable': True, 'enabled': True, 'focusable': False, 'focused': False, 'scrollable': False, 'long-clickable': False, 'password': False, 'selected': False, 'bounds': [212, 1189, 262, 1239], 'id': 43, 'layer': 8, 'leaf-id': 25, 'ocr': '', 'caption': '<unk>', 'icon-cls': 'chat', 'description': 'chat'} \n",
      "\n",
      "android.widget.TextView\n",
      "{'text': '995', 'resource-id': '', 'class': 'android.widget.TextView', 'package': 'com.twitter.android', 'content-desc': '', 'checkable': False, 'checked': False, 'clickable': True, 'enabled': True, 'focusable': False, 'focused': False, 'scrollable': False, 'long-clickable': False, 'password': False, 'selected': False, 'bounds': [268, 1192, 331, 1235], 'id': 44, 'layer': 8, 'leaf-id': 26, 'caption': 'choose stream', 'icon-cls': None, 'description': '995'} \n",
      "\n",
      "android.widget.ImageView\n",
      "{'text': '', 'resource-id': 'com.twitter.android:id/inline_action_item_icon', 'class': 'android.widget.ImageView', 'package': 'com.twitter.android', 'content-desc': '', 'checkable': False, 'checked': False, 'clickable': True, 'enabled': True, 'focusable': False, 'focused': False, 'scrollable': False, 'long-clickable': False, 'password': False, 'selected': False, 'bounds': [400, 1189, 450, 1239], 'id': 46, 'layer': 8, 'leaf-id': 27, 'ocr': '', 'caption': 'switch direction', 'icon-cls': None, 'description': 'switch direction'} \n",
      "\n",
      "android.widget.TextView\n",
      "{'text': '4,727', 'resource-id': '', 'class': 'android.widget.TextView', 'package': 'com.twitter.android', 'content-desc': '', 'checkable': False, 'checked': False, 'clickable': True, 'enabled': True, 'focusable': False, 'focused': False, 'scrollable': False, 'long-clickable': False, 'password': False, 'selected': False, 'bounds': [456, 1192, 542, 1235], 'id': 47, 'layer': 8, 'leaf-id': 28, 'caption': 'choose stream', 'icon-cls': None, 'description': '4,727'} \n",
      "\n",
      "android.widget.ImageView\n",
      "{'text': '', 'resource-id': 'com.twitter.android:id/inline_action_item_icon', 'class': 'android.widget.ImageView', 'package': 'com.twitter.android', 'content-desc': '', 'checkable': False, 'checked': False, 'clickable': True, 'enabled': True, 'focusable': False, 'focused': False, 'scrollable': False, 'long-clickable': False, 'password': False, 'selected': False, 'bounds': [588, 1189, 638, 1239], 'id': 49, 'layer': 8, 'leaf-id': 29, 'ocr': '', 'caption': 'add to favorites', 'icon-cls': 'favorite', 'description': 'favorite'} \n",
      "\n",
      "android.widget.TextView\n",
      "{'text': '17.8K', 'resource-id': '', 'class': 'android.widget.TextView', 'package': 'com.twitter.android', 'content-desc': '', 'checkable': False, 'checked': False, 'clickable': True, 'enabled': True, 'focusable': False, 'focused': False, 'scrollable': False, 'long-clickable': False, 'password': False, 'selected': False, 'bounds': [644, 1192, 728, 1235], 'id': 50, 'layer': 8, 'leaf-id': 30, 'caption': 'choose stream', 'icon-cls': None, 'description': '17.8K'} \n",
      "\n"
     ]
    },
    {
     "name": "stdout",
     "output_type": "stream",
     "text": [
      "android.widget.ImageView\n",
      "{'text': 'il₁ 2.7M', 'resource-id': 'com.twitter.android:id/inline_action_item_icon', 'class': 'android.widget.ImageView', 'package': 'com.twitter.android', 'content-desc': '', 'checkable': False, 'checked': False, 'clickable': True, 'enabled': True, 'focusable': False, 'focused': False, 'scrollable': False, 'long-clickable': False, 'password': False, 'selected': False, 'bounds': [776, 1189, 826, 1239], 'id': 52, 'layer': 8, 'leaf-id': 31, 'ocr': 'il₁ 2.7M', 'caption': 'settings', 'icon-cls': None, 'description': 'il₁ 2.7M'} \n",
      "\n",
      "android.widget.TextView\n",
      "{'text': '2.7M', 'resource-id': '', 'class': 'android.widget.TextView', 'package': 'com.twitter.android', 'content-desc': '', 'checkable': False, 'checked': False, 'clickable': True, 'enabled': True, 'focusable': False, 'focused': False, 'scrollable': False, 'long-clickable': False, 'password': False, 'selected': False, 'bounds': [832, 1192, 910, 1235], 'id': 53, 'layer': 8, 'leaf-id': 32, 'caption': 'choose', 'icon-cls': None, 'description': '2.7M'} \n",
      "\n",
      "android.widget.ImageView\n",
      "{'NAF': True, 'text': '', 'resource-id': 'com.twitter.android:id/inline_action_item_icon', 'class': 'android.widget.ImageView', 'package': 'com.twitter.android', 'content-desc': '', 'checkable': False, 'checked': False, 'clickable': True, 'enabled': True, 'focusable': True, 'focused': False, 'scrollable': False, 'long-clickable': False, 'password': False, 'selected': False, 'bounds': [934, 1159, 1047, 1269], 'id': 54, 'layer': 7, 'leaf-id': 33, 'ocr': '', 'caption': '<unk>', 'icon-cls': 'share', 'description': 'share'} \n",
      "\n",
      "android.view.View\n",
      "{'text': '', 'resource-id': 'com.twitter.android:id/tweet_connector_top', 'class': 'android.view.View', 'package': 'com.twitter.android', 'content-desc': '', 'checkable': False, 'checked': False, 'clickable': True, 'enabled': True, 'focusable': False, 'focused': False, 'scrollable': False, 'long-clickable': False, 'password': False, 'selected': False, 'bounds': [105, 1269, 111, 1296], 'id': 57, 'layer': 7, 'leaf-id': 34, 'ocr': '', 'caption': 'search', 'icon-cls': None, 'description': 'search'} \n",
      "\n",
      "android.widget.ImageView\n",
      "{'text': '', 'resource-id': '', 'class': 'android.widget.ImageView', 'package': 'com.twitter.android', 'content-desc': '', 'checkable': False, 'checked': False, 'clickable': True, 'enabled': True, 'focusable': False, 'focused': False, 'scrollable': False, 'long-clickable': False, 'password': False, 'selected': False, 'bounds': [33, 1302, 182, 1451], 'id': 58, 'layer': 7, 'leaf-id': 35, 'ocr': '', 'caption': 'profile photo', 'icon-cls': 'avatar', 'description': 'avatar'} \n",
      "\n",
      "android.view.ViewGroup\n",
      "{'text': 'Elon Musk@elonmusk3d.', 'resource-id': 'com.twitter.android:id/tweet_header', 'class': 'android.view.ViewGroup', 'package': 'com.twitter.android', 'content-desc': '', 'checkable': False, 'checked': False, 'clickable': True, 'enabled': True, 'focusable': False, 'focused': False, 'scrollable': False, 'long-clickable': False, 'password': False, 'selected': False, 'bounds': [210, 1302, 981, 1341], 'id': 59, 'layer': 7, 'leaf-id': 36, 'ocr': 'Elon Musk@elonmusk3d.', 'caption': '<unk> wifi', 'icon-cls': None, 'description': 'Elon Musk@elonmusk3d.'} \n",
      "\n",
      "android.widget.ImageView\n",
      "{'NAF': True, 'text': '', 'resource-id': 'com.twitter.android:id/tweet_curation_action', 'class': 'android.widget.ImageView', 'package': 'com.twitter.android', 'content-desc': '', 'checkable': False, 'checked': False, 'clickable': True, 'enabled': True, 'focusable': True, 'focused': False, 'scrollable': False, 'long-clickable': False, 'password': False, 'selected': False, 'bounds': [981, 1272, 1069, 1360], 'id': 60, 'layer': 7, 'leaf-id': 37, 'ocr': '', 'caption': 'more options', 'icon-cls': 'more', 'description': 'more'} \n",
      "\n",
      "android.view.View\n",
      "{'text': '!', 'resource-id': '', 'class': 'android.view.View', 'package': 'com.twitter.android', 'content-desc': '', 'checkable': False, 'checked': False, 'clickable': True, 'enabled': True, 'focusable': True, 'focused': False, 'scrollable': False, 'long-clickable': False, 'password': False, 'selected': False, 'bounds': [210, 1347, 1047, 1396], 'id': 61, 'layer': 7, 'leaf-id': 38, 'caption': '<unk>', 'icon-cls': None, 'description': '!'} \n",
      "\n",
      "android.widget.ImageView\n",
      "{'text': '', 'resource-id': 'com.twitter.android:id/inline_action_item_icon', 'class': 'android.widget.ImageView', 'package': 'com.twitter.android', 'content-desc': '', 'checkable': False, 'checked': False, 'clickable': True, 'enabled': True, 'focusable': False, 'focused': False, 'scrollable': False, 'long-clickable': False, 'password': False, 'selected': False, 'bounds': [212, 1426, 262, 1476], 'id': 64, 'layer': 9, 'leaf-id': 39, 'ocr': '', 'caption': '<unk>', 'icon-cls': 'chat', 'description': 'chat'} \n",
      "\n",
      "android.widget.TextView\n",
      "{'text': '536', 'resource-id': '', 'class': 'android.widget.TextView', 'package': 'com.twitter.android', 'content-desc': '', 'checkable': False, 'checked': False, 'clickable': True, 'enabled': True, 'focusable': False, 'focused': False, 'scrollable': False, 'long-clickable': False, 'password': False, 'selected': False, 'bounds': [268, 1429, 331, 1472], 'id': 65, 'layer': 9, 'leaf-id': 40, 'caption': 'choose stream', 'icon-cls': None, 'description': '536'} \n",
      "\n"
     ]
    }
   ],
   "source": [
    "gui.show_each_element(only_leaves=True)"
   ]
  },
  {
   "cell_type": "code",
   "execution_count": null,
   "id": "64c50906",
   "metadata": {},
   "outputs": [],
   "source": []
  },
  {
   "cell_type": "markdown",
   "id": "bdbe9cb8",
   "metadata": {},
   "source": [
    "### 2. Load automator"
   ]
  },
  {
   "cell_type": "code",
   "execution_count": 5,
   "id": "ba49063e",
   "metadata": {},
   "outputs": [],
   "source": [
    "# from Automator import Automator\n",
    "# aut = Automator(gui)\n",
    "# if load:\n",
    "#     aut.load_block_descriptions()\n",
    "# aut.ai_chain('Open Twitter', show_block=False, load_block_desc=load)"
   ]
  },
  {
   "cell_type": "code",
   "execution_count": 4,
   "id": "b967e00a",
   "metadata": {},
   "outputs": [],
   "source": [
    "from Automator import Automator\n",
    "aut = Automator(gui)"
   ]
  },
  {
   "cell_type": "code",
   "execution_count": 5,
   "id": "19a9734d",
   "metadata": {},
   "outputs": [
    {
     "name": "stdout",
     "output_type": "stream",
     "text": [
      "------ Generate Block Descriptions ------\n"
     ]
    }
   ],
   "source": [
    "aut.generate_descriptions_for_blocks(False)"
   ]
  },
  {
   "cell_type": "code",
   "execution_count": null,
   "id": "b0c31d38",
   "metadata": {},
   "outputs": [],
   "source": []
  },
  {
   "cell_type": "code",
   "execution_count": 6,
   "id": "657e0377",
   "metadata": {},
   "outputs": [
    {
     "data": {
      "text/plain": [
       "{'vh': [{'resource-id': '.twitter:id/poser_write',\n",
       "   'class': '.widget.ImageButton',\n",
       "   'clickable': True,\n",
       "   'id': 84,\n",
       "   'layer': 2,\n",
       "   'description': '+'},\n",
       "  {'resource-id': ':id/statusBarBackground',\n",
       "   'class': '.view.View',\n",
       "   'clickable': False,\n",
       "   'id': 91,\n",
       "   'layer': 1,\n",
       "   'description': '5:08'}],\n",
       " 'desc': ['[Not Scrollable] This UI code describes a toolbar with clickable and non-scrollable elements. The toolbar includes a button for showing the navigation drawer and an image of the Twitter logo, both of which are clickable. The navigation drawer likely contains various options for the user to select, while the Twitter logo serves as a link to return the user to the main Twitter feed.',\n",
       "  '[Scrollable] This UI is a scrollable layout consisting of a View Pager with two tabs: \"For you\" and \"Following\". The View Pager children consist of a horizontal scroll view displaying tweets in form of a list. The tweets are displayed in a recycler view with each tweet containing an avatar, tweet header, tweet text, tweet connectors for chat, retweet, like and settings, all of which are actionable elements. The UI also displays additional tweet details such as view counts in the form of inline icons. The View Pager and corresponding tabs allow users to toggle between trending tweets and tweets from followed users while providing comprehensive functionality to engage with the tweets including chatting, liking, retweeting, and sharing.',\n",
       "  \"[Not Scrollable] This code snippet describes a UI component of Twitter's mobile application that includes a horizontal scrollable view with tabs representing different functionalities of the app. These tabs include options to close the navigation drawer, search and explore, access Spaces, view notifications, and access direct messages. Each tab is represented by a clickable view that allows the user to easily navigate to and interact with the corresponding functionality.\"]}"
      ]
     },
     "execution_count": 6,
     "metadata": {},
     "output_type": "execute_result"
    }
   ],
   "source": [
    "aut.block_descriptions"
   ]
  },
  {
   "cell_type": "code",
   "execution_count": null,
   "id": "aa72a8e9",
   "metadata": {},
   "outputs": [],
   "source": []
  },
  {
   "cell_type": "code",
   "execution_count": 4,
   "id": "40dded66",
   "metadata": {},
   "outputs": [],
   "source": [
    "leaves, blocks = aut.partition_element_to_leaves_and_blocks(aut.gui.element_tree)"
   ]
  },
  {
   "cell_type": "code",
   "execution_count": 7,
   "id": "d9ac65aa",
   "metadata": {},
   "outputs": [
    {
     "data": {
      "text/plain": [
       "3751"
      ]
     },
     "execution_count": 7,
     "metadata": {},
     "output_type": "execute_result"
    }
   ],
   "source": [
    "aut.count_token_size(aut.element_to_str(aut.gui.element_tree['children'][0]))"
   ]
  },
  {
   "cell_type": "code",
   "execution_count": 11,
   "id": "9db4e904",
   "metadata": {},
   "outputs": [
    {
     "data": {
      "text/plain": [
       "{'resource-id': '.twitter:id/tabs',\n",
       " 'class': '.widget.HorizontalScrollView',\n",
       " 'clickable': False,\n",
       " 'scrollable': False,\n",
       " 'id': 85,\n",
       " 'layer': 2,\n",
       " 'children': [{'resource-id': '.twitter:id/channels',\n",
       "   'class': '.view.View',\n",
       "   'clickable': False,\n",
       "   'id': 86,\n",
       "   'layer': 3,\n",
       "   'description': 'close navigation drawer'},\n",
       "  {'class': '.view.View',\n",
       "   'clickable': True,\n",
       "   'id': 87,\n",
       "   'layer': 3,\n",
       "   'description': 'Search and Explore'},\n",
       "  {'resource-id': '.twitter:id/spaces',\n",
       "   'class': '.view.View',\n",
       "   'clickable': True,\n",
       "   'id': 88,\n",
       "   'layer': 3,\n",
       "   'description': 'Spaces'},\n",
       "  {'resource-id': '.twitter:id/notifications',\n",
       "   'class': '.view.View',\n",
       "   'clickable': True,\n",
       "   'id': 89,\n",
       "   'layer': 3,\n",
       "   'description': 'Notifications'},\n",
       "  {'resource-id': '.twitter:id/dms',\n",
       "   'class': '.view.View',\n",
       "   'clickable': True,\n",
       "   'id': 90,\n",
       "   'layer': 3,\n",
       "   'description': 'Messages'}]}"
      ]
     },
     "execution_count": 11,
     "metadata": {},
     "output_type": "execute_result"
    }
   ],
   "source": [
    "blocks[2]"
   ]
  },
  {
   "cell_type": "code",
   "execution_count": 6,
   "id": "bfc2019f",
   "metadata": {},
   "outputs": [
    {
     "data": {
      "text/plain": [
       "2"
      ]
     },
     "execution_count": 6,
     "metadata": {},
     "output_type": "execute_result"
    }
   ],
   "source": [
    "len(leaves)"
   ]
  },
  {
   "cell_type": "code",
   "execution_count": null,
   "id": "ecef7d00",
   "metadata": {},
   "outputs": [],
   "source": []
  },
  {
   "cell_type": "code",
   "execution_count": 4,
   "id": "3a49f3a0",
   "metadata": {},
   "outputs": [
    {
     "name": "stdout",
     "output_type": "stream",
     "text": [
      "Load block description from data/twitter/testcase1\\automator\\0_block_desc.json\n"
     ]
    }
   ],
   "source": [
    "aut.load_block_descriptions()\n",
    "# aut.generate_descriptions_for_blocks(show=False)"
   ]
  },
  {
   "cell_type": "code",
   "execution_count": 6,
   "id": "2810a8b9",
   "metadata": {},
   "outputs": [
    {
     "name": "stdout",
     "output_type": "stream",
     "text": [
      "[No], none of the UI blocks is related to the task \"Follow Elon Musk\".\n"
     ]
    }
   ],
   "source": [
    "aut.target_block_identification_by_desc('Follow Elon Mush')"
   ]
  },
  {
   "cell_type": "code",
   "execution_count": null,
   "id": "100505c8",
   "metadata": {},
   "outputs": [],
   "source": []
  },
  {
   "cell_type": "code",
   "execution_count": 12,
   "id": "5f0405ae",
   "metadata": {},
   "outputs": [],
   "source": [
    "aut.gui.show_all_elements()"
   ]
  },
  {
   "cell_type": "code",
   "execution_count": null,
   "id": "bc2e3065",
   "metadata": {},
   "outputs": [],
   "source": []
  },
  {
   "cell_type": "code",
   "execution_count": null,
   "id": "e70709ec",
   "metadata": {},
   "outputs": [],
   "source": []
  },
  {
   "cell_type": "code",
   "execution_count": 5,
   "id": "0fa73698",
   "metadata": {},
   "outputs": [
    {
     "data": {
      "text/plain": [
       "{'vh': [{'resource-id': '.twitter:id/toolbar',\n",
       "   'class': '.view.ViewGroup',\n",
       "   'clickable': True,\n",
       "   'scrollable': False,\n",
       "   'id': 2,\n",
       "   'layer': 2,\n",
       "   'children': [{'class': '.widget.ImageButton',\n",
       "     'clickable': True,\n",
       "     'id': 3,\n",
       "     'layer': 3,\n",
       "     'description': 'Show navigation drawer'},\n",
       "    {'resource-id': '.twitter:id/logo',\n",
       "     'class': '.widget.ImageView',\n",
       "     'clickable': True,\n",
       "     'id': 4,\n",
       "     'layer': 3,\n",
       "     'description': 'twitter'}]},\n",
       "  {'resource-id': '.twitter:id/tab_layout',\n",
       "   'class': '.widget.HorizontalScrollView',\n",
       "   'clickable': False,\n",
       "   'scrollable': False,\n",
       "   'id': 6,\n",
       "   'layer': 3,\n",
       "   'children': [{'class': '.widget.TextView',\n",
       "     'clickable': False,\n",
       "     'id': 7,\n",
       "     'layer': 4,\n",
       "     'description': 'For you'},\n",
       "    {'class': '.widget.TextView',\n",
       "     'clickable': True,\n",
       "     'id': 8,\n",
       "     'layer': 4,\n",
       "     'description': 'Following'}]},\n",
       "  {'resource-id': '.twitter:id/poser_write',\n",
       "   'class': '.widget.ImageButton',\n",
       "   'clickable': True,\n",
       "   'id': 84,\n",
       "   'layer': 2,\n",
       "   'description': 'add'},\n",
       "  {'resource-id': '.twitter:id/tabs',\n",
       "   'class': '.widget.HorizontalScrollView',\n",
       "   'clickable': False,\n",
       "   'scrollable': False,\n",
       "   'id': 85,\n",
       "   'layer': 2,\n",
       "   'children': [{'resource-id': '.twitter:id/channels',\n",
       "     'class': '.view.View',\n",
       "     'clickable': False,\n",
       "     'id': 86,\n",
       "     'layer': 3,\n",
       "     'description': 'close navigation drawer'},\n",
       "    {'class': '.view.View',\n",
       "     'clickable': True,\n",
       "     'id': 87,\n",
       "     'layer': 3,\n",
       "     'description': 'Search and Explore'},\n",
       "    {'resource-id': '.twitter:id/spaces',\n",
       "     'class': '.view.View',\n",
       "     'clickable': True,\n",
       "     'id': 88,\n",
       "     'layer': 3,\n",
       "     'description': 'Spaces'},\n",
       "    {'resource-id': '.twitter:id/notifications',\n",
       "     'class': '.view.View',\n",
       "     'clickable': True,\n",
       "     'id': 89,\n",
       "     'layer': 3,\n",
       "     'description': 'Notifications'},\n",
       "    {'resource-id': '.twitter:id/dms',\n",
       "     'class': '.view.View',\n",
       "     'clickable': True,\n",
       "     'id': 90,\n",
       "     'layer': 3,\n",
       "     'description': 'Messages'}]},\n",
       "  {'resource-id': ':id/statusBarBackground',\n",
       "   'class': '.view.View',\n",
       "   'clickable': False,\n",
       "   'id': 91,\n",
       "   'layer': 1}],\n",
       " 'desc': ['[Scrollable] The UI element in question appears to be a list view, where each item in the list is composed of multiple sub-elements such as a primary photo, view counts, and various action icons like chat, retweet, and like. The list view may be scrollable and allows for interaction with each item through clicking. Additionally, each item in the list may include features like social context badges, tweet headers, and tweet curation actions. There is also an element in the list that appears to promote a campaign, where users can discover different roles and how they can safeguard the skies.']}"
      ]
     },
     "execution_count": 5,
     "metadata": {},
     "output_type": "execute_result"
    }
   ],
   "source": [
    "aut.block_descriptions"
   ]
  },
  {
   "cell_type": "code",
   "execution_count": null,
   "id": "3912e710",
   "metadata": {},
   "outputs": [],
   "source": []
  },
  {
   "cell_type": "code",
   "execution_count": null,
   "id": "db847cd0",
   "metadata": {},
   "outputs": [],
   "source": []
  },
  {
   "cell_type": "code",
   "execution_count": 7,
   "id": "76e08122",
   "metadata": {},
   "outputs": [
    {
     "name": "stdout",
     "output_type": "stream",
     "text": [
      "*** Asking ***\n",
      " [{'role': 'system', 'content': 'You are a mobile virtual assistant that understands and interacts with the user interface to complete given task.'}, {'role': 'user', 'content': 'Is the given UI related to the task \\'Follow Elon Musk?\\'. Can your click on any element in it to complete the task? \\nUI block: [\\n  {\\n    \"resource-id\": \"twitter.android:id/pager\",\\n    \"class\": \"androidx.viewpager.widget.ViewPager\",\\n    \"clickable\": false,\\n    \"id\": 5\\n  },\\n  {\\n    \"resource-id\": \"twitter.android:id/view_pager\",\\n    \"class\": \"androidx.viewpager.widget.ViewPager\",\\n    \"clickable\": false,\\n    \"id\": 6\\n  },\\n  {\\n    \"resource-id\": \"twitter.android:id/nested_coordinator_layout\",\\n    \"class\": \"widget.ScrollView\",\\n    \"clickable\": false,\\n    \"id\": 11\\n  },\\n  {\\n    \"class\": \"view.ViewGroup\",\\n    \"clickable\": false,\\n    \"id\": 12\\n  },\\n  {\\n    \"resource-id\": \"android:id/list\",\\n    \"class\": \"androidx.recyclerview.widget.RecyclerView\",\\n    \"clickable\": false,\\n    \"id\": 13\\n  },\\n  {\\n    \"class\": \"view.ViewGroup\",\\n    \"clickable\": true,\\n    \"id\": 91\\n  },\\n  {\\n    \"resource-id\": \"twitter.android:id/row\",\\n    \"class\": \"view.ViewGroup\",\\n    \"clickable\": true,\\n    \"id\": 92\\n  },\\n  {\\n    \"class\": \"widget.FrameLayout\",\\n    \"clickable\": true,\\n    \"id\": 99\\n  },\\n  {\\n    \"class\": \"widget.FrameLayout\",\\n    \"clickable\": true,\\n    \"id\": 100\\n  },\\n  {\\n    \"resource-id\": \"twitter.android:id/video_container\",\\n    \"class\": \"widget.FrameLayout\",\\n    \"clickable\": true,\\n    \"id\": 101\\n  },\\n  {\\n    \"class\": \"view.ViewGroup\",\\n    \"clickable\": true,\\n    \"id\": 104\\n  },\\n  {\\n    \"class\": \"view.View\",\\n    \"clickable\": true,\\n    \"id\": 105,\\n    \"description\": \"loading wallpaper\"\\n  },\\n  {\\n    \"class\": \"view.ViewGroup\",\\n    \"clickable\": true,\\n    \"id\": 102\\n  },\\n  {\\n    \"class\": \"ddw\",\\n    \"clickable\": true,\\n    \"id\": 103,\\n    \"description\": \"loading wallpaper\"\\n  },\\n  {\\n    \"resource-id\": \"twitter.android:id/tweet_content_text\",\\n    \"class\": \"view.View\",\\n    \"clickable\": true,\\n    \"id\": 97\\n  },\\n  {\\n    \"class\": \"view.View\",\\n    \"clickable\": true,\\n    \"id\": 98,\\n    \"description\": \"Discover the roles and see how you can safeguard the skies. #WhatIsUp\"\\n  },\\n  {\\n    \"resource-id\": \"twitter.android:id/tweet_curation_action\",\\n    \"class\": \"widget.ImageView\",\\n    \"clickable\": true,\\n    \"id\": 96,\\n    \"description\": \"more\"\\n  },\\n  {\\n    \"resource-id\": \"twitter.android:id/tweet_header\",\\n    \"class\": \"view.ViewGroup\",\\n    \"clickable\": true,\\n    \"id\": 95\\n  },\\n  {\\n    \"resource-id\": \"twitter.android:id/tweet_profile_image\",\\n    \"class\": \"widget.FrameLayout\",\\n    \"clickable\": true,\\n    \"id\": 93\\n  },\\n  {\\n    \"class\": \"widget.ImageView\",\\n    \"clickable\": true,\\n    \"id\": 94,\\n    \"description\": \"avatar\"\\n  },\\n  {\\n    \"class\": \"view.ViewGroup\",\\n    \"clickable\": true,\\n    \"id\": 67\\n  },\\n  {\\n    \"resource-id\": \"twitter.android:id/row\",\\n    \"class\": \"view.ViewGroup\",\\n    \"clickable\": true,\\n    \"id\": 68\\n  },\\n  {\\n    \"class\": \"view.ViewGroup\",\\n    \"clickable\": true,\\n    \"id\": 76\\n  },\\n  {\\n    \"resource-id\": \"twitter.android:id/inline_twitter_share\",\\n    \"class\": \"view.ViewGroup\",\\n    \"clickable\": true,\\n    \"id\": 89\\n  },\\n  {\\n    \"resource-id\": \"twitter.android:id/inline_action_item_icon\",\\n    \"class\": \"widget.ImageView\",\\n    \"clickable\": true,\\n    \"id\": 90,\\n    \"description\": \"share\"\\n  },\\n  {\\n    \"resource-id\": \"twitter.android:id/inline_view_count\",\\n    \"class\": \"view.ViewGroup\",\\n    \"clickable\": true,\\n    \"id\": 86\\n  },\\n  {\\n    \"class\": \"widget.TextView\",\\n    \"clickable\": true,\\n    \"id\": 88,\\n    \"description\": \"1.3M\"\\n  },\\n  {\\n    \"resource-id\": \"twitter.android:id/inline_action_item_icon\",\\n    \"class\": \"widget.ImageView\",\\n    \"clickable\": true,\\n    \"id\": 87,\\n    \"description\": \"settings\"\\n  },\\n  {\\n    \"resource-id\": \"twitter.android:id/inline_like\",\\n    \"class\": \"view.ViewGroup\",\\n    \"clickable\": true,\\n    \"id\": 83\\n  },\\n  {\\n    \"class\": \"widget.TextView\",\\n    \"clickable\": true,\\n    \"id\": 85,\\n    \"description\": \"9,049\"\\n  },\\n  {\\n    \"resource-id\": \"twitter.android:id/inline_action_item_icon\",\\n    \"class\": \"widget.ImageView\",\\n    \"clickable\": true,\\n    \"id\": 84,\\n    \"description\": \"favorite\"\\n  },\\n  {\\n    \"resource-id\": \"twitter.android:id/inline_retweet\",\\n    \"class\": \"view.ViewGroup\",\\n    \"clickable\": true,\\n    \"id\": 80\\n  },\\n  {\\n    \"class\": \"widget.TextView\",\\n    \"clickable\": true,\\n    \"id\": 82,\\n    \"description\": \"698\"\\n  },\\n  {\\n    \"resource-id\": \"twitter.android:id/inline_action_item_icon\",\\n    \"class\": \"widget.ImageView\",\\n    \"clickable\": true,\\n    \"id\": 81,\\n    \"description\": \"switch direction\"\\n  },\\n  {\\n    \"resource-id\": \"twitter.android:id/inline_reply\",\\n    \"class\": \"view.ViewGroup\",\\n    \"clickable\": true,\\n    \"id\": 77\\n  },\\n  {\\n    \"class\": \"widget.TextView\",\\n    \"clickable\": true,\\n    \"id\": 79,\\n    \"description\": \"536\"\\n  },\\n  {\\n    \"resource-id\": \"twitter.android:id/inline_action_item_icon\",\\n    \"class\": \"widget.ImageView\",\\n    \"clickable\": true,\\n    \"id\": 78,\\n    \"description\": \"chat\"\\n  },\\n  {\\n    \"resource-id\": \"twitter.android:id/tweet_content_text\",\\n    \"class\": \"view.View\",\\n    \"clickable\": true,\\n    \"id\": 74\\n  },\\n  {\\n    \"class\": \"view.View\",\\n    \"clickable\": true,\\n    \"id\": 75,\\n    \"description\": \"!\"\\n  },\\n  {\\n    \"resource-id\": \"twitter.android:id/tweet_curation_action\",\\n    \"class\": \"widget.ImageView\",\\n    \"clickable\": true,\\n    \"id\": 73,\\n    \"description\": \"more\"\\n  },\\n  {\\n    \"resource-id\": \"twitter.android:id/tweet_header\",\\n    \"class\": \"view.ViewGroup\",\\n    \"clickable\": true,\\n    \"id\": 72\\n  },\\n  {\\n    \"resource-id\": \"twitter.android:id/tweet_profile_image\",\\n    \"class\": \"widget.FrameLayout\",\\n    \"clickable\": true,\\n    \"id\": 70\\n  },\\n  {\\n    \"class\": \"widget.ImageView\",\\n    \"clickable\": true,\\n    \"id\": 71,\\n    \"description\": \"avatar\"\\n  },\\n  {\\n    \"resource-id\": \"twitter.android:id/tweet_connector_top\",\\n    \"class\": \"view.View\",\\n    \"clickable\": true,\\n    \"id\": 69,\\n    \"description\": \"search\"\\n  },\\n  {\\n    \"class\": \"view.ViewGroup\",\\n    \"clickable\": true,\\n    \"id\": 40\\n  },\\n  {\\n    \"resource-id\": \"twitter.android:id/row\",\\n    \"class\": \"view.ViewGroup\",\\n    \"clickable\": true,\\n    \"id\": 41\\n  },\\n  {\\n    \"class\": \"view.ViewGroup\",\\n    \"clickable\": true,\\n    \"id\": 52\\n  },\\n  {\\n    \"resource-id\": \"twitter.android:id/inline_twitter_share\",\\n    \"class\": \"view.ViewGroup\",\\n    \"clickable\": true,\\n    \"id\": 65\\n  },\\n  {\\n    \"resource-id\": \"twitter.android:id/inline_action_item_icon\",\\n    \"class\": \"widget.ImageView\",\\n    \"clickable\": true,\\n    \"id\": 66,\\n    \"description\": \"share\"\\n  },\\n  {\\n    \"resource-id\": \"twitter.android:id/inline_view_count\",\\n    \"class\": \"view.ViewGroup\",\\n    \"clickable\": true,\\n    \"id\": 62\\n  },\\n  {\\n    \"class\": \"widget.TextView\",\\n    \"clickable\": true,\\n    \"id\": 64,\\n    \"description\": \"2.7M\"\\n  },\\n  {\\n    \"resource-id\": \"twitter.android:id/inline_action_item_icon\",\\n    \"class\": \"widget.ImageView\",\\n    \"clickable\": true,\\n    \"id\": 63,\\n    \"description\": \"settings\"\\n  },\\n  {\\n    \"resource-id\": \"twitter.android:id/inline_like\",\\n    \"class\": \"view.ViewGroup\",\\n    \"clickable\": true,\\n    \"id\": 59\\n  },\\n  {\\n    \"class\": \"widget.TextView\",\\n    \"clickable\": true,\\n    \"id\": 61,\\n    \"description\": \"17.8K\"\\n  },\\n  {\\n    \"resource-id\": \"twitter.android:id/inline_action_item_icon\",\\n    \"class\": \"widget.ImageView\",\\n    \"clickable\": true,\\n    \"id\": 60,\\n    \"description\": \"favorite\"\\n  },\\n  {\\n    \"resource-id\": \"twitter.android:id/inline_retweet\",\\n    \"class\": \"view.ViewGroup\",\\n    \"clickable\": true,\\n    \"id\": 56\\n  },\\n  {\\n    \"class\": \"widget.TextView\",\\n    \"clickable\": true,\\n    \"id\": 58,\\n    \"description\": \"4,727\"\\n  },\\n  {\\n    \"resource-id\": \"twitter.android:id/inline_action_item_icon\",\\n    \"class\": \"widget.ImageView\",\\n    \"clickable\": true,\\n    \"id\": 57,\\n    \"description\": \"switch direction\"\\n  },\\n  {\\n    \"resource-id\": \"twitter.android:id/inline_reply\",\\n    \"class\": \"view.ViewGroup\",\\n    \"clickable\": true,\\n    \"id\": 53\\n  },\\n  {\\n    \"class\": \"widget.TextView\",\\n    \"clickable\": true,\\n    \"id\": 55,\\n    \"description\": \"995\"\\n  },\\n  {\\n    \"resource-id\": \"twitter.android:id/inline_action_item_icon\",\\n    \"class\": \"widget.ImageView\",\\n    \"clickable\": true,\\n    \"id\": 54,\\n    \"description\": \"chat\"\\n  },\\n  {\\n    \"resource-id\": \"twitter.android:id/tweet_connector_bottom\",\\n    \"class\": \"view.View\",\\n    \"clickable\": true,\\n    \"id\": 51,\\n    \"description\": \"loading\"\\n  },\\n  {\\n    \"resource-id\": \"twitter.android:id/tweet_content_text\",\\n    \"class\": \"view.View\",\\n    \"clickable\": true,\\n    \"id\": 49\\n  },\\n  {\\n    \"class\": \"view.View\",\\n    \"clickable\": true,\\n    \"id\": 50,\\n    \"description\": \"\\\\ud83c\\\\uddf3\\\\ud83c\\\\uddf1 The Dutch government is ramping up the intimidation & obstruction tactics in light of the upcoming farmers protest in The Hague this Saturday: the mayor has said army trucks may be deployed and has ordered the farmers to not take tractors to the protest.\"\\n  },\\n  {\\n    \"resource-id\": \"twitter.android:id/tweet_curation_action\",\\n    \"class\": \"widget.ImageView\",\\n    \"clickable\": true,\\n    \"id\": 48,\\n    \"description\": \"more\"\\n  },\\n  {\\n    \"resource-id\": \"twitter.android:id/tweet_header\",\\n    \"class\": \"view.ViewGroup\",\\n    \"clickable\": true,\\n    \"id\": 47\\n  },\\n  {\\n    \"resource-id\": \"twitter.android:id/tweet_profile_image\",\\n    \"class\": \"widget.FrameLayout\",\\n    \"clickable\": true,\\n    \"id\": 45\\n  },\\n  {\\n    \"class\": \"widget.ImageView\",\\n    \"clickable\": true,\\n    \"id\": 46,\\n    \"description\": \"avatar\"\\n  },\\n  {\\n    \"resource-id\": \"twitter.android:id/tweet_social_context\",\\n    \"class\": \"view.ViewGroup\",\\n    \"clickable\": true,\\n    \"id\": 43\\n  },\\n  {\\n    \"resource-id\": \"twitter.android:id/social_context_text\",\\n    \"class\": \"widget.TextView\",\\n    \"clickable\": true,\\n    \"id\": 44,\\n    \"description\": \"Elon Musk replied\"\\n  },\\n  {\\n    \"resource-id\": \"twitter.android:id/social_context_badge\",\\n    \"class\": \"widget.ImageView\",\\n    \"clickable\": true,\\n    \"id\": 42,\\n    \"description\": \"chat\"\\n  },\\n  {\\n    \"class\": \"view.ViewGroup\",\\n    \"clickable\": true,\\n    \"id\": 14\\n  },\\n  {\\n    \"resource-id\": \"twitter.android:id/row\",\\n    \"class\": \"view.ViewGroup\",\\n    \"clickable\": true,\\n    \"id\": 15\\n  },\\n  {\\n    \"class\": \"view.ViewGroup\",\\n    \"clickable\": true,\\n    \"id\": 25\\n  },\\n  {\\n    \"resource-id\": \"twitter.android:id/inline_twitter_share\",\\n    \"class\": \"view.ViewGroup\",\\n    \"clickable\": true,\\n    \"id\": 38\\n  },\\n  {\\n    \"resource-id\": \"twitter.android:id/inline_action_item_icon\",\\n    \"class\": \"widget.ImageView\",\\n    \"clickable\": true,\\n    \"id\": 39,\\n    \"description\": \"share\"\\n  },\\n  {\\n    \"resource-id\": \"twitter.android:id/inline_view_count\",\\n    \"class\": \"view.ViewGroup\",\\n    \"clickable\": true,\\n    \"id\": 35\\n  },\\n  {\\n    \"class\": \"widget.TextView\",\\n    \"clickable\": true,\\n    \"id\": 37,\\n    \"description\": \"4,829\"\\n  },\\n  {\\n    \"resource-id\": \"twitter.android:id/inline_action_item_icon\",\\n    \"class\": \"widget.ImageView\",\\n    \"clickable\": true,\\n    \"id\": 36,\\n    \"description\": \"settings\"\\n  },\\n  {\\n    \"resource-id\": \"twitter.android:id/inline_like\",\\n    \"class\": \"view.ViewGroup\",\\n    \"clickable\": true,\\n    \"id\": 32\\n  },\\n  {\\n    \"class\": \"widget.TextView\",\\n    \"clickable\": true,\\n    \"id\": 34,\\n    \"description\": \"54\"\\n  },\\n  {\\n    \"resource-id\": \"twitter.android:id/inline_action_item_icon\",\\n    \"class\": \"widget.ImageView\",\\n    \"clickable\": true,\\n    \"id\": 33,\\n    \"description\": \"favorite\"\\n  },\\n  {\\n    \"resource-id\": \"twitter.android:id/inline_retweet\",\\n    \"class\": \"view.ViewGroup\",\\n    \"clickable\": true,\\n    \"id\": 29\\n  },\\n  {\\n    \"class\": \"widget.TextView\",\\n    \"clickable\": true,\\n    \"id\": 31,\\n    \"description\": \"11\"\\n  },\\n  {\\n    \"resource-id\": \"twitter.android:id/inline_action_item_icon\",\\n    \"class\": \"widget.ImageView\",\\n    \"clickable\": true,\\n    \"id\": 30,\\n    \"description\": \"switch direction\"\\n  },\\n  {\\n    \"resource-id\": \"twitter.android:id/inline_reply\",\\n    \"class\": \"view.ViewGroup\",\\n    \"clickable\": true,\\n    \"id\": 26\\n  },\\n  {\\n    \"class\": \"widget.TextView\",\\n    \"clickable\": true,\\n    \"id\": 28,\\n    \"description\": \"2\"\\n  },\\n  {\\n    \"resource-id\": \"twitter.android:id/inline_action_item_icon\",\\n    \"class\": \"widget.ImageView\",\\n    \"clickable\": true,\\n    \"id\": 27,\\n    \"description\": \"chat\"\\n  },\\n  {\\n    \"resource-id\": \"twitter.android:id/view_counts\",\\n    \"class\": \"widget.TextView\",\\n    \"clickable\": true,\\n    \"id\": 24,\\n    \"description\": \"1,633 views\"\\n  },\\n  {\\n    \"resource-id\": \"twitter.android:id/player\",\\n    \"class\": \"widget.FrameLayout\",\\n    \"clickable\": true,\\n    \"id\": 16\\n  },\\n  {\\n    \"class\": \"view.ViewGroup\",\\n    \"clickable\": true,\\n    \"id\": 21\\n  },\\n  {\\n    \"resource-id\": \"twitter.android:id/av_badge_duration_text\",\\n    \"class\": \"widget.TextView\",\\n    \"clickable\": true,\\n    \"id\": 23,\\n    \"description\": \"0:59\"\\n  },\\n  {\\n    \"class\": \"view.View\",\\n    \"clickable\": true,\\n    \"id\": 22,\\n    \"description\": \"primary photo\"\\n  },\\n  {\\n    \"class\": \"view.ViewGroup\",\\n    \"clickable\": true,\\n    \"id\": 19\\n  },\\n  {\\n    \"class\": \"widget.ImageView\",\\n    \"clickable\": true,\\n    \"id\": 20,\\n    \"description\": \"primary photo\"\\n  },\\n  {\\n    \"class\": \"view.ViewGroup\",\\n    \"clickable\": true,\\n    \"id\": 17\\n  },\\n  {\\n    \"class\": \"ddw\",\\n    \"clickable\": true,\\n    \"id\": 18,\\n    \"description\": \"primary photo\"\\n  },\\n  {\\n    \"resource-id\": \"twitter.android:id/tab_layout\",\\n    \"class\": \"widget.HorizontalScrollView\",\\n    \"clickable\": false,\\n    \"id\": 7\\n  },\\n  {\\n    \"class\": \"widget.LinearLayout\",\\n    \"clickable\": true,\\n    \"id\": 9\\n  },\\n  {\\n    \"class\": \"widget.TextView\",\\n    \"clickable\": true,\\n    \"id\": 10,\\n    \"description\": \"Following\"\\n  },\\n  {\\n    \"class\": \"widget.TextView\",\\n    \"clickable\": false,\\n    \"id\": 8,\\n    \"description\": \"For you\"\\n  }\\n]\\nAnswer [Yes] with the target element id (for example, \\'Yes, Element 1\\') if any or [No] if not'}]\n"
     ]
    },
    {
     "name": "stdout",
     "output_type": "stream",
     "text": [
      "\n",
      "*** Answer ***\n",
      " {\n",
      "  \"content\": \"No, there is no target element related to the task 'Follow Elon Musk' in the given UI block.\",\n",
      "  \"role\": \"assistant\"\n",
      "} \n",
      "\n"
     ]
    }
   ],
   "source": [
    "aut.one_prompt_at_once(task='Follow Elon Musk',\n",
    "                      ui=gui.flatten_block_to_elements(gui.blocks[1]),\n",
    "                      role=aut.role,\n",
    "                      printlog=True)"
   ]
  },
  {
   "cell_type": "code",
   "execution_count": 10,
   "id": "cd990867",
   "metadata": {},
   "outputs": [
    {
     "data": {
      "text/plain": [
       "[{'resource-id': 'twitter.android:id/pager',\n",
       "  'class': 'androidx.viewpager.widget.ViewPager',\n",
       "  'clickable': False,\n",
       "  'id': 5}]"
      ]
     },
     "execution_count": 10,
     "metadata": {},
     "output_type": "execute_result"
    }
   ],
   "source": [
    "gui.flatten_block_to_elements(gui.blocks[1])"
   ]
  }
 ],
 "metadata": {
  "kernelspec": {
   "display_name": "Python 3 (ipykernel)",
   "language": "python",
   "name": "python3"
  },
  "language_info": {
   "codemirror_mode": {
    "name": "ipython",
    "version": 3
   },
   "file_extension": ".py",
   "mimetype": "text/x-python",
   "name": "python",
   "nbconvert_exporter": "python",
   "pygments_lexer": "ipython3",
   "version": "3.10.10"
  }
 },
 "nbformat": 4,
 "nbformat_minor": 5
}
