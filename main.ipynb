{
 "cells": [
  {
   "cell_type": "markdown",
   "id": "5e74037e",
   "metadata": {},
   "source": [
    "## [Option 1] Load virtual device to collect the screenshot and vh"
   ]
  },
  {
   "cell_type": "markdown",
   "id": "63865543",
   "metadata": {},
   "source": [
    "### 1. Start emulator in Android studio first and run to capture screenshot and view hierarchy"
   ]
  },
  {
   "cell_type": "markdown",
   "id": "744083c1",
   "metadata": {},
   "source": [
    "Save vh `xml`, `json` and `screenshot image` to \"data/app_name/test_case_no/device\""
   ]
  },
  {
   "cell_type": "code",
   "execution_count": 1,
   "id": "7ac2619d",
   "metadata": {},
   "outputs": [
    {
     "name": "stdout",
     "output_type": "stream",
     "text": [
      "*** Save data to dir data\\twitter\\testcase1\\device ***\n",
      "Save screenshot to data\\twitter\\testcase1\\device\\0.png\n",
      "Save xml to data\\twitter\\testcase1\\device\\0.xml\n",
      "Save view hierarchy to data\\twitter\\testcase1\\device\\0.json\n",
      "Save reformatted vh to data\\twitter\\testcase1\\device\\0.json\n"
     ]
    }
   ],
   "source": [
    "from ppadb.client import Client as AdbClient\n",
    "from Device import Device\n",
    "client = AdbClient(host=\"127.0.0.1\", port=5037)\n",
    "\n",
    "device = Device(client.devices()[0], app_name='twitter', test_case_no=1)\n",
    "device.cap_screenshot()\n",
    "device.cap_vh()\n",
    "device.reformat_vh_json()"
   ]
  },
  {
   "cell_type": "markdown",
   "id": "db39844b",
   "metadata": {},
   "source": [
    "### 2. GUI information extraction and analysis"
   ]
  },
  {
   "cell_type": "markdown",
   "id": "eaef1bba",
   "metadata": {},
   "source": [
    "Extract `elements` and `element_tree` and save to \"data/app_name/test_case_no/guidata\""
   ]
  },
  {
   "cell_type": "code",
   "execution_count": 3,
   "id": "2ed8a1e1",
   "metadata": {},
   "outputs": [],
   "source": [
    "load = False"
   ]
  },
  {
   "cell_type": "code",
   "execution_count": 4,
   "id": "56542304",
   "metadata": {
    "scrolled": false
   },
   "outputs": [
    {
     "name": "stderr",
     "output_type": "stream",
     "text": [
      "C:\\Users\\xie029\\AppData\\Local\\Programs\\Python\\Python310\\lib\\site-packages\\tqdm\\auto.py:22: TqdmWarning: IProgress not found. Please update jupyter and ipywidgets. See https://ipywidgets.readthedocs.io/en/stable/user_install.html\n",
      "  from .autonotebook import tqdm as notebook_tqdm\n"
     ]
    },
    {
     "name": "stdout",
     "output_type": "stream",
     "text": [
      "Save elements to data\\twitter\\testcase1\\guidata\\0_elements.json\n"
     ]
    },
    {
     "name": "stderr",
     "output_type": "stream",
     "text": [
      "C:\\Users\\xie029\\AppData\\Local\\Programs\\Python\\Python310\\lib\\site-packages\\torch\\serialization.py:868: SourceChangeWarning: source code of class 'models.image_models.ResNetFeats' has changed. you can retrieve the original source code by accessing the object's source attribute or set `torch.nn.Module.dump_patches = True` and use the patch tool to revert the changes.\n",
      "  warnings.warn(msg, SourceChangeWarning)\n",
      "C:\\Users\\xie029\\AppData\\Local\\Programs\\Python\\Python310\\lib\\site-packages\\torch\\serialization.py:868: SourceChangeWarning: source code of class 'torch.nn.modules.container.Sequential' has changed. you can retrieve the original source code by accessing the object's source attribute or set `torch.nn.Module.dump_patches = True` and use the patch tool to revert the changes.\n",
      "  warnings.warn(msg, SourceChangeWarning)\n",
      "C:\\Users\\xie029\\AppData\\Local\\Programs\\Python\\Python310\\lib\\site-packages\\torch\\serialization.py:868: SourceChangeWarning: source code of class 'torch.nn.modules.conv.Conv2d' has changed. you can retrieve the original source code by accessing the object's source attribute or set `torch.nn.Module.dump_patches = True` and use the patch tool to revert the changes.\n",
      "  warnings.warn(msg, SourceChangeWarning)\n",
      "C:\\Users\\xie029\\AppData\\Local\\Programs\\Python\\Python310\\lib\\site-packages\\torch\\serialization.py:868: SourceChangeWarning: source code of class 'torch.nn.modules.batchnorm.BatchNorm2d' has changed. you can retrieve the original source code by accessing the object's source attribute or set `torch.nn.Module.dump_patches = True` and use the patch tool to revert the changes.\n",
      "  warnings.warn(msg, SourceChangeWarning)\n",
      "C:\\Users\\xie029\\AppData\\Local\\Programs\\Python\\Python310\\lib\\site-packages\\torch\\serialization.py:868: SourceChangeWarning: source code of class 'torch.nn.modules.activation.ReLU' has changed. you can retrieve the original source code by accessing the object's source attribute or set `torch.nn.Module.dump_patches = True` and use the patch tool to revert the changes.\n",
      "  warnings.warn(msg, SourceChangeWarning)\n",
      "C:\\Users\\xie029\\AppData\\Local\\Programs\\Python\\Python310\\lib\\site-packages\\torch\\serialization.py:868: SourceChangeWarning: source code of class 'torch.nn.modules.pooling.MaxPool2d' has changed. you can retrieve the original source code by accessing the object's source attribute or set `torch.nn.Module.dump_patches = True` and use the patch tool to revert the changes.\n",
      "  warnings.warn(msg, SourceChangeWarning)\n",
      "C:\\Users\\xie029\\AppData\\Local\\Programs\\Python\\Python310\\lib\\site-packages\\torch\\serialization.py:868: SourceChangeWarning: source code of class 'torchvision.models.resnet.Bottleneck' has changed. you can retrieve the original source code by accessing the object's source attribute or set `torch.nn.Module.dump_patches = True` and use the patch tool to revert the changes.\n",
      "  warnings.warn(msg, SourceChangeWarning)\n",
      "C:\\Users\\xie029\\AppData\\Local\\Programs\\Python\\Python310\\lib\\site-packages\\torch\\serialization.py:868: SourceChangeWarning: source code of class 'torch.nn.modules.pooling.AvgPool2d' has changed. you can retrieve the original source code by accessing the object's source attribute or set `torch.nn.Module.dump_patches = True` and use the patch tool to revert the changes.\n",
      "  warnings.warn(msg, SourceChangeWarning)\n",
      "C:\\Users\\xie029\\AppData\\Local\\Programs\\Python\\Python310\\lib\\site-packages\\torch\\serialization.py:868: SourceChangeWarning: source code of class 'torch.nn.modules.pooling.AdaptiveAvgPool2d' has changed. you can retrieve the original source code by accessing the object's source attribute or set `torch.nn.Module.dump_patches = True` and use the patch tool to revert the changes.\n",
      "  warnings.warn(msg, SourceChangeWarning)\n",
      "C:\\Users\\xie029\\AppData\\Local\\Programs\\Python\\Python310\\lib\\site-packages\\torch\\serialization.py:868: SourceChangeWarning: source code of class 'torch.nn.modules.linear.Linear' has changed. you can retrieve the original source code by accessing the object's source attribute or set `torch.nn.Module.dump_patches = True` and use the patch tool to revert the changes.\n",
      "  warnings.warn(msg, SourceChangeWarning)\n",
      "C:\\Users\\xie029\\AppData\\Local\\Programs\\Python\\Python310\\lib\\site-packages\\torch\\serialization.py:868: SourceChangeWarning: source code of class 'torch.nn.modules.batchnorm.BatchNorm1d' has changed. you can retrieve the original source code by accessing the object's source attribute or set `torch.nn.Module.dump_patches = True` and use the patch tool to revert the changes.\n",
      "  warnings.warn(msg, SourceChangeWarning)\n",
      "C:\\Users\\xie029\\AppData\\Local\\Programs\\Python\\Python310\\lib\\site-packages\\torch\\serialization.py:868: SourceChangeWarning: source code of class 'models.Transformer.Transformer' has changed. you can retrieve the original source code by accessing the object's source attribute or set `torch.nn.Module.dump_patches = True` and use the patch tool to revert the changes.\n",
      "  warnings.warn(msg, SourceChangeWarning)\n",
      "C:\\Users\\xie029\\AppData\\Local\\Programs\\Python\\Python310\\lib\\site-packages\\torch\\serialization.py:868: SourceChangeWarning: source code of class 'torch.nn.modules.dropout.Dropout' has changed. you can retrieve the original source code by accessing the object's source attribute or set `torch.nn.Module.dump_patches = True` and use the patch tool to revert the changes.\n",
      "  warnings.warn(msg, SourceChangeWarning)\n",
      "C:\\Users\\xie029\\AppData\\Local\\Programs\\Python\\Python310\\lib\\site-packages\\torch\\serialization.py:868: SourceChangeWarning: source code of class 'torch.nn.modules.container.ModuleList' has changed. you can retrieve the original source code by accessing the object's source attribute or set `torch.nn.Module.dump_patches = True` and use the patch tool to revert the changes.\n",
      "  warnings.warn(msg, SourceChangeWarning)\n",
      "C:\\Users\\xie029\\AppData\\Local\\Programs\\Python\\Python310\\lib\\site-packages\\torch\\serialization.py:868: SourceChangeWarning: source code of class 'torch.nn.modules.linear.Identity' has changed. you can retrieve the original source code by accessing the object's source attribute or set `torch.nn.Module.dump_patches = True` and use the patch tool to revert the changes.\n",
      "  warnings.warn(msg, SourceChangeWarning)\n",
      "C:\\Users\\xie029\\AppData\\Local\\Programs\\Python\\Python310\\lib\\site-packages\\torch\\serialization.py:868: SourceChangeWarning: source code of class 'torch.nn.modules.sparse.Embedding' has changed. you can retrieve the original source code by accessing the object's source attribute or set `torch.nn.Module.dump_patches = True` and use the patch tool to revert the changes.\n",
      "  warnings.warn(msg, SourceChangeWarning)\n"
     ]
    },
    {
     "name": "stdout",
     "output_type": "stream",
     "text": [
      "Save elements to data\\twitter\\testcase1\\guidata\\0_elements.json\n",
      "Save element tree to data\\twitter\\testcase1\\guidata\\0_tree.json\n"
     ]
    }
   ],
   "source": [
    "from GUIData import GUIData\n",
    "gui = GUIData(gui_img_file=device.output_file_path_screenshot,\n",
    "             gui_json_file=device.output_file_path_json,\n",
    "             output_file_root=device.testcase_save_dir)\n",
    "# load previous result\n",
    "if load:\n",
    "    gui.load_elements()\n",
    "# process from scratch\n",
    "else:\n",
    "    gui.ui_info_extraction()\n",
    "    gui.ui_analysis_elements_description()\n",
    "    gui.ui_element_block_tree()\n",
    "gui.show_all_elements(only_leaves=True)"
   ]
  },
  {
   "cell_type": "markdown",
   "id": "3470a9cd",
   "metadata": {},
   "source": [
    "### 3. UI Automator to connect with ChatGPT and ask AI Chain questions"
   ]
  },
  {
   "cell_type": "markdown",
   "id": "2c93a159",
   "metadata": {},
   "source": [
    "Generate `description for blocks` and ask a chain of questions to identify `target block` and `target element` related to the task, save to \"data/app_name/test_case_no/automator\""
   ]
  },
  {
   "cell_type": "code",
   "execution_count": 5,
   "id": "468d5e97",
   "metadata": {},
   "outputs": [
    {
     "name": "stdout",
     "output_type": "stream",
     "text": [
      "------ Generate Block Descriptions ------\n",
      "[Not Scrollable] The code snippet is describing a UI element with the resource ID 'google.apps.nexuslauncher:id/scrim_view'. This element is a View object that cannot be clicked, as indicated by the \"clickable\" attribute being set to \"False\". The \"description\" attribute is set to \"more\", which might suggest that this UI element functions as a button or link that expands or reveals additional content when clicked. Without additional context, however, it is difficult to determine the full extent of this UI element's functionality.\n",
      "[Scrollable] This code snippet describes a part of the UI in the Nexus Launcher app for Android. It is a scrollable view that contains a ViewPager widget, which displays content such as the date and time and social media updates. The user can interact with the ViewPager by swiping left or right to view different pieces of content. The UI also includes clickable text elements such as the date and social media updates, which allow the user to navigate to other parts of the app or external links. Overall, this UI section provides a convenient way for the user to access and view personalized information in a single location.\n",
      "[Not Scrollable] This code snippet describes a view element in the user interface. The view is called \"Home\" and has an ID of 10. The clickable property is set to false, meaning that the user cannot interact with the view by clicking on it. The description property provides a brief description of the view. Overall, this view element serves as a non-interactive display element in the UI that provides information or content to the user.\n",
      "[Not Scrollable] This code snippet describes a UI component represented by a page indicator on the Google Nexus Launcher app. The page indicator does not have the attribute \"clickable\" set to True, which means that it is not designed to be interacted with. It is identified by a unique resource ID for the purpose of locating and manipulating it within the app's UI. Additionally, the component has a descriptive text attribute that reads \"navigate up\" which may provide a hint to the user about its intended use. Overall, the page indicator serves to visually communicate to the user their current position and available options within the app.\n",
      "[Not Scrollable] The code snippet describes the hotseat section of the Google Nexus Launcher UI. The hotseat section is the fixed rows of applications or widgets that appear at the bottom of the screen of most Android devices. The hotseat contains five icons (Phone, Messages, Play Store, Chrome, and Camera) that can be clicked to launch the respective app. Additionally, the hotseat contains a search container which allows the user to perform a Google search or activate Google Assistant via voice search or Google Lens. The hotseat section provides easy access to frequently used applications and quick search functionality.\n",
      "\n",
      "------ Target Block Identification ------\n",
      "No, none of the blocks seem related to the task \"Open twitter\".\n",
      "\n",
      "------ Scrollable Block Check ------\n",
      "Yes, it is possible that the UI elements related to the task \"Open twitter\" could be within a scrollable block and they would show up after a scroll. The most related block for this task would be Block 1, as it contains a ViewPager widget that displays social media updates, which could potentially include a Twitter update. However, without additional context, it is impossible to determine if this block contains UI elements specifically related to the task of opening Twitter.\n",
      "*** Scroll [BLock 1] ***\n",
      "\n",
      "====== Identify the target element in Block 1 ======\n",
      "\n",
      "------ Task Completion Check ------\n",
      "No, there doesn't seem to be a direct element in the UI block that can be clicked to open Twitter.\n",
      "\n",
      "------ Intermediate Element Check ------\n",
      "No, unfortunately, the UI block provided doesn't contain any elements related to opening Twitter. Could you please provide me with a UI block that is more specific to the task at hand?\n",
      "*** No related elements ***\n"
     ]
    }
   ],
   "source": [
    "from Automator import Automator\n",
    "aut = Automator(gui)\n",
    "aut.ai_chain('Open twitter')"
   ]
  },
  {
   "cell_type": "code",
   "execution_count": null,
   "id": "5d706302",
   "metadata": {},
   "outputs": [
    {
     "name": "stdout",
     "output_type": "stream",
     "text": [
      "{'resource-id': 'google.apps.nexuslauncher:id/scrim_view', 'class': 'view.View', 'clickable': False, 'id': 1, 'description': 'more'}\n",
      "{'resource-id': 'google.apps.nexuslauncher:id/workspace', 'class': 'widget.ScrollView', 'clickable': False, 'id': 2, 'children': [{'class': 'view.ViewGroup', 'clickable': False, 'id': 3, 'children': [{'class': 'view.ViewGroup', 'clickable': False, 'id': 4, 'children': [{'resource-id': 'google.apps.nexuslauncher:id/smartspace_card_pager', 'class': 'androidx.viewpager.widget.ViewPager', 'clickable': False, 'id': 5, 'children': [{'class': 'view.ViewGroup', 'clickable': True, 'id': 6, 'children': [{'resource-id': 'google.apps.nexuslauncher:id/date', 'class': 'widget.TextView', 'clickable': True, 'id': 7, 'description': 'Sat, Mar 11 / Sat, Mar 11'}, {'resource-id': 'google.apps.nexuslauncher:id/smartspace_subtitle_group', 'class': 'view.ViewGroup', 'clickable': True, 'id': 8, 'description': 'navigate up'}]}]}, {'class': 'widget.TextView', 'clickable': True, 'id': 9, 'description': 'Twitter / Twitter'}]}]}]}\n"
     ]
    }
   ],
   "source": [
    "gui.show_blocks()"
   ]
  },
  {
   "cell_type": "markdown",
   "id": "3d0d246c",
   "metadata": {},
   "source": [
    "## [Option 2] (For testing) Directly load GUI from image and json"
   ]
  },
  {
   "cell_type": "markdown",
   "id": "4309f1bd",
   "metadata": {},
   "source": [
    "### 1. Load GUI"
   ]
  },
  {
   "cell_type": "code",
   "execution_count": 1,
   "id": "5a112b5e",
   "metadata": {},
   "outputs": [],
   "source": [
    "load = True"
   ]
  },
  {
   "cell_type": "code",
   "execution_count": 2,
   "id": "85553631",
   "metadata": {
    "scrolled": false
   },
   "outputs": [
    {
     "name": "stderr",
     "output_type": "stream",
     "text": [
      "C:\\Users\\xie029\\AppData\\Local\\Programs\\Python\\Python310\\lib\\site-packages\\tqdm\\auto.py:22: TqdmWarning: IProgress not found. Please update jupyter and ipywidgets. See https://ipywidgets.readthedocs.io/en/stable/user_install.html\n",
      "  from .autonotebook import tqdm as notebook_tqdm\n"
     ]
    },
    {
     "name": "stdout",
     "output_type": "stream",
     "text": [
      "Load elements from data/twitter/testcase1\\guidata\\0_elements.json\n",
      "Load element tree from data/twitter/testcase1\\guidata\\0_tree.json\n"
     ]
    }
   ],
   "source": [
    "from GUIData import GUIData\n",
    "gui = GUIData(gui_img_file='data/twitter/testcase1/device/0.png',\n",
    "              gui_json_file='data/twitter/testcase1/device/0.json',\n",
    "              output_file_root='data/twitter/testcase1')\n",
    "# load previous result\n",
    "if load:\n",
    "    gui.load_elements()\n",
    "# process from scratch\n",
    "else:\n",
    "    gui.ui_info_extraction()\n",
    "    gui.ui_analysis_elements_description()\n",
    "    gui.ui_element_block_tree()\n",
    "gui.show_all_elements(only_leaves=False)\n",
    "# gui.show_each_element(only_leaves=False)"
   ]
  },
  {
   "cell_type": "markdown",
   "id": "bdbe9cb8",
   "metadata": {},
   "source": [
    "### 2. Load automator"
   ]
  },
  {
   "cell_type": "code",
   "execution_count": 3,
   "id": "ba49063e",
   "metadata": {},
   "outputs": [
    {
     "name": "stdout",
     "output_type": "stream",
     "text": [
      "Load block description from data/twitter/testcase1\\automator\\0_block_desc.json\n",
      "\n",
      "------ Target Block Identification ------\n",
      "Yes, Block 1 is the most related to completing the task \"Open Twitter\" as it describes a part of the UI that contains an image button for composing a new tweet in the Twitter Android application, and clicking on it will open the app.\n",
      "\n",
      "------ Task Completion Check ------\n"
     ]
    },
    {
     "ename": "InvalidRequestError",
     "evalue": "This model's maximum context length is 4097 tokens. However, your messages resulted in 4353 tokens. Please reduce the length of the messages.",
     "output_type": "error",
     "traceback": [
      "\u001b[1;31m---------------------------------------------------------------------------\u001b[0m",
      "\u001b[1;31mInvalidRequestError\u001b[0m                       Traceback (most recent call last)",
      "Cell \u001b[1;32mIn[3], line 5\u001b[0m\n\u001b[0;32m      3\u001b[0m \u001b[38;5;28;01mif\u001b[39;00m load:\n\u001b[0;32m      4\u001b[0m     aut\u001b[38;5;241m.\u001b[39mload_block_descriptions()\n\u001b[1;32m----> 5\u001b[0m \u001b[43maut\u001b[49m\u001b[38;5;241;43m.\u001b[39;49m\u001b[43mai_chain\u001b[49m\u001b[43m(\u001b[49m\u001b[38;5;124;43m'\u001b[39;49m\u001b[38;5;124;43mOpen Twitter\u001b[39;49m\u001b[38;5;124;43m'\u001b[39;49m\u001b[43m,\u001b[49m\u001b[43m \u001b[49m\u001b[43mshow_block\u001b[49m\u001b[38;5;241;43m=\u001b[39;49m\u001b[38;5;28;43;01mFalse\u001b[39;49;00m\u001b[43m,\u001b[49m\u001b[43m \u001b[49m\u001b[43mload_block_desc\u001b[49m\u001b[38;5;241;43m=\u001b[39;49m\u001b[43mload\u001b[49m\u001b[43m)\u001b[49m\n",
      "File \u001b[1;32mC:\\Mulong\\Code\\UI-Automation\\Automator.py:49\u001b[0m, in \u001b[0;36mAutomator.ai_chain\u001b[1;34m(self, task, show_block, load_block_desc)\u001b[0m\n\u001b[0;32m     46\u001b[0m \u001b[38;5;66;03m# identify the target element if the block is directly related\u001b[39;00m\n\u001b[0;32m     47\u001b[0m \u001b[38;5;28;01mif\u001b[39;00m \u001b[38;5;124m'\u001b[39m\u001b[38;5;124mYes\u001b[39m\u001b[38;5;124m'\u001b[39m \u001b[38;5;129;01min\u001b[39;00m \u001b[38;5;28mself\u001b[39m\u001b[38;5;241m.\u001b[39mblock_identification:\n\u001b[0;32m     48\u001b[0m     \u001b[38;5;66;03m# *** 1.1 Identify target element in related block\u001b[39;00m\n\u001b[1;32m---> 49\u001b[0m     ele_id \u001b[38;5;241m=\u001b[39m \u001b[38;5;28;43mself\u001b[39;49m\u001b[38;5;241;43m.\u001b[39;49m\u001b[43mai_chain_element\u001b[49m\u001b[43m(\u001b[49m\u001b[43mblock_id\u001b[49m\u001b[38;5;241;43m=\u001b[39;49m\u001b[38;5;28;43mself\u001b[39;49m\u001b[38;5;241;43m.\u001b[39;49m\u001b[43mextract_block_id_from_sentence\u001b[49m\u001b[43m(\u001b[49m\u001b[38;5;28;43mself\u001b[39;49m\u001b[38;5;241;43m.\u001b[39;49m\u001b[43mblock_identification\u001b[49m\u001b[43m)\u001b[49m\u001b[43m,\u001b[49m\u001b[43m \u001b[49m\u001b[43mtask\u001b[49m\u001b[38;5;241;43m=\u001b[39;49m\u001b[43mtask\u001b[49m\u001b[43m)\u001b[49m\n\u001b[0;32m     50\u001b[0m     \u001b[38;5;28;01mif\u001b[39;00m ele_id:\n\u001b[0;32m     51\u001b[0m         \u001b[38;5;28;01mreturn\u001b[39;00m \u001b[38;5;124m'\u001b[39m\u001b[38;5;124mclick\u001b[39m\u001b[38;5;124m'\u001b[39m, ele_id\n",
      "File \u001b[1;32mC:\\Mulong\\Code\\UI-Automation\\Automator.py:145\u001b[0m, in \u001b[0;36mAutomator.ai_chain_element\u001b[1;34m(self, block_id, task)\u001b[0m\n\u001b[0;32m    143\u001b[0m target_block \u001b[38;5;241m=\u001b[39m \u001b[38;5;28mself\u001b[39m\u001b[38;5;241m.\u001b[39mgui\u001b[38;5;241m.\u001b[39mblocks[block_id]\n\u001b[0;32m    144\u001b[0m \u001b[38;5;66;03m# check if the task can be completed directly\u001b[39;00m\n\u001b[1;32m--> 145\u001b[0m \u001b[38;5;28;43mself\u001b[39;49m\u001b[38;5;241;43m.\u001b[39;49m\u001b[43mtask_completion_check\u001b[49m\u001b[43m(\u001b[49m\u001b[43mtarget_block\u001b[49m\u001b[43m,\u001b[49m\u001b[43m \u001b[49m\u001b[43mtask\u001b[49m\u001b[43m)\u001b[49m\n\u001b[0;32m    146\u001b[0m \u001b[38;5;28;01mif\u001b[39;00m \u001b[38;5;124m'\u001b[39m\u001b[38;5;124mYes\u001b[39m\u001b[38;5;124m'\u001b[39m \u001b[38;5;129;01min\u001b[39;00m \u001b[38;5;28mself\u001b[39m\u001b[38;5;241m.\u001b[39melement_complete:\n\u001b[0;32m    147\u001b[0m     element_id \u001b[38;5;241m=\u001b[39m \u001b[38;5;28mself\u001b[39m\u001b[38;5;241m.\u001b[39mextract_element_id_from_sentence(\u001b[38;5;28mself\u001b[39m\u001b[38;5;241m.\u001b[39melement_complete)\n",
      "File \u001b[1;32mC:\\Mulong\\Code\\UI-Automation\\Automator.py:170\u001b[0m, in \u001b[0;36mAutomator.task_completion_check\u001b[1;34m(self, target_block, task)\u001b[0m\n\u001b[0;32m    168\u001b[0m \u001b[38;5;28mself\u001b[39m\u001b[38;5;241m.\u001b[39mchain_element \u001b[38;5;241m=\u001b[39m [{\u001b[38;5;124m'\u001b[39m\u001b[38;5;124mrole\u001b[39m\u001b[38;5;124m'\u001b[39m: \u001b[38;5;124m'\u001b[39m\u001b[38;5;124msystem\u001b[39m\u001b[38;5;124m'\u001b[39m, \u001b[38;5;124m'\u001b[39m\u001b[38;5;124mcontent\u001b[39m\u001b[38;5;124m'\u001b[39m: \u001b[38;5;28mself\u001b[39m\u001b[38;5;241m.\u001b[39mrole}]\n\u001b[0;32m    169\u001b[0m \u001b[38;5;28mself\u001b[39m\u001b[38;5;241m.\u001b[39mchain_element\u001b[38;5;241m.\u001b[39mappend(prompt)\n\u001b[1;32m--> 170\u001b[0m \u001b[38;5;28mself\u001b[39m\u001b[38;5;241m.\u001b[39mchain_element\u001b[38;5;241m.\u001b[39mappend(\u001b[38;5;28;43mself\u001b[39;49m\u001b[38;5;241;43m.\u001b[39;49m\u001b[43mask_openai_conversation\u001b[49m\u001b[43m(\u001b[49m\u001b[38;5;28;43mself\u001b[39;49m\u001b[38;5;241;43m.\u001b[39;49m\u001b[43mchain_element\u001b[49m\u001b[43m)\u001b[49m)\n\u001b[0;32m    171\u001b[0m \u001b[38;5;28mself\u001b[39m\u001b[38;5;241m.\u001b[39melement_complete \u001b[38;5;241m=\u001b[39m \u001b[38;5;28mself\u001b[39m\u001b[38;5;241m.\u001b[39mchain_element[\u001b[38;5;241m-\u001b[39m\u001b[38;5;241m1\u001b[39m][\u001b[38;5;124m'\u001b[39m\u001b[38;5;124mcontent\u001b[39m\u001b[38;5;124m'\u001b[39m]\n\u001b[0;32m    172\u001b[0m \u001b[38;5;28mprint\u001b[39m(\u001b[38;5;28mself\u001b[39m\u001b[38;5;241m.\u001b[39melement_complete)\n",
      "File \u001b[1;32mC:\\Mulong\\Code\\UI-Automation\\Automator.py:266\u001b[0m, in \u001b[0;36mAutomator.ask_openai_conversation\u001b[1;34m(self, conversation, printlog)\u001b[0m\n\u001b[0;32m    264\u001b[0m \u001b[38;5;28;01mif\u001b[39;00m printlog:\n\u001b[0;32m    265\u001b[0m     \u001b[38;5;28mprint\u001b[39m(\u001b[38;5;124m'\u001b[39m\u001b[38;5;124m*** Asking ***\u001b[39m\u001b[38;5;130;01m\\n\u001b[39;00m\u001b[38;5;124m'\u001b[39m, conversation)\n\u001b[1;32m--> 266\u001b[0m resp \u001b[38;5;241m=\u001b[39m \u001b[43mopenai\u001b[49m\u001b[38;5;241;43m.\u001b[39;49m\u001b[43mChatCompletion\u001b[49m\u001b[38;5;241;43m.\u001b[39;49m\u001b[43mcreate\u001b[49m\u001b[43m(\u001b[49m\n\u001b[0;32m    267\u001b[0m \u001b[43m        \u001b[49m\u001b[43mmodel\u001b[49m\u001b[38;5;241;43m=\u001b[39;49m\u001b[38;5;124;43m\"\u001b[39;49m\u001b[38;5;124;43mgpt-3.5-turbo\u001b[39;49m\u001b[38;5;124;43m\"\u001b[39;49m\u001b[43m,\u001b[49m\n\u001b[0;32m    268\u001b[0m \u001b[43m        \u001b[49m\u001b[43mmessages\u001b[49m\u001b[38;5;241;43m=\u001b[39;49m\u001b[43mconversation\u001b[49m\n\u001b[0;32m    269\u001b[0m \u001b[43m    \u001b[49m\u001b[43m)\u001b[49m\n\u001b[0;32m    270\u001b[0m \u001b[38;5;28;01mif\u001b[39;00m printlog:\n\u001b[0;32m    271\u001b[0m     \u001b[38;5;28mprint\u001b[39m(\u001b[38;5;124m'\u001b[39m\u001b[38;5;130;01m\\n\u001b[39;00m\u001b[38;5;124m*** Answer ***\u001b[39m\u001b[38;5;130;01m\\n\u001b[39;00m\u001b[38;5;124m'\u001b[39m, resp[\u001b[38;5;124m'\u001b[39m\u001b[38;5;124mchoices\u001b[39m\u001b[38;5;124m'\u001b[39m][\u001b[38;5;241m0\u001b[39m]\u001b[38;5;241m.\u001b[39mmessage, \u001b[38;5;124m'\u001b[39m\u001b[38;5;130;01m\\n\u001b[39;00m\u001b[38;5;124m'\u001b[39m)\n",
      "File \u001b[1;32m~\\AppData\\Local\\Programs\\Python\\Python310\\lib\\site-packages\\openai\\api_resources\\chat_completion.py:25\u001b[0m, in \u001b[0;36mChatCompletion.create\u001b[1;34m(cls, *args, **kwargs)\u001b[0m\n\u001b[0;32m     23\u001b[0m \u001b[38;5;28;01mwhile\u001b[39;00m \u001b[38;5;28;01mTrue\u001b[39;00m:\n\u001b[0;32m     24\u001b[0m     \u001b[38;5;28;01mtry\u001b[39;00m:\n\u001b[1;32m---> 25\u001b[0m         \u001b[38;5;28;01mreturn\u001b[39;00m \u001b[38;5;28msuper\u001b[39m()\u001b[38;5;241m.\u001b[39mcreate(\u001b[38;5;241m*\u001b[39margs, \u001b[38;5;241m*\u001b[39m\u001b[38;5;241m*\u001b[39mkwargs)\n\u001b[0;32m     26\u001b[0m     \u001b[38;5;28;01mexcept\u001b[39;00m TryAgain \u001b[38;5;28;01mas\u001b[39;00m e:\n\u001b[0;32m     27\u001b[0m         \u001b[38;5;28;01mif\u001b[39;00m timeout \u001b[38;5;129;01mis\u001b[39;00m \u001b[38;5;129;01mnot\u001b[39;00m \u001b[38;5;28;01mNone\u001b[39;00m \u001b[38;5;129;01mand\u001b[39;00m time\u001b[38;5;241m.\u001b[39mtime() \u001b[38;5;241m>\u001b[39m start \u001b[38;5;241m+\u001b[39m timeout:\n",
      "File \u001b[1;32m~\\AppData\\Local\\Programs\\Python\\Python310\\lib\\site-packages\\openai\\api_resources\\abstract\\engine_api_resource.py:153\u001b[0m, in \u001b[0;36mEngineAPIResource.create\u001b[1;34m(cls, api_key, api_base, api_type, request_id, api_version, organization, **params)\u001b[0m\n\u001b[0;32m    127\u001b[0m \u001b[38;5;129m@classmethod\u001b[39m\n\u001b[0;32m    128\u001b[0m \u001b[38;5;28;01mdef\u001b[39;00m \u001b[38;5;21mcreate\u001b[39m(\n\u001b[0;32m    129\u001b[0m     \u001b[38;5;28mcls\u001b[39m,\n\u001b[1;32m   (...)\u001b[0m\n\u001b[0;32m    136\u001b[0m     \u001b[38;5;241m*\u001b[39m\u001b[38;5;241m*\u001b[39mparams,\n\u001b[0;32m    137\u001b[0m ):\n\u001b[0;32m    138\u001b[0m     (\n\u001b[0;32m    139\u001b[0m         deployment_id,\n\u001b[0;32m    140\u001b[0m         engine,\n\u001b[1;32m   (...)\u001b[0m\n\u001b[0;32m    150\u001b[0m         api_key, api_base, api_type, api_version, organization, \u001b[38;5;241m*\u001b[39m\u001b[38;5;241m*\u001b[39mparams\n\u001b[0;32m    151\u001b[0m     )\n\u001b[1;32m--> 153\u001b[0m     response, _, api_key \u001b[38;5;241m=\u001b[39m \u001b[43mrequestor\u001b[49m\u001b[38;5;241;43m.\u001b[39;49m\u001b[43mrequest\u001b[49m\u001b[43m(\u001b[49m\n\u001b[0;32m    154\u001b[0m \u001b[43m        \u001b[49m\u001b[38;5;124;43m\"\u001b[39;49m\u001b[38;5;124;43mpost\u001b[39;49m\u001b[38;5;124;43m\"\u001b[39;49m\u001b[43m,\u001b[49m\n\u001b[0;32m    155\u001b[0m \u001b[43m        \u001b[49m\u001b[43murl\u001b[49m\u001b[43m,\u001b[49m\n\u001b[0;32m    156\u001b[0m \u001b[43m        \u001b[49m\u001b[43mparams\u001b[49m\u001b[38;5;241;43m=\u001b[39;49m\u001b[43mparams\u001b[49m\u001b[43m,\u001b[49m\n\u001b[0;32m    157\u001b[0m \u001b[43m        \u001b[49m\u001b[43mheaders\u001b[49m\u001b[38;5;241;43m=\u001b[39;49m\u001b[43mheaders\u001b[49m\u001b[43m,\u001b[49m\n\u001b[0;32m    158\u001b[0m \u001b[43m        \u001b[49m\u001b[43mstream\u001b[49m\u001b[38;5;241;43m=\u001b[39;49m\u001b[43mstream\u001b[49m\u001b[43m,\u001b[49m\n\u001b[0;32m    159\u001b[0m \u001b[43m        \u001b[49m\u001b[43mrequest_id\u001b[49m\u001b[38;5;241;43m=\u001b[39;49m\u001b[43mrequest_id\u001b[49m\u001b[43m,\u001b[49m\n\u001b[0;32m    160\u001b[0m \u001b[43m        \u001b[49m\u001b[43mrequest_timeout\u001b[49m\u001b[38;5;241;43m=\u001b[39;49m\u001b[43mrequest_timeout\u001b[49m\u001b[43m,\u001b[49m\n\u001b[0;32m    161\u001b[0m \u001b[43m    \u001b[49m\u001b[43m)\u001b[49m\n\u001b[0;32m    163\u001b[0m     \u001b[38;5;28;01mif\u001b[39;00m stream:\n\u001b[0;32m    164\u001b[0m         \u001b[38;5;66;03m# must be an iterator\u001b[39;00m\n\u001b[0;32m    165\u001b[0m         \u001b[38;5;28;01massert\u001b[39;00m \u001b[38;5;129;01mnot\u001b[39;00m \u001b[38;5;28misinstance\u001b[39m(response, OpenAIResponse)\n",
      "File \u001b[1;32m~\\AppData\\Local\\Programs\\Python\\Python310\\lib\\site-packages\\openai\\api_requestor.py:226\u001b[0m, in \u001b[0;36mAPIRequestor.request\u001b[1;34m(self, method, url, params, headers, files, stream, request_id, request_timeout)\u001b[0m\n\u001b[0;32m    205\u001b[0m \u001b[38;5;28;01mdef\u001b[39;00m \u001b[38;5;21mrequest\u001b[39m(\n\u001b[0;32m    206\u001b[0m     \u001b[38;5;28mself\u001b[39m,\n\u001b[0;32m    207\u001b[0m     method,\n\u001b[1;32m   (...)\u001b[0m\n\u001b[0;32m    214\u001b[0m     request_timeout: Optional[Union[\u001b[38;5;28mfloat\u001b[39m, Tuple[\u001b[38;5;28mfloat\u001b[39m, \u001b[38;5;28mfloat\u001b[39m]]] \u001b[38;5;241m=\u001b[39m \u001b[38;5;28;01mNone\u001b[39;00m,\n\u001b[0;32m    215\u001b[0m ) \u001b[38;5;241m-\u001b[39m\u001b[38;5;241m>\u001b[39m Tuple[Union[OpenAIResponse, Iterator[OpenAIResponse]], \u001b[38;5;28mbool\u001b[39m, \u001b[38;5;28mstr\u001b[39m]:\n\u001b[0;32m    216\u001b[0m     result \u001b[38;5;241m=\u001b[39m \u001b[38;5;28mself\u001b[39m\u001b[38;5;241m.\u001b[39mrequest_raw(\n\u001b[0;32m    217\u001b[0m         method\u001b[38;5;241m.\u001b[39mlower(),\n\u001b[0;32m    218\u001b[0m         url,\n\u001b[1;32m   (...)\u001b[0m\n\u001b[0;32m    224\u001b[0m         request_timeout\u001b[38;5;241m=\u001b[39mrequest_timeout,\n\u001b[0;32m    225\u001b[0m     )\n\u001b[1;32m--> 226\u001b[0m     resp, got_stream \u001b[38;5;241m=\u001b[39m \u001b[38;5;28;43mself\u001b[39;49m\u001b[38;5;241;43m.\u001b[39;49m\u001b[43m_interpret_response\u001b[49m\u001b[43m(\u001b[49m\u001b[43mresult\u001b[49m\u001b[43m,\u001b[49m\u001b[43m \u001b[49m\u001b[43mstream\u001b[49m\u001b[43m)\u001b[49m\n\u001b[0;32m    227\u001b[0m     \u001b[38;5;28;01mreturn\u001b[39;00m resp, got_stream, \u001b[38;5;28mself\u001b[39m\u001b[38;5;241m.\u001b[39mapi_key\n",
      "File \u001b[1;32m~\\AppData\\Local\\Programs\\Python\\Python310\\lib\\site-packages\\openai\\api_requestor.py:619\u001b[0m, in \u001b[0;36mAPIRequestor._interpret_response\u001b[1;34m(self, result, stream)\u001b[0m\n\u001b[0;32m    611\u001b[0m     \u001b[38;5;28;01mreturn\u001b[39;00m (\n\u001b[0;32m    612\u001b[0m         \u001b[38;5;28mself\u001b[39m\u001b[38;5;241m.\u001b[39m_interpret_response_line(\n\u001b[0;32m    613\u001b[0m             line, result\u001b[38;5;241m.\u001b[39mstatus_code, result\u001b[38;5;241m.\u001b[39mheaders, stream\u001b[38;5;241m=\u001b[39m\u001b[38;5;28;01mTrue\u001b[39;00m\n\u001b[0;32m    614\u001b[0m         )\n\u001b[0;32m    615\u001b[0m         \u001b[38;5;28;01mfor\u001b[39;00m line \u001b[38;5;129;01min\u001b[39;00m parse_stream(result\u001b[38;5;241m.\u001b[39miter_lines())\n\u001b[0;32m    616\u001b[0m     ), \u001b[38;5;28;01mTrue\u001b[39;00m\n\u001b[0;32m    617\u001b[0m \u001b[38;5;28;01melse\u001b[39;00m:\n\u001b[0;32m    618\u001b[0m     \u001b[38;5;28;01mreturn\u001b[39;00m (\n\u001b[1;32m--> 619\u001b[0m         \u001b[38;5;28;43mself\u001b[39;49m\u001b[38;5;241;43m.\u001b[39;49m\u001b[43m_interpret_response_line\u001b[49m\u001b[43m(\u001b[49m\n\u001b[0;32m    620\u001b[0m \u001b[43m            \u001b[49m\u001b[43mresult\u001b[49m\u001b[38;5;241;43m.\u001b[39;49m\u001b[43mcontent\u001b[49m\u001b[38;5;241;43m.\u001b[39;49m\u001b[43mdecode\u001b[49m\u001b[43m(\u001b[49m\u001b[38;5;124;43m\"\u001b[39;49m\u001b[38;5;124;43mutf-8\u001b[39;49m\u001b[38;5;124;43m\"\u001b[39;49m\u001b[43m)\u001b[49m\u001b[43m,\u001b[49m\n\u001b[0;32m    621\u001b[0m \u001b[43m            \u001b[49m\u001b[43mresult\u001b[49m\u001b[38;5;241;43m.\u001b[39;49m\u001b[43mstatus_code\u001b[49m\u001b[43m,\u001b[49m\n\u001b[0;32m    622\u001b[0m \u001b[43m            \u001b[49m\u001b[43mresult\u001b[49m\u001b[38;5;241;43m.\u001b[39;49m\u001b[43mheaders\u001b[49m\u001b[43m,\u001b[49m\n\u001b[0;32m    623\u001b[0m \u001b[43m            \u001b[49m\u001b[43mstream\u001b[49m\u001b[38;5;241;43m=\u001b[39;49m\u001b[38;5;28;43;01mFalse\u001b[39;49;00m\u001b[43m,\u001b[49m\n\u001b[0;32m    624\u001b[0m \u001b[43m        \u001b[49m\u001b[43m)\u001b[49m,\n\u001b[0;32m    625\u001b[0m         \u001b[38;5;28;01mFalse\u001b[39;00m,\n\u001b[0;32m    626\u001b[0m     )\n",
      "File \u001b[1;32m~\\AppData\\Local\\Programs\\Python\\Python310\\lib\\site-packages\\openai\\api_requestor.py:679\u001b[0m, in \u001b[0;36mAPIRequestor._interpret_response_line\u001b[1;34m(self, rbody, rcode, rheaders, stream)\u001b[0m\n\u001b[0;32m    677\u001b[0m stream_error \u001b[38;5;241m=\u001b[39m stream \u001b[38;5;129;01mand\u001b[39;00m \u001b[38;5;124m\"\u001b[39m\u001b[38;5;124merror\u001b[39m\u001b[38;5;124m\"\u001b[39m \u001b[38;5;129;01min\u001b[39;00m resp\u001b[38;5;241m.\u001b[39mdata\n\u001b[0;32m    678\u001b[0m \u001b[38;5;28;01mif\u001b[39;00m stream_error \u001b[38;5;129;01mor\u001b[39;00m \u001b[38;5;129;01mnot\u001b[39;00m \u001b[38;5;241m200\u001b[39m \u001b[38;5;241m<\u001b[39m\u001b[38;5;241m=\u001b[39m rcode \u001b[38;5;241m<\u001b[39m \u001b[38;5;241m300\u001b[39m:\n\u001b[1;32m--> 679\u001b[0m     \u001b[38;5;28;01mraise\u001b[39;00m \u001b[38;5;28mself\u001b[39m\u001b[38;5;241m.\u001b[39mhandle_error_response(\n\u001b[0;32m    680\u001b[0m         rbody, rcode, resp\u001b[38;5;241m.\u001b[39mdata, rheaders, stream_error\u001b[38;5;241m=\u001b[39mstream_error\n\u001b[0;32m    681\u001b[0m     )\n\u001b[0;32m    682\u001b[0m \u001b[38;5;28;01mreturn\u001b[39;00m resp\n",
      "\u001b[1;31mInvalidRequestError\u001b[0m: This model's maximum context length is 4097 tokens. However, your messages resulted in 4353 tokens. Please reduce the length of the messages."
     ]
    }
   ],
   "source": [
    "from Automator import Automator\n",
    "aut = Automator(gui)\n",
    "if load:\n",
    "    aut.load_block_descriptions()\n",
    "aut.ai_chain('Open Twitter', show_block=False, load_block_desc=load)"
   ]
  },
  {
   "cell_type": "code",
   "execution_count": null,
   "id": "98181e59",
   "metadata": {},
   "outputs": [],
   "source": []
  },
  {
   "cell_type": "code",
   "execution_count": 3,
   "id": "b967e00a",
   "metadata": {},
   "outputs": [],
   "source": [
    "from Automator import Automator\n",
    "aut = Automator(gui)"
   ]
  },
  {
   "cell_type": "code",
   "execution_count": 5,
   "id": "99fdb5c6",
   "metadata": {},
   "outputs": [],
   "source": [
    "sb, lb = aut.partition_element_to_short_and_long_blocks(aut.gui.element_tree)"
   ]
  },
  {
   "cell_type": "code",
   "execution_count": 9,
   "id": "c7e151a7",
   "metadata": {},
   "outputs": [
    {
     "name": "stdout",
     "output_type": "stream",
     "text": [
      "------ Generate Block Descriptions ------\n",
      "{'resource-id': '.twitter:id/toolbar', 'class': '.view.ViewGroup', 'clickable': True, 'scrollable': False, 'id': 2, 'layer': 2, 'children': [{'class': '.widget.ImageButton', 'clickable': True, 'id': 3, 'layer': 3, 'description': 'Show navigation drawer'}, {'resource-id': '.twitter:id/logo', 'class': '.widget.ImageView', 'clickable': True, 'id': 4, 'layer': 3, 'description': 'twitter'}]}\n",
      "{'resource-id': '.twitter:id/tab_layout', 'class': '.widget.HorizontalScrollView', 'clickable': False, 'scrollable': False, 'id': 6, 'layer': 3, 'children': [{'class': '.widget.TextView', 'clickable': False, 'id': 7, 'layer': 4, 'description': 'For you'}, {'class': '.widget.TextView', 'clickable': True, 'id': 8, 'layer': 4, 'description': 'Following'}]}\n",
      "{'resource-id': '.twitter:id/poser_write', 'class': '.widget.ImageButton', 'clickable': True, 'id': 84, 'layer': 2, 'description': 'add'}\n",
      "{'resource-id': '.twitter:id/tabs', 'class': '.widget.HorizontalScrollView', 'clickable': False, 'scrollable': False, 'id': 85, 'layer': 2, 'children': [{'resource-id': '.twitter:id/channels', 'class': '.view.View', 'clickable': False, 'id': 86, 'layer': 3, 'description': 'close navigation drawer'}, {'class': '.view.View', 'clickable': True, 'id': 87, 'layer': 3, 'description': 'Search and Explore'}, {'resource-id': '.twitter:id/spaces', 'class': '.view.View', 'clickable': True, 'id': 88, 'layer': 3, 'description': 'Spaces'}, {'resource-id': '.twitter:id/notifications', 'class': '.view.View', 'clickable': True, 'id': 89, 'layer': 3, 'description': 'Notifications'}, {'resource-id': '.twitter:id/dms', 'class': '.view.View', 'clickable': True, 'id': 90, 'layer': 3, 'description': 'Messages'}]}\n",
      "{'resource-id': ':id/statusBarBackground', 'class': '.view.View', 'clickable': False, 'id': 91, 'layer': 1}\n",
      "*** Asking ***\n",
      " [{'role': 'system', 'content': 'You are a mobile virtual assistant that understands and interacts with the user interface to complete given task.'}, {'role': 'user', 'content': \"This is a code snippet that descript a part of UI, summarize its functionalities in one paragraph.\\n{'resource-id': ':id/list', 'class': 'x.recyclerview.widget.RecyclerView', 'clickable': False, 'scrollable': True, 'id': 10, 'layer': 4, 'children': [{'class': '.view.ViewGroup', 'clickable': True, 'scrollable': False, 'id': 11, 'layer': 5, 'children': [{'resource-id': '.twitter:id/row', 'class': '.view.ViewGroup', 'clickable': True, 'scrollable': False, 'id': 12, 'layer': 6, 'children': [{'class': 'ddw', 'clickable': True, 'id': 13, 'layer': 7, 'description': 'primary photo'}, {'class': '.widget.ImageView', 'clickable': True, 'id': 14, 'layer': 7, 'description': 'primary photo'}, {'class': '.view.ViewGroup', 'clickable': True, 'scrollable': False, 'id': 15, 'layer': 7, 'children': [{'class': '.view.View', 'clickable': True, 'id': 16, 'layer': 8, 'description': 'primary photo'}, {'resource-id': '.twitter:id/av_badge_duration_text', 'class': '.widget.TextView', 'clickable': True, 'id': 17, 'layer': 8, 'description': '0:59'}]}, {'resource-id': '.twitter:id/view_counts', 'class': '.widget.TextView', 'clickable': True, 'id': 18, 'layer': 7, 'description': '1,633 views'}, {'class': '.view.ViewGroup', 'clickable': True, 'scrollable': False, 'id': 19, 'layer': 7, 'children': [{'resource-id': '.twitter:id/inline_reply', 'class': '.view.ViewGroup', 'clickable': True, 'scrollable': False, 'id': 20, 'layer': 8, 'children': [{'resource-id': '.twitter:id/inline_action_item_icon', 'class': '.widget.ImageView', 'clickable': True, 'id': 21, 'layer': 9, 'description': 'chat'}, {'class': '.widget.TextView', 'clickable': True, 'id': 22, 'layer': 9, 'description': '2'}]}, {'resource-id': '.twitter:id/inline_retweet', 'class': '.view.ViewGroup', 'clickable': True, 'scrollable': False, 'id': 23, 'layer': 8, 'children': [{'resource-id': '.twitter:id/inline_action_item_icon', 'class': '.widget.ImageView', 'clickable': True, 'id': 24, 'layer': 9, 'description': 'switch direction'}, {'class': '.widget.TextView', 'clickable': True, 'id': 25, 'layer': 9, 'description': '11'}]}, {'resource-id': '.twitter:id/inline_like', 'class': '.view.ViewGroup', 'clickable': True, 'scrollable': False, 'id': 26, 'layer': 8, 'children': [{'resource-id': '.twitter:id/inline_action_item_icon', 'class': '.widget.ImageView', 'clickable': True, 'id': 27, 'layer': 9, 'description': 'favorite'}, {'class': '.widget.TextView', 'clickable': True, 'id': 28, 'layer': 9, 'description': '54'}]}, {'resource-id': '.twitter:id/inline_view_count', 'class': '.view.ViewGroup', 'clickable': True, 'scrollable': False, 'id': 29, 'layer': 8, 'children': [{'resource-id': '.twitter:id/inline_action_item_icon', 'class': '.widget.ImageView', 'clickable': True, 'id': 30, 'layer': 9, 'description': 'settings'}, {'class': '.widget.TextView', 'clickable': True, 'id': 31, 'layer': 9, 'description': '4,829'}]}, {'resource-id': '.twitter:id/inline_action_item_icon', 'class': '.widget.ImageView', 'clickable': True, 'id': 32, 'layer': 8, 'description': 'share'}]}]}]}, {'resource-id': '.twitter:id/row', 'class': '.view.ViewGroup', 'clickable': True, 'scrollable': False, 'id': 33, 'layer': 5, 'children': [{'resource-id': '.twitter:id/social_context_badge', 'class': '.widget.ImageView', 'clickable': True, 'id': 34, 'layer': 6, 'description': 'chat'}, {'resource-id': '.twitter:id/social_context_text', 'class': '.widget.TextView', 'clickable': True, 'id': 35, 'layer': 6}, {'class': '.widget.ImageView', 'clickable': True, 'id': 36, 'layer': 6, 'description': 'avatar'}, {'resource-id': '.twitter:id/tweet_header', 'class': '.view.ViewGroup', 'clickable': True, 'id': 37, 'layer': 6}, {'resource-id': '.twitter:id/tweet_curation_action', 'class': '.widget.ImageView', 'clickable': True, 'id': 38, 'layer': 6, 'description': 'more'}, {'class': '.view.View', 'clickable': True, 'id': 39, 'layer': 6, 'description': '🇳🇱 The Dutch government is ramping up the intimidation & obstruction tactics in light of the upcoming farmers protest in The Hague this Saturday: the mayor has said army trucks may be deployed and has ordered the farmers to not take tractors to the protest.'}, {'resource-id': '.twitter:id/tweet_connector_bottom', 'class': '.view.View', 'clickable': True, 'id': 40, 'layer': 6, 'description': 'loading'}, {'class': '.view.ViewGroup', 'clickable': True, 'scrollable': False, 'id': 41, 'layer': 6, 'children': [{'resource-id': '.twitter:id/inline_reply', 'class': '.view.ViewGroup', 'clickable': True, 'scrollable': False, 'id': 42, 'layer': 7, 'children': [{'resource-id': '.twitter:id/inline_action_item_icon', 'class': '.widget.ImageView', 'clickable': True, 'id': 43, 'layer': 8, 'description': 'chat'}, {'class': '.widget.TextView', 'clickable': True, 'id': 44, 'layer': 8, 'description': '995'}]}, {'resource-id': '.twitter:id/inline_retweet', 'class': '.view.ViewGroup', 'clickable': True, 'scrollable': False, 'id': 45, 'layer': 7, 'children': [{'resource-id': '.twitter:id/inline_action_item_icon', 'class': '.widget.ImageView', 'clickable': True, 'id': 46, 'layer': 8, 'description': 'switch direction'}, {'class': '.widget.TextView', 'clickable': True, 'id': 47, 'layer': 8, 'description': '4,727'}]}, {'resource-id': '.twitter:id/inline_like', 'class': '.view.ViewGroup', 'clickable': True, 'scrollable': False, 'id': 48, 'layer': 7, 'children': [{'resource-id': '.twitter:id/inline_action_item_icon', 'class': '.widget.ImageView', 'clickable': True, 'id': 49, 'layer': 8, 'description': 'favorite'}, {'class': '.widget.TextView', 'clickable': True, 'id': 50, 'layer': 8, 'description': '17.8K'}]}, {'resource-id': '.twitter:id/inline_view_count', 'class': '.view.ViewGroup', 'clickable': True, 'scrollable': False, 'id': 51, 'layer': 7, 'children': [{'resource-id': '.twitter:id/inline_action_item_icon', 'class': '.widget.ImageView', 'clickable': True, 'id': 52, 'layer': 8, 'description': 'settings'}, {'class': '.widget.TextView', 'clickable': True, 'id': 53, 'layer': 8, 'description': '2.7M'}]}, {'resource-id': '.twitter:id/inline_action_item_icon', 'class': '.widget.ImageView', 'clickable': True, 'id': 54, 'layer': 7, 'description': 'share'}]}]}, {'class': '.view.ViewGroup', 'clickable': True, 'scrollable': False, 'id': 55, 'layer': 5, 'children': [{'resource-id': '.twitter:id/row', 'class': '.view.ViewGroup', 'clickable': True, 'scrollable': False, 'id': 56, 'layer': 6, 'children': [{'resource-id': '.twitter:id/tweet_connector_top', 'class': '.view.View', 'clickable': True, 'id': 57, 'layer': 7, 'description': 'search'}, {'class': '.widget.ImageView', 'clickable': True, 'id': 58, 'layer': 7, 'description': 'avatar'}, {'resource-id': '.twitter:id/tweet_header', 'class': '.view.ViewGroup', 'clickable': True, 'id': 59, 'layer': 7}, {'resource-id': '.twitter:id/tweet_curation_action', 'class': '.widget.ImageView', 'clickable': True, 'id': 60, 'layer': 7, 'description': 'more'}, {'class': '.view.View', 'clickable': True, 'id': 61, 'layer': 7, 'description': '!'}, {'class': '.view.ViewGroup', 'clickable': True, 'scrollable': False, 'id': 62, 'layer': 7, 'children': [{'resource-id': '.twitter:id/inline_reply', 'class': '.view.ViewGroup', 'clickable': True, 'scrollable': False, 'id': 63, 'layer': 8, 'children': [{'resource-id': '.twitter:id/inline_action_item_icon', 'class': '.widget.ImageView', 'clickable': True, 'id': 64, 'layer': 9, 'description': 'chat'}, {'class': '.widget.TextView', 'clickable': True, 'id': 65, 'layer': 9, 'description': '536'}]}, {'resource-id': '.twitter:id/inline_retweet', 'class': '.view.ViewGroup', 'clickable': True, 'scrollable': False, 'id': 66, 'layer': 8, 'children': [{'resource-id': '.twitter:id/inline_action_item_icon', 'class': '.widget.ImageView', 'clickable': True, 'id': 67, 'layer': 9, 'description': 'switch direction'}, {'class': '.widget.TextView', 'clickable': True, 'id': 68, 'layer': 9, 'description': '698'}]}, {'resource-id': '.twitter:id/inline_like', 'class': '.view.ViewGroup', 'clickable': True, 'scrollable': False, 'id': 69, 'layer': 8, 'children': [{'resource-id': '.twitter:id/inline_action_item_icon', 'class': '.widget.ImageView', 'clickable': True, 'id': 70, 'layer': 9, 'description': 'favorite'}, {'class': '.widget.TextView', 'clickable': True, 'id': 71, 'layer': 9, 'description': '9,049'}]}, {'resource-id': '.twitter:id/inline_view_count', 'class': '.view.ViewGroup', 'clickable': True, 'scrollable': False, 'id': 72, 'layer': 8, 'children': [{'resource-id': '.twitter:id/inline_action_item_icon', 'class': '.widget.ImageView', 'clickable': True, 'id': 73, 'layer': 9, 'description': 'settings'}, {'class': '.widget.TextView', 'clickable': True, 'id': 74, 'layer': 9, 'description': '1.3M'}]}, {'resource-id': '.twitter:id/inline_action_item_icon', 'class': '.widget.ImageView', 'clickable': True, 'id': 75, 'layer': 8, 'description': 'share'}]}]}]}, {'resource-id': '.twitter:id/row', 'class': '.view.ViewGroup', 'clickable': True, 'scrollable': False, 'id': 76, 'layer': 5, 'children': [{'class': '.widget.ImageView', 'clickable': True, 'id': 77, 'layer': 6, 'description': 'avatar'}, {'resource-id': '.twitter:id/tweet_header', 'class': '.view.ViewGroup', 'clickable': True, 'id': 78, 'layer': 6}, {'resource-id': '.twitter:id/tweet_curation_action', 'class': '.widget.ImageView', 'clickable': True, 'id': 79, 'layer': 6, 'description': 'more'}, {'class': '.view.View', 'clickable': True, 'id': 80, 'layer': 6, 'description': 'Discover the roles and see how you can safeguard the skies. #WhatIsUp'}, {'class': '.widget.FrameLayout', 'clickable': True, 'scrollable': False, 'id': 81, 'layer': 6, 'children': [{'class': 'ddw', 'clickable': True, 'id': 82, 'layer': 7, 'description': 'loading wallpaper'}, {'class': '.view.View', 'clickable': True, 'id': 83, 'layer': 7, 'description': 'loading wallpaper'}]}]}]}\"}]\n"
     ]
    },
    {
     "name": "stdout",
     "output_type": "stream",
     "text": [
      "\n",
      "*** Answer ***\n",
      " {\n",
      "  \"content\": \"This code snippet describes a RecyclerView UI element with multiple rows of child views. Each row contains a profile picture and tweet content. The tweet content includes text, view counts, social context badges, and various interactive buttons such as reply, retweet, like, and share. The UI element is scrollable and clickable, allowing the user to interact with the tweets and perform various actions on them. Additionally, some rows contain a link to external content, with a preview displayed below the tweet content. Overall, this UI element allows the user to view and engage with tweets in a dynamic and interactive manner.\",\n",
      "  \"role\": \"assistant\"\n",
      "} \n",
      "\n",
      "This code snippet describes a RecyclerView UI element with multiple rows of child views. Each row contains a profile picture and tweet content. The tweet content includes text, view counts, social context badges, and various interactive buttons such as reply, retweet, like, and share. The UI element is scrollable and clickable, allowing the user to interact with the tweets and perform various actions on them. Additionally, some rows contain a link to external content, with a preview displayed below the tweet content. Overall, this UI element allows the user to view and engage with tweets in a dynamic and interactive manner.\n"
     ]
    }
   ],
   "source": [
    "aut.generate_descriptions_for_blocks(show=True)"
   ]
  },
  {
   "cell_type": "code",
   "execution_count": null,
   "id": "4c099a14",
   "metadata": {},
   "outputs": [],
   "source": []
  },
  {
   "cell_type": "code",
   "execution_count": 10,
   "id": "52827c07",
   "metadata": {},
   "outputs": [
    {
     "data": {
      "text/plain": [
       "[{'resource-id': '.twitter:id/toolbar',\n",
       "  'class': '.view.ViewGroup',\n",
       "  'clickable': True,\n",
       "  'scrollable': False,\n",
       "  'id': 2,\n",
       "  'layer': 2,\n",
       "  'children': [{'class': '.widget.ImageButton',\n",
       "    'clickable': True,\n",
       "    'id': 3,\n",
       "    'layer': 3,\n",
       "    'description': 'Show navigation drawer'},\n",
       "   {'resource-id': '.twitter:id/logo',\n",
       "    'class': '.widget.ImageView',\n",
       "    'clickable': True,\n",
       "    'id': 4,\n",
       "    'layer': 3,\n",
       "    'description': 'twitter'}]},\n",
       " {'resource-id': '.twitter:id/tab_layout',\n",
       "  'class': '.widget.HorizontalScrollView',\n",
       "  'clickable': False,\n",
       "  'scrollable': False,\n",
       "  'id': 6,\n",
       "  'layer': 3,\n",
       "  'children': [{'class': '.widget.TextView',\n",
       "    'clickable': False,\n",
       "    'id': 7,\n",
       "    'layer': 4,\n",
       "    'description': 'For you'},\n",
       "   {'class': '.widget.TextView',\n",
       "    'clickable': True,\n",
       "    'id': 8,\n",
       "    'layer': 4,\n",
       "    'description': 'Following'}]},\n",
       " {'resource-id': '.twitter:id/poser_write',\n",
       "  'class': '.widget.ImageButton',\n",
       "  'clickable': True,\n",
       "  'id': 84,\n",
       "  'layer': 2,\n",
       "  'description': 'add'},\n",
       " {'resource-id': '.twitter:id/tabs',\n",
       "  'class': '.widget.HorizontalScrollView',\n",
       "  'clickable': False,\n",
       "  'scrollable': False,\n",
       "  'id': 85,\n",
       "  'layer': 2,\n",
       "  'children': [{'resource-id': '.twitter:id/channels',\n",
       "    'class': '.view.View',\n",
       "    'clickable': False,\n",
       "    'id': 86,\n",
       "    'layer': 3,\n",
       "    'description': 'close navigation drawer'},\n",
       "   {'class': '.view.View',\n",
       "    'clickable': True,\n",
       "    'id': 87,\n",
       "    'layer': 3,\n",
       "    'description': 'Search and Explore'},\n",
       "   {'resource-id': '.twitter:id/spaces',\n",
       "    'class': '.view.View',\n",
       "    'clickable': True,\n",
       "    'id': 88,\n",
       "    'layer': 3,\n",
       "    'description': 'Spaces'},\n",
       "   {'resource-id': '.twitter:id/notifications',\n",
       "    'class': '.view.View',\n",
       "    'clickable': True,\n",
       "    'id': 89,\n",
       "    'layer': 3,\n",
       "    'description': 'Notifications'},\n",
       "   {'resource-id': '.twitter:id/dms',\n",
       "    'class': '.view.View',\n",
       "    'clickable': True,\n",
       "    'id': 90,\n",
       "    'layer': 3,\n",
       "    'description': 'Messages'}]},\n",
       " {'resource-id': ':id/statusBarBackground',\n",
       "  'class': '.view.View',\n",
       "  'clickable': False,\n",
       "  'id': 91,\n",
       "  'layer': 1},\n",
       " '[Scrollable] This code snippet describes a RecyclerView UI element with multiple rows of child views. Each row contains a profile picture and tweet content. The tweet content includes text, view counts, social context badges, and various interactive buttons such as reply, retweet, like, and share. The UI element is scrollable and clickable, allowing the user to interact with the tweets and perform various actions on them. Additionally, some rows contain a link to external content, with a preview displayed below the tweet content. Overall, this UI element allows the user to view and engage with tweets in a dynamic and interactive manner.']"
      ]
     },
     "execution_count": 10,
     "metadata": {},
     "output_type": "execute_result"
    }
   ],
   "source": [
    "aut.block_descriptions"
   ]
  },
  {
   "cell_type": "code",
   "execution_count": null,
   "id": "a06d5cea",
   "metadata": {},
   "outputs": [],
   "source": []
  },
  {
   "cell_type": "code",
   "execution_count": null,
   "id": "a326a610",
   "metadata": {},
   "outputs": [],
   "source": []
  },
  {
   "cell_type": "code",
   "execution_count": 7,
   "id": "76e08122",
   "metadata": {},
   "outputs": [
    {
     "name": "stdout",
     "output_type": "stream",
     "text": [
      "*** Asking ***\n",
      " [{'role': 'system', 'content': 'You are a mobile virtual assistant that understands and interacts with the user interface to complete given task.'}, {'role': 'user', 'content': 'Is the given UI related to the task \\'Follow Elon Musk?\\'. Can your click on any element in it to complete the task? \\nUI block: [\\n  {\\n    \"resource-id\": \"twitter.android:id/pager\",\\n    \"class\": \"androidx.viewpager.widget.ViewPager\",\\n    \"clickable\": false,\\n    \"id\": 5\\n  },\\n  {\\n    \"resource-id\": \"twitter.android:id/view_pager\",\\n    \"class\": \"androidx.viewpager.widget.ViewPager\",\\n    \"clickable\": false,\\n    \"id\": 6\\n  },\\n  {\\n    \"resource-id\": \"twitter.android:id/nested_coordinator_layout\",\\n    \"class\": \"widget.ScrollView\",\\n    \"clickable\": false,\\n    \"id\": 11\\n  },\\n  {\\n    \"class\": \"view.ViewGroup\",\\n    \"clickable\": false,\\n    \"id\": 12\\n  },\\n  {\\n    \"resource-id\": \"android:id/list\",\\n    \"class\": \"androidx.recyclerview.widget.RecyclerView\",\\n    \"clickable\": false,\\n    \"id\": 13\\n  },\\n  {\\n    \"class\": \"view.ViewGroup\",\\n    \"clickable\": true,\\n    \"id\": 91\\n  },\\n  {\\n    \"resource-id\": \"twitter.android:id/row\",\\n    \"class\": \"view.ViewGroup\",\\n    \"clickable\": true,\\n    \"id\": 92\\n  },\\n  {\\n    \"class\": \"widget.FrameLayout\",\\n    \"clickable\": true,\\n    \"id\": 99\\n  },\\n  {\\n    \"class\": \"widget.FrameLayout\",\\n    \"clickable\": true,\\n    \"id\": 100\\n  },\\n  {\\n    \"resource-id\": \"twitter.android:id/video_container\",\\n    \"class\": \"widget.FrameLayout\",\\n    \"clickable\": true,\\n    \"id\": 101\\n  },\\n  {\\n    \"class\": \"view.ViewGroup\",\\n    \"clickable\": true,\\n    \"id\": 104\\n  },\\n  {\\n    \"class\": \"view.View\",\\n    \"clickable\": true,\\n    \"id\": 105,\\n    \"description\": \"loading wallpaper\"\\n  },\\n  {\\n    \"class\": \"view.ViewGroup\",\\n    \"clickable\": true,\\n    \"id\": 102\\n  },\\n  {\\n    \"class\": \"ddw\",\\n    \"clickable\": true,\\n    \"id\": 103,\\n    \"description\": \"loading wallpaper\"\\n  },\\n  {\\n    \"resource-id\": \"twitter.android:id/tweet_content_text\",\\n    \"class\": \"view.View\",\\n    \"clickable\": true,\\n    \"id\": 97\\n  },\\n  {\\n    \"class\": \"view.View\",\\n    \"clickable\": true,\\n    \"id\": 98,\\n    \"description\": \"Discover the roles and see how you can safeguard the skies. #WhatIsUp\"\\n  },\\n  {\\n    \"resource-id\": \"twitter.android:id/tweet_curation_action\",\\n    \"class\": \"widget.ImageView\",\\n    \"clickable\": true,\\n    \"id\": 96,\\n    \"description\": \"more\"\\n  },\\n  {\\n    \"resource-id\": \"twitter.android:id/tweet_header\",\\n    \"class\": \"view.ViewGroup\",\\n    \"clickable\": true,\\n    \"id\": 95\\n  },\\n  {\\n    \"resource-id\": \"twitter.android:id/tweet_profile_image\",\\n    \"class\": \"widget.FrameLayout\",\\n    \"clickable\": true,\\n    \"id\": 93\\n  },\\n  {\\n    \"class\": \"widget.ImageView\",\\n    \"clickable\": true,\\n    \"id\": 94,\\n    \"description\": \"avatar\"\\n  },\\n  {\\n    \"class\": \"view.ViewGroup\",\\n    \"clickable\": true,\\n    \"id\": 67\\n  },\\n  {\\n    \"resource-id\": \"twitter.android:id/row\",\\n    \"class\": \"view.ViewGroup\",\\n    \"clickable\": true,\\n    \"id\": 68\\n  },\\n  {\\n    \"class\": \"view.ViewGroup\",\\n    \"clickable\": true,\\n    \"id\": 76\\n  },\\n  {\\n    \"resource-id\": \"twitter.android:id/inline_twitter_share\",\\n    \"class\": \"view.ViewGroup\",\\n    \"clickable\": true,\\n    \"id\": 89\\n  },\\n  {\\n    \"resource-id\": \"twitter.android:id/inline_action_item_icon\",\\n    \"class\": \"widget.ImageView\",\\n    \"clickable\": true,\\n    \"id\": 90,\\n    \"description\": \"share\"\\n  },\\n  {\\n    \"resource-id\": \"twitter.android:id/inline_view_count\",\\n    \"class\": \"view.ViewGroup\",\\n    \"clickable\": true,\\n    \"id\": 86\\n  },\\n  {\\n    \"class\": \"widget.TextView\",\\n    \"clickable\": true,\\n    \"id\": 88,\\n    \"description\": \"1.3M\"\\n  },\\n  {\\n    \"resource-id\": \"twitter.android:id/inline_action_item_icon\",\\n    \"class\": \"widget.ImageView\",\\n    \"clickable\": true,\\n    \"id\": 87,\\n    \"description\": \"settings\"\\n  },\\n  {\\n    \"resource-id\": \"twitter.android:id/inline_like\",\\n    \"class\": \"view.ViewGroup\",\\n    \"clickable\": true,\\n    \"id\": 83\\n  },\\n  {\\n    \"class\": \"widget.TextView\",\\n    \"clickable\": true,\\n    \"id\": 85,\\n    \"description\": \"9,049\"\\n  },\\n  {\\n    \"resource-id\": \"twitter.android:id/inline_action_item_icon\",\\n    \"class\": \"widget.ImageView\",\\n    \"clickable\": true,\\n    \"id\": 84,\\n    \"description\": \"favorite\"\\n  },\\n  {\\n    \"resource-id\": \"twitter.android:id/inline_retweet\",\\n    \"class\": \"view.ViewGroup\",\\n    \"clickable\": true,\\n    \"id\": 80\\n  },\\n  {\\n    \"class\": \"widget.TextView\",\\n    \"clickable\": true,\\n    \"id\": 82,\\n    \"description\": \"698\"\\n  },\\n  {\\n    \"resource-id\": \"twitter.android:id/inline_action_item_icon\",\\n    \"class\": \"widget.ImageView\",\\n    \"clickable\": true,\\n    \"id\": 81,\\n    \"description\": \"switch direction\"\\n  },\\n  {\\n    \"resource-id\": \"twitter.android:id/inline_reply\",\\n    \"class\": \"view.ViewGroup\",\\n    \"clickable\": true,\\n    \"id\": 77\\n  },\\n  {\\n    \"class\": \"widget.TextView\",\\n    \"clickable\": true,\\n    \"id\": 79,\\n    \"description\": \"536\"\\n  },\\n  {\\n    \"resource-id\": \"twitter.android:id/inline_action_item_icon\",\\n    \"class\": \"widget.ImageView\",\\n    \"clickable\": true,\\n    \"id\": 78,\\n    \"description\": \"chat\"\\n  },\\n  {\\n    \"resource-id\": \"twitter.android:id/tweet_content_text\",\\n    \"class\": \"view.View\",\\n    \"clickable\": true,\\n    \"id\": 74\\n  },\\n  {\\n    \"class\": \"view.View\",\\n    \"clickable\": true,\\n    \"id\": 75,\\n    \"description\": \"!\"\\n  },\\n  {\\n    \"resource-id\": \"twitter.android:id/tweet_curation_action\",\\n    \"class\": \"widget.ImageView\",\\n    \"clickable\": true,\\n    \"id\": 73,\\n    \"description\": \"more\"\\n  },\\n  {\\n    \"resource-id\": \"twitter.android:id/tweet_header\",\\n    \"class\": \"view.ViewGroup\",\\n    \"clickable\": true,\\n    \"id\": 72\\n  },\\n  {\\n    \"resource-id\": \"twitter.android:id/tweet_profile_image\",\\n    \"class\": \"widget.FrameLayout\",\\n    \"clickable\": true,\\n    \"id\": 70\\n  },\\n  {\\n    \"class\": \"widget.ImageView\",\\n    \"clickable\": true,\\n    \"id\": 71,\\n    \"description\": \"avatar\"\\n  },\\n  {\\n    \"resource-id\": \"twitter.android:id/tweet_connector_top\",\\n    \"class\": \"view.View\",\\n    \"clickable\": true,\\n    \"id\": 69,\\n    \"description\": \"search\"\\n  },\\n  {\\n    \"class\": \"view.ViewGroup\",\\n    \"clickable\": true,\\n    \"id\": 40\\n  },\\n  {\\n    \"resource-id\": \"twitter.android:id/row\",\\n    \"class\": \"view.ViewGroup\",\\n    \"clickable\": true,\\n    \"id\": 41\\n  },\\n  {\\n    \"class\": \"view.ViewGroup\",\\n    \"clickable\": true,\\n    \"id\": 52\\n  },\\n  {\\n    \"resource-id\": \"twitter.android:id/inline_twitter_share\",\\n    \"class\": \"view.ViewGroup\",\\n    \"clickable\": true,\\n    \"id\": 65\\n  },\\n  {\\n    \"resource-id\": \"twitter.android:id/inline_action_item_icon\",\\n    \"class\": \"widget.ImageView\",\\n    \"clickable\": true,\\n    \"id\": 66,\\n    \"description\": \"share\"\\n  },\\n  {\\n    \"resource-id\": \"twitter.android:id/inline_view_count\",\\n    \"class\": \"view.ViewGroup\",\\n    \"clickable\": true,\\n    \"id\": 62\\n  },\\n  {\\n    \"class\": \"widget.TextView\",\\n    \"clickable\": true,\\n    \"id\": 64,\\n    \"description\": \"2.7M\"\\n  },\\n  {\\n    \"resource-id\": \"twitter.android:id/inline_action_item_icon\",\\n    \"class\": \"widget.ImageView\",\\n    \"clickable\": true,\\n    \"id\": 63,\\n    \"description\": \"settings\"\\n  },\\n  {\\n    \"resource-id\": \"twitter.android:id/inline_like\",\\n    \"class\": \"view.ViewGroup\",\\n    \"clickable\": true,\\n    \"id\": 59\\n  },\\n  {\\n    \"class\": \"widget.TextView\",\\n    \"clickable\": true,\\n    \"id\": 61,\\n    \"description\": \"17.8K\"\\n  },\\n  {\\n    \"resource-id\": \"twitter.android:id/inline_action_item_icon\",\\n    \"class\": \"widget.ImageView\",\\n    \"clickable\": true,\\n    \"id\": 60,\\n    \"description\": \"favorite\"\\n  },\\n  {\\n    \"resource-id\": \"twitter.android:id/inline_retweet\",\\n    \"class\": \"view.ViewGroup\",\\n    \"clickable\": true,\\n    \"id\": 56\\n  },\\n  {\\n    \"class\": \"widget.TextView\",\\n    \"clickable\": true,\\n    \"id\": 58,\\n    \"description\": \"4,727\"\\n  },\\n  {\\n    \"resource-id\": \"twitter.android:id/inline_action_item_icon\",\\n    \"class\": \"widget.ImageView\",\\n    \"clickable\": true,\\n    \"id\": 57,\\n    \"description\": \"switch direction\"\\n  },\\n  {\\n    \"resource-id\": \"twitter.android:id/inline_reply\",\\n    \"class\": \"view.ViewGroup\",\\n    \"clickable\": true,\\n    \"id\": 53\\n  },\\n  {\\n    \"class\": \"widget.TextView\",\\n    \"clickable\": true,\\n    \"id\": 55,\\n    \"description\": \"995\"\\n  },\\n  {\\n    \"resource-id\": \"twitter.android:id/inline_action_item_icon\",\\n    \"class\": \"widget.ImageView\",\\n    \"clickable\": true,\\n    \"id\": 54,\\n    \"description\": \"chat\"\\n  },\\n  {\\n    \"resource-id\": \"twitter.android:id/tweet_connector_bottom\",\\n    \"class\": \"view.View\",\\n    \"clickable\": true,\\n    \"id\": 51,\\n    \"description\": \"loading\"\\n  },\\n  {\\n    \"resource-id\": \"twitter.android:id/tweet_content_text\",\\n    \"class\": \"view.View\",\\n    \"clickable\": true,\\n    \"id\": 49\\n  },\\n  {\\n    \"class\": \"view.View\",\\n    \"clickable\": true,\\n    \"id\": 50,\\n    \"description\": \"\\\\ud83c\\\\uddf3\\\\ud83c\\\\uddf1 The Dutch government is ramping up the intimidation & obstruction tactics in light of the upcoming farmers protest in The Hague this Saturday: the mayor has said army trucks may be deployed and has ordered the farmers to not take tractors to the protest.\"\\n  },\\n  {\\n    \"resource-id\": \"twitter.android:id/tweet_curation_action\",\\n    \"class\": \"widget.ImageView\",\\n    \"clickable\": true,\\n    \"id\": 48,\\n    \"description\": \"more\"\\n  },\\n  {\\n    \"resource-id\": \"twitter.android:id/tweet_header\",\\n    \"class\": \"view.ViewGroup\",\\n    \"clickable\": true,\\n    \"id\": 47\\n  },\\n  {\\n    \"resource-id\": \"twitter.android:id/tweet_profile_image\",\\n    \"class\": \"widget.FrameLayout\",\\n    \"clickable\": true,\\n    \"id\": 45\\n  },\\n  {\\n    \"class\": \"widget.ImageView\",\\n    \"clickable\": true,\\n    \"id\": 46,\\n    \"description\": \"avatar\"\\n  },\\n  {\\n    \"resource-id\": \"twitter.android:id/tweet_social_context\",\\n    \"class\": \"view.ViewGroup\",\\n    \"clickable\": true,\\n    \"id\": 43\\n  },\\n  {\\n    \"resource-id\": \"twitter.android:id/social_context_text\",\\n    \"class\": \"widget.TextView\",\\n    \"clickable\": true,\\n    \"id\": 44,\\n    \"description\": \"Elon Musk replied\"\\n  },\\n  {\\n    \"resource-id\": \"twitter.android:id/social_context_badge\",\\n    \"class\": \"widget.ImageView\",\\n    \"clickable\": true,\\n    \"id\": 42,\\n    \"description\": \"chat\"\\n  },\\n  {\\n    \"class\": \"view.ViewGroup\",\\n    \"clickable\": true,\\n    \"id\": 14\\n  },\\n  {\\n    \"resource-id\": \"twitter.android:id/row\",\\n    \"class\": \"view.ViewGroup\",\\n    \"clickable\": true,\\n    \"id\": 15\\n  },\\n  {\\n    \"class\": \"view.ViewGroup\",\\n    \"clickable\": true,\\n    \"id\": 25\\n  },\\n  {\\n    \"resource-id\": \"twitter.android:id/inline_twitter_share\",\\n    \"class\": \"view.ViewGroup\",\\n    \"clickable\": true,\\n    \"id\": 38\\n  },\\n  {\\n    \"resource-id\": \"twitter.android:id/inline_action_item_icon\",\\n    \"class\": \"widget.ImageView\",\\n    \"clickable\": true,\\n    \"id\": 39,\\n    \"description\": \"share\"\\n  },\\n  {\\n    \"resource-id\": \"twitter.android:id/inline_view_count\",\\n    \"class\": \"view.ViewGroup\",\\n    \"clickable\": true,\\n    \"id\": 35\\n  },\\n  {\\n    \"class\": \"widget.TextView\",\\n    \"clickable\": true,\\n    \"id\": 37,\\n    \"description\": \"4,829\"\\n  },\\n  {\\n    \"resource-id\": \"twitter.android:id/inline_action_item_icon\",\\n    \"class\": \"widget.ImageView\",\\n    \"clickable\": true,\\n    \"id\": 36,\\n    \"description\": \"settings\"\\n  },\\n  {\\n    \"resource-id\": \"twitter.android:id/inline_like\",\\n    \"class\": \"view.ViewGroup\",\\n    \"clickable\": true,\\n    \"id\": 32\\n  },\\n  {\\n    \"class\": \"widget.TextView\",\\n    \"clickable\": true,\\n    \"id\": 34,\\n    \"description\": \"54\"\\n  },\\n  {\\n    \"resource-id\": \"twitter.android:id/inline_action_item_icon\",\\n    \"class\": \"widget.ImageView\",\\n    \"clickable\": true,\\n    \"id\": 33,\\n    \"description\": \"favorite\"\\n  },\\n  {\\n    \"resource-id\": \"twitter.android:id/inline_retweet\",\\n    \"class\": \"view.ViewGroup\",\\n    \"clickable\": true,\\n    \"id\": 29\\n  },\\n  {\\n    \"class\": \"widget.TextView\",\\n    \"clickable\": true,\\n    \"id\": 31,\\n    \"description\": \"11\"\\n  },\\n  {\\n    \"resource-id\": \"twitter.android:id/inline_action_item_icon\",\\n    \"class\": \"widget.ImageView\",\\n    \"clickable\": true,\\n    \"id\": 30,\\n    \"description\": \"switch direction\"\\n  },\\n  {\\n    \"resource-id\": \"twitter.android:id/inline_reply\",\\n    \"class\": \"view.ViewGroup\",\\n    \"clickable\": true,\\n    \"id\": 26\\n  },\\n  {\\n    \"class\": \"widget.TextView\",\\n    \"clickable\": true,\\n    \"id\": 28,\\n    \"description\": \"2\"\\n  },\\n  {\\n    \"resource-id\": \"twitter.android:id/inline_action_item_icon\",\\n    \"class\": \"widget.ImageView\",\\n    \"clickable\": true,\\n    \"id\": 27,\\n    \"description\": \"chat\"\\n  },\\n  {\\n    \"resource-id\": \"twitter.android:id/view_counts\",\\n    \"class\": \"widget.TextView\",\\n    \"clickable\": true,\\n    \"id\": 24,\\n    \"description\": \"1,633 views\"\\n  },\\n  {\\n    \"resource-id\": \"twitter.android:id/player\",\\n    \"class\": \"widget.FrameLayout\",\\n    \"clickable\": true,\\n    \"id\": 16\\n  },\\n  {\\n    \"class\": \"view.ViewGroup\",\\n    \"clickable\": true,\\n    \"id\": 21\\n  },\\n  {\\n    \"resource-id\": \"twitter.android:id/av_badge_duration_text\",\\n    \"class\": \"widget.TextView\",\\n    \"clickable\": true,\\n    \"id\": 23,\\n    \"description\": \"0:59\"\\n  },\\n  {\\n    \"class\": \"view.View\",\\n    \"clickable\": true,\\n    \"id\": 22,\\n    \"description\": \"primary photo\"\\n  },\\n  {\\n    \"class\": \"view.ViewGroup\",\\n    \"clickable\": true,\\n    \"id\": 19\\n  },\\n  {\\n    \"class\": \"widget.ImageView\",\\n    \"clickable\": true,\\n    \"id\": 20,\\n    \"description\": \"primary photo\"\\n  },\\n  {\\n    \"class\": \"view.ViewGroup\",\\n    \"clickable\": true,\\n    \"id\": 17\\n  },\\n  {\\n    \"class\": \"ddw\",\\n    \"clickable\": true,\\n    \"id\": 18,\\n    \"description\": \"primary photo\"\\n  },\\n  {\\n    \"resource-id\": \"twitter.android:id/tab_layout\",\\n    \"class\": \"widget.HorizontalScrollView\",\\n    \"clickable\": false,\\n    \"id\": 7\\n  },\\n  {\\n    \"class\": \"widget.LinearLayout\",\\n    \"clickable\": true,\\n    \"id\": 9\\n  },\\n  {\\n    \"class\": \"widget.TextView\",\\n    \"clickable\": true,\\n    \"id\": 10,\\n    \"description\": \"Following\"\\n  },\\n  {\\n    \"class\": \"widget.TextView\",\\n    \"clickable\": false,\\n    \"id\": 8,\\n    \"description\": \"For you\"\\n  }\\n]\\nAnswer [Yes] with the target element id (for example, \\'Yes, Element 1\\') if any or [No] if not'}]\n"
     ]
    },
    {
     "name": "stdout",
     "output_type": "stream",
     "text": [
      "\n",
      "*** Answer ***\n",
      " {\n",
      "  \"content\": \"No, there is no target element related to the task 'Follow Elon Musk' in the given UI block.\",\n",
      "  \"role\": \"assistant\"\n",
      "} \n",
      "\n"
     ]
    }
   ],
   "source": [
    "aut.one_prompt_at_once(task='Follow Elon Musk',\n",
    "                      ui=gui.flatten_block_to_elements(gui.blocks[1]),\n",
    "                      role=aut.role,\n",
    "                      printlog=True)"
   ]
  },
  {
   "cell_type": "code",
   "execution_count": 10,
   "id": "cd990867",
   "metadata": {},
   "outputs": [
    {
     "data": {
      "text/plain": [
       "[{'resource-id': 'twitter.android:id/pager',\n",
       "  'class': 'androidx.viewpager.widget.ViewPager',\n",
       "  'clickable': False,\n",
       "  'id': 5}]"
      ]
     },
     "execution_count": 10,
     "metadata": {},
     "output_type": "execute_result"
    }
   ],
   "source": [
    "gui.flatten_block_to_elements(gui.blocks[1])"
   ]
  }
 ],
 "metadata": {
  "kernelspec": {
   "display_name": "Python 3 (ipykernel)",
   "language": "python",
   "name": "python3"
  },
  "language_info": {
   "codemirror_mode": {
    "name": "ipython",
    "version": 3
   },
   "file_extension": ".py",
   "mimetype": "text/x-python",
   "name": "python",
   "nbconvert_exporter": "python",
   "pygments_lexer": "ipython3",
   "version": "3.10.10"
  }
 },
 "nbformat": 4,
 "nbformat_minor": 5
}
