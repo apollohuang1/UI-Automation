{
 "cells": [
  {
   "cell_type": "code",
   "execution_count": 1,
   "id": "433b6fe5",
   "metadata": {},
   "outputs": [
    {
     "name": "stderr",
     "output_type": "stream",
     "text": [
      "C:\\Users\\xie029\\AppData\\Local\\Programs\\Python\\Python310\\lib\\site-packages\\tqdm\\auto.py:22: TqdmWarning: IProgress not found. Please update jupyter and ipywidgets. See https://ipywidgets.readthedocs.io/en/stable/user_install.html\n",
      "  from .autonotebook import tqdm as notebook_tqdm\n"
     ]
    }
   ],
   "source": [
    "from Automator import Automator"
   ]
  },
  {
   "cell_type": "code",
   "execution_count": 2,
   "id": "6df956ba",
   "metadata": {},
   "outputs": [
    {
     "name": "stdout",
     "output_type": "stream",
     "text": [
      "=== Device Loaded ===\n"
     ]
    }
   ],
   "source": [
    "auto = Automator('twitter', 1)\n",
    "auto.load_device()"
   ]
  },
  {
   "cell_type": "code",
   "execution_count": 3,
   "id": "49eac9c3",
   "metadata": {},
   "outputs": [
    {
     "name": "stdout",
     "output_type": "stream",
     "text": [
      "\n",
      "=== 1. Collect UI metadata from the device ===\n",
      "Save screenshot to data\\twitter\\testcase1\\device\\0.png\n",
      "Save xml to data\\twitter\\testcase1\\device\\0.xml\n",
      "Save view hierarchy to data\\twitter\\testcase1\\device\\0.json\n",
      "\n",
      "=== 2. Extract and analyze UI info ===\n",
      "Save elements to data\\twitter\\testcase1\\guidata\\0_elements.json\n",
      "Save element tree to data\\twitter\\testcase1\\guidata\\0_tree.json\n",
      "\n",
      "=== 3. Check if the task can complete on the UI through AI chain ===\n",
      "--- Check if the UI directly related ---\n",
      "--- Get the related element ---\n",
      "--- Execute the action on the GUI ---\n"
     ]
    }
   ],
   "source": [
    "auto.auto_task_on_new_gui('Open Twitter', show_action=True)"
   ]
  },
  {
   "cell_type": "code",
   "execution_count": null,
   "id": "22e1266b",
   "metadata": {},
   "outputs": [],
   "source": []
  },
  {
   "cell_type": "code",
   "execution_count": 3,
   "id": "2875f463",
   "metadata": {},
   "outputs": [
    {
     "name": "stdout",
     "output_type": "stream",
     "text": [
      "*** Save data to dir data\\twitter\\testcase1\\device ***\n",
      "=== Device Loaded ===\n"
     ]
    }
   ],
   "source": [
    "auto.load_device()"
   ]
  },
  {
   "cell_type": "code",
   "execution_count": 4,
   "id": "f5d44db8",
   "metadata": {},
   "outputs": [
    {
     "name": "stdout",
     "output_type": "stream",
     "text": [
      "Save screenshot to data\\twitter\\testcase1\\device\\0.png\n",
      "Save xml to data\\twitter\\testcase1\\device\\0.xml\n",
      "Save view hierarchy to data\\twitter\\testcase1\\device\\0.json\n",
      "Save reformatted vh to data\\twitter\\testcase1\\device\\0.json\n"
     ]
    }
   ],
   "source": [
    "auto.collect_gui_data()"
   ]
  },
  {
   "cell_type": "code",
   "execution_count": 5,
   "id": "4aee7ed4",
   "metadata": {},
   "outputs": [
    {
     "name": "stdout",
     "output_type": "stream",
     "text": [
      "Save elements to data\\twitter\\testcase1\\guidata\\0_elements.json\n",
      "Save elements to data\\twitter\\testcase1\\guidata\\0_elements.json\n",
      "Save element tree to data\\twitter\\testcase1\\guidata\\0_tree.json\n"
     ]
    }
   ],
   "source": [
    "auto.analyze_gui()"
   ]
  },
  {
   "cell_type": "code",
   "execution_count": 6,
   "id": "c65af61a",
   "metadata": {},
   "outputs": [
    {
     "name": "stdout",
     "output_type": "stream",
     "text": [
      "------ Check if the UI directly related ------\n",
      "------ Get the related element ------\n"
     ]
    }
   ],
   "source": [
    "auto.identify_task_target_element('Open Twitter', auto.trace_guis[-1])"
   ]
  },
  {
   "cell_type": "code",
   "execution_count": null,
   "id": "e26c18af",
   "metadata": {},
   "outputs": [],
   "source": []
  },
  {
   "cell_type": "code",
   "execution_count": null,
   "id": "c32123ec",
   "metadata": {},
   "outputs": [],
   "source": []
  },
  {
   "cell_type": "markdown",
   "id": "5e74037e",
   "metadata": {},
   "source": [
    "## [Option 1] Load virtual device to collect the screenshot and vh"
   ]
  },
  {
   "cell_type": "markdown",
   "id": "63865543",
   "metadata": {},
   "source": [
    "### 1. Start emulator in Android studio first and run to capture screenshot and view hierarchy"
   ]
  },
  {
   "cell_type": "markdown",
   "id": "744083c1",
   "metadata": {},
   "source": [
    "Save vh `xml`, `json` and `screenshot image` to \"data/app_name/test_case_no/device\""
   ]
  },
  {
   "cell_type": "code",
   "execution_count": 1,
   "id": "7ac2619d",
   "metadata": {},
   "outputs": [
    {
     "name": "stdout",
     "output_type": "stream",
     "text": [
      "*** Save data to dir data\\twitter\\testcase1\\device ***\n",
      "Save screenshot to data\\twitter\\testcase1\\device\\0.png\n",
      "Save xml to data\\twitter\\testcase1\\device\\0.xml\n",
      "Save view hierarchy to data\\twitter\\testcase1\\device\\0.json\n",
      "Save reformatted vh to data\\twitter\\testcase1\\device\\0.json\n"
     ]
    }
   ],
   "source": [
    "from ppadb.client import Client as AdbClient\n",
    "from Device import Device\n",
    "client = AdbClient(host=\"127.0.0.1\", port=5037)\n",
    "\n",
    "device = Device(client.devices()[0], app_name='twitter', test_case_no=1)\n",
    "device.cap_screenshot()\n",
    "device.cap_vh()\n",
    "device.reformat_vh_json()"
   ]
  },
  {
   "cell_type": "markdown",
   "id": "db39844b",
   "metadata": {},
   "source": [
    "### 2. GUI information extraction and analysis"
   ]
  },
  {
   "cell_type": "markdown",
   "id": "eaef1bba",
   "metadata": {},
   "source": [
    "Extract `elements` and `element_tree` and save to \"data/app_name/test_case_no/guidata\""
   ]
  },
  {
   "cell_type": "code",
   "execution_count": 2,
   "id": "2ed8a1e1",
   "metadata": {},
   "outputs": [],
   "source": [
    "load = False"
   ]
  },
  {
   "cell_type": "code",
   "execution_count": 3,
   "id": "56542304",
   "metadata": {
    "scrolled": false
   },
   "outputs": [
    {
     "name": "stderr",
     "output_type": "stream",
     "text": [
      "C:\\Users\\xie029\\AppData\\Local\\Programs\\Python\\Python310\\lib\\site-packages\\tqdm\\auto.py:22: TqdmWarning: IProgress not found. Please update jupyter and ipywidgets. See https://ipywidgets.readthedocs.io/en/stable/user_install.html\n",
      "  from .autonotebook import tqdm as notebook_tqdm\n"
     ]
    },
    {
     "name": "stdout",
     "output_type": "stream",
     "text": [
      "Save elements to data\\twitter\\testcase1\\guidata\\0_elements.json\n",
      "Save elements to data\\twitter\\testcase1\\guidata\\0_elements.json\n",
      "Save element tree to data\\twitter\\testcase1\\guidata\\0_tree.json\n"
     ]
    }
   ],
   "source": [
    "from GUIData import GUIData\n",
    "gui = GUIData(gui_img_file=device.output_file_path_screenshot,\n",
    "             gui_json_file=device.output_file_path_json,\n",
    "             output_file_root=device.testcase_save_dir)\n",
    "# load previous result\n",
    "if load:\n",
    "    gui.load_elements()\n",
    "# process from scratch\n",
    "else:\n",
    "    gui.ui_info_extraction()\n",
    "    gui.ui_analysis_elements_description()\n",
    "    gui.ui_element_tree()\n",
    "gui.show_all_elements(only_leaves=True)"
   ]
  },
  {
   "cell_type": "markdown",
   "id": "3470a9cd",
   "metadata": {},
   "source": [
    "### 3. UI Automator to connect with ChatGPT and ask AI Chain questions"
   ]
  },
  {
   "cell_type": "markdown",
   "id": "2c93a159",
   "metadata": {},
   "source": [
    "Generate `description for blocks` and ask a chain of questions to identify `target block` and `target element` related to the task, save to \"data/app_name/test_case_no/automator\""
   ]
  },
  {
   "cell_type": "code",
   "execution_count": 4,
   "id": "468d5e97",
   "metadata": {},
   "outputs": [],
   "source": [
    "from UIAuto import UIAuto\n",
    "aut = UIAuto(gui, 'gpt-3.5-turbo', device=device)"
   ]
  },
  {
   "cell_type": "code",
   "execution_count": 5,
   "id": "56bb5120",
   "metadata": {},
   "outputs": [
    {
     "name": "stdout",
     "output_type": "stream",
     "text": [
      "------ Check if the UI directly related ------\n",
      "------ Check if the UI indirectly related ------\n",
      "------ Get the related element ------\n"
     ]
    }
   ],
   "source": [
    "aut.ai_chain('Follow Elon Musk', printlog=False, show_action=True)"
   ]
  },
  {
   "cell_type": "code",
   "execution_count": null,
   "id": "d1cd8eb0",
   "metadata": {},
   "outputs": [],
   "source": []
  },
  {
   "cell_type": "markdown",
   "id": "3d0d246c",
   "metadata": {},
   "source": [
    "## [Option 2] (For testing) Directly load GUI from image and json"
   ]
  },
  {
   "cell_type": "markdown",
   "id": "4309f1bd",
   "metadata": {},
   "source": [
    "### 1. Load GUI"
   ]
  },
  {
   "cell_type": "code",
   "execution_count": 1,
   "id": "5a112b5e",
   "metadata": {},
   "outputs": [],
   "source": [
    "load = True"
   ]
  },
  {
   "cell_type": "code",
   "execution_count": 2,
   "id": "85553631",
   "metadata": {
    "scrolled": false
   },
   "outputs": [
    {
     "name": "stderr",
     "output_type": "stream",
     "text": [
      "C:\\Users\\xie029\\AppData\\Local\\Programs\\Python\\Python310\\lib\\site-packages\\tqdm\\auto.py:22: TqdmWarning: IProgress not found. Please update jupyter and ipywidgets. See https://ipywidgets.readthedocs.io/en/stable/user_install.html\n",
      "  from .autonotebook import tqdm as notebook_tqdm\n"
     ]
    },
    {
     "name": "stdout",
     "output_type": "stream",
     "text": [
      "Load elements from data/twitter/testcase1\\guidata\\0_elements.json\n",
      "Load element tree from data/twitter/testcase1\\guidata\\0_tree.json\n"
     ]
    }
   ],
   "source": [
    "from GUIData import GUIData\n",
    "gui = GUIData(gui_img_file='data/twitter/testcase1/device/0.png',\n",
    "              gui_json_file='data/twitter/testcase1/device/0.json',\n",
    "              output_file_root='data/twitter/testcase1')\n",
    "# load previous result\n",
    "if load:\n",
    "    gui.load_elements()\n",
    "# process from scratch\n",
    "else:\n",
    "    gui.ui_info_extraction()\n",
    "    gui.ui_analysis_elements_description()\n",
    "    gui.ui_element_block_tree()\n",
    "gui.show_all_elements(only_leaves=False)\n",
    "# gui.show_each_element(only_leaves=False)"
   ]
  },
  {
   "cell_type": "code",
   "execution_count": 3,
   "id": "8d440545",
   "metadata": {},
   "outputs": [
    {
     "name": "stdout",
     "output_type": "stream",
     "text": [
      "61\n",
      "android.widget.ImageButton\n",
      "{'text': '', 'resource-id': '', 'class': 'android.widget.ImageButton', 'package': 'com.twitter.android', 'content-desc': 'Show navigation drawer', 'checkable': False, 'checked': False, 'clickable': True, 'enabled': True, 'focusable': True, 'focused': False, 'scrollable': False, 'long-clickable': False, 'password': False, 'selected': False, 'bounds': [0, 66, 150, 220], 'id': 3, 'layer': 3, 'leaf-id': 0, 'ocr': '', 'caption': 'thumbnail', 'icon-cls': 'avatar', 'description': 'Show navigation drawer'} \n",
      "\n",
      "android.widget.ImageView\n",
      "{'text': '', 'resource-id': 'com.twitter.android:id/logo', 'class': 'android.widget.ImageView', 'package': 'com.twitter.android', 'content-desc': '', 'checkable': False, 'checked': False, 'clickable': True, 'enabled': True, 'focusable': False, 'focused': False, 'scrollable': False, 'long-clickable': False, 'password': False, 'selected': False, 'bounds': [507, 110, 573, 176], 'id': 4, 'layer': 3, 'leaf-id': 1, 'ocr': '', 'caption': 'twitter', 'icon-cls': 'twitter', 'description': 'twitter'} \n",
      "\n",
      "android.widget.TextView\n",
      "{'text': 'For you', 'resource-id': '', 'class': 'android.widget.TextView', 'package': 'com.twitter.android', 'content-desc': '', 'checkable': False, 'checked': False, 'clickable': False, 'enabled': True, 'focusable': False, 'focused': False, 'scrollable': False, 'long-clickable': False, 'password': False, 'selected': True, 'bounds': [187, 261, 341, 311], 'id': 7, 'layer': 4, 'leaf-id': 2, 'caption': 'close', 'icon-cls': None, 'description': 'For you'} \n",
      "\n",
      "android.widget.TextView\n",
      "{'text': 'Following', 'resource-id': '', 'class': 'android.widget.TextView', 'package': 'com.twitter.android', 'content-desc': 'Following', 'checkable': False, 'checked': False, 'clickable': True, 'enabled': True, 'focusable': True, 'focused': False, 'scrollable': False, 'long-clickable': False, 'password': False, 'selected': False, 'bounds': [528, 220, 1080, 352], 'id': 8, 'layer': 4, 'leaf-id': 3, 'ocr': 'Following', 'caption': 'loading', 'icon-cls': None, 'description': 'Following'} \n",
      "\n",
      "ddw\n",
      "{'text': '0:59 a woman whoworks atCSIDO', 'resource-id': '', 'class': 'ddw', 'package': 'com.twitter.android', 'content-desc': '', 'checkable': False, 'checked': False, 'clickable': True, 'enabled': True, 'focusable': False, 'focused': False, 'scrollable': False, 'long-clickable': False, 'password': False, 'selected': False, 'bounds': [210, 353, 1047, 512], 'id': 13, 'layer': 7, 'leaf-id': 4, 'ocr': '0:59 a woman whoworks atCSIDO', 'caption': 'primary photo', 'icon-cls': None, 'description': '0:59 a woman whoworks atCSIDO'} \n",
      "\n",
      "android.widget.ImageView\n",
      "{'text': '0:59 a woman whoworks atCSIDO', 'resource-id': '', 'class': 'android.widget.ImageView', 'package': 'com.twitter.android', 'content-desc': '', 'checkable': False, 'checked': False, 'clickable': True, 'enabled': True, 'focusable': False, 'focused': False, 'scrollable': False, 'long-clickable': False, 'password': False, 'selected': False, 'bounds': [210, 353, 1047, 512], 'id': 14, 'layer': 7, 'leaf-id': 5, 'ocr': '0:59 a woman whoworks atCSIDO', 'caption': 'primary photo', 'icon-cls': None, 'description': '0:59 a woman whoworks atCSIDO'} \n",
      "\n",
      "android.view.View\n",
      "{'text': '0:59 a woman whoworks at', 'resource-id': '', 'class': 'android.view.View', 'package': 'com.twitter.android', 'content-desc': '', 'checkable': False, 'checked': False, 'clickable': True, 'enabled': True, 'focusable': False, 'focused': False, 'scrollable': False, 'long-clickable': False, 'password': False, 'selected': False, 'bounds': [254, 353, 1003, 468], 'id': 16, 'layer': 8, 'leaf-id': 6, 'ocr': '0:59 a woman whoworks at', 'caption': 'primary photo', 'icon-cls': None, 'description': '0:59 a woman whoworks at'} \n",
      "\n",
      "android.widget.TextView\n",
      "{'text': '0:59', 'resource-id': 'com.twitter.android:id/av_badge_duration_text', 'class': 'android.widget.TextView', 'package': 'com.twitter.android', 'content-desc': '', 'checkable': False, 'checked': False, 'clickable': True, 'enabled': True, 'focusable': False, 'focused': False, 'scrollable': False, 'long-clickable': False, 'password': False, 'selected': False, 'bounds': [232, 440, 322, 490], 'id': 17, 'layer': 8, 'leaf-id': 7, 'caption': 'search', 'icon-cls': None, 'description': '0:59'} \n",
      "\n",
      "android.widget.TextView\n",
      "{'text': '1,633 views', 'resource-id': 'com.twitter.android:id/view_counts', 'class': 'android.widget.TextView', 'package': 'com.twitter.android', 'content-desc': '', 'checkable': False, 'checked': False, 'clickable': True, 'enabled': True, 'focusable': False, 'focused': False, 'scrollable': False, 'long-clickable': False, 'password': False, 'selected': False, 'bounds': [210, 534, 397, 578], 'id': 18, 'layer': 7, 'leaf-id': 8, 'caption': '<unk>', 'icon-cls': None, 'description': '1,633 views'} \n",
      "\n",
      "android.widget.ImageView\n",
      "{'text': 'Q2', 'resource-id': 'com.twitter.android:id/inline_action_item_icon', 'class': 'android.widget.ImageView', 'package': 'com.twitter.android', 'content-desc': '', 'checkable': False, 'checked': False, 'clickable': True, 'enabled': True, 'focusable': False, 'focused': False, 'scrollable': False, 'long-clickable': False, 'password': False, 'selected': False, 'bounds': [212, 608, 262, 658], 'id': 21, 'layer': 9, 'leaf-id': 9, 'ocr': 'Q2', 'caption': '<unk>', 'icon-cls': 'chat', 'description': 'Q2'} \n",
      "\n",
      "android.widget.TextView\n",
      "{'text': '2', 'resource-id': '', 'class': 'android.widget.TextView', 'package': 'com.twitter.android', 'content-desc': '', 'checkable': False, 'checked': False, 'clickable': True, 'enabled': True, 'focusable': False, 'focused': False, 'scrollable': False, 'long-clickable': False, 'password': False, 'selected': False, 'bounds': [268, 611, 288, 654], 'id': 22, 'layer': 9, 'leaf-id': 10, 'caption': 'go to the selected page', 'icon-cls': None, 'description': '2'} \n",
      "\n",
      "android.widget.ImageView\n",
      "{'text': '', 'resource-id': 'com.twitter.android:id/inline_action_item_icon', 'class': 'android.widget.ImageView', 'package': 'com.twitter.android', 'content-desc': '', 'checkable': False, 'checked': False, 'clickable': True, 'enabled': True, 'focusable': False, 'focused': False, 'scrollable': False, 'long-clickable': False, 'password': False, 'selected': False, 'bounds': [400, 608, 450, 658], 'id': 24, 'layer': 9, 'leaf-id': 11, 'ocr': '', 'caption': 'switch direction', 'icon-cls': None, 'description': 'switch direction'} \n",
      "\n",
      "android.widget.TextView\n",
      "{'text': '11', 'resource-id': '', 'class': 'android.widget.TextView', 'package': 'com.twitter.android', 'content-desc': '', 'checkable': False, 'checked': False, 'clickable': True, 'enabled': True, 'focusable': False, 'focused': False, 'scrollable': False, 'long-clickable': False, 'password': False, 'selected': False, 'bounds': [456, 611, 486, 654], 'id': 25, 'layer': 9, 'leaf-id': 12, 'caption': 'switch direction', 'icon-cls': None, 'description': '11'} \n",
      "\n",
      "android.widget.ImageView\n",
      "{'text': '', 'resource-id': 'com.twitter.android:id/inline_action_item_icon', 'class': 'android.widget.ImageView', 'package': 'com.twitter.android', 'content-desc': '', 'checkable': False, 'checked': False, 'clickable': True, 'enabled': True, 'focusable': False, 'focused': False, 'scrollable': False, 'long-clickable': False, 'password': False, 'selected': False, 'bounds': [588, 608, 638, 658], 'id': 27, 'layer': 9, 'leaf-id': 13, 'ocr': '', 'caption': 'add to favorites', 'icon-cls': 'favorite', 'description': 'favorite'} \n",
      "\n",
      "android.widget.TextView\n",
      "{'text': '54', 'resource-id': '', 'class': 'android.widget.TextView', 'package': 'com.twitter.android', 'content-desc': '', 'checkable': False, 'checked': False, 'clickable': True, 'enabled': True, 'focusable': False, 'focused': False, 'scrollable': False, 'long-clickable': False, 'password': False, 'selected': False, 'bounds': [644, 611, 686, 654], 'id': 28, 'layer': 9, 'leaf-id': 14, 'caption': '<unk>', 'icon-cls': None, 'description': '54'} \n",
      "\n",
      "android.widget.ImageView\n",
      "{'text': '₁4,829', 'resource-id': 'com.twitter.android:id/inline_action_item_icon', 'class': 'android.widget.ImageView', 'package': 'com.twitter.android', 'content-desc': '', 'checkable': False, 'checked': False, 'clickable': True, 'enabled': True, 'focusable': False, 'focused': False, 'scrollable': False, 'long-clickable': False, 'password': False, 'selected': False, 'bounds': [776, 608, 826, 658], 'id': 30, 'layer': 9, 'leaf-id': 15, 'ocr': '₁4,829', 'caption': 'settings', 'icon-cls': None, 'description': '₁4,829'} \n",
      "\n"
     ]
    },
    {
     "name": "stdout",
     "output_type": "stream",
     "text": [
      "android.widget.TextView\n",
      "{'text': '4,829', 'resource-id': '', 'class': 'android.widget.TextView', 'package': 'com.twitter.android', 'content-desc': '', 'checkable': False, 'checked': False, 'clickable': True, 'enabled': True, 'focusable': False, 'focused': False, 'scrollable': False, 'long-clickable': False, 'password': False, 'selected': False, 'bounds': [832, 611, 924, 654], 'id': 31, 'layer': 9, 'leaf-id': 16, 'caption': 'choose stream', 'icon-cls': 'group', 'description': '4,829'} \n",
      "\n",
      "android.widget.ImageView\n",
      "{'NAF': True, 'text': '', 'resource-id': 'com.twitter.android:id/inline_action_item_icon', 'class': 'android.widget.ImageView', 'package': 'com.twitter.android', 'content-desc': '', 'checkable': False, 'checked': False, 'clickable': True, 'enabled': True, 'focusable': True, 'focused': False, 'scrollable': False, 'long-clickable': False, 'password': False, 'selected': False, 'bounds': [934, 578, 1047, 688], 'id': 32, 'layer': 8, 'leaf-id': 17, 'ocr': '', 'caption': '<unk>', 'icon-cls': 'share', 'description': 'share'} \n",
      "\n",
      "android.widget.ImageView\n",
      "{'text': '', 'resource-id': 'com.twitter.android:id/social_context_badge', 'class': 'android.widget.ImageView', 'package': 'com.twitter.android', 'content-desc': '', 'checkable': False, 'checked': False, 'clickable': True, 'enabled': True, 'focusable': False, 'focused': False, 'scrollable': False, 'long-clickable': False, 'password': False, 'selected': False, 'bounds': [138, 717, 182, 761], 'id': 34, 'layer': 6, 'leaf-id': 18, 'ocr': '', 'caption': 'paint', 'icon-cls': 'chat', 'description': 'chat'} \n",
      "\n",
      "android.widget.TextView\n",
      "{'text': 'Elon Musk replied', 'resource-id': 'com.twitter.android:id/social_context_text', 'class': 'android.widget.TextView', 'package': 'com.twitter.android', 'content-desc': '', 'checkable': False, 'checked': False, 'clickable': True, 'enabled': True, 'focusable': False, 'focused': False, 'scrollable': False, 'long-clickable': False, 'password': False, 'selected': False, 'bounds': [210, 689, 1080, 766], 'id': 35, 'layer': 6, 'leaf-id': 19, 'ocr': 'Elon Musk replied', 'caption': '<unk> <unk> <unk> <unk> <unk> <unk> <unk> <unk> <unk> <unk> <unk> <unk> <unk> <unk>', 'icon-cls': None, 'description': 'Elon Musk replied'} \n",
      "\n",
      "android.widget.ImageView\n",
      "{'text': '', 'resource-id': '', 'class': 'android.widget.ImageView', 'package': 'com.twitter.android', 'content-desc': '', 'checkable': False, 'checked': False, 'clickable': True, 'enabled': True, 'focusable': False, 'focused': False, 'scrollable': False, 'long-clickable': False, 'password': False, 'selected': False, 'bounds': [33, 788, 182, 937], 'id': 36, 'layer': 6, 'leaf-id': 20, 'ocr': '', 'caption': 'profile photo', 'icon-cls': 'avatar', 'description': 'avatar'} \n",
      "\n",
      "android.view.ViewGroup\n",
      "{'text': 'Eva Vlaardingerbroek@Eva ...3d .', 'resource-id': 'com.twitter.android:id/tweet_header', 'class': 'android.view.ViewGroup', 'package': 'com.twitter.android', 'content-desc': '', 'checkable': False, 'checked': False, 'clickable': True, 'enabled': True, 'focusable': False, 'focused': False, 'scrollable': False, 'long-clickable': False, 'password': False, 'selected': False, 'bounds': [210, 788, 981, 829], 'id': 37, 'layer': 6, 'leaf-id': 21, 'ocr': 'Eva Vlaardingerbroek@Eva ...3d .', 'caption': '<unk>', 'icon-cls': None, 'description': 'Eva Vlaardingerbroek@Eva ...3d .'} \n",
      "\n",
      "android.widget.ImageView\n",
      "{'NAF': True, 'text': 'The Dutch government is ramping up the', 'resource-id': 'com.twitter.android:id/tweet_curation_action', 'class': 'android.widget.ImageView', 'package': 'com.twitter.android', 'content-desc': '', 'checkable': False, 'checked': False, 'clickable': True, 'enabled': True, 'focusable': True, 'focused': False, 'scrollable': False, 'long-clickable': False, 'password': False, 'selected': False, 'bounds': [981, 759, 1069, 847], 'id': 38, 'layer': 6, 'leaf-id': 22, 'ocr': 'The Dutch government is ramping up the', 'caption': 'more options', 'icon-cls': 'more', 'description': 'The Dutch government is ramping up the'} \n",
      "\n",
      "android.view.View\n",
      "{'text': '🇳🇱 The Dutch government is ramping up the intimidation & obstruction tactics in light of the upcoming farmers protest in The Hague this Saturday: the mayor has said army trucks may be deployed and has ordered the farmers to not take tractors to the protest.', 'resource-id': '', 'class': 'android.view.View', 'package': 'com.twitter.android', 'content-desc': '', 'checkable': False, 'checked': False, 'clickable': True, 'enabled': True, 'focusable': True, 'focused': False, 'scrollable': False, 'long-clickable': False, 'password': False, 'selected': False, 'bounds': [210, 835, 1047, 1159], 'id': 39, 'layer': 6, 'leaf-id': 23, 'caption': '<unk> image', 'icon-cls': None, 'description': '🇳🇱 The Dutch government is ramping up the intimidation & obstruction tactics in light of the upcoming farmers protest in The Hague this Saturday: the mayor has said army trucks may be deployed and has ordered the farmers to not take tractors to the protest.'} \n",
      "\n",
      "android.view.View\n",
      "{'text': '', 'resource-id': 'com.twitter.android:id/tweet_connector_bottom', 'class': 'android.view.View', 'package': 'com.twitter.android', 'content-desc': '', 'checkable': False, 'checked': False, 'clickable': True, 'enabled': True, 'focusable': False, 'focused': False, 'scrollable': False, 'long-clickable': False, 'password': False, 'selected': False, 'bounds': [105, 943, 111, 1269], 'id': 40, 'layer': 6, 'leaf-id': 24, 'ocr': '', 'caption': 'loading', 'icon-cls': None, 'description': 'loading'} \n",
      "\n",
      "android.widget.ImageView\n",
      "{'text': '', 'resource-id': 'com.twitter.android:id/inline_action_item_icon', 'class': 'android.widget.ImageView', 'package': 'com.twitter.android', 'content-desc': '', 'checkable': False, 'checked': False, 'clickable': True, 'enabled': True, 'focusable': False, 'focused': False, 'scrollable': False, 'long-clickable': False, 'password': False, 'selected': False, 'bounds': [212, 1189, 262, 1239], 'id': 43, 'layer': 8, 'leaf-id': 25, 'ocr': '', 'caption': '<unk>', 'icon-cls': 'chat', 'description': 'chat'} \n",
      "\n",
      "android.widget.TextView\n",
      "{'text': '995', 'resource-id': '', 'class': 'android.widget.TextView', 'package': 'com.twitter.android', 'content-desc': '', 'checkable': False, 'checked': False, 'clickable': True, 'enabled': True, 'focusable': False, 'focused': False, 'scrollable': False, 'long-clickable': False, 'password': False, 'selected': False, 'bounds': [268, 1192, 331, 1235], 'id': 44, 'layer': 8, 'leaf-id': 26, 'caption': 'choose stream', 'icon-cls': None, 'description': '995'} \n",
      "\n",
      "android.widget.ImageView\n",
      "{'text': '', 'resource-id': 'com.twitter.android:id/inline_action_item_icon', 'class': 'android.widget.ImageView', 'package': 'com.twitter.android', 'content-desc': '', 'checkable': False, 'checked': False, 'clickable': True, 'enabled': True, 'focusable': False, 'focused': False, 'scrollable': False, 'long-clickable': False, 'password': False, 'selected': False, 'bounds': [400, 1189, 450, 1239], 'id': 46, 'layer': 8, 'leaf-id': 27, 'ocr': '', 'caption': 'switch direction', 'icon-cls': None, 'description': 'switch direction'} \n",
      "\n",
      "android.widget.TextView\n",
      "{'text': '4,727', 'resource-id': '', 'class': 'android.widget.TextView', 'package': 'com.twitter.android', 'content-desc': '', 'checkable': False, 'checked': False, 'clickable': True, 'enabled': True, 'focusable': False, 'focused': False, 'scrollable': False, 'long-clickable': False, 'password': False, 'selected': False, 'bounds': [456, 1192, 542, 1235], 'id': 47, 'layer': 8, 'leaf-id': 28, 'caption': 'choose stream', 'icon-cls': None, 'description': '4,727'} \n",
      "\n",
      "android.widget.ImageView\n",
      "{'text': '', 'resource-id': 'com.twitter.android:id/inline_action_item_icon', 'class': 'android.widget.ImageView', 'package': 'com.twitter.android', 'content-desc': '', 'checkable': False, 'checked': False, 'clickable': True, 'enabled': True, 'focusable': False, 'focused': False, 'scrollable': False, 'long-clickable': False, 'password': False, 'selected': False, 'bounds': [588, 1189, 638, 1239], 'id': 49, 'layer': 8, 'leaf-id': 29, 'ocr': '', 'caption': 'add to favorites', 'icon-cls': 'favorite', 'description': 'favorite'} \n",
      "\n",
      "android.widget.TextView\n",
      "{'text': '17.8K', 'resource-id': '', 'class': 'android.widget.TextView', 'package': 'com.twitter.android', 'content-desc': '', 'checkable': False, 'checked': False, 'clickable': True, 'enabled': True, 'focusable': False, 'focused': False, 'scrollable': False, 'long-clickable': False, 'password': False, 'selected': False, 'bounds': [644, 1192, 728, 1235], 'id': 50, 'layer': 8, 'leaf-id': 30, 'caption': 'choose stream', 'icon-cls': None, 'description': '17.8K'} \n",
      "\n"
     ]
    },
    {
     "name": "stdout",
     "output_type": "stream",
     "text": [
      "android.widget.ImageView\n",
      "{'text': 'il₁ 2.7M', 'resource-id': 'com.twitter.android:id/inline_action_item_icon', 'class': 'android.widget.ImageView', 'package': 'com.twitter.android', 'content-desc': '', 'checkable': False, 'checked': False, 'clickable': True, 'enabled': True, 'focusable': False, 'focused': False, 'scrollable': False, 'long-clickable': False, 'password': False, 'selected': False, 'bounds': [776, 1189, 826, 1239], 'id': 52, 'layer': 8, 'leaf-id': 31, 'ocr': 'il₁ 2.7M', 'caption': 'settings', 'icon-cls': None, 'description': 'il₁ 2.7M'} \n",
      "\n",
      "android.widget.TextView\n",
      "{'text': '2.7M', 'resource-id': '', 'class': 'android.widget.TextView', 'package': 'com.twitter.android', 'content-desc': '', 'checkable': False, 'checked': False, 'clickable': True, 'enabled': True, 'focusable': False, 'focused': False, 'scrollable': False, 'long-clickable': False, 'password': False, 'selected': False, 'bounds': [832, 1192, 910, 1235], 'id': 53, 'layer': 8, 'leaf-id': 32, 'caption': 'choose', 'icon-cls': None, 'description': '2.7M'} \n",
      "\n",
      "android.widget.ImageView\n",
      "{'NAF': True, 'text': '', 'resource-id': 'com.twitter.android:id/inline_action_item_icon', 'class': 'android.widget.ImageView', 'package': 'com.twitter.android', 'content-desc': '', 'checkable': False, 'checked': False, 'clickable': True, 'enabled': True, 'focusable': True, 'focused': False, 'scrollable': False, 'long-clickable': False, 'password': False, 'selected': False, 'bounds': [934, 1159, 1047, 1269], 'id': 54, 'layer': 7, 'leaf-id': 33, 'ocr': '', 'caption': '<unk>', 'icon-cls': 'share', 'description': 'share'} \n",
      "\n",
      "android.view.View\n",
      "{'text': '', 'resource-id': 'com.twitter.android:id/tweet_connector_top', 'class': 'android.view.View', 'package': 'com.twitter.android', 'content-desc': '', 'checkable': False, 'checked': False, 'clickable': True, 'enabled': True, 'focusable': False, 'focused': False, 'scrollable': False, 'long-clickable': False, 'password': False, 'selected': False, 'bounds': [105, 1269, 111, 1296], 'id': 57, 'layer': 7, 'leaf-id': 34, 'ocr': '', 'caption': 'search', 'icon-cls': None, 'description': 'search'} \n",
      "\n",
      "android.widget.ImageView\n",
      "{'text': '', 'resource-id': '', 'class': 'android.widget.ImageView', 'package': 'com.twitter.android', 'content-desc': '', 'checkable': False, 'checked': False, 'clickable': True, 'enabled': True, 'focusable': False, 'focused': False, 'scrollable': False, 'long-clickable': False, 'password': False, 'selected': False, 'bounds': [33, 1302, 182, 1451], 'id': 58, 'layer': 7, 'leaf-id': 35, 'ocr': '', 'caption': 'profile photo', 'icon-cls': 'avatar', 'description': 'avatar'} \n",
      "\n",
      "android.view.ViewGroup\n",
      "{'text': 'Elon Musk@elonmusk3d.', 'resource-id': 'com.twitter.android:id/tweet_header', 'class': 'android.view.ViewGroup', 'package': 'com.twitter.android', 'content-desc': '', 'checkable': False, 'checked': False, 'clickable': True, 'enabled': True, 'focusable': False, 'focused': False, 'scrollable': False, 'long-clickable': False, 'password': False, 'selected': False, 'bounds': [210, 1302, 981, 1341], 'id': 59, 'layer': 7, 'leaf-id': 36, 'ocr': 'Elon Musk@elonmusk3d.', 'caption': '<unk> wifi', 'icon-cls': None, 'description': 'Elon Musk@elonmusk3d.'} \n",
      "\n",
      "android.widget.ImageView\n",
      "{'NAF': True, 'text': '', 'resource-id': 'com.twitter.android:id/tweet_curation_action', 'class': 'android.widget.ImageView', 'package': 'com.twitter.android', 'content-desc': '', 'checkable': False, 'checked': False, 'clickable': True, 'enabled': True, 'focusable': True, 'focused': False, 'scrollable': False, 'long-clickable': False, 'password': False, 'selected': False, 'bounds': [981, 1272, 1069, 1360], 'id': 60, 'layer': 7, 'leaf-id': 37, 'ocr': '', 'caption': 'more options', 'icon-cls': 'more', 'description': 'more'} \n",
      "\n",
      "android.view.View\n",
      "{'text': '!', 'resource-id': '', 'class': 'android.view.View', 'package': 'com.twitter.android', 'content-desc': '', 'checkable': False, 'checked': False, 'clickable': True, 'enabled': True, 'focusable': True, 'focused': False, 'scrollable': False, 'long-clickable': False, 'password': False, 'selected': False, 'bounds': [210, 1347, 1047, 1396], 'id': 61, 'layer': 7, 'leaf-id': 38, 'caption': '<unk>', 'icon-cls': None, 'description': '!'} \n",
      "\n",
      "android.widget.ImageView\n",
      "{'text': '', 'resource-id': 'com.twitter.android:id/inline_action_item_icon', 'class': 'android.widget.ImageView', 'package': 'com.twitter.android', 'content-desc': '', 'checkable': False, 'checked': False, 'clickable': True, 'enabled': True, 'focusable': False, 'focused': False, 'scrollable': False, 'long-clickable': False, 'password': False, 'selected': False, 'bounds': [212, 1426, 262, 1476], 'id': 64, 'layer': 9, 'leaf-id': 39, 'ocr': '', 'caption': '<unk>', 'icon-cls': 'chat', 'description': 'chat'} \n",
      "\n",
      "android.widget.TextView\n",
      "{'text': '536', 'resource-id': '', 'class': 'android.widget.TextView', 'package': 'com.twitter.android', 'content-desc': '', 'checkable': False, 'checked': False, 'clickable': True, 'enabled': True, 'focusable': False, 'focused': False, 'scrollable': False, 'long-clickable': False, 'password': False, 'selected': False, 'bounds': [268, 1429, 331, 1472], 'id': 65, 'layer': 9, 'leaf-id': 40, 'caption': 'choose stream', 'icon-cls': None, 'description': '536'} \n",
      "\n"
     ]
    }
   ],
   "source": [
    "gui.show_each_element(only_leaves=True)"
   ]
  },
  {
   "cell_type": "code",
   "execution_count": null,
   "id": "64c50906",
   "metadata": {},
   "outputs": [],
   "source": []
  },
  {
   "cell_type": "markdown",
   "id": "bdbe9cb8",
   "metadata": {},
   "source": [
    "### 2. Load automator"
   ]
  },
  {
   "cell_type": "code",
   "execution_count": 5,
   "id": "ba49063e",
   "metadata": {},
   "outputs": [],
   "source": [
    "# from Automator import Automator\n",
    "# aut = Automator(gui)\n",
    "# if load:\n",
    "#     aut.load_block_descriptions()\n",
    "# aut.ai_chain('Open Twitter', show_block=False, load_block_desc=load)"
   ]
  },
  {
   "cell_type": "code",
   "execution_count": 4,
   "id": "b967e00a",
   "metadata": {},
   "outputs": [],
   "source": [
    "from Automator import Automator\n",
    "aut = Automator(gui)"
   ]
  },
  {
   "cell_type": "code",
   "execution_count": 5,
   "id": "19a9734d",
   "metadata": {},
   "outputs": [
    {
     "name": "stdout",
     "output_type": "stream",
     "text": [
      "------ Generate Block Descriptions ------\n"
     ]
    }
   ],
   "source": [
    "aut.generate_descriptions_for_blocks(False)"
   ]
  },
  {
   "cell_type": "code",
   "execution_count": null,
   "id": "b0c31d38",
   "metadata": {},
   "outputs": [],
   "source": []
  },
  {
   "cell_type": "code",
   "execution_count": 6,
   "id": "657e0377",
   "metadata": {},
   "outputs": [
    {
     "data": {
      "text/plain": [
       "{'vh': [{'resource-id': '.twitter:id/poser_write',\n",
       "   'class': '.widget.ImageButton',\n",
       "   'clickable': True,\n",
       "   'id': 84,\n",
       "   'layer': 2,\n",
       "   'description': '+'},\n",
       "  {'resource-id': ':id/statusBarBackground',\n",
       "   'class': '.view.View',\n",
       "   'clickable': False,\n",
       "   'id': 91,\n",
       "   'layer': 1,\n",
       "   'description': '5:08'}],\n",
       " 'desc': ['[Not Scrollable] This UI code describes a toolbar with clickable and non-scrollable elements. The toolbar includes a button for showing the navigation drawer and an image of the Twitter logo, both of which are clickable. The navigation drawer likely contains various options for the user to select, while the Twitter logo serves as a link to return the user to the main Twitter feed.',\n",
       "  '[Scrollable] This UI is a scrollable layout consisting of a View Pager with two tabs: \"For you\" and \"Following\". The View Pager children consist of a horizontal scroll view displaying tweets in form of a list. The tweets are displayed in a recycler view with each tweet containing an avatar, tweet header, tweet text, tweet connectors for chat, retweet, like and settings, all of which are actionable elements. The UI also displays additional tweet details such as view counts in the form of inline icons. The View Pager and corresponding tabs allow users to toggle between trending tweets and tweets from followed users while providing comprehensive functionality to engage with the tweets including chatting, liking, retweeting, and sharing.',\n",
       "  \"[Not Scrollable] This code snippet describes a UI component of Twitter's mobile application that includes a horizontal scrollable view with tabs representing different functionalities of the app. These tabs include options to close the navigation drawer, search and explore, access Spaces, view notifications, and access direct messages. Each tab is represented by a clickable view that allows the user to easily navigate to and interact with the corresponding functionality.\"]}"
      ]
     },
     "execution_count": 6,
     "metadata": {},
     "output_type": "execute_result"
    }
   ],
   "source": [
    "aut.block_descriptions"
   ]
  },
  {
   "cell_type": "code",
   "execution_count": null,
   "id": "aa72a8e9",
   "metadata": {},
   "outputs": [],
   "source": []
  },
  {
   "cell_type": "code",
   "execution_count": 4,
   "id": "40dded66",
   "metadata": {},
   "outputs": [],
   "source": [
    "leaves, blocks = aut.partition_element_to_leaves_and_blocks(aut.gui.element_tree)"
   ]
  },
  {
   "cell_type": "code",
   "execution_count": 7,
   "id": "d9ac65aa",
   "metadata": {},
   "outputs": [
    {
     "data": {
      "text/plain": [
       "3751"
      ]
     },
     "execution_count": 7,
     "metadata": {},
     "output_type": "execute_result"
    }
   ],
   "source": [
    "aut.count_token_size(aut.element_to_str(aut.gui.element_tree['children'][0]))"
   ]
  },
  {
   "cell_type": "code",
   "execution_count": 11,
   "id": "9db4e904",
   "metadata": {},
   "outputs": [
    {
     "data": {
      "text/plain": [
       "{'resource-id': '.twitter:id/tabs',\n",
       " 'class': '.widget.HorizontalScrollView',\n",
       " 'clickable': False,\n",
       " 'scrollable': False,\n",
       " 'id': 85,\n",
       " 'layer': 2,\n",
       " 'children': [{'resource-id': '.twitter:id/channels',\n",
       "   'class': '.view.View',\n",
       "   'clickable': False,\n",
       "   'id': 86,\n",
       "   'layer': 3,\n",
       "   'description': 'close navigation drawer'},\n",
       "  {'class': '.view.View',\n",
       "   'clickable': True,\n",
       "   'id': 87,\n",
       "   'layer': 3,\n",
       "   'description': 'Search and Explore'},\n",
       "  {'resource-id': '.twitter:id/spaces',\n",
       "   'class': '.view.View',\n",
       "   'clickable': True,\n",
       "   'id': 88,\n",
       "   'layer': 3,\n",
       "   'description': 'Spaces'},\n",
       "  {'resource-id': '.twitter:id/notifications',\n",
       "   'class': '.view.View',\n",
       "   'clickable': True,\n",
       "   'id': 89,\n",
       "   'layer': 3,\n",
       "   'description': 'Notifications'},\n",
       "  {'resource-id': '.twitter:id/dms',\n",
       "   'class': '.view.View',\n",
       "   'clickable': True,\n",
       "   'id': 90,\n",
       "   'layer': 3,\n",
       "   'description': 'Messages'}]}"
      ]
     },
     "execution_count": 11,
     "metadata": {},
     "output_type": "execute_result"
    }
   ],
   "source": [
    "blocks[2]"
   ]
  },
  {
   "cell_type": "code",
   "execution_count": 6,
   "id": "bfc2019f",
   "metadata": {},
   "outputs": [
    {
     "data": {
      "text/plain": [
       "2"
      ]
     },
     "execution_count": 6,
     "metadata": {},
     "output_type": "execute_result"
    }
   ],
   "source": [
    "len(leaves)"
   ]
  },
  {
   "cell_type": "code",
   "execution_count": null,
   "id": "ecef7d00",
   "metadata": {},
   "outputs": [],
   "source": []
  },
  {
   "cell_type": "code",
   "execution_count": 4,
   "id": "3a49f3a0",
   "metadata": {},
   "outputs": [
    {
     "name": "stdout",
     "output_type": "stream",
     "text": [
      "Load block description from data/twitter/testcase1\\automator\\0_block_desc.json\n"
     ]
    }
   ],
   "source": [
    "aut.load_block_descriptions()\n",
    "# aut.generate_descriptions_for_blocks(show=False)"
   ]
  },
  {
   "cell_type": "code",
   "execution_count": 6,
   "id": "2810a8b9",
   "metadata": {},
   "outputs": [
    {
     "name": "stdout",
     "output_type": "stream",
     "text": [
      "[No], none of the UI blocks is related to the task \"Follow Elon Musk\".\n"
     ]
    }
   ],
   "source": [
    "aut.target_block_identification_by_desc('Follow Elon Mush')"
   ]
  },
  {
   "cell_type": "code",
   "execution_count": null,
   "id": "100505c8",
   "metadata": {},
   "outputs": [],
   "source": []
  },
  {
   "cell_type": "code",
   "execution_count": 12,
   "id": "5f0405ae",
   "metadata": {},
   "outputs": [],
   "source": [
    "aut.gui.show_all_elements()"
   ]
  },
  {
   "cell_type": "code",
   "execution_count": null,
   "id": "bc2e3065",
   "metadata": {},
   "outputs": [],
   "source": []
  },
  {
   "cell_type": "code",
   "execution_count": null,
   "id": "e70709ec",
   "metadata": {},
   "outputs": [],
   "source": []
  },
  {
   "cell_type": "code",
   "execution_count": 5,
   "id": "0fa73698",
   "metadata": {},
   "outputs": [
    {
     "data": {
      "text/plain": [
       "{'vh': [{'resource-id': '.twitter:id/toolbar',\n",
       "   'class': '.view.ViewGroup',\n",
       "   'clickable': True,\n",
       "   'scrollable': False,\n",
       "   'id': 2,\n",
       "   'layer': 2,\n",
       "   'children': [{'class': '.widget.ImageButton',\n",
       "     'clickable': True,\n",
       "     'id': 3,\n",
       "     'layer': 3,\n",
       "     'description': 'Show navigation drawer'},\n",
       "    {'resource-id': '.twitter:id/logo',\n",
       "     'class': '.widget.ImageView',\n",
       "     'clickable': True,\n",
       "     'id': 4,\n",
       "     'layer': 3,\n",
       "     'description': 'twitter'}]},\n",
       "  {'resource-id': '.twitter:id/tab_layout',\n",
       "   'class': '.widget.HorizontalScrollView',\n",
       "   'clickable': False,\n",
       "   'scrollable': False,\n",
       "   'id': 6,\n",
       "   'layer': 3,\n",
       "   'children': [{'class': '.widget.TextView',\n",
       "     'clickable': False,\n",
       "     'id': 7,\n",
       "     'layer': 4,\n",
       "     'description': 'For you'},\n",
       "    {'class': '.widget.TextView',\n",
       "     'clickable': True,\n",
       "     'id': 8,\n",
       "     'layer': 4,\n",
       "     'description': 'Following'}]},\n",
       "  {'resource-id': '.twitter:id/poser_write',\n",
       "   'class': '.widget.ImageButton',\n",
       "   'clickable': True,\n",
       "   'id': 84,\n",
       "   'layer': 2,\n",
       "   'description': 'add'},\n",
       "  {'resource-id': '.twitter:id/tabs',\n",
       "   'class': '.widget.HorizontalScrollView',\n",
       "   'clickable': False,\n",
       "   'scrollable': False,\n",
       "   'id': 85,\n",
       "   'layer': 2,\n",
       "   'children': [{'resource-id': '.twitter:id/channels',\n",
       "     'class': '.view.View',\n",
       "     'clickable': False,\n",
       "     'id': 86,\n",
       "     'layer': 3,\n",
       "     'description': 'close navigation drawer'},\n",
       "    {'class': '.view.View',\n",
       "     'clickable': True,\n",
       "     'id': 87,\n",
       "     'layer': 3,\n",
       "     'description': 'Search and Explore'},\n",
       "    {'resource-id': '.twitter:id/spaces',\n",
       "     'class': '.view.View',\n",
       "     'clickable': True,\n",
       "     'id': 88,\n",
       "     'layer': 3,\n",
       "     'description': 'Spaces'},\n",
       "    {'resource-id': '.twitter:id/notifications',\n",
       "     'class': '.view.View',\n",
       "     'clickable': True,\n",
       "     'id': 89,\n",
       "     'layer': 3,\n",
       "     'description': 'Notifications'},\n",
       "    {'resource-id': '.twitter:id/dms',\n",
       "     'class': '.view.View',\n",
       "     'clickable': True,\n",
       "     'id': 90,\n",
       "     'layer': 3,\n",
       "     'description': 'Messages'}]},\n",
       "  {'resource-id': ':id/statusBarBackground',\n",
       "   'class': '.view.View',\n",
       "   'clickable': False,\n",
       "   'id': 91,\n",
       "   'layer': 1}],\n",
       " 'desc': ['[Scrollable] The UI element in question appears to be a list view, where each item in the list is composed of multiple sub-elements such as a primary photo, view counts, and various action icons like chat, retweet, and like. The list view may be scrollable and allows for interaction with each item through clicking. Additionally, each item in the list may include features like social context badges, tweet headers, and tweet curation actions. There is also an element in the list that appears to promote a campaign, where users can discover different roles and how they can safeguard the skies.']}"
      ]
     },
     "execution_count": 5,
     "metadata": {},
     "output_type": "execute_result"
    }
   ],
   "source": [
    "aut.block_descriptions"
   ]
  },
  {
   "cell_type": "code",
   "execution_count": null,
   "id": "3912e710",
   "metadata": {},
   "outputs": [],
   "source": []
  },
  {
   "cell_type": "code",
   "execution_count": null,
   "id": "db847cd0",
   "metadata": {},
   "outputs": [],
   "source": []
  },
  {
   "cell_type": "code",
   "execution_count": 7,
   "id": "76e08122",
   "metadata": {},
   "outputs": [
    {
     "name": "stdout",
     "output_type": "stream",
     "text": [
      "*** Asking ***\n",
      " [{'role': 'system', 'content': 'You are a mobile virtual assistant that understands and interacts with the user interface to complete given task.'}, {'role': 'user', 'content': 'Is the given UI related to the task \\'Follow Elon Musk?\\'. Can your click on any element in it to complete the task? \\nUI block: [\\n  {\\n    \"resource-id\": \"twitter.android:id/pager\",\\n    \"class\": \"androidx.viewpager.widget.ViewPager\",\\n    \"clickable\": false,\\n    \"id\": 5\\n  },\\n  {\\n    \"resource-id\": \"twitter.android:id/view_pager\",\\n    \"class\": \"androidx.viewpager.widget.ViewPager\",\\n    \"clickable\": false,\\n    \"id\": 6\\n  },\\n  {\\n    \"resource-id\": \"twitter.android:id/nested_coordinator_layout\",\\n    \"class\": \"widget.ScrollView\",\\n    \"clickable\": false,\\n    \"id\": 11\\n  },\\n  {\\n    \"class\": \"view.ViewGroup\",\\n    \"clickable\": false,\\n    \"id\": 12\\n  },\\n  {\\n    \"resource-id\": \"android:id/list\",\\n    \"class\": \"androidx.recyclerview.widget.RecyclerView\",\\n    \"clickable\": false,\\n    \"id\": 13\\n  },\\n  {\\n    \"class\": \"view.ViewGroup\",\\n    \"clickable\": true,\\n    \"id\": 91\\n  },\\n  {\\n    \"resource-id\": \"twitter.android:id/row\",\\n    \"class\": \"view.ViewGroup\",\\n    \"clickable\": true,\\n    \"id\": 92\\n  },\\n  {\\n    \"class\": \"widget.FrameLayout\",\\n    \"clickable\": true,\\n    \"id\": 99\\n  },\\n  {\\n    \"class\": \"widget.FrameLayout\",\\n    \"clickable\": true,\\n    \"id\": 100\\n  },\\n  {\\n    \"resource-id\": \"twitter.android:id/video_container\",\\n    \"class\": \"widget.FrameLayout\",\\n    \"clickable\": true,\\n    \"id\": 101\\n  },\\n  {\\n    \"class\": \"view.ViewGroup\",\\n    \"clickable\": true,\\n    \"id\": 104\\n  },\\n  {\\n    \"class\": \"view.View\",\\n    \"clickable\": true,\\n    \"id\": 105,\\n    \"description\": \"loading wallpaper\"\\n  },\\n  {\\n    \"class\": \"view.ViewGroup\",\\n    \"clickable\": true,\\n    \"id\": 102\\n  },\\n  {\\n    \"class\": \"ddw\",\\n    \"clickable\": true,\\n    \"id\": 103,\\n    \"description\": \"loading wallpaper\"\\n  },\\n  {\\n    \"resource-id\": \"twitter.android:id/tweet_content_text\",\\n    \"class\": \"view.View\",\\n    \"clickable\": true,\\n    \"id\": 97\\n  },\\n  {\\n    \"class\": \"view.View\",\\n    \"clickable\": true,\\n    \"id\": 98,\\n    \"description\": \"Discover the roles and see how you can safeguard the skies. #WhatIsUp\"\\n  },\\n  {\\n    \"resource-id\": \"twitter.android:id/tweet_curation_action\",\\n    \"class\": \"widget.ImageView\",\\n    \"clickable\": true,\\n    \"id\": 96,\\n    \"description\": \"more\"\\n  },\\n  {\\n    \"resource-id\": \"twitter.android:id/tweet_header\",\\n    \"class\": \"view.ViewGroup\",\\n    \"clickable\": true,\\n    \"id\": 95\\n  },\\n  {\\n    \"resource-id\": \"twitter.android:id/tweet_profile_image\",\\n    \"class\": \"widget.FrameLayout\",\\n    \"clickable\": true,\\n    \"id\": 93\\n  },\\n  {\\n    \"class\": \"widget.ImageView\",\\n    \"clickable\": true,\\n    \"id\": 94,\\n    \"description\": \"avatar\"\\n  },\\n  {\\n    \"class\": \"view.ViewGroup\",\\n    \"clickable\": true,\\n    \"id\": 67\\n  },\\n  {\\n    \"resource-id\": \"twitter.android:id/row\",\\n    \"class\": \"view.ViewGroup\",\\n    \"clickable\": true,\\n    \"id\": 68\\n  },\\n  {\\n    \"class\": \"view.ViewGroup\",\\n    \"clickable\": true,\\n    \"id\": 76\\n  },\\n  {\\n    \"resource-id\": \"twitter.android:id/inline_twitter_share\",\\n    \"class\": \"view.ViewGroup\",\\n    \"clickable\": true,\\n    \"id\": 89\\n  },\\n  {\\n    \"resource-id\": \"twitter.android:id/inline_action_item_icon\",\\n    \"class\": \"widget.ImageView\",\\n    \"clickable\": true,\\n    \"id\": 90,\\n    \"description\": \"share\"\\n  },\\n  {\\n    \"resource-id\": \"twitter.android:id/inline_view_count\",\\n    \"class\": \"view.ViewGroup\",\\n    \"clickable\": true,\\n    \"id\": 86\\n  },\\n  {\\n    \"class\": \"widget.TextView\",\\n    \"clickable\": true,\\n    \"id\": 88,\\n    \"description\": \"1.3M\"\\n  },\\n  {\\n    \"resource-id\": \"twitter.android:id/inline_action_item_icon\",\\n    \"class\": \"widget.ImageView\",\\n    \"clickable\": true,\\n    \"id\": 87,\\n    \"description\": \"settings\"\\n  },\\n  {\\n    \"resource-id\": \"twitter.android:id/inline_like\",\\n    \"class\": \"view.ViewGroup\",\\n    \"clickable\": true,\\n    \"id\": 83\\n  },\\n  {\\n    \"class\": \"widget.TextView\",\\n    \"clickable\": true,\\n    \"id\": 85,\\n    \"description\": \"9,049\"\\n  },\\n  {\\n    \"resource-id\": \"twitter.android:id/inline_action_item_icon\",\\n    \"class\": \"widget.ImageView\",\\n    \"clickable\": true,\\n    \"id\": 84,\\n    \"description\": \"favorite\"\\n  },\\n  {\\n    \"resource-id\": \"twitter.android:id/inline_retweet\",\\n    \"class\": \"view.ViewGroup\",\\n    \"clickable\": true,\\n    \"id\": 80\\n  },\\n  {\\n    \"class\": \"widget.TextView\",\\n    \"clickable\": true,\\n    \"id\": 82,\\n    \"description\": \"698\"\\n  },\\n  {\\n    \"resource-id\": \"twitter.android:id/inline_action_item_icon\",\\n    \"class\": \"widget.ImageView\",\\n    \"clickable\": true,\\n    \"id\": 81,\\n    \"description\": \"switch direction\"\\n  },\\n  {\\n    \"resource-id\": \"twitter.android:id/inline_reply\",\\n    \"class\": \"view.ViewGroup\",\\n    \"clickable\": true,\\n    \"id\": 77\\n  },\\n  {\\n    \"class\": \"widget.TextView\",\\n    \"clickable\": true,\\n    \"id\": 79,\\n    \"description\": \"536\"\\n  },\\n  {\\n    \"resource-id\": \"twitter.android:id/inline_action_item_icon\",\\n    \"class\": \"widget.ImageView\",\\n    \"clickable\": true,\\n    \"id\": 78,\\n    \"description\": \"chat\"\\n  },\\n  {\\n    \"resource-id\": \"twitter.android:id/tweet_content_text\",\\n    \"class\": \"view.View\",\\n    \"clickable\": true,\\n    \"id\": 74\\n  },\\n  {\\n    \"class\": \"view.View\",\\n    \"clickable\": true,\\n    \"id\": 75,\\n    \"description\": \"!\"\\n  },\\n  {\\n    \"resource-id\": \"twitter.android:id/tweet_curation_action\",\\n    \"class\": \"widget.ImageView\",\\n    \"clickable\": true,\\n    \"id\": 73,\\n    \"description\": \"more\"\\n  },\\n  {\\n    \"resource-id\": \"twitter.android:id/tweet_header\",\\n    \"class\": \"view.ViewGroup\",\\n    \"clickable\": true,\\n    \"id\": 72\\n  },\\n  {\\n    \"resource-id\": \"twitter.android:id/tweet_profile_image\",\\n    \"class\": \"widget.FrameLayout\",\\n    \"clickable\": true,\\n    \"id\": 70\\n  },\\n  {\\n    \"class\": \"widget.ImageView\",\\n    \"clickable\": true,\\n    \"id\": 71,\\n    \"description\": \"avatar\"\\n  },\\n  {\\n    \"resource-id\": \"twitter.android:id/tweet_connector_top\",\\n    \"class\": \"view.View\",\\n    \"clickable\": true,\\n    \"id\": 69,\\n    \"description\": \"search\"\\n  },\\n  {\\n    \"class\": \"view.ViewGroup\",\\n    \"clickable\": true,\\n    \"id\": 40\\n  },\\n  {\\n    \"resource-id\": \"twitter.android:id/row\",\\n    \"class\": \"view.ViewGroup\",\\n    \"clickable\": true,\\n    \"id\": 41\\n  },\\n  {\\n    \"class\": \"view.ViewGroup\",\\n    \"clickable\": true,\\n    \"id\": 52\\n  },\\n  {\\n    \"resource-id\": \"twitter.android:id/inline_twitter_share\",\\n    \"class\": \"view.ViewGroup\",\\n    \"clickable\": true,\\n    \"id\": 65\\n  },\\n  {\\n    \"resource-id\": \"twitter.android:id/inline_action_item_icon\",\\n    \"class\": \"widget.ImageView\",\\n    \"clickable\": true,\\n    \"id\": 66,\\n    \"description\": \"share\"\\n  },\\n  {\\n    \"resource-id\": \"twitter.android:id/inline_view_count\",\\n    \"class\": \"view.ViewGroup\",\\n    \"clickable\": true,\\n    \"id\": 62\\n  },\\n  {\\n    \"class\": \"widget.TextView\",\\n    \"clickable\": true,\\n    \"id\": 64,\\n    \"description\": \"2.7M\"\\n  },\\n  {\\n    \"resource-id\": \"twitter.android:id/inline_action_item_icon\",\\n    \"class\": \"widget.ImageView\",\\n    \"clickable\": true,\\n    \"id\": 63,\\n    \"description\": \"settings\"\\n  },\\n  {\\n    \"resource-id\": \"twitter.android:id/inline_like\",\\n    \"class\": \"view.ViewGroup\",\\n    \"clickable\": true,\\n    \"id\": 59\\n  },\\n  {\\n    \"class\": \"widget.TextView\",\\n    \"clickable\": true,\\n    \"id\": 61,\\n    \"description\": \"17.8K\"\\n  },\\n  {\\n    \"resource-id\": \"twitter.android:id/inline_action_item_icon\",\\n    \"class\": \"widget.ImageView\",\\n    \"clickable\": true,\\n    \"id\": 60,\\n    \"description\": \"favorite\"\\n  },\\n  {\\n    \"resource-id\": \"twitter.android:id/inline_retweet\",\\n    \"class\": \"view.ViewGroup\",\\n    \"clickable\": true,\\n    \"id\": 56\\n  },\\n  {\\n    \"class\": \"widget.TextView\",\\n    \"clickable\": true,\\n    \"id\": 58,\\n    \"description\": \"4,727\"\\n  },\\n  {\\n    \"resource-id\": \"twitter.android:id/inline_action_item_icon\",\\n    \"class\": \"widget.ImageView\",\\n    \"clickable\": true,\\n    \"id\": 57,\\n    \"description\": \"switch direction\"\\n  },\\n  {\\n    \"resource-id\": \"twitter.android:id/inline_reply\",\\n    \"class\": \"view.ViewGroup\",\\n    \"clickable\": true,\\n    \"id\": 53\\n  },\\n  {\\n    \"class\": \"widget.TextView\",\\n    \"clickable\": true,\\n    \"id\": 55,\\n    \"description\": \"995\"\\n  },\\n  {\\n    \"resource-id\": \"twitter.android:id/inline_action_item_icon\",\\n    \"class\": \"widget.ImageView\",\\n    \"clickable\": true,\\n    \"id\": 54,\\n    \"description\": \"chat\"\\n  },\\n  {\\n    \"resource-id\": \"twitter.android:id/tweet_connector_bottom\",\\n    \"class\": \"view.View\",\\n    \"clickable\": true,\\n    \"id\": 51,\\n    \"description\": \"loading\"\\n  },\\n  {\\n    \"resource-id\": \"twitter.android:id/tweet_content_text\",\\n    \"class\": \"view.View\",\\n    \"clickable\": true,\\n    \"id\": 49\\n  },\\n  {\\n    \"class\": \"view.View\",\\n    \"clickable\": true,\\n    \"id\": 50,\\n    \"description\": \"\\\\ud83c\\\\uddf3\\\\ud83c\\\\uddf1 The Dutch government is ramping up the intimidation & obstruction tactics in light of the upcoming farmers protest in The Hague this Saturday: the mayor has said army trucks may be deployed and has ordered the farmers to not take tractors to the protest.\"\\n  },\\n  {\\n    \"resource-id\": \"twitter.android:id/tweet_curation_action\",\\n    \"class\": \"widget.ImageView\",\\n    \"clickable\": true,\\n    \"id\": 48,\\n    \"description\": \"more\"\\n  },\\n  {\\n    \"resource-id\": \"twitter.android:id/tweet_header\",\\n    \"class\": \"view.ViewGroup\",\\n    \"clickable\": true,\\n    \"id\": 47\\n  },\\n  {\\n    \"resource-id\": \"twitter.android:id/tweet_profile_image\",\\n    \"class\": \"widget.FrameLayout\",\\n    \"clickable\": true,\\n    \"id\": 45\\n  },\\n  {\\n    \"class\": \"widget.ImageView\",\\n    \"clickable\": true,\\n    \"id\": 46,\\n    \"description\": \"avatar\"\\n  },\\n  {\\n    \"resource-id\": \"twitter.android:id/tweet_social_context\",\\n    \"class\": \"view.ViewGroup\",\\n    \"clickable\": true,\\n    \"id\": 43\\n  },\\n  {\\n    \"resource-id\": \"twitter.android:id/social_context_text\",\\n    \"class\": \"widget.TextView\",\\n    \"clickable\": true,\\n    \"id\": 44,\\n    \"description\": \"Elon Musk replied\"\\n  },\\n  {\\n    \"resource-id\": \"twitter.android:id/social_context_badge\",\\n    \"class\": \"widget.ImageView\",\\n    \"clickable\": true,\\n    \"id\": 42,\\n    \"description\": \"chat\"\\n  },\\n  {\\n    \"class\": \"view.ViewGroup\",\\n    \"clickable\": true,\\n    \"id\": 14\\n  },\\n  {\\n    \"resource-id\": \"twitter.android:id/row\",\\n    \"class\": \"view.ViewGroup\",\\n    \"clickable\": true,\\n    \"id\": 15\\n  },\\n  {\\n    \"class\": \"view.ViewGroup\",\\n    \"clickable\": true,\\n    \"id\": 25\\n  },\\n  {\\n    \"resource-id\": \"twitter.android:id/inline_twitter_share\",\\n    \"class\": \"view.ViewGroup\",\\n    \"clickable\": true,\\n    \"id\": 38\\n  },\\n  {\\n    \"resource-id\": \"twitter.android:id/inline_action_item_icon\",\\n    \"class\": \"widget.ImageView\",\\n    \"clickable\": true,\\n    \"id\": 39,\\n    \"description\": \"share\"\\n  },\\n  {\\n    \"resource-id\": \"twitter.android:id/inline_view_count\",\\n    \"class\": \"view.ViewGroup\",\\n    \"clickable\": true,\\n    \"id\": 35\\n  },\\n  {\\n    \"class\": \"widget.TextView\",\\n    \"clickable\": true,\\n    \"id\": 37,\\n    \"description\": \"4,829\"\\n  },\\n  {\\n    \"resource-id\": \"twitter.android:id/inline_action_item_icon\",\\n    \"class\": \"widget.ImageView\",\\n    \"clickable\": true,\\n    \"id\": 36,\\n    \"description\": \"settings\"\\n  },\\n  {\\n    \"resource-id\": \"twitter.android:id/inline_like\",\\n    \"class\": \"view.ViewGroup\",\\n    \"clickable\": true,\\n    \"id\": 32\\n  },\\n  {\\n    \"class\": \"widget.TextView\",\\n    \"clickable\": true,\\n    \"id\": 34,\\n    \"description\": \"54\"\\n  },\\n  {\\n    \"resource-id\": \"twitter.android:id/inline_action_item_icon\",\\n    \"class\": \"widget.ImageView\",\\n    \"clickable\": true,\\n    \"id\": 33,\\n    \"description\": \"favorite\"\\n  },\\n  {\\n    \"resource-id\": \"twitter.android:id/inline_retweet\",\\n    \"class\": \"view.ViewGroup\",\\n    \"clickable\": true,\\n    \"id\": 29\\n  },\\n  {\\n    \"class\": \"widget.TextView\",\\n    \"clickable\": true,\\n    \"id\": 31,\\n    \"description\": \"11\"\\n  },\\n  {\\n    \"resource-id\": \"twitter.android:id/inline_action_item_icon\",\\n    \"class\": \"widget.ImageView\",\\n    \"clickable\": true,\\n    \"id\": 30,\\n    \"description\": \"switch direction\"\\n  },\\n  {\\n    \"resource-id\": \"twitter.android:id/inline_reply\",\\n    \"class\": \"view.ViewGroup\",\\n    \"clickable\": true,\\n    \"id\": 26\\n  },\\n  {\\n    \"class\": \"widget.TextView\",\\n    \"clickable\": true,\\n    \"id\": 28,\\n    \"description\": \"2\"\\n  },\\n  {\\n    \"resource-id\": \"twitter.android:id/inline_action_item_icon\",\\n    \"class\": \"widget.ImageView\",\\n    \"clickable\": true,\\n    \"id\": 27,\\n    \"description\": \"chat\"\\n  },\\n  {\\n    \"resource-id\": \"twitter.android:id/view_counts\",\\n    \"class\": \"widget.TextView\",\\n    \"clickable\": true,\\n    \"id\": 24,\\n    \"description\": \"1,633 views\"\\n  },\\n  {\\n    \"resource-id\": \"twitter.android:id/player\",\\n    \"class\": \"widget.FrameLayout\",\\n    \"clickable\": true,\\n    \"id\": 16\\n  },\\n  {\\n    \"class\": \"view.ViewGroup\",\\n    \"clickable\": true,\\n    \"id\": 21\\n  },\\n  {\\n    \"resource-id\": \"twitter.android:id/av_badge_duration_text\",\\n    \"class\": \"widget.TextView\",\\n    \"clickable\": true,\\n    \"id\": 23,\\n    \"description\": \"0:59\"\\n  },\\n  {\\n    \"class\": \"view.View\",\\n    \"clickable\": true,\\n    \"id\": 22,\\n    \"description\": \"primary photo\"\\n  },\\n  {\\n    \"class\": \"view.ViewGroup\",\\n    \"clickable\": true,\\n    \"id\": 19\\n  },\\n  {\\n    \"class\": \"widget.ImageView\",\\n    \"clickable\": true,\\n    \"id\": 20,\\n    \"description\": \"primary photo\"\\n  },\\n  {\\n    \"class\": \"view.ViewGroup\",\\n    \"clickable\": true,\\n    \"id\": 17\\n  },\\n  {\\n    \"class\": \"ddw\",\\n    \"clickable\": true,\\n    \"id\": 18,\\n    \"description\": \"primary photo\"\\n  },\\n  {\\n    \"resource-id\": \"twitter.android:id/tab_layout\",\\n    \"class\": \"widget.HorizontalScrollView\",\\n    \"clickable\": false,\\n    \"id\": 7\\n  },\\n  {\\n    \"class\": \"widget.LinearLayout\",\\n    \"clickable\": true,\\n    \"id\": 9\\n  },\\n  {\\n    \"class\": \"widget.TextView\",\\n    \"clickable\": true,\\n    \"id\": 10,\\n    \"description\": \"Following\"\\n  },\\n  {\\n    \"class\": \"widget.TextView\",\\n    \"clickable\": false,\\n    \"id\": 8,\\n    \"description\": \"For you\"\\n  }\\n]\\nAnswer [Yes] with the target element id (for example, \\'Yes, Element 1\\') if any or [No] if not'}]\n"
     ]
    },
    {
     "name": "stdout",
     "output_type": "stream",
     "text": [
      "\n",
      "*** Answer ***\n",
      " {\n",
      "  \"content\": \"No, there is no target element related to the task 'Follow Elon Musk' in the given UI block.\",\n",
      "  \"role\": \"assistant\"\n",
      "} \n",
      "\n"
     ]
    }
   ],
   "source": [
    "aut.one_prompt_at_once(task='Follow Elon Musk',\n",
    "                      ui=gui.flatten_block_to_elements(gui.blocks[1]),\n",
    "                      role=aut.role,\n",
    "                      printlog=True)"
   ]
  },
  {
   "cell_type": "code",
   "execution_count": 10,
   "id": "cd990867",
   "metadata": {},
   "outputs": [
    {
     "data": {
      "text/plain": [
       "[{'resource-id': 'twitter.android:id/pager',\n",
       "  'class': 'androidx.viewpager.widget.ViewPager',\n",
       "  'clickable': False,\n",
       "  'id': 5}]"
      ]
     },
     "execution_count": 10,
     "metadata": {},
     "output_type": "execute_result"
    }
   ],
   "source": [
    "gui.flatten_block_to_elements(gui.blocks[1])"
   ]
  }
 ],
 "metadata": {
  "kernelspec": {
   "display_name": "Python 3 (ipykernel)",
   "language": "python",
   "name": "python3"
  },
  "language_info": {
   "codemirror_mode": {
    "name": "ipython",
    "version": 3
   },
   "file_extension": ".py",
   "mimetype": "text/x-python",
   "name": "python",
   "nbconvert_exporter": "python",
   "pygments_lexer": "ipython3",
   "version": "3.10.10"
  }
 },
 "nbformat": 4,
 "nbformat_minor": 5
}
