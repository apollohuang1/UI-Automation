{
 "cells": [
  {
   "cell_type": "markdown",
   "id": "5e74037e",
   "metadata": {},
   "source": [
    "## [Option 1] Load virtual device to collect the screenshot and vh"
   ]
  },
  {
   "cell_type": "markdown",
   "id": "63865543",
   "metadata": {},
   "source": [
    "### 1. Start emulator in Android studio first and run to capture screenshot and view hierarchy"
   ]
  },
  {
   "cell_type": "markdown",
   "id": "744083c1",
   "metadata": {},
   "source": [
    "Save vh `xml`, `json` and `screenshot image` to \"data/app_name/test_case_no/device\""
   ]
  },
  {
   "cell_type": "code",
   "execution_count": 1,
   "id": "7ac2619d",
   "metadata": {},
   "outputs": [
    {
     "name": "stdout",
     "output_type": "stream",
     "text": [
      "*** Save data to dir data\\twitter\\testcase1\\device ***\n",
      "Save screenshot to data\\twitter\\testcase1\\device\\0.png\n",
      "Save xml to data\\twitter\\testcase1\\device\\0.xml\n",
      "Save view hierarchy to data\\twitter\\testcase1\\device\\0.json\n",
      "Save reformatted vh to data\\twitter\\testcase1\\device\\0.json\n"
     ]
    }
   ],
   "source": [
    "from ppadb.client import Client as AdbClient\n",
    "from Device import Device\n",
    "client = AdbClient(host=\"127.0.0.1\", port=5037)\n",
    "\n",
    "device = Device(client.devices()[0], app_name='twitter', test_case_no=1)\n",
    "device.cap_screenshot()\n",
    "device.cap_vh()\n",
    "device.reformat_vh_json()"
   ]
  },
  {
   "cell_type": "markdown",
   "id": "db39844b",
   "metadata": {},
   "source": [
    "### 2. GUI information extraction and analysis"
   ]
  },
  {
   "cell_type": "markdown",
   "id": "eaef1bba",
   "metadata": {},
   "source": [
    "Extract `elements` and `element_tree` and save to \"data/app_name/test_case_no/guidata\""
   ]
  },
  {
   "cell_type": "code",
   "execution_count": 3,
   "id": "2ed8a1e1",
   "metadata": {},
   "outputs": [],
   "source": [
    "load = False"
   ]
  },
  {
   "cell_type": "code",
   "execution_count": 4,
   "id": "56542304",
   "metadata": {
    "scrolled": false
   },
   "outputs": [
    {
     "name": "stderr",
     "output_type": "stream",
     "text": [
      "C:\\Users\\xie029\\AppData\\Local\\Programs\\Python\\Python310\\lib\\site-packages\\tqdm\\auto.py:22: TqdmWarning: IProgress not found. Please update jupyter and ipywidgets. See https://ipywidgets.readthedocs.io/en/stable/user_install.html\n",
      "  from .autonotebook import tqdm as notebook_tqdm\n"
     ]
    },
    {
     "name": "stdout",
     "output_type": "stream",
     "text": [
      "Save elements to data\\twitter\\testcase1\\guidata\\0_elements.json\n"
     ]
    },
    {
     "name": "stderr",
     "output_type": "stream",
     "text": [
      "C:\\Users\\xie029\\AppData\\Local\\Programs\\Python\\Python310\\lib\\site-packages\\torch\\serialization.py:868: SourceChangeWarning: source code of class 'models.image_models.ResNetFeats' has changed. you can retrieve the original source code by accessing the object's source attribute or set `torch.nn.Module.dump_patches = True` and use the patch tool to revert the changes.\n",
      "  warnings.warn(msg, SourceChangeWarning)\n",
      "C:\\Users\\xie029\\AppData\\Local\\Programs\\Python\\Python310\\lib\\site-packages\\torch\\serialization.py:868: SourceChangeWarning: source code of class 'torch.nn.modules.container.Sequential' has changed. you can retrieve the original source code by accessing the object's source attribute or set `torch.nn.Module.dump_patches = True` and use the patch tool to revert the changes.\n",
      "  warnings.warn(msg, SourceChangeWarning)\n",
      "C:\\Users\\xie029\\AppData\\Local\\Programs\\Python\\Python310\\lib\\site-packages\\torch\\serialization.py:868: SourceChangeWarning: source code of class 'torch.nn.modules.conv.Conv2d' has changed. you can retrieve the original source code by accessing the object's source attribute or set `torch.nn.Module.dump_patches = True` and use the patch tool to revert the changes.\n",
      "  warnings.warn(msg, SourceChangeWarning)\n",
      "C:\\Users\\xie029\\AppData\\Local\\Programs\\Python\\Python310\\lib\\site-packages\\torch\\serialization.py:868: SourceChangeWarning: source code of class 'torch.nn.modules.batchnorm.BatchNorm2d' has changed. you can retrieve the original source code by accessing the object's source attribute or set `torch.nn.Module.dump_patches = True` and use the patch tool to revert the changes.\n",
      "  warnings.warn(msg, SourceChangeWarning)\n",
      "C:\\Users\\xie029\\AppData\\Local\\Programs\\Python\\Python310\\lib\\site-packages\\torch\\serialization.py:868: SourceChangeWarning: source code of class 'torch.nn.modules.activation.ReLU' has changed. you can retrieve the original source code by accessing the object's source attribute or set `torch.nn.Module.dump_patches = True` and use the patch tool to revert the changes.\n",
      "  warnings.warn(msg, SourceChangeWarning)\n",
      "C:\\Users\\xie029\\AppData\\Local\\Programs\\Python\\Python310\\lib\\site-packages\\torch\\serialization.py:868: SourceChangeWarning: source code of class 'torch.nn.modules.pooling.MaxPool2d' has changed. you can retrieve the original source code by accessing the object's source attribute or set `torch.nn.Module.dump_patches = True` and use the patch tool to revert the changes.\n",
      "  warnings.warn(msg, SourceChangeWarning)\n",
      "C:\\Users\\xie029\\AppData\\Local\\Programs\\Python\\Python310\\lib\\site-packages\\torch\\serialization.py:868: SourceChangeWarning: source code of class 'torchvision.models.resnet.Bottleneck' has changed. you can retrieve the original source code by accessing the object's source attribute or set `torch.nn.Module.dump_patches = True` and use the patch tool to revert the changes.\n",
      "  warnings.warn(msg, SourceChangeWarning)\n",
      "C:\\Users\\xie029\\AppData\\Local\\Programs\\Python\\Python310\\lib\\site-packages\\torch\\serialization.py:868: SourceChangeWarning: source code of class 'torch.nn.modules.pooling.AvgPool2d' has changed. you can retrieve the original source code by accessing the object's source attribute or set `torch.nn.Module.dump_patches = True` and use the patch tool to revert the changes.\n",
      "  warnings.warn(msg, SourceChangeWarning)\n",
      "C:\\Users\\xie029\\AppData\\Local\\Programs\\Python\\Python310\\lib\\site-packages\\torch\\serialization.py:868: SourceChangeWarning: source code of class 'torch.nn.modules.pooling.AdaptiveAvgPool2d' has changed. you can retrieve the original source code by accessing the object's source attribute or set `torch.nn.Module.dump_patches = True` and use the patch tool to revert the changes.\n",
      "  warnings.warn(msg, SourceChangeWarning)\n",
      "C:\\Users\\xie029\\AppData\\Local\\Programs\\Python\\Python310\\lib\\site-packages\\torch\\serialization.py:868: SourceChangeWarning: source code of class 'torch.nn.modules.linear.Linear' has changed. you can retrieve the original source code by accessing the object's source attribute or set `torch.nn.Module.dump_patches = True` and use the patch tool to revert the changes.\n",
      "  warnings.warn(msg, SourceChangeWarning)\n",
      "C:\\Users\\xie029\\AppData\\Local\\Programs\\Python\\Python310\\lib\\site-packages\\torch\\serialization.py:868: SourceChangeWarning: source code of class 'torch.nn.modules.batchnorm.BatchNorm1d' has changed. you can retrieve the original source code by accessing the object's source attribute or set `torch.nn.Module.dump_patches = True` and use the patch tool to revert the changes.\n",
      "  warnings.warn(msg, SourceChangeWarning)\n",
      "C:\\Users\\xie029\\AppData\\Local\\Programs\\Python\\Python310\\lib\\site-packages\\torch\\serialization.py:868: SourceChangeWarning: source code of class 'models.Transformer.Transformer' has changed. you can retrieve the original source code by accessing the object's source attribute or set `torch.nn.Module.dump_patches = True` and use the patch tool to revert the changes.\n",
      "  warnings.warn(msg, SourceChangeWarning)\n",
      "C:\\Users\\xie029\\AppData\\Local\\Programs\\Python\\Python310\\lib\\site-packages\\torch\\serialization.py:868: SourceChangeWarning: source code of class 'torch.nn.modules.dropout.Dropout' has changed. you can retrieve the original source code by accessing the object's source attribute or set `torch.nn.Module.dump_patches = True` and use the patch tool to revert the changes.\n",
      "  warnings.warn(msg, SourceChangeWarning)\n",
      "C:\\Users\\xie029\\AppData\\Local\\Programs\\Python\\Python310\\lib\\site-packages\\torch\\serialization.py:868: SourceChangeWarning: source code of class 'torch.nn.modules.container.ModuleList' has changed. you can retrieve the original source code by accessing the object's source attribute or set `torch.nn.Module.dump_patches = True` and use the patch tool to revert the changes.\n",
      "  warnings.warn(msg, SourceChangeWarning)\n",
      "C:\\Users\\xie029\\AppData\\Local\\Programs\\Python\\Python310\\lib\\site-packages\\torch\\serialization.py:868: SourceChangeWarning: source code of class 'torch.nn.modules.linear.Identity' has changed. you can retrieve the original source code by accessing the object's source attribute or set `torch.nn.Module.dump_patches = True` and use the patch tool to revert the changes.\n",
      "  warnings.warn(msg, SourceChangeWarning)\n",
      "C:\\Users\\xie029\\AppData\\Local\\Programs\\Python\\Python310\\lib\\site-packages\\torch\\serialization.py:868: SourceChangeWarning: source code of class 'torch.nn.modules.sparse.Embedding' has changed. you can retrieve the original source code by accessing the object's source attribute or set `torch.nn.Module.dump_patches = True` and use the patch tool to revert the changes.\n",
      "  warnings.warn(msg, SourceChangeWarning)\n"
     ]
    },
    {
     "name": "stdout",
     "output_type": "stream",
     "text": [
      "Save elements to data\\twitter\\testcase1\\guidata\\0_elements.json\n",
      "Save element tree to data\\twitter\\testcase1\\guidata\\0_tree.json\n"
     ]
    }
   ],
   "source": [
    "from GUIData import GUIData\n",
    "gui = GUIData(gui_img_file=device.output_file_path_screenshot,\n",
    "             gui_json_file=device.output_file_path_json,\n",
    "             output_file_root=device.testcase_save_dir)\n",
    "# load previous result\n",
    "if load:\n",
    "    gui.load_elements()\n",
    "# process from scratch\n",
    "else:\n",
    "    gui.ui_info_extraction()\n",
    "    gui.ui_analysis_elements_description()\n",
    "    gui.ui_element_block_tree()\n",
    "gui.show_all_elements(only_leaves=True)"
   ]
  },
  {
   "cell_type": "markdown",
   "id": "3470a9cd",
   "metadata": {},
   "source": [
    "### 3. UI Automator to connect with ChatGPT and ask AI Chain questions"
   ]
  },
  {
   "cell_type": "markdown",
   "id": "2c93a159",
   "metadata": {},
   "source": [
    "Generate `description for blocks` and ask a chain of questions to identify `target block` and `target element` related to the task, save to \"data/app_name/test_case_no/automator\""
   ]
  },
  {
   "cell_type": "code",
   "execution_count": 5,
   "id": "468d5e97",
   "metadata": {},
   "outputs": [
    {
     "name": "stdout",
     "output_type": "stream",
     "text": [
      "------ Generate Block Descriptions ------\n",
      "[Not Scrollable] The code snippet is describing a UI element with the resource ID 'google.apps.nexuslauncher:id/scrim_view'. This element is a View object that cannot be clicked, as indicated by the \"clickable\" attribute being set to \"False\". The \"description\" attribute is set to \"more\", which might suggest that this UI element functions as a button or link that expands or reveals additional content when clicked. Without additional context, however, it is difficult to determine the full extent of this UI element's functionality.\n",
      "[Scrollable] This code snippet describes a part of the UI in the Nexus Launcher app for Android. It is a scrollable view that contains a ViewPager widget, which displays content such as the date and time and social media updates. The user can interact with the ViewPager by swiping left or right to view different pieces of content. The UI also includes clickable text elements such as the date and social media updates, which allow the user to navigate to other parts of the app or external links. Overall, this UI section provides a convenient way for the user to access and view personalized information in a single location.\n",
      "[Not Scrollable] This code snippet describes a view element in the user interface. The view is called \"Home\" and has an ID of 10. The clickable property is set to false, meaning that the user cannot interact with the view by clicking on it. The description property provides a brief description of the view. Overall, this view element serves as a non-interactive display element in the UI that provides information or content to the user.\n",
      "[Not Scrollable] This code snippet describes a UI component represented by a page indicator on the Google Nexus Launcher app. The page indicator does not have the attribute \"clickable\" set to True, which means that it is not designed to be interacted with. It is identified by a unique resource ID for the purpose of locating and manipulating it within the app's UI. Additionally, the component has a descriptive text attribute that reads \"navigate up\" which may provide a hint to the user about its intended use. Overall, the page indicator serves to visually communicate to the user their current position and available options within the app.\n",
      "[Not Scrollable] The code snippet describes the hotseat section of the Google Nexus Launcher UI. The hotseat section is the fixed rows of applications or widgets that appear at the bottom of the screen of most Android devices. The hotseat contains five icons (Phone, Messages, Play Store, Chrome, and Camera) that can be clicked to launch the respective app. Additionally, the hotseat contains a search container which allows the user to perform a Google search or activate Google Assistant via voice search or Google Lens. The hotseat section provides easy access to frequently used applications and quick search functionality.\n",
      "\n",
      "------ Target Block Identification ------\n",
      "No, none of the blocks seem related to the task \"Open twitter\".\n",
      "\n",
      "------ Scrollable Block Check ------\n",
      "Yes, it is possible that the UI elements related to the task \"Open twitter\" could be within a scrollable block and they would show up after a scroll. The most related block for this task would be Block 1, as it contains a ViewPager widget that displays social media updates, which could potentially include a Twitter update. However, without additional context, it is impossible to determine if this block contains UI elements specifically related to the task of opening Twitter.\n",
      "*** Scroll [BLock 1] ***\n",
      "\n",
      "====== Identify the target element in Block 1 ======\n",
      "\n",
      "------ Task Completion Check ------\n",
      "No, there doesn't seem to be a direct element in the UI block that can be clicked to open Twitter.\n",
      "\n",
      "------ Intermediate Element Check ------\n",
      "No, unfortunately, the UI block provided doesn't contain any elements related to opening Twitter. Could you please provide me with a UI block that is more specific to the task at hand?\n",
      "*** No related elements ***\n"
     ]
    }
   ],
   "source": [
    "from Automator import Automator\n",
    "aut = Automator(gui)\n",
    "aut.ai_chain('Open twitter')"
   ]
  },
  {
   "cell_type": "code",
   "execution_count": null,
   "id": "5d706302",
   "metadata": {},
   "outputs": [
    {
     "name": "stdout",
     "output_type": "stream",
     "text": [
      "{'resource-id': 'google.apps.nexuslauncher:id/scrim_view', 'class': 'view.View', 'clickable': False, 'id': 1, 'description': 'more'}\n",
      "{'resource-id': 'google.apps.nexuslauncher:id/workspace', 'class': 'widget.ScrollView', 'clickable': False, 'id': 2, 'children': [{'class': 'view.ViewGroup', 'clickable': False, 'id': 3, 'children': [{'class': 'view.ViewGroup', 'clickable': False, 'id': 4, 'children': [{'resource-id': 'google.apps.nexuslauncher:id/smartspace_card_pager', 'class': 'androidx.viewpager.widget.ViewPager', 'clickable': False, 'id': 5, 'children': [{'class': 'view.ViewGroup', 'clickable': True, 'id': 6, 'children': [{'resource-id': 'google.apps.nexuslauncher:id/date', 'class': 'widget.TextView', 'clickable': True, 'id': 7, 'description': 'Sat, Mar 11 / Sat, Mar 11'}, {'resource-id': 'google.apps.nexuslauncher:id/smartspace_subtitle_group', 'class': 'view.ViewGroup', 'clickable': True, 'id': 8, 'description': 'navigate up'}]}]}, {'class': 'widget.TextView', 'clickable': True, 'id': 9, 'description': 'Twitter / Twitter'}]}]}]}\n"
     ]
    }
   ],
   "source": [
    "gui.show_blocks()"
   ]
  },
  {
   "cell_type": "markdown",
   "id": "3d0d246c",
   "metadata": {},
   "source": [
    "## [Option 2] (For testing) Directly load GUI from image and json"
   ]
  },
  {
   "cell_type": "markdown",
   "id": "4309f1bd",
   "metadata": {},
   "source": [
    "### 1. Load GUI"
   ]
  },
  {
   "cell_type": "code",
   "execution_count": 1,
   "id": "5a112b5e",
   "metadata": {},
   "outputs": [],
   "source": [
    "load = True"
   ]
  },
  {
   "cell_type": "code",
   "execution_count": 2,
   "id": "85553631",
   "metadata": {
    "scrolled": false
   },
   "outputs": [
    {
     "name": "stderr",
     "output_type": "stream",
     "text": [
      "C:\\Users\\xie029\\AppData\\Local\\Programs\\Python\\Python310\\lib\\site-packages\\tqdm\\auto.py:22: TqdmWarning: IProgress not found. Please update jupyter and ipywidgets. See https://ipywidgets.readthedocs.io/en/stable/user_install.html\n",
      "  from .autonotebook import tqdm as notebook_tqdm\n"
     ]
    },
    {
     "name": "stdout",
     "output_type": "stream",
     "text": [
      "Load elements from data/twitter/testcase1\\guidata\\0_elements.json\n",
      "Load element tree from data/twitter/testcase1\\guidata\\0_tree.json\n"
     ]
    }
   ],
   "source": [
    "from GUIData import GUIData\n",
    "gui = GUIData(gui_img_file='data/twitter/testcase1/device/0.png',\n",
    "              gui_json_file='data/twitter/testcase1/device/0.json',\n",
    "              output_file_root='data/twitter/testcase1')\n",
    "# load previous result\n",
    "if load:\n",
    "    gui.load_elements()\n",
    "# process from scratch\n",
    "else:\n",
    "    gui.ui_info_extraction()\n",
    "    gui.ui_analysis_elements_description()\n",
    "    gui.ui_element_block_tree()\n",
    "gui.show_all_elements(only_leaves=False)\n",
    "# gui.show_each_element(only_leaves=False)"
   ]
  },
  {
   "cell_type": "code",
   "execution_count": 3,
   "id": "3a4ed08c",
   "metadata": {},
   "outputs": [
    {
     "name": "stdout",
     "output_type": "stream",
     "text": [
      "61\n",
      "android.widget.ImageButton\n",
      "{'text': '', 'resource-id': '', 'class': 'android.widget.ImageButton', 'package': 'com.twitter.android', 'content-desc': 'Show navigation drawer', 'checkable': False, 'checked': False, 'clickable': True, 'enabled': True, 'focusable': True, 'focused': False, 'scrollable': False, 'long-clickable': False, 'password': False, 'selected': False, 'bounds': [0, 66, 150, 220], 'id': 3, 'layer': 3, 'leaf-id': 0, 'ocr': '', 'caption': 'thumbnail', 'icon-cls': 'avatar', 'description': 'Show navigation drawer'} \n",
      "\n",
      "android.widget.ImageView\n",
      "{'text': '', 'resource-id': 'com.twitter.android:id/logo', 'class': 'android.widget.ImageView', 'package': 'com.twitter.android', 'content-desc': '', 'checkable': False, 'checked': False, 'clickable': True, 'enabled': True, 'focusable': False, 'focused': False, 'scrollable': False, 'long-clickable': False, 'password': False, 'selected': False, 'bounds': [507, 110, 573, 176], 'id': 4, 'layer': 3, 'leaf-id': 1, 'ocr': '', 'caption': 'twitter', 'icon-cls': 'twitter', 'description': 'twitter'} \n",
      "\n",
      "android.widget.TextView\n",
      "{'text': 'For you', 'resource-id': '', 'class': 'android.widget.TextView', 'package': 'com.twitter.android', 'content-desc': '', 'checkable': False, 'checked': False, 'clickable': False, 'enabled': True, 'focusable': False, 'focused': False, 'scrollable': False, 'long-clickable': False, 'password': False, 'selected': True, 'bounds': [187, 261, 341, 311], 'id': 7, 'layer': 4, 'leaf-id': 2, 'caption': 'close', 'icon-cls': None, 'description': 'For you'} \n",
      "\n",
      "android.widget.TextView\n",
      "{'text': 'Following', 'resource-id': '', 'class': 'android.widget.TextView', 'package': 'com.twitter.android', 'content-desc': 'Following', 'checkable': False, 'checked': False, 'clickable': True, 'enabled': True, 'focusable': True, 'focused': False, 'scrollable': False, 'long-clickable': False, 'password': False, 'selected': False, 'bounds': [528, 220, 1080, 352], 'id': 8, 'layer': 4, 'leaf-id': 3, 'ocr': 'Following', 'caption': 'loading', 'icon-cls': None, 'description': 'Following'} \n",
      "\n",
      "ddw\n",
      "{'text': '0:59 a woman whoworks atCSIDO', 'resource-id': '', 'class': 'ddw', 'package': 'com.twitter.android', 'content-desc': '', 'checkable': False, 'checked': False, 'clickable': True, 'enabled': True, 'focusable': False, 'focused': False, 'scrollable': False, 'long-clickable': False, 'password': False, 'selected': False, 'bounds': [210, 353, 1047, 512], 'id': 13, 'layer': 7, 'leaf-id': 4, 'ocr': '0:59 a woman whoworks atCSIDO', 'caption': 'primary photo', 'icon-cls': None, 'description': '0:59 a woman whoworks atCSIDO'} \n",
      "\n",
      "android.widget.ImageView\n",
      "{'text': '0:59 a woman whoworks atCSIDO', 'resource-id': '', 'class': 'android.widget.ImageView', 'package': 'com.twitter.android', 'content-desc': '', 'checkable': False, 'checked': False, 'clickable': True, 'enabled': True, 'focusable': False, 'focused': False, 'scrollable': False, 'long-clickable': False, 'password': False, 'selected': False, 'bounds': [210, 353, 1047, 512], 'id': 14, 'layer': 7, 'leaf-id': 5, 'ocr': '0:59 a woman whoworks atCSIDO', 'caption': 'primary photo', 'icon-cls': None, 'description': '0:59 a woman whoworks atCSIDO'} \n",
      "\n",
      "android.view.View\n",
      "{'text': '0:59 a woman whoworks at', 'resource-id': '', 'class': 'android.view.View', 'package': 'com.twitter.android', 'content-desc': '', 'checkable': False, 'checked': False, 'clickable': True, 'enabled': True, 'focusable': False, 'focused': False, 'scrollable': False, 'long-clickable': False, 'password': False, 'selected': False, 'bounds': [254, 353, 1003, 468], 'id': 16, 'layer': 8, 'leaf-id': 6, 'ocr': '0:59 a woman whoworks at', 'caption': 'primary photo', 'icon-cls': None, 'description': '0:59 a woman whoworks at'} \n",
      "\n",
      "android.widget.TextView\n",
      "{'text': '0:59', 'resource-id': 'com.twitter.android:id/av_badge_duration_text', 'class': 'android.widget.TextView', 'package': 'com.twitter.android', 'content-desc': '', 'checkable': False, 'checked': False, 'clickable': True, 'enabled': True, 'focusable': False, 'focused': False, 'scrollable': False, 'long-clickable': False, 'password': False, 'selected': False, 'bounds': [232, 440, 322, 490], 'id': 17, 'layer': 8, 'leaf-id': 7, 'caption': 'search', 'icon-cls': None, 'description': '0:59'} \n",
      "\n",
      "android.widget.TextView\n",
      "{'text': '1,633 views', 'resource-id': 'com.twitter.android:id/view_counts', 'class': 'android.widget.TextView', 'package': 'com.twitter.android', 'content-desc': '', 'checkable': False, 'checked': False, 'clickable': True, 'enabled': True, 'focusable': False, 'focused': False, 'scrollable': False, 'long-clickable': False, 'password': False, 'selected': False, 'bounds': [210, 534, 397, 578], 'id': 18, 'layer': 7, 'leaf-id': 8, 'caption': '<unk>', 'icon-cls': None, 'description': '1,633 views'} \n",
      "\n",
      "android.widget.ImageView\n",
      "{'text': 'Q2', 'resource-id': 'com.twitter.android:id/inline_action_item_icon', 'class': 'android.widget.ImageView', 'package': 'com.twitter.android', 'content-desc': '', 'checkable': False, 'checked': False, 'clickable': True, 'enabled': True, 'focusable': False, 'focused': False, 'scrollable': False, 'long-clickable': False, 'password': False, 'selected': False, 'bounds': [212, 608, 262, 658], 'id': 21, 'layer': 9, 'leaf-id': 9, 'ocr': 'Q2', 'caption': '<unk>', 'icon-cls': 'chat', 'description': 'Q2'} \n",
      "\n",
      "android.widget.TextView\n",
      "{'text': '2', 'resource-id': '', 'class': 'android.widget.TextView', 'package': 'com.twitter.android', 'content-desc': '', 'checkable': False, 'checked': False, 'clickable': True, 'enabled': True, 'focusable': False, 'focused': False, 'scrollable': False, 'long-clickable': False, 'password': False, 'selected': False, 'bounds': [268, 611, 288, 654], 'id': 22, 'layer': 9, 'leaf-id': 10, 'caption': 'go to the selected page', 'icon-cls': None, 'description': '2'} \n",
      "\n",
      "android.widget.ImageView\n",
      "{'text': '', 'resource-id': 'com.twitter.android:id/inline_action_item_icon', 'class': 'android.widget.ImageView', 'package': 'com.twitter.android', 'content-desc': '', 'checkable': False, 'checked': False, 'clickable': True, 'enabled': True, 'focusable': False, 'focused': False, 'scrollable': False, 'long-clickable': False, 'password': False, 'selected': False, 'bounds': [400, 608, 450, 658], 'id': 24, 'layer': 9, 'leaf-id': 11, 'ocr': '', 'caption': 'switch direction', 'icon-cls': None, 'description': 'switch direction'} \n",
      "\n",
      "android.widget.TextView\n",
      "{'text': '11', 'resource-id': '', 'class': 'android.widget.TextView', 'package': 'com.twitter.android', 'content-desc': '', 'checkable': False, 'checked': False, 'clickable': True, 'enabled': True, 'focusable': False, 'focused': False, 'scrollable': False, 'long-clickable': False, 'password': False, 'selected': False, 'bounds': [456, 611, 486, 654], 'id': 25, 'layer': 9, 'leaf-id': 12, 'caption': 'switch direction', 'icon-cls': None, 'description': '11'} \n",
      "\n",
      "android.widget.ImageView\n",
      "{'text': '', 'resource-id': 'com.twitter.android:id/inline_action_item_icon', 'class': 'android.widget.ImageView', 'package': 'com.twitter.android', 'content-desc': '', 'checkable': False, 'checked': False, 'clickable': True, 'enabled': True, 'focusable': False, 'focused': False, 'scrollable': False, 'long-clickable': False, 'password': False, 'selected': False, 'bounds': [588, 608, 638, 658], 'id': 27, 'layer': 9, 'leaf-id': 13, 'ocr': '', 'caption': 'add to favorites', 'icon-cls': 'favorite', 'description': 'favorite'} \n",
      "\n",
      "android.widget.TextView\n",
      "{'text': '54', 'resource-id': '', 'class': 'android.widget.TextView', 'package': 'com.twitter.android', 'content-desc': '', 'checkable': False, 'checked': False, 'clickable': True, 'enabled': True, 'focusable': False, 'focused': False, 'scrollable': False, 'long-clickable': False, 'password': False, 'selected': False, 'bounds': [644, 611, 686, 654], 'id': 28, 'layer': 9, 'leaf-id': 14, 'caption': '<unk>', 'icon-cls': None, 'description': '54'} \n",
      "\n",
      "android.widget.ImageView\n",
      "{'text': '₁4,829', 'resource-id': 'com.twitter.android:id/inline_action_item_icon', 'class': 'android.widget.ImageView', 'package': 'com.twitter.android', 'content-desc': '', 'checkable': False, 'checked': False, 'clickable': True, 'enabled': True, 'focusable': False, 'focused': False, 'scrollable': False, 'long-clickable': False, 'password': False, 'selected': False, 'bounds': [776, 608, 826, 658], 'id': 30, 'layer': 9, 'leaf-id': 15, 'ocr': '₁4,829', 'caption': 'settings', 'icon-cls': None, 'description': '₁4,829'} \n",
      "\n"
     ]
    },
    {
     "name": "stdout",
     "output_type": "stream",
     "text": [
      "android.widget.TextView\n",
      "{'text': '4,829', 'resource-id': '', 'class': 'android.widget.TextView', 'package': 'com.twitter.android', 'content-desc': '', 'checkable': False, 'checked': False, 'clickable': True, 'enabled': True, 'focusable': False, 'focused': False, 'scrollable': False, 'long-clickable': False, 'password': False, 'selected': False, 'bounds': [832, 611, 924, 654], 'id': 31, 'layer': 9, 'leaf-id': 16, 'caption': 'choose stream', 'icon-cls': 'group', 'description': '4,829'} \n",
      "\n",
      "android.widget.ImageView\n",
      "{'NAF': True, 'text': '', 'resource-id': 'com.twitter.android:id/inline_action_item_icon', 'class': 'android.widget.ImageView', 'package': 'com.twitter.android', 'content-desc': '', 'checkable': False, 'checked': False, 'clickable': True, 'enabled': True, 'focusable': True, 'focused': False, 'scrollable': False, 'long-clickable': False, 'password': False, 'selected': False, 'bounds': [934, 578, 1047, 688], 'id': 32, 'layer': 8, 'leaf-id': 17, 'ocr': '', 'caption': '<unk>', 'icon-cls': 'share', 'description': 'share'} \n",
      "\n",
      "android.widget.ImageView\n",
      "{'text': '', 'resource-id': 'com.twitter.android:id/social_context_badge', 'class': 'android.widget.ImageView', 'package': 'com.twitter.android', 'content-desc': '', 'checkable': False, 'checked': False, 'clickable': True, 'enabled': True, 'focusable': False, 'focused': False, 'scrollable': False, 'long-clickable': False, 'password': False, 'selected': False, 'bounds': [138, 717, 182, 761], 'id': 34, 'layer': 6, 'leaf-id': 18, 'ocr': '', 'caption': 'paint', 'icon-cls': 'chat', 'description': 'chat'} \n",
      "\n",
      "android.widget.TextView\n",
      "{'text': 'Elon Musk replied', 'resource-id': 'com.twitter.android:id/social_context_text', 'class': 'android.widget.TextView', 'package': 'com.twitter.android', 'content-desc': '', 'checkable': False, 'checked': False, 'clickable': True, 'enabled': True, 'focusable': False, 'focused': False, 'scrollable': False, 'long-clickable': False, 'password': False, 'selected': False, 'bounds': [210, 689, 1080, 766], 'id': 35, 'layer': 6, 'leaf-id': 19, 'ocr': 'Elon Musk replied', 'caption': '<unk> <unk> <unk> <unk> <unk> <unk> <unk> <unk> <unk> <unk> <unk> <unk> <unk> <unk>', 'icon-cls': None, 'description': 'Elon Musk replied'} \n",
      "\n",
      "android.widget.ImageView\n",
      "{'text': '', 'resource-id': '', 'class': 'android.widget.ImageView', 'package': 'com.twitter.android', 'content-desc': '', 'checkable': False, 'checked': False, 'clickable': True, 'enabled': True, 'focusable': False, 'focused': False, 'scrollable': False, 'long-clickable': False, 'password': False, 'selected': False, 'bounds': [33, 788, 182, 937], 'id': 36, 'layer': 6, 'leaf-id': 20, 'ocr': '', 'caption': 'profile photo', 'icon-cls': 'avatar', 'description': 'avatar'} \n",
      "\n",
      "android.view.ViewGroup\n",
      "{'text': 'Eva Vlaardingerbroek@Eva ...3d .', 'resource-id': 'com.twitter.android:id/tweet_header', 'class': 'android.view.ViewGroup', 'package': 'com.twitter.android', 'content-desc': '', 'checkable': False, 'checked': False, 'clickable': True, 'enabled': True, 'focusable': False, 'focused': False, 'scrollable': False, 'long-clickable': False, 'password': False, 'selected': False, 'bounds': [210, 788, 981, 829], 'id': 37, 'layer': 6, 'leaf-id': 21, 'ocr': 'Eva Vlaardingerbroek@Eva ...3d .', 'caption': '<unk>', 'icon-cls': None, 'description': 'Eva Vlaardingerbroek@Eva ...3d .'} \n",
      "\n",
      "android.widget.ImageView\n",
      "{'NAF': True, 'text': 'The Dutch government is ramping up the', 'resource-id': 'com.twitter.android:id/tweet_curation_action', 'class': 'android.widget.ImageView', 'package': 'com.twitter.android', 'content-desc': '', 'checkable': False, 'checked': False, 'clickable': True, 'enabled': True, 'focusable': True, 'focused': False, 'scrollable': False, 'long-clickable': False, 'password': False, 'selected': False, 'bounds': [981, 759, 1069, 847], 'id': 38, 'layer': 6, 'leaf-id': 22, 'ocr': 'The Dutch government is ramping up the', 'caption': 'more options', 'icon-cls': 'more', 'description': 'The Dutch government is ramping up the'} \n",
      "\n",
      "android.view.View\n",
      "{'text': '🇳🇱 The Dutch government is ramping up the intimidation & obstruction tactics in light of the upcoming farmers protest in The Hague this Saturday: the mayor has said army trucks may be deployed and has ordered the farmers to not take tractors to the protest.', 'resource-id': '', 'class': 'android.view.View', 'package': 'com.twitter.android', 'content-desc': '', 'checkable': False, 'checked': False, 'clickable': True, 'enabled': True, 'focusable': True, 'focused': False, 'scrollable': False, 'long-clickable': False, 'password': False, 'selected': False, 'bounds': [210, 835, 1047, 1159], 'id': 39, 'layer': 6, 'leaf-id': 23, 'caption': '<unk> image', 'icon-cls': None, 'description': '🇳🇱 The Dutch government is ramping up the intimidation & obstruction tactics in light of the upcoming farmers protest in The Hague this Saturday: the mayor has said army trucks may be deployed and has ordered the farmers to not take tractors to the protest.'} \n",
      "\n",
      "android.view.View\n",
      "{'text': '', 'resource-id': 'com.twitter.android:id/tweet_connector_bottom', 'class': 'android.view.View', 'package': 'com.twitter.android', 'content-desc': '', 'checkable': False, 'checked': False, 'clickable': True, 'enabled': True, 'focusable': False, 'focused': False, 'scrollable': False, 'long-clickable': False, 'password': False, 'selected': False, 'bounds': [105, 943, 111, 1269], 'id': 40, 'layer': 6, 'leaf-id': 24, 'ocr': '', 'caption': 'loading', 'icon-cls': None, 'description': 'loading'} \n",
      "\n",
      "android.widget.ImageView\n",
      "{'text': '', 'resource-id': 'com.twitter.android:id/inline_action_item_icon', 'class': 'android.widget.ImageView', 'package': 'com.twitter.android', 'content-desc': '', 'checkable': False, 'checked': False, 'clickable': True, 'enabled': True, 'focusable': False, 'focused': False, 'scrollable': False, 'long-clickable': False, 'password': False, 'selected': False, 'bounds': [212, 1189, 262, 1239], 'id': 43, 'layer': 8, 'leaf-id': 25, 'ocr': '', 'caption': '<unk>', 'icon-cls': 'chat', 'description': 'chat'} \n",
      "\n",
      "android.widget.TextView\n",
      "{'text': '995', 'resource-id': '', 'class': 'android.widget.TextView', 'package': 'com.twitter.android', 'content-desc': '', 'checkable': False, 'checked': False, 'clickable': True, 'enabled': True, 'focusable': False, 'focused': False, 'scrollable': False, 'long-clickable': False, 'password': False, 'selected': False, 'bounds': [268, 1192, 331, 1235], 'id': 44, 'layer': 8, 'leaf-id': 26, 'caption': 'choose stream', 'icon-cls': None, 'description': '995'} \n",
      "\n",
      "android.widget.ImageView\n",
      "{'text': '', 'resource-id': 'com.twitter.android:id/inline_action_item_icon', 'class': 'android.widget.ImageView', 'package': 'com.twitter.android', 'content-desc': '', 'checkable': False, 'checked': False, 'clickable': True, 'enabled': True, 'focusable': False, 'focused': False, 'scrollable': False, 'long-clickable': False, 'password': False, 'selected': False, 'bounds': [400, 1189, 450, 1239], 'id': 46, 'layer': 8, 'leaf-id': 27, 'ocr': '', 'caption': 'switch direction', 'icon-cls': None, 'description': 'switch direction'} \n",
      "\n",
      "android.widget.TextView\n",
      "{'text': '4,727', 'resource-id': '', 'class': 'android.widget.TextView', 'package': 'com.twitter.android', 'content-desc': '', 'checkable': False, 'checked': False, 'clickable': True, 'enabled': True, 'focusable': False, 'focused': False, 'scrollable': False, 'long-clickable': False, 'password': False, 'selected': False, 'bounds': [456, 1192, 542, 1235], 'id': 47, 'layer': 8, 'leaf-id': 28, 'caption': 'choose stream', 'icon-cls': None, 'description': '4,727'} \n",
      "\n",
      "android.widget.ImageView\n",
      "{'text': '', 'resource-id': 'com.twitter.android:id/inline_action_item_icon', 'class': 'android.widget.ImageView', 'package': 'com.twitter.android', 'content-desc': '', 'checkable': False, 'checked': False, 'clickable': True, 'enabled': True, 'focusable': False, 'focused': False, 'scrollable': False, 'long-clickable': False, 'password': False, 'selected': False, 'bounds': [588, 1189, 638, 1239], 'id': 49, 'layer': 8, 'leaf-id': 29, 'ocr': '', 'caption': 'add to favorites', 'icon-cls': 'favorite', 'description': 'favorite'} \n",
      "\n",
      "android.widget.TextView\n",
      "{'text': '17.8K', 'resource-id': '', 'class': 'android.widget.TextView', 'package': 'com.twitter.android', 'content-desc': '', 'checkable': False, 'checked': False, 'clickable': True, 'enabled': True, 'focusable': False, 'focused': False, 'scrollable': False, 'long-clickable': False, 'password': False, 'selected': False, 'bounds': [644, 1192, 728, 1235], 'id': 50, 'layer': 8, 'leaf-id': 30, 'caption': 'choose stream', 'icon-cls': None, 'description': '17.8K'} \n",
      "\n"
     ]
    },
    {
     "name": "stdout",
     "output_type": "stream",
     "text": [
      "android.widget.ImageView\n",
      "{'text': 'il₁ 2.7M', 'resource-id': 'com.twitter.android:id/inline_action_item_icon', 'class': 'android.widget.ImageView', 'package': 'com.twitter.android', 'content-desc': '', 'checkable': False, 'checked': False, 'clickable': True, 'enabled': True, 'focusable': False, 'focused': False, 'scrollable': False, 'long-clickable': False, 'password': False, 'selected': False, 'bounds': [776, 1189, 826, 1239], 'id': 52, 'layer': 8, 'leaf-id': 31, 'ocr': 'il₁ 2.7M', 'caption': 'settings', 'icon-cls': None, 'description': 'il₁ 2.7M'} \n",
      "\n",
      "android.widget.TextView\n",
      "{'text': '2.7M', 'resource-id': '', 'class': 'android.widget.TextView', 'package': 'com.twitter.android', 'content-desc': '', 'checkable': False, 'checked': False, 'clickable': True, 'enabled': True, 'focusable': False, 'focused': False, 'scrollable': False, 'long-clickable': False, 'password': False, 'selected': False, 'bounds': [832, 1192, 910, 1235], 'id': 53, 'layer': 8, 'leaf-id': 32, 'caption': 'choose', 'icon-cls': None, 'description': '2.7M'} \n",
      "\n",
      "android.widget.ImageView\n",
      "{'NAF': True, 'text': '', 'resource-id': 'com.twitter.android:id/inline_action_item_icon', 'class': 'android.widget.ImageView', 'package': 'com.twitter.android', 'content-desc': '', 'checkable': False, 'checked': False, 'clickable': True, 'enabled': True, 'focusable': True, 'focused': False, 'scrollable': False, 'long-clickable': False, 'password': False, 'selected': False, 'bounds': [934, 1159, 1047, 1269], 'id': 54, 'layer': 7, 'leaf-id': 33, 'ocr': '', 'caption': '<unk>', 'icon-cls': 'share', 'description': 'share'} \n",
      "\n",
      "android.view.View\n",
      "{'text': '', 'resource-id': 'com.twitter.android:id/tweet_connector_top', 'class': 'android.view.View', 'package': 'com.twitter.android', 'content-desc': '', 'checkable': False, 'checked': False, 'clickable': True, 'enabled': True, 'focusable': False, 'focused': False, 'scrollable': False, 'long-clickable': False, 'password': False, 'selected': False, 'bounds': [105, 1269, 111, 1296], 'id': 57, 'layer': 7, 'leaf-id': 34, 'ocr': '', 'caption': 'search', 'icon-cls': None, 'description': 'search'} \n",
      "\n",
      "android.widget.ImageView\n",
      "{'text': '', 'resource-id': '', 'class': 'android.widget.ImageView', 'package': 'com.twitter.android', 'content-desc': '', 'checkable': False, 'checked': False, 'clickable': True, 'enabled': True, 'focusable': False, 'focused': False, 'scrollable': False, 'long-clickable': False, 'password': False, 'selected': False, 'bounds': [33, 1302, 182, 1451], 'id': 58, 'layer': 7, 'leaf-id': 35, 'ocr': '', 'caption': 'profile photo', 'icon-cls': 'avatar', 'description': 'avatar'} \n",
      "\n",
      "android.view.ViewGroup\n",
      "{'text': 'Elon Musk@elonmusk3d.', 'resource-id': 'com.twitter.android:id/tweet_header', 'class': 'android.view.ViewGroup', 'package': 'com.twitter.android', 'content-desc': '', 'checkable': False, 'checked': False, 'clickable': True, 'enabled': True, 'focusable': False, 'focused': False, 'scrollable': False, 'long-clickable': False, 'password': False, 'selected': False, 'bounds': [210, 1302, 981, 1341], 'id': 59, 'layer': 7, 'leaf-id': 36, 'ocr': 'Elon Musk@elonmusk3d.', 'caption': '<unk> wifi', 'icon-cls': None, 'description': 'Elon Musk@elonmusk3d.'} \n",
      "\n",
      "android.widget.ImageView\n",
      "{'NAF': True, 'text': '', 'resource-id': 'com.twitter.android:id/tweet_curation_action', 'class': 'android.widget.ImageView', 'package': 'com.twitter.android', 'content-desc': '', 'checkable': False, 'checked': False, 'clickable': True, 'enabled': True, 'focusable': True, 'focused': False, 'scrollable': False, 'long-clickable': False, 'password': False, 'selected': False, 'bounds': [981, 1272, 1069, 1360], 'id': 60, 'layer': 7, 'leaf-id': 37, 'ocr': '', 'caption': 'more options', 'icon-cls': 'more', 'description': 'more'} \n",
      "\n",
      "android.view.View\n",
      "{'text': '!', 'resource-id': '', 'class': 'android.view.View', 'package': 'com.twitter.android', 'content-desc': '', 'checkable': False, 'checked': False, 'clickable': True, 'enabled': True, 'focusable': True, 'focused': False, 'scrollable': False, 'long-clickable': False, 'password': False, 'selected': False, 'bounds': [210, 1347, 1047, 1396], 'id': 61, 'layer': 7, 'leaf-id': 38, 'caption': '<unk>', 'icon-cls': None, 'description': '!'} \n",
      "\n",
      "android.widget.ImageView\n",
      "{'text': '', 'resource-id': 'com.twitter.android:id/inline_action_item_icon', 'class': 'android.widget.ImageView', 'package': 'com.twitter.android', 'content-desc': '', 'checkable': False, 'checked': False, 'clickable': True, 'enabled': True, 'focusable': False, 'focused': False, 'scrollable': False, 'long-clickable': False, 'password': False, 'selected': False, 'bounds': [212, 1426, 262, 1476], 'id': 64, 'layer': 9, 'leaf-id': 39, 'ocr': '', 'caption': '<unk>', 'icon-cls': 'chat', 'description': 'chat'} \n",
      "\n",
      "android.widget.TextView\n",
      "{'text': '536', 'resource-id': '', 'class': 'android.widget.TextView', 'package': 'com.twitter.android', 'content-desc': '', 'checkable': False, 'checked': False, 'clickable': True, 'enabled': True, 'focusable': False, 'focused': False, 'scrollable': False, 'long-clickable': False, 'password': False, 'selected': False, 'bounds': [268, 1429, 331, 1472], 'id': 65, 'layer': 9, 'leaf-id': 40, 'caption': 'choose stream', 'icon-cls': None, 'description': '536'} \n",
      "\n"
     ]
    }
   ],
   "source": [
    "gui.show_each_element(only_leaves=True)"
   ]
  },
  {
   "cell_type": "code",
   "execution_count": null,
   "id": "373586b7",
   "metadata": {},
   "outputs": [],
   "source": []
  },
  {
   "cell_type": "markdown",
   "id": "bdbe9cb8",
   "metadata": {},
   "source": [
    "### 2. Load automator"
   ]
  },
  {
   "cell_type": "code",
   "execution_count": 5,
   "id": "ba49063e",
   "metadata": {},
   "outputs": [],
   "source": [
    "# from Automator import Automator\n",
    "# aut = Automator(gui)\n",
    "# if load:\n",
    "#     aut.load_block_descriptions()\n",
    "# aut.ai_chain('Open Twitter', show_block=False, load_block_desc=load)"
   ]
  },
  {
   "cell_type": "code",
   "execution_count": 3,
   "id": "b967e00a",
   "metadata": {},
   "outputs": [],
   "source": [
    "from Automator import Automator\n",
    "aut = Automator(gui)"
   ]
  },
  {
   "cell_type": "code",
   "execution_count": null,
   "id": "16cd10f9",
   "metadata": {},
   "outputs": [
    {
     "name": "stdout",
     "output_type": "stream",
     "text": [
      "------ Generate Block Descriptions ------\n",
      "*** Asking ***\n",
      " [{'role': 'system', 'content': 'You are a mobile virtual assistant that understands and interacts with the user interface to complete given task.'}, {'role': 'user', 'content': \"This is a code snippet that descript a part of UI, summarize its functionalities in one paragraph.\\n{'resource-id': '.twitter:id/toolbar', 'class': '.view.ViewGroup', 'clickable': True, 'scrollable': False, 'id': 2, 'layer': 2, 'children': [{'class': '.widget.ImageButton', 'clickable': True, 'id': 3, 'layer': 3, 'description': 'Show navigation drawer'}, {'resource-id': '.twitter:id/logo', 'class': '.widget.ImageView', 'clickable': True, 'id': 4, 'layer': 3, 'description': 'twitter'}]}\"}]\n",
      "\n",
      "*** Answer ***\n",
      " {\n",
      "  \"content\": \"This code snippet describes a part of a Twitter mobile app's user interface called the toolbar. The toolbar consists of a clickable View Group and two child elements: an ImageButton that opens the app's navigation drawer when clicked, and an ImageView containing the Twitter logo that is also clickable. The toolbar provides quick access to important app features like navigation and branding.\",\n",
      "  \"role\": \"assistant\"\n",
      "} \n",
      "\n",
      "This code snippet describes a part of a Twitter mobile app's user interface called the toolbar. The toolbar consists of a clickable View Group and two child elements: an ImageButton that opens the app's navigation drawer when clicked, and an ImageView containing the Twitter logo that is also clickable. The toolbar provides quick access to important app features like navigation and branding.\n",
      "*** Asking ***\n",
      " [{'role': 'system', 'content': 'You are a mobile virtual assistant that understands and interacts with the user interface to complete given task.'}, {'role': 'user', 'content': \"This is a code snippet that descript a part of UI, summarize its functionalities in one paragraph.\\n{'resource-id': '.twitter:id/view_pager', 'class': 'x.viewpager.widget.ViewPager', 'clickable': False, 'scrollable': True, 'id': 5, 'layer': 2, 'children': [{'resource-id': '.twitter:id/tab_layout', 'class': '.widget.HorizontalScrollView', 'clickable': False, 'scrollable': False, 'id': 6, 'layer': 3, 'children': [{'class': '.widget.TextView', 'clickable': False, 'id': 7, 'layer': 4, 'description': 'For you'}, {'class': '.widget.TextView', 'clickable': True, 'id': 8, 'layer': 4, 'description': 'Following'}]}, {'resource-id': '.twitter:id/nested_coordinator_layout', 'class': '.widget.ScrollView', 'clickable': False, 'scrollable': True, 'id': 9, 'layer': 3, 'children': [{'resource-id': ':id/list', 'class': 'x.recyclerview.widget.RecyclerView', 'clickable': False, 'scrollable': True, 'id': 10, 'layer': 4, 'children': [{'class': '.view.ViewGroup', 'clickable': True, 'scrollable': False, 'id': 11, 'layer': 5, 'children': [{'resource-id': '.twitter:id/row', 'class': '.view.ViewGroup', 'clickable': True, 'scrollable': False, 'id': 12, 'layer': 6, 'children': [{'class': 'ddw', 'clickable': True, 'id': 13, 'layer': 7, 'description': '0:59 a woman whoworks atCSIDO'}, {'class': '.widget.ImageView', 'clickable': True, 'id': 14, 'layer': 7, 'description': '0:59 a woman whoworks atCSIDO'}, {'class': '.view.ViewGroup', 'clickable': True, 'scrollable': False, 'id': 15, 'layer': 7, 'children': [{'class': '.view.View', 'clickable': True, 'id': 16, 'layer': 8, 'description': '0:59 a woman whoworks at'}, {'resource-id': '.twitter:id/av_badge_duration_text', 'class': '.widget.TextView', 'clickable': True, 'id': 17, 'layer': 8, 'description': '0:59'}]}, {'resource-id': '.twitter:id/view_counts', 'class': '.widget.TextView', 'clickable': True, 'id': 18, 'layer': 7, 'description': '1,633 views'}, {'class': '.view.ViewGroup', 'clickable': True, 'scrollable': False, 'id': 19, 'layer': 7, 'children': [{'resource-id': '.twitter:id/inline_reply', 'class': '.view.ViewGroup', 'clickable': True, 'scrollable': False, 'id': 20, 'layer': 8, 'children': [{'resource-id': '.twitter:id/inline_action_item_icon', 'class': '.widget.ImageView', 'clickable': True, 'id': 21, 'layer': 9, 'description': 'Q2'}, {'class': '.widget.TextView', 'clickable': True, 'id': 22, 'layer': 9, 'description': '2'}]}, {'resource-id': '.twitter:id/inline_retweet', 'class': '.view.ViewGroup', 'clickable': True, 'scrollable': False, 'id': 23, 'layer': 8, 'children': [{'resource-id': '.twitter:id/inline_action_item_icon', 'class': '.widget.ImageView', 'clickable': True, 'id': 24, 'layer': 9, 'description': 'switch direction'}, {'class': '.widget.TextView', 'clickable': True, 'id': 25, 'layer': 9, 'description': '11'}]}, {'resource-id': '.twitter:id/inline_like', 'class': '.view.ViewGroup', 'clickable': True, 'scrollable': False, 'id': 26, 'layer': 8, 'children': [{'resource-id': '.twitter:id/inline_action_item_icon', 'class': '.widget.ImageView', 'clickable': True, 'id': 27, 'layer': 9, 'description': 'favorite'}, {'class': '.widget.TextView', 'clickable': True, 'id': 28, 'layer': 9, 'description': '54'}]}, {'resource-id': '.twitter:id/inline_view_count', 'class': '.view.ViewGroup', 'clickable': True, 'scrollable': False, 'id': 29, 'layer': 8, 'children': [{'resource-id': '.twitter:id/inline_action_item_icon', 'class': '.widget.ImageView', 'clickable': True, 'id': 30, 'layer': 9, 'description': '₁4,829'}, {'class': '.widget.TextView', 'clickable': True, 'id': 31, 'layer': 9, 'description': '4,829'}]}, {'resource-id': '.twitter:id/inline_action_item_icon', 'class': '.widget.ImageView', 'clickable': True, 'id': 32, 'layer': 8, 'description': 'share'}]}]}]}, {'resource-id': '.twitter:id/row', 'class': '.view.ViewGroup', 'clickable': True, 'scrollable': False, 'id': 33, 'layer': 5, 'children': [{'resource-id': '.twitter:id/social_context_badge', 'class': '.widget.ImageView', 'clickable': True, 'id': 34, 'layer': 6, 'description': 'chat'}, {'resource-id': '.twitter:id/social_context_text', 'class': '.widget.TextView', 'clickable': True, 'id': 35, 'layer': 6, 'description': 'Elon Musk replied'}, {'class': '.widget.ImageView', 'clickable': True, 'id': 36, 'layer': 6, 'description': 'avatar'}, {'resource-id': '.twitter:id/tweet_header', 'class': '.view.ViewGroup', 'clickable': True, 'id': 37, 'layer': 6, 'description': 'Eva Vlaardingerbroek@Eva ...3d .'}, {'resource-id': '.twitter:id/tweet_curation_action', 'class': '.widget.ImageView', 'clickable': True, 'id': 38, 'layer': 6, 'description': 'The Dutch government is ramping up the'}, {'class': '.view.View', 'clickable': True, 'id': 39, 'layer': 6, 'description': '🇳🇱 The Dutch government is ramping up the intimidation & obstruction tactics in light of the upcoming farmers protest in The Hague this Saturday: the mayor has said army trucks may be deployed and has ordered the farmers to not take tractors to the protest.'}, {'resource-id': '.twitter:id/tweet_connector_bottom', 'class': '.view.View', 'clickable': True, 'id': 40, 'layer': 6, 'description': 'loading'}, {'class': '.view.ViewGroup', 'clickable': True, 'scrollable': False, 'id': 41, 'layer': 6, 'children': [{'resource-id': '.twitter:id/inline_reply', 'class': '.view.ViewGroup', 'clickable': True, 'scrollable': False, 'id': 42, 'layer': 7, 'children': [{'resource-id': '.twitter:id/inline_action_item_icon', 'class': '.widget.ImageView', 'clickable': True, 'id': 43, 'layer': 8, 'description': 'chat'}, {'class': '.widget.TextView', 'clickable': True, 'id': 44, 'layer': 8, 'description': '995'}]}, {'resource-id': '.twitter:id/inline_retweet', 'class': '.view.ViewGroup', 'clickable': True, 'scrollable': False, 'id': 45, 'layer': 7, 'children': [{'resource-id': '.twitter:id/inline_action_item_icon', 'class': '.widget.ImageView', 'clickable': True, 'id': 46, 'layer': 8, 'description': 'switch direction'}, {'class': '.widget.TextView', 'clickable': True, 'id': 47, 'layer': 8, 'description': '4,727'}]}, {'resource-id': '.twitter:id/inline_like', 'class': '.view.ViewGroup', 'clickable': True, 'scrollable': False, 'id': 48, 'layer': 7, 'children': [{'resource-id': '.twitter:id/inline_action_item_icon', 'class': '.widget.ImageView', 'clickable': True, 'id': 49, 'layer': 8, 'description': 'favorite'}, {'class': '.widget.TextView', 'clickable': True, 'id': 50, 'layer': 8, 'description': '17.8K'}]}, {'resource-id': '.twitter:id/inline_view_count', 'class': '.view.ViewGroup', 'clickable': True, 'scrollable': False, 'id': 51, 'layer': 7, 'children': [{'resource-id': '.twitter:id/inline_action_item_icon', 'class': '.widget.ImageView', 'clickable': True, 'id': 52, 'layer': 8, 'description': 'il₁ 2.7M'}, {'class': '.widget.TextView', 'clickable': True, 'id': 53, 'layer': 8, 'description': '2.7M'}]}, {'resource-id': '.twitter:id/inline_action_item_icon', 'class': '.widget.ImageView', 'clickable': True, 'id': 54, 'layer': 7, 'description': 'share'}]}]}, {'class': '.view.ViewGroup', 'clickable': True, 'scrollable': False, 'id': 55, 'layer': 5, 'children': [{'resource-id': '.twitter:id/row', 'class': '.view.ViewGroup', 'clickable': True, 'scrollable': False, 'id': 56, 'layer': 6, 'children': [{'resource-id': '.twitter:id/tweet_connector_top', 'class': '.view.View', 'clickable': True, 'id': 57, 'layer': 7, 'description': 'search'}, {'class': '.widget.ImageView', 'clickable': True, 'id': 58, 'layer': 7, 'description': 'avatar'}, {'resource-id': '.twitter:id/tweet_header', 'class': '.view.ViewGroup', 'clickable': True, 'id': 59, 'layer': 7, 'description': 'Elon Musk@elonmusk3d.'}, {'resource-id': '.twitter:id/tweet_curation_action', 'class': '.widget.ImageView', 'clickable': True, 'id': 60, 'layer': 7, 'description': 'more'}, {'class': '.view.View', 'clickable': True, 'id': 61, 'layer': 7, 'description': '!'}, {'class': '.view.ViewGroup', 'clickable': True, 'scrollable': False, 'id': 62, 'layer': 7, 'children': [{'resource-id': '.twitter:id/inline_reply', 'class': '.view.ViewGroup', 'clickable': True, 'scrollable': False, 'id': 63, 'layer': 8, 'children': [{'resource-id': '.twitter:id/inline_action_item_icon', 'class': '.widget.ImageView', 'clickable': True, 'id': 64, 'layer': 9, 'description': 'chat'}, {'class': '.widget.TextView', 'clickable': True, 'id': 65, 'layer': 9, 'description': '536'}]}, {'resource-id': '.twitter:id/inline_retweet', 'class': '.view.ViewGroup', 'clickable': True, 'scrollable': False, 'id': 66, 'layer': 8, 'children': [{'resource-id': '.twitter:id/inline_action_item_icon', 'class': '.widget.ImageView', 'clickable': True, 'id': 67, 'layer': 9, 'description': '1698'}, {'class': '.widget.TextView', 'clickable': True, 'id': 68, 'layer': 9, 'description': '698'}]}, {'resource-id': '.twitter:id/inline_like', 'class': '.view.ViewGroup', 'clickable': True, 'scrollable': False, 'id': 69, 'layer': 8, 'children': [{'resource-id': '.twitter:id/inline_action_item_icon', 'class': '.widget.ImageView', 'clickable': True, 'id': 70, 'layer': 9, 'description': 'favorite'}, {'class': '.widget.TextView', 'clickable': True, 'id': 71, 'layer': 9, 'description': '9,049'}]}, {'resource-id': '.twitter:id/inline_view_count', 'class': '.view.ViewGroup', 'clickable': True, 'scrollable': False, 'id': 72, 'layer': 8, 'children': [{'resource-id': '.twitter:id/inline_action_item_icon', 'class': '.widget.ImageView', 'clickable': True, 'id': 73, 'layer': 9, 'description': 'settings'}, {'class': '.widget.TextView', 'clickable': True, 'id': 74, 'layer': 9, 'description': '1.3M'}]}, {'resource-id': '.twitter:id/inline_action_item_icon', 'class': '.widget.ImageView', 'clickable': True, 'id': 75, 'layer': 8, 'description': 'share'}]}]}]}, {'resource-id': '.twitter:id/row', 'class': '.view.ViewGroup', 'clickable': True, 'scrollable': False, 'id': 76, 'layer': 5, 'children': [{'class': '.widget.ImageView', 'clickable': True, 'id': 77, 'layer': 6, 'description': 'NAVYARMYAIR FORCE'}, {'resource-id': '.twitter:id/tweet_header', 'class': '.view.ViewGroup', 'clickable': True, 'id': 78, 'layer': 6, 'description': 'Defence Jobs Aust@defencejobsaust'}, {'resource-id': '.twitter:id/tweet_curation_action', 'class': '.widget.ImageView', 'clickable': True, 'id': 79, 'layer': 6, 'description': ':'}, {'class': '.view.View', 'clickable': True, 'id': 80, 'layer': 6, 'description': 'Discover the roles and see how you can safeguard the skies. #WhatIsUp'}, {'class': '.widget.FrameLayout', 'clickable': True, 'scrollable': False, 'id': 81, 'layer': 6, 'children': [{'class': 'ddw', 'clickable': True, 'id': 82, 'layer': 7, 'description': '+'}, {'class': '.view.View', 'clickable': True, 'id': 83, 'layer': 7, 'description': '+'}]}]}]}]}]}\"}]\n"
     ]
    },
    {
     "name": "stdout",
     "output_type": "stream",
     "text": [
      "\n",
      "*** Answer ***\n",
      " {\n",
      "  \"content\": \"This code snippet describes a part of the UI for the Twitter mobile application. The UI consists of a view pager that contains a tab layout with two tabs labeled \\\"For You\\\" and \\\"Following\\\". The tab content is displayed in a nested coordinator layout that includes a scrollable list of tweets. Each tweet in the list contains information such as the user's name, video or image content, number of views, and engagement actions such as liking, commenting, and sharing. The UI also includes options to reply to tweets and view related tweets.\",\n",
      "  \"role\": \"assistant\"\n",
      "} \n",
      "\n",
      "This code snippet describes a part of the UI for the Twitter mobile application. The UI consists of a view pager that contains a tab layout with two tabs labeled \"For You\" and \"Following\". The tab content is displayed in a nested coordinator layout that includes a scrollable list of tweets. Each tweet in the list contains information such as the user's name, video or image content, number of views, and engagement actions such as liking, commenting, and sharing. The UI also includes options to reply to tweets and view related tweets.\n"
     ]
    }
   ],
   "source": [
    "aut.generate_descriptions_for_blocks(True)"
   ]
  },
  {
   "cell_type": "code",
   "execution_count": null,
   "id": "96c63783",
   "metadata": {},
   "outputs": [],
   "source": []
  },
  {
   "cell_type": "code",
   "execution_count": 4,
   "id": "a71a16c8",
   "metadata": {},
   "outputs": [],
   "source": [
    "leaves, blocks = aut.partition_element_to_leaves_and_blocks(aut.gui.element_tree)"
   ]
  },
  {
   "cell_type": "code",
   "execution_count": 7,
   "id": "3cfe9074",
   "metadata": {},
   "outputs": [
    {
     "data": {
      "text/plain": [
       "3751"
      ]
     },
     "execution_count": 7,
     "metadata": {},
     "output_type": "execute_result"
    }
   ],
   "source": [
    "aut.count_token_size(aut.element_to_str(aut.gui.element_tree['children'][0]))"
   ]
  },
  {
   "cell_type": "code",
   "execution_count": 11,
   "id": "5d5fc7b5",
   "metadata": {},
   "outputs": [
    {
     "data": {
      "text/plain": [
       "{'resource-id': '.twitter:id/tabs',\n",
       " 'class': '.widget.HorizontalScrollView',\n",
       " 'clickable': False,\n",
       " 'scrollable': False,\n",
       " 'id': 85,\n",
       " 'layer': 2,\n",
       " 'children': [{'resource-id': '.twitter:id/channels',\n",
       "   'class': '.view.View',\n",
       "   'clickable': False,\n",
       "   'id': 86,\n",
       "   'layer': 3,\n",
       "   'description': 'close navigation drawer'},\n",
       "  {'class': '.view.View',\n",
       "   'clickable': True,\n",
       "   'id': 87,\n",
       "   'layer': 3,\n",
       "   'description': 'Search and Explore'},\n",
       "  {'resource-id': '.twitter:id/spaces',\n",
       "   'class': '.view.View',\n",
       "   'clickable': True,\n",
       "   'id': 88,\n",
       "   'layer': 3,\n",
       "   'description': 'Spaces'},\n",
       "  {'resource-id': '.twitter:id/notifications',\n",
       "   'class': '.view.View',\n",
       "   'clickable': True,\n",
       "   'id': 89,\n",
       "   'layer': 3,\n",
       "   'description': 'Notifications'},\n",
       "  {'resource-id': '.twitter:id/dms',\n",
       "   'class': '.view.View',\n",
       "   'clickable': True,\n",
       "   'id': 90,\n",
       "   'layer': 3,\n",
       "   'description': 'Messages'}]}"
      ]
     },
     "execution_count": 11,
     "metadata": {},
     "output_type": "execute_result"
    }
   ],
   "source": [
    "blocks[2]"
   ]
  },
  {
   "cell_type": "code",
   "execution_count": 6,
   "id": "9ec31c05",
   "metadata": {},
   "outputs": [
    {
     "data": {
      "text/plain": [
       "2"
      ]
     },
     "execution_count": 6,
     "metadata": {},
     "output_type": "execute_result"
    }
   ],
   "source": [
    "len(leaves)"
   ]
  },
  {
   "cell_type": "code",
   "execution_count": null,
   "id": "73ac2719",
   "metadata": {},
   "outputs": [],
   "source": []
  },
  {
   "cell_type": "code",
   "execution_count": 4,
   "id": "4adb4823",
   "metadata": {},
   "outputs": [
    {
     "name": "stdout",
     "output_type": "stream",
     "text": [
      "Load block description from data/twitter/testcase1\\automator\\0_block_desc.json\n"
     ]
    }
   ],
   "source": [
    "aut.load_block_descriptions()\n",
    "# aut.generate_descriptions_for_blocks(show=False)"
   ]
  },
  {
   "cell_type": "code",
   "execution_count": 6,
   "id": "6c06a260",
   "metadata": {},
   "outputs": [
    {
     "name": "stdout",
     "output_type": "stream",
     "text": [
      "[No], none of the UI blocks is related to the task \"Follow Elon Musk\".\n"
     ]
    }
   ],
   "source": [
    "aut.target_block_identification_by_desc('Follow Elon Mush')"
   ]
  },
  {
   "cell_type": "code",
   "execution_count": null,
   "id": "ca6d3bfc",
   "metadata": {},
   "outputs": [],
   "source": []
  },
  {
   "cell_type": "code",
   "execution_count": 12,
   "id": "a8ccc157",
   "metadata": {},
   "outputs": [],
   "source": [
    "aut.gui.show_all_elements()"
   ]
  },
  {
   "cell_type": "code",
   "execution_count": null,
   "id": "046c5c1b",
   "metadata": {},
   "outputs": [],
   "source": []
  },
  {
   "cell_type": "code",
   "execution_count": null,
   "id": "b4ce96f6",
   "metadata": {},
   "outputs": [],
   "source": []
  },
  {
   "cell_type": "code",
   "execution_count": 5,
   "id": "af217ef1",
   "metadata": {},
   "outputs": [
    {
     "data": {
      "text/plain": [
       "{'vh': [{'resource-id': '.twitter:id/toolbar',\n",
       "   'class': '.view.ViewGroup',\n",
       "   'clickable': True,\n",
       "   'scrollable': False,\n",
       "   'id': 2,\n",
       "   'layer': 2,\n",
       "   'children': [{'class': '.widget.ImageButton',\n",
       "     'clickable': True,\n",
       "     'id': 3,\n",
       "     'layer': 3,\n",
       "     'description': 'Show navigation drawer'},\n",
       "    {'resource-id': '.twitter:id/logo',\n",
       "     'class': '.widget.ImageView',\n",
       "     'clickable': True,\n",
       "     'id': 4,\n",
       "     'layer': 3,\n",
       "     'description': 'twitter'}]},\n",
       "  {'resource-id': '.twitter:id/tab_layout',\n",
       "   'class': '.widget.HorizontalScrollView',\n",
       "   'clickable': False,\n",
       "   'scrollable': False,\n",
       "   'id': 6,\n",
       "   'layer': 3,\n",
       "   'children': [{'class': '.widget.TextView',\n",
       "     'clickable': False,\n",
       "     'id': 7,\n",
       "     'layer': 4,\n",
       "     'description': 'For you'},\n",
       "    {'class': '.widget.TextView',\n",
       "     'clickable': True,\n",
       "     'id': 8,\n",
       "     'layer': 4,\n",
       "     'description': 'Following'}]},\n",
       "  {'resource-id': '.twitter:id/poser_write',\n",
       "   'class': '.widget.ImageButton',\n",
       "   'clickable': True,\n",
       "   'id': 84,\n",
       "   'layer': 2,\n",
       "   'description': 'add'},\n",
       "  {'resource-id': '.twitter:id/tabs',\n",
       "   'class': '.widget.HorizontalScrollView',\n",
       "   'clickable': False,\n",
       "   'scrollable': False,\n",
       "   'id': 85,\n",
       "   'layer': 2,\n",
       "   'children': [{'resource-id': '.twitter:id/channels',\n",
       "     'class': '.view.View',\n",
       "     'clickable': False,\n",
       "     'id': 86,\n",
       "     'layer': 3,\n",
       "     'description': 'close navigation drawer'},\n",
       "    {'class': '.view.View',\n",
       "     'clickable': True,\n",
       "     'id': 87,\n",
       "     'layer': 3,\n",
       "     'description': 'Search and Explore'},\n",
       "    {'resource-id': '.twitter:id/spaces',\n",
       "     'class': '.view.View',\n",
       "     'clickable': True,\n",
       "     'id': 88,\n",
       "     'layer': 3,\n",
       "     'description': 'Spaces'},\n",
       "    {'resource-id': '.twitter:id/notifications',\n",
       "     'class': '.view.View',\n",
       "     'clickable': True,\n",
       "     'id': 89,\n",
       "     'layer': 3,\n",
       "     'description': 'Notifications'},\n",
       "    {'resource-id': '.twitter:id/dms',\n",
       "     'class': '.view.View',\n",
       "     'clickable': True,\n",
       "     'id': 90,\n",
       "     'layer': 3,\n",
       "     'description': 'Messages'}]},\n",
       "  {'resource-id': ':id/statusBarBackground',\n",
       "   'class': '.view.View',\n",
       "   'clickable': False,\n",
       "   'id': 91,\n",
       "   'layer': 1}],\n",
       " 'desc': ['[Scrollable] The UI element in question appears to be a list view, where each item in the list is composed of multiple sub-elements such as a primary photo, view counts, and various action icons like chat, retweet, and like. The list view may be scrollable and allows for interaction with each item through clicking. Additionally, each item in the list may include features like social context badges, tweet headers, and tweet curation actions. There is also an element in the list that appears to promote a campaign, where users can discover different roles and how they can safeguard the skies.']}"
      ]
     },
     "execution_count": 5,
     "metadata": {},
     "output_type": "execute_result"
    }
   ],
   "source": [
    "aut.block_descriptions"
   ]
  },
  {
   "cell_type": "code",
   "execution_count": null,
   "id": "cc3ad749",
   "metadata": {},
   "outputs": [],
   "source": []
  },
  {
   "cell_type": "code",
   "execution_count": null,
   "id": "f918fc66",
   "metadata": {},
   "outputs": [],
   "source": []
  },
  {
   "cell_type": "code",
   "execution_count": 7,
   "id": "76e08122",
   "metadata": {},
   "outputs": [
    {
     "name": "stdout",
     "output_type": "stream",
     "text": [
      "*** Asking ***\n",
      " [{'role': 'system', 'content': 'You are a mobile virtual assistant that understands and interacts with the user interface to complete given task.'}, {'role': 'user', 'content': 'Is the given UI related to the task \\'Follow Elon Musk?\\'. Can your click on any element in it to complete the task? \\nUI block: [\\n  {\\n    \"resource-id\": \"twitter.android:id/pager\",\\n    \"class\": \"androidx.viewpager.widget.ViewPager\",\\n    \"clickable\": false,\\n    \"id\": 5\\n  },\\n  {\\n    \"resource-id\": \"twitter.android:id/view_pager\",\\n    \"class\": \"androidx.viewpager.widget.ViewPager\",\\n    \"clickable\": false,\\n    \"id\": 6\\n  },\\n  {\\n    \"resource-id\": \"twitter.android:id/nested_coordinator_layout\",\\n    \"class\": \"widget.ScrollView\",\\n    \"clickable\": false,\\n    \"id\": 11\\n  },\\n  {\\n    \"class\": \"view.ViewGroup\",\\n    \"clickable\": false,\\n    \"id\": 12\\n  },\\n  {\\n    \"resource-id\": \"android:id/list\",\\n    \"class\": \"androidx.recyclerview.widget.RecyclerView\",\\n    \"clickable\": false,\\n    \"id\": 13\\n  },\\n  {\\n    \"class\": \"view.ViewGroup\",\\n    \"clickable\": true,\\n    \"id\": 91\\n  },\\n  {\\n    \"resource-id\": \"twitter.android:id/row\",\\n    \"class\": \"view.ViewGroup\",\\n    \"clickable\": true,\\n    \"id\": 92\\n  },\\n  {\\n    \"class\": \"widget.FrameLayout\",\\n    \"clickable\": true,\\n    \"id\": 99\\n  },\\n  {\\n    \"class\": \"widget.FrameLayout\",\\n    \"clickable\": true,\\n    \"id\": 100\\n  },\\n  {\\n    \"resource-id\": \"twitter.android:id/video_container\",\\n    \"class\": \"widget.FrameLayout\",\\n    \"clickable\": true,\\n    \"id\": 101\\n  },\\n  {\\n    \"class\": \"view.ViewGroup\",\\n    \"clickable\": true,\\n    \"id\": 104\\n  },\\n  {\\n    \"class\": \"view.View\",\\n    \"clickable\": true,\\n    \"id\": 105,\\n    \"description\": \"loading wallpaper\"\\n  },\\n  {\\n    \"class\": \"view.ViewGroup\",\\n    \"clickable\": true,\\n    \"id\": 102\\n  },\\n  {\\n    \"class\": \"ddw\",\\n    \"clickable\": true,\\n    \"id\": 103,\\n    \"description\": \"loading wallpaper\"\\n  },\\n  {\\n    \"resource-id\": \"twitter.android:id/tweet_content_text\",\\n    \"class\": \"view.View\",\\n    \"clickable\": true,\\n    \"id\": 97\\n  },\\n  {\\n    \"class\": \"view.View\",\\n    \"clickable\": true,\\n    \"id\": 98,\\n    \"description\": \"Discover the roles and see how you can safeguard the skies. #WhatIsUp\"\\n  },\\n  {\\n    \"resource-id\": \"twitter.android:id/tweet_curation_action\",\\n    \"class\": \"widget.ImageView\",\\n    \"clickable\": true,\\n    \"id\": 96,\\n    \"description\": \"more\"\\n  },\\n  {\\n    \"resource-id\": \"twitter.android:id/tweet_header\",\\n    \"class\": \"view.ViewGroup\",\\n    \"clickable\": true,\\n    \"id\": 95\\n  },\\n  {\\n    \"resource-id\": \"twitter.android:id/tweet_profile_image\",\\n    \"class\": \"widget.FrameLayout\",\\n    \"clickable\": true,\\n    \"id\": 93\\n  },\\n  {\\n    \"class\": \"widget.ImageView\",\\n    \"clickable\": true,\\n    \"id\": 94,\\n    \"description\": \"avatar\"\\n  },\\n  {\\n    \"class\": \"view.ViewGroup\",\\n    \"clickable\": true,\\n    \"id\": 67\\n  },\\n  {\\n    \"resource-id\": \"twitter.android:id/row\",\\n    \"class\": \"view.ViewGroup\",\\n    \"clickable\": true,\\n    \"id\": 68\\n  },\\n  {\\n    \"class\": \"view.ViewGroup\",\\n    \"clickable\": true,\\n    \"id\": 76\\n  },\\n  {\\n    \"resource-id\": \"twitter.android:id/inline_twitter_share\",\\n    \"class\": \"view.ViewGroup\",\\n    \"clickable\": true,\\n    \"id\": 89\\n  },\\n  {\\n    \"resource-id\": \"twitter.android:id/inline_action_item_icon\",\\n    \"class\": \"widget.ImageView\",\\n    \"clickable\": true,\\n    \"id\": 90,\\n    \"description\": \"share\"\\n  },\\n  {\\n    \"resource-id\": \"twitter.android:id/inline_view_count\",\\n    \"class\": \"view.ViewGroup\",\\n    \"clickable\": true,\\n    \"id\": 86\\n  },\\n  {\\n    \"class\": \"widget.TextView\",\\n    \"clickable\": true,\\n    \"id\": 88,\\n    \"description\": \"1.3M\"\\n  },\\n  {\\n    \"resource-id\": \"twitter.android:id/inline_action_item_icon\",\\n    \"class\": \"widget.ImageView\",\\n    \"clickable\": true,\\n    \"id\": 87,\\n    \"description\": \"settings\"\\n  },\\n  {\\n    \"resource-id\": \"twitter.android:id/inline_like\",\\n    \"class\": \"view.ViewGroup\",\\n    \"clickable\": true,\\n    \"id\": 83\\n  },\\n  {\\n    \"class\": \"widget.TextView\",\\n    \"clickable\": true,\\n    \"id\": 85,\\n    \"description\": \"9,049\"\\n  },\\n  {\\n    \"resource-id\": \"twitter.android:id/inline_action_item_icon\",\\n    \"class\": \"widget.ImageView\",\\n    \"clickable\": true,\\n    \"id\": 84,\\n    \"description\": \"favorite\"\\n  },\\n  {\\n    \"resource-id\": \"twitter.android:id/inline_retweet\",\\n    \"class\": \"view.ViewGroup\",\\n    \"clickable\": true,\\n    \"id\": 80\\n  },\\n  {\\n    \"class\": \"widget.TextView\",\\n    \"clickable\": true,\\n    \"id\": 82,\\n    \"description\": \"698\"\\n  },\\n  {\\n    \"resource-id\": \"twitter.android:id/inline_action_item_icon\",\\n    \"class\": \"widget.ImageView\",\\n    \"clickable\": true,\\n    \"id\": 81,\\n    \"description\": \"switch direction\"\\n  },\\n  {\\n    \"resource-id\": \"twitter.android:id/inline_reply\",\\n    \"class\": \"view.ViewGroup\",\\n    \"clickable\": true,\\n    \"id\": 77\\n  },\\n  {\\n    \"class\": \"widget.TextView\",\\n    \"clickable\": true,\\n    \"id\": 79,\\n    \"description\": \"536\"\\n  },\\n  {\\n    \"resource-id\": \"twitter.android:id/inline_action_item_icon\",\\n    \"class\": \"widget.ImageView\",\\n    \"clickable\": true,\\n    \"id\": 78,\\n    \"description\": \"chat\"\\n  },\\n  {\\n    \"resource-id\": \"twitter.android:id/tweet_content_text\",\\n    \"class\": \"view.View\",\\n    \"clickable\": true,\\n    \"id\": 74\\n  },\\n  {\\n    \"class\": \"view.View\",\\n    \"clickable\": true,\\n    \"id\": 75,\\n    \"description\": \"!\"\\n  },\\n  {\\n    \"resource-id\": \"twitter.android:id/tweet_curation_action\",\\n    \"class\": \"widget.ImageView\",\\n    \"clickable\": true,\\n    \"id\": 73,\\n    \"description\": \"more\"\\n  },\\n  {\\n    \"resource-id\": \"twitter.android:id/tweet_header\",\\n    \"class\": \"view.ViewGroup\",\\n    \"clickable\": true,\\n    \"id\": 72\\n  },\\n  {\\n    \"resource-id\": \"twitter.android:id/tweet_profile_image\",\\n    \"class\": \"widget.FrameLayout\",\\n    \"clickable\": true,\\n    \"id\": 70\\n  },\\n  {\\n    \"class\": \"widget.ImageView\",\\n    \"clickable\": true,\\n    \"id\": 71,\\n    \"description\": \"avatar\"\\n  },\\n  {\\n    \"resource-id\": \"twitter.android:id/tweet_connector_top\",\\n    \"class\": \"view.View\",\\n    \"clickable\": true,\\n    \"id\": 69,\\n    \"description\": \"search\"\\n  },\\n  {\\n    \"class\": \"view.ViewGroup\",\\n    \"clickable\": true,\\n    \"id\": 40\\n  },\\n  {\\n    \"resource-id\": \"twitter.android:id/row\",\\n    \"class\": \"view.ViewGroup\",\\n    \"clickable\": true,\\n    \"id\": 41\\n  },\\n  {\\n    \"class\": \"view.ViewGroup\",\\n    \"clickable\": true,\\n    \"id\": 52\\n  },\\n  {\\n    \"resource-id\": \"twitter.android:id/inline_twitter_share\",\\n    \"class\": \"view.ViewGroup\",\\n    \"clickable\": true,\\n    \"id\": 65\\n  },\\n  {\\n    \"resource-id\": \"twitter.android:id/inline_action_item_icon\",\\n    \"class\": \"widget.ImageView\",\\n    \"clickable\": true,\\n    \"id\": 66,\\n    \"description\": \"share\"\\n  },\\n  {\\n    \"resource-id\": \"twitter.android:id/inline_view_count\",\\n    \"class\": \"view.ViewGroup\",\\n    \"clickable\": true,\\n    \"id\": 62\\n  },\\n  {\\n    \"class\": \"widget.TextView\",\\n    \"clickable\": true,\\n    \"id\": 64,\\n    \"description\": \"2.7M\"\\n  },\\n  {\\n    \"resource-id\": \"twitter.android:id/inline_action_item_icon\",\\n    \"class\": \"widget.ImageView\",\\n    \"clickable\": true,\\n    \"id\": 63,\\n    \"description\": \"settings\"\\n  },\\n  {\\n    \"resource-id\": \"twitter.android:id/inline_like\",\\n    \"class\": \"view.ViewGroup\",\\n    \"clickable\": true,\\n    \"id\": 59\\n  },\\n  {\\n    \"class\": \"widget.TextView\",\\n    \"clickable\": true,\\n    \"id\": 61,\\n    \"description\": \"17.8K\"\\n  },\\n  {\\n    \"resource-id\": \"twitter.android:id/inline_action_item_icon\",\\n    \"class\": \"widget.ImageView\",\\n    \"clickable\": true,\\n    \"id\": 60,\\n    \"description\": \"favorite\"\\n  },\\n  {\\n    \"resource-id\": \"twitter.android:id/inline_retweet\",\\n    \"class\": \"view.ViewGroup\",\\n    \"clickable\": true,\\n    \"id\": 56\\n  },\\n  {\\n    \"class\": \"widget.TextView\",\\n    \"clickable\": true,\\n    \"id\": 58,\\n    \"description\": \"4,727\"\\n  },\\n  {\\n    \"resource-id\": \"twitter.android:id/inline_action_item_icon\",\\n    \"class\": \"widget.ImageView\",\\n    \"clickable\": true,\\n    \"id\": 57,\\n    \"description\": \"switch direction\"\\n  },\\n  {\\n    \"resource-id\": \"twitter.android:id/inline_reply\",\\n    \"class\": \"view.ViewGroup\",\\n    \"clickable\": true,\\n    \"id\": 53\\n  },\\n  {\\n    \"class\": \"widget.TextView\",\\n    \"clickable\": true,\\n    \"id\": 55,\\n    \"description\": \"995\"\\n  },\\n  {\\n    \"resource-id\": \"twitter.android:id/inline_action_item_icon\",\\n    \"class\": \"widget.ImageView\",\\n    \"clickable\": true,\\n    \"id\": 54,\\n    \"description\": \"chat\"\\n  },\\n  {\\n    \"resource-id\": \"twitter.android:id/tweet_connector_bottom\",\\n    \"class\": \"view.View\",\\n    \"clickable\": true,\\n    \"id\": 51,\\n    \"description\": \"loading\"\\n  },\\n  {\\n    \"resource-id\": \"twitter.android:id/tweet_content_text\",\\n    \"class\": \"view.View\",\\n    \"clickable\": true,\\n    \"id\": 49\\n  },\\n  {\\n    \"class\": \"view.View\",\\n    \"clickable\": true,\\n    \"id\": 50,\\n    \"description\": \"\\\\ud83c\\\\uddf3\\\\ud83c\\\\uddf1 The Dutch government is ramping up the intimidation & obstruction tactics in light of the upcoming farmers protest in The Hague this Saturday: the mayor has said army trucks may be deployed and has ordered the farmers to not take tractors to the protest.\"\\n  },\\n  {\\n    \"resource-id\": \"twitter.android:id/tweet_curation_action\",\\n    \"class\": \"widget.ImageView\",\\n    \"clickable\": true,\\n    \"id\": 48,\\n    \"description\": \"more\"\\n  },\\n  {\\n    \"resource-id\": \"twitter.android:id/tweet_header\",\\n    \"class\": \"view.ViewGroup\",\\n    \"clickable\": true,\\n    \"id\": 47\\n  },\\n  {\\n    \"resource-id\": \"twitter.android:id/tweet_profile_image\",\\n    \"class\": \"widget.FrameLayout\",\\n    \"clickable\": true,\\n    \"id\": 45\\n  },\\n  {\\n    \"class\": \"widget.ImageView\",\\n    \"clickable\": true,\\n    \"id\": 46,\\n    \"description\": \"avatar\"\\n  },\\n  {\\n    \"resource-id\": \"twitter.android:id/tweet_social_context\",\\n    \"class\": \"view.ViewGroup\",\\n    \"clickable\": true,\\n    \"id\": 43\\n  },\\n  {\\n    \"resource-id\": \"twitter.android:id/social_context_text\",\\n    \"class\": \"widget.TextView\",\\n    \"clickable\": true,\\n    \"id\": 44,\\n    \"description\": \"Elon Musk replied\"\\n  },\\n  {\\n    \"resource-id\": \"twitter.android:id/social_context_badge\",\\n    \"class\": \"widget.ImageView\",\\n    \"clickable\": true,\\n    \"id\": 42,\\n    \"description\": \"chat\"\\n  },\\n  {\\n    \"class\": \"view.ViewGroup\",\\n    \"clickable\": true,\\n    \"id\": 14\\n  },\\n  {\\n    \"resource-id\": \"twitter.android:id/row\",\\n    \"class\": \"view.ViewGroup\",\\n    \"clickable\": true,\\n    \"id\": 15\\n  },\\n  {\\n    \"class\": \"view.ViewGroup\",\\n    \"clickable\": true,\\n    \"id\": 25\\n  },\\n  {\\n    \"resource-id\": \"twitter.android:id/inline_twitter_share\",\\n    \"class\": \"view.ViewGroup\",\\n    \"clickable\": true,\\n    \"id\": 38\\n  },\\n  {\\n    \"resource-id\": \"twitter.android:id/inline_action_item_icon\",\\n    \"class\": \"widget.ImageView\",\\n    \"clickable\": true,\\n    \"id\": 39,\\n    \"description\": \"share\"\\n  },\\n  {\\n    \"resource-id\": \"twitter.android:id/inline_view_count\",\\n    \"class\": \"view.ViewGroup\",\\n    \"clickable\": true,\\n    \"id\": 35\\n  },\\n  {\\n    \"class\": \"widget.TextView\",\\n    \"clickable\": true,\\n    \"id\": 37,\\n    \"description\": \"4,829\"\\n  },\\n  {\\n    \"resource-id\": \"twitter.android:id/inline_action_item_icon\",\\n    \"class\": \"widget.ImageView\",\\n    \"clickable\": true,\\n    \"id\": 36,\\n    \"description\": \"settings\"\\n  },\\n  {\\n    \"resource-id\": \"twitter.android:id/inline_like\",\\n    \"class\": \"view.ViewGroup\",\\n    \"clickable\": true,\\n    \"id\": 32\\n  },\\n  {\\n    \"class\": \"widget.TextView\",\\n    \"clickable\": true,\\n    \"id\": 34,\\n    \"description\": \"54\"\\n  },\\n  {\\n    \"resource-id\": \"twitter.android:id/inline_action_item_icon\",\\n    \"class\": \"widget.ImageView\",\\n    \"clickable\": true,\\n    \"id\": 33,\\n    \"description\": \"favorite\"\\n  },\\n  {\\n    \"resource-id\": \"twitter.android:id/inline_retweet\",\\n    \"class\": \"view.ViewGroup\",\\n    \"clickable\": true,\\n    \"id\": 29\\n  },\\n  {\\n    \"class\": \"widget.TextView\",\\n    \"clickable\": true,\\n    \"id\": 31,\\n    \"description\": \"11\"\\n  },\\n  {\\n    \"resource-id\": \"twitter.android:id/inline_action_item_icon\",\\n    \"class\": \"widget.ImageView\",\\n    \"clickable\": true,\\n    \"id\": 30,\\n    \"description\": \"switch direction\"\\n  },\\n  {\\n    \"resource-id\": \"twitter.android:id/inline_reply\",\\n    \"class\": \"view.ViewGroup\",\\n    \"clickable\": true,\\n    \"id\": 26\\n  },\\n  {\\n    \"class\": \"widget.TextView\",\\n    \"clickable\": true,\\n    \"id\": 28,\\n    \"description\": \"2\"\\n  },\\n  {\\n    \"resource-id\": \"twitter.android:id/inline_action_item_icon\",\\n    \"class\": \"widget.ImageView\",\\n    \"clickable\": true,\\n    \"id\": 27,\\n    \"description\": \"chat\"\\n  },\\n  {\\n    \"resource-id\": \"twitter.android:id/view_counts\",\\n    \"class\": \"widget.TextView\",\\n    \"clickable\": true,\\n    \"id\": 24,\\n    \"description\": \"1,633 views\"\\n  },\\n  {\\n    \"resource-id\": \"twitter.android:id/player\",\\n    \"class\": \"widget.FrameLayout\",\\n    \"clickable\": true,\\n    \"id\": 16\\n  },\\n  {\\n    \"class\": \"view.ViewGroup\",\\n    \"clickable\": true,\\n    \"id\": 21\\n  },\\n  {\\n    \"resource-id\": \"twitter.android:id/av_badge_duration_text\",\\n    \"class\": \"widget.TextView\",\\n    \"clickable\": true,\\n    \"id\": 23,\\n    \"description\": \"0:59\"\\n  },\\n  {\\n    \"class\": \"view.View\",\\n    \"clickable\": true,\\n    \"id\": 22,\\n    \"description\": \"primary photo\"\\n  },\\n  {\\n    \"class\": \"view.ViewGroup\",\\n    \"clickable\": true,\\n    \"id\": 19\\n  },\\n  {\\n    \"class\": \"widget.ImageView\",\\n    \"clickable\": true,\\n    \"id\": 20,\\n    \"description\": \"primary photo\"\\n  },\\n  {\\n    \"class\": \"view.ViewGroup\",\\n    \"clickable\": true,\\n    \"id\": 17\\n  },\\n  {\\n    \"class\": \"ddw\",\\n    \"clickable\": true,\\n    \"id\": 18,\\n    \"description\": \"primary photo\"\\n  },\\n  {\\n    \"resource-id\": \"twitter.android:id/tab_layout\",\\n    \"class\": \"widget.HorizontalScrollView\",\\n    \"clickable\": false,\\n    \"id\": 7\\n  },\\n  {\\n    \"class\": \"widget.LinearLayout\",\\n    \"clickable\": true,\\n    \"id\": 9\\n  },\\n  {\\n    \"class\": \"widget.TextView\",\\n    \"clickable\": true,\\n    \"id\": 10,\\n    \"description\": \"Following\"\\n  },\\n  {\\n    \"class\": \"widget.TextView\",\\n    \"clickable\": false,\\n    \"id\": 8,\\n    \"description\": \"For you\"\\n  }\\n]\\nAnswer [Yes] with the target element id (for example, \\'Yes, Element 1\\') if any or [No] if not'}]\n"
     ]
    },
    {
     "name": "stdout",
     "output_type": "stream",
     "text": [
      "\n",
      "*** Answer ***\n",
      " {\n",
      "  \"content\": \"No, there is no target element related to the task 'Follow Elon Musk' in the given UI block.\",\n",
      "  \"role\": \"assistant\"\n",
      "} \n",
      "\n"
     ]
    }
   ],
   "source": [
    "aut.one_prompt_at_once(task='Follow Elon Musk',\n",
    "                      ui=gui.flatten_block_to_elements(gui.blocks[1]),\n",
    "                      role=aut.role,\n",
    "                      printlog=True)"
   ]
  },
  {
   "cell_type": "code",
   "execution_count": 10,
   "id": "cd990867",
   "metadata": {},
   "outputs": [
    {
     "data": {
      "text/plain": [
       "[{'resource-id': 'twitter.android:id/pager',\n",
       "  'class': 'androidx.viewpager.widget.ViewPager',\n",
       "  'clickable': False,\n",
       "  'id': 5}]"
      ]
     },
     "execution_count": 10,
     "metadata": {},
     "output_type": "execute_result"
    }
   ],
   "source": [
    "gui.flatten_block_to_elements(gui.blocks[1])"
   ]
  }
 ],
 "metadata": {
  "kernelspec": {
   "display_name": "Python 3 (ipykernel)",
   "language": "python",
   "name": "python3"
  },
  "language_info": {
   "codemirror_mode": {
    "name": "ipython",
    "version": 3
   },
   "file_extension": ".py",
   "mimetype": "text/x-python",
   "name": "python",
   "nbconvert_exporter": "python",
   "pygments_lexer": "ipython3",
   "version": "3.10.10"
  }
 },
 "nbformat": 4,
 "nbformat_minor": 5
}
