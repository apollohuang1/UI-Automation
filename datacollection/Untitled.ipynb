{
 "cells": [
  {
   "cell_type": "code",
   "execution_count": 1,
   "id": "1f0deae4",
   "metadata": {},
   "outputs": [
    {
     "name": "stdout",
     "output_type": "stream",
     "text": [
      "*** Save data to dir datacollect\\twitter\\testcase1 ***\n",
      "Save screenshot to datacollect\\twitter\\testcase1\\0.png\n",
      "Save xml to datacollect\\twitter\\testcase1\\0.xml\n",
      "Save view hierarchy to datacollect\\twitter\\testcase1\\0.json\n",
      "Save reformatted vh to datacollect\\twitter\\testcase1\\0.json\n"
     ]
    }
   ],
   "source": [
    "from DataCollector import DataCollector\n",
    "from ppadb.client import Client as AdbClient\n",
    "client = AdbClient(host=\"127.0.0.1\", port=5037)\n",
    "\n",
    "data = DataCollector(client.devices()[0], app_name='twitter', test_case_no=1, ui_no=0, task='Open Twitter', output_file_root='datacollect')\n",
    "data.record_action(wait_loading_time=1)"
   ]
  },
  {
   "cell_type": "code",
   "execution_count": 2,
   "id": "0bbadb3e",
   "metadata": {},
   "outputs": [
    {
     "data": {
      "text/plain": [
       "{'screensize': Size(width=1080, height=2280),\n",
       " 'task': 'Open Twitter',\n",
       " 'testcase-no': 1,\n",
       " 'step-no': 0,\n",
       " 'actions': []}"
      ]
     },
     "execution_count": 2,
     "metadata": {},
     "output_type": "execute_result"
    }
   ],
   "source": [
    "data.record"
   ]
  },
  {
   "cell_type": "code",
   "execution_count": null,
   "id": "5e30c61c",
   "metadata": {},
   "outputs": [],
   "source": []
  }
 ],
 "metadata": {
  "kernelspec": {
   "display_name": "Python 3 (ipykernel)",
   "language": "python",
   "name": "python3"
  },
  "language_info": {
   "codemirror_mode": {
    "name": "ipython",
    "version": 3
   },
   "file_extension": ".py",
   "mimetype": "text/x-python",
   "name": "python",
   "nbconvert_exporter": "python",
   "pygments_lexer": "ipython3",
   "version": "3.10.10"
  }
 },
 "nbformat": 4,
 "nbformat_minor": 5
}
